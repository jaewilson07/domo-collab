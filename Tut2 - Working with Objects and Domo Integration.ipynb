{
 "cells": [
  {
   "cell_type": "markdown",
   "id": "70e93111-f9a5-461e-9067-5980c301adfe",
   "metadata": {},
   "source": [
    "# 🚀 Working with Objects & Domo Integration\n",
    "In this tutorial we will:\n",
    "1. store authentication credentials securely using Domo Account Objects\n",
    "2. learn to interact with Domo Account objects in Jupyter\n",
    "3. implement a workflow that interrogates Domo APIs using session_token authentication\n",
    "4. output the results to a dataset\n",
    "\n",
    "\n",
    "## 🎓 Before we begin:\n",
    "- notebooks allow you to compartmentalize your code, write a simple test under each function\n",
    "- storing functios in .py file allow you to import files as modules and recycle code in the same workspace\n",
    "    - you may need a blank file called `__init__.py` in all the subfolders\n",
    "\n",
    "### ▶️ store `get_session_token()` in a file `functions/auth.py`\n",
    "    \n",
    "- ensure ./functions has  a blank file called `__init__.py`\n",
    "- try importing your function like a 'normal' module\n",
    "\n",
    "### ▶️ store `get_accounts()` in a file `accounts.py`\n"
   ]
  },
  {
   "cell_type": "markdown",
   "id": "f4475f04",
   "metadata": {},
   "source": [
    "## 🚀 Handle sensitive credentials appropriately\n",
    "\n",
    "Do not store sensitive credentials in plain text on the internet!<br>\n",
    "\n",
    "### 🧪 Use [python-dotenv](https://pypi.org/project/python-dotenv/) to store a local `.env` and then make sure to `.gitignore` it\n",
    "\n",
    "⚠️ DomoJupyterWorkspaces makes it difficult to see the .env file so you can use env.txt  Be aware that anyone with access to your notebook can see the .txt file."
   ]
  },
  {
   "cell_type": "code",
   "execution_count": 1,
   "id": "e352eb34",
   "metadata": {},
   "outputs": [],
   "source": [
    "# %pip install python-dotenv"
   ]
  },
  {
   "cell_type": "code",
   "execution_count": 6,
   "id": "c7fe356a",
   "metadata": {},
   "outputs": [
    {
     "data": {
      "text/plain": [
       "'thisissecure'"
      ]
     },
     "execution_count": 6,
     "metadata": {},
     "output_type": "execute_result"
    }
   ],
   "source": [
    "from dotenv import load_dotenv\n",
    "import os\n",
    "\n",
    "load_dotenv('env.txt', override= True)\n",
    "\n",
    "os.environ['DOMO_PASSWORD']"
   ]
  },
  {
   "cell_type": "markdown",
   "id": "f78e16c5",
   "metadata": {},
   "source": [
    "### 🧪 Use Domo Account objects to store credentials\n",
    "- secured fields can only be seen in clear text in DomoJupyter and use the same encryption platform as Domo connectors.\n",
    "- ⚠️if you have accounts-v2 (account sharing) enabled in your instance, any user with whom you've shared the connector can read your credentials\n",
    "\n",
    "### ▶️ create account an \"abstract_credentials_store\" and \"access_token\" account object with your username and password (Data > Accounts).\n",
    "1. create an Abstract_Credentials_Store_Account named `YourInitials_Absract`\n",
    "   - store your credentials as a properly formatted json object\n",
    "   ```\n",
    "   {\n",
    "      \"DOMO_USERNAME\": \"<your_username>\", \n",
    "      \"DOMO_PASSWORD\": \"<your_password>\",\n",
    "      \"DOMO_INSTANCE\": \"<domo_instance>\"\n",
    "   }\n",
    "   ```\n",
    "2. create a Domo_Access_Token_Account named `YourInitials_AccessToken`\n",
    "3. edit this workspace and share the accounts with this notebook\n",
    "\n",
    "\n",
    "### ▶️ create an ouput dataset for your JupyterWorkspace called `YourInitials_MONIT_DomoAccount`.\n"
   ]
  },
  {
   "cell_type": "markdown",
   "id": "c3df389b",
   "metadata": {},
   "source": [
    "## 🚀 Read Account Objects in Jupyter Workspaces\n",
    "\n",
    "### ▶️ write a function `read_domo_jupyter_account` that reads in the properties of an account \n",
    "\n",
    "- Implement function in `functions/utils.py`\n",
    "- function should receive one argument `account_name` and return a dictionary representing the account properties\n",
    "\n",
    "Notice that you can see secure fields in plain text.  \n",
    "\n",
    "```\n",
    " {\n",
    "    \"prop1\": \"value\",\n",
    "    \"prop2\" : \"value\"\n",
    " }\n",
    " ```"
   ]
  },
  {
   "cell_type": "code",
   "execution_count": 3,
   "id": "cb92ce97",
   "metadata": {},
   "outputs": [
    {
     "ename": "ModuleNotFoundError",
     "evalue": "No module named 'domojupyter'",
     "output_type": "error",
     "traceback": [
      "\u001b[0;31m---------------------------------------------------------------------------\u001b[0m",
      "\u001b[0;31mModuleNotFoundError\u001b[0m                       Traceback (most recent call last)",
      "Cell \u001b[0;32mIn[3], line 2\u001b[0m\n\u001b[1;32m      1\u001b[0m \u001b[38;5;66;03m# from solutions.read_domo_jupyter_account_v1 import read_domo_jupyter_account\u001b[39;00m\n\u001b[0;32m----> 2\u001b[0m \u001b[38;5;28;01mimport\u001b[39;00m \u001b[38;5;21;01mdomojupyter\u001b[39;00m \u001b[38;5;28;01mas\u001b[39;00m \u001b[38;5;21;01mdj\u001b[39;00m\n\u001b[1;32m      4\u001b[0m \u001b[38;5;66;03m# FIX ME and move to functions/utils.py\u001b[39;00m\n\u001b[1;32m      5\u001b[0m \u001b[38;5;28;01mdef\u001b[39;00m \u001b[38;5;21mread_domo_jupyter_account\u001b[39m(account_name):\n\u001b[1;32m      6\u001b[0m     \u001b[38;5;66;03m# account_properties = dj.get_account_property_keys('ACCOUNT_NAME')\u001b[39;00m\n\u001b[1;32m      7\u001b[0m     \u001b[38;5;66;03m# account_property_value = dj.get_account_property_value('ACCOUNT_NAME', account_properties[0])\u001b[39;00m\n\u001b[1;32m      8\u001b[0m     \u001b[38;5;66;03m# creds = { fix me!! }\u001b[39;00m\n",
      "\u001b[0;31mModuleNotFoundError\u001b[0m: No module named 'domojupyter'"
     ]
    }
   ],
   "source": [
    "# from solutions.read_domo_jupyter_account_v1 import read_domo_jupyter_account\n",
    "import domojupyter as dj\n",
    "\n",
    "# FIX ME and move to functions/utils.py\n",
    "def read_domo_jupyter_account(account_name):\n",
    "    # account_properties = dj.get_account_property_keys('ACCOUNT_NAME')\n",
    "    # account_property_value = dj.get_account_property_value('ACCOUNT_NAME', account_properties[0])\n",
    "    # creds = { fix me!! }\n",
    "    return creds"
   ]
  },
  {
   "cell_type": "code",
   "execution_count": null,
   "id": "6274fab3",
   "metadata": {},
   "outputs": [
    {
     "ename": "NameError",
     "evalue": "name 'read_domo_jupyter_account' is not defined",
     "output_type": "error",
     "traceback": [
      "\u001b[0;31m---------------------------------------------------------------------------\u001b[0m",
      "\u001b[0;31mNameError\u001b[0m                                 Traceback (most recent call last)",
      "Cell \u001b[0;32mIn[9], line 4\u001b[0m\n\u001b[1;32m      1\u001b[0m \u001b[38;5;66;03m# from solutions.read_domo_jupyter_account_v1 import read_domo_jupyter_account\u001b[39;00m\n\u001b[1;32m      3\u001b[0m ACCOUNT_NAME \u001b[38;5;241m=\u001b[39m \u001b[38;5;124m\"\u001b[39m\u001b[38;5;124myour_account_name\u001b[39m\u001b[38;5;124m\"\u001b[39m \n\u001b[0;32m----> 4\u001b[0m creds \u001b[38;5;241m=\u001b[39m \u001b[43mread_domo_jupyter_account\u001b[49m(ACCOUNT_NAME)\n",
      "\u001b[0;31mNameError\u001b[0m: name 'read_domo_jupyter_account' is not defined"
     ]
    }
   ],
   "source": [
    "# from solutions.read_domo_jupyter_account_v1 import read_domo_jupyter_account\n",
    "\n",
    "ACCOUNT_NAME = \"your_account_name\" \n",
    "creds = read_domo_jupyter_account(ACCOUNT_NAME)"
   ]
  },
  {
   "cell_type": "markdown",
   "id": "de0ab3da",
   "metadata": {},
   "source": [
    "### 🧪 modify `read_domo_jupyter_account` to provide custom formatting to the output for `abstract_credentials_store` account types\n",
    "\n",
    "🎓 you could have two functions, one for handling any account type, and one specifically for formatting abstract_credentials_store accounts.  But no need to overengineer today :D\n",
    "\n",
    "1. Modify `read_domo_jupyter_account` to receive parameter, `is_abstract : bool = False`\n",
    "2. add a conditional return to return `if not is_abstract_account`: return creds` \n",
    "3. use `json.load()` to convert the `creds['credentials']` from a string into a dictioary  \n",
    "4. return the result\n",
    "\n",
    "[solution](./solutions/read_domo_jupyter_account_v2.py)"
   ]
  },
  {
   "cell_type": "markdown",
   "id": "2336cd1f",
   "metadata": {},
   "source": [
    "## ▶️ Put it all Together with a function called 'main'\n",
    "\n",
    "create a function called `main()` that encapsulates the entire script.\n",
    "\n",
    "Main should:\n",
    "1. retrieve username and password from domo account, `account_name` object using `read_domo_jupyter_account`\n",
    "2. get a session token using `get_session_token`\n",
    "3. authenticate our API request to `get_accounts`\n"
   ]
  },
  {
   "cell_type": "code",
   "execution_count": null,
   "id": "47239381",
   "metadata": {},
   "outputs": [],
   "source": [
    "from typing import List\n",
    "\n",
    "# from solutions.read_domo_jupyter_account_v2 import read_domo_jupyter_account\n",
    "# from solutions.get_session_token import get_session_token\n",
    "# from solutions.get_accounts_v2 import get_accounts\n",
    "\n",
    "def main(account_name) -> List[dict]:\n",
    "    pass\n",
    "\n"
   ]
  },
  {
   "cell_type": "code",
   "execution_count": null,
   "id": "8d7a5574",
   "metadata": {},
   "outputs": [],
   "source": [
    "account_ls = main(ACCOUNT_NAME)"
   ]
  },
  {
   "cell_type": "markdown",
   "id": "ed296eeb",
   "metadata": {},
   "source": [
    "## 🎓 What's the deal with main?\n",
    "\n",
    "All of our code so far consists of individual functions are are each test-able on their own.\n",
    "\n",
    "This vastly improves code legibility and speaks to decoupling (making sure peices of code can stand on their own because they just perform one task with a very short list of inputs).\n",
    "\n",
    "Main becomes an 'implementation' or a 'program' that we might repeat multiple times, and the component parts (the .py files) are peices we are recycling across multiple implementations"
   ]
  },
  {
   "cell_type": "markdown",
   "id": "e72abbc5",
   "metadata": {},
   "source": [
    "## ▶️ Output to Dataset\n",
    "\n",
    "1. use pandas to convert our list of results into a dataframe.\n",
    "2. write the dataframe to the dataset `YourInitials_MONIT_DomoAccount`"
   ]
  },
  {
   "cell_type": "code",
   "execution_count": null,
   "id": "e008c326",
   "metadata": {},
   "outputs": [],
   "source": [
    "# %pip install pandas"
   ]
  },
  {
   "cell_type": "code",
   "execution_count": null,
   "id": "09157079",
   "metadata": {},
   "outputs": [],
   "source": [
    "import pandas as pd\n",
    "import domojupyter as dj\n",
    "\n",
    "df = pd.DataFrame(account_ls)\n",
    "dj.write_dataframe(df, \"YourInitials_MONIT_DomoAccount\")"
   ]
  },
  {
   "cell_type": "markdown",
   "id": "fd06ac5d",
   "metadata": {},
   "source": [
    "## 🚀 Solution"
   ]
  },
  {
   "cell_type": "code",
   "execution_count": 14,
   "id": "c246e140",
   "metadata": {},
   "outputs": [],
   "source": [
    "from solutions.utils import read_domo_jupyter_account\n",
    "from solutions.auth import get_session_token\n",
    "from solutions.accounts import get_accounts\n",
    "\n",
    "def main(account_name) -> List[dict]:\n",
    "    creds = read_domo_jupyter_account(account_name)\n",
    "\n",
    "    domo_username = creds.get('DOMO_USERNAME')\n",
    "    domo_password = creds.get('DOMO_PASSWORD')\n",
    "    domo_instance = creds.get('DOMO_INSTANCE')\n",
    "\n",
    "    session_token = get_session_token(domo_username=domo_username, domo_password=domo_password, )\n",
    "    res = get_accounts(domo_instance = domo_instance , session_token= session_token)\n",
    "\n",
    "    account_ls = res.response\n",
    "\n",
    "    df = pd.DataFrame(account_ls)\n",
    "    dj.write_dataframe(df, \"YourInitials_MONIT_DomoAccount\")\n",
    "\n",
    "main()\n",
    "                              "
   ]
  }
 ],
 "metadata": {
  "kernelspec": {
   "display_name": ".venv",
   "language": "python",
   "name": "python3"
  },
  "language_info": {
   "codemirror_mode": {
    "name": "ipython",
    "version": 3
   },
   "file_extension": ".py",
   "mimetype": "text/x-python",
   "name": "python",
   "nbconvert_exporter": "python",
   "pygments_lexer": "ipython3",
   "version": "3.10.12"
  }
 },
 "nbformat": 4,
 "nbformat_minor": 5
}
