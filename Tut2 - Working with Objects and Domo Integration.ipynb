{
 "cells": [
  {
   "cell_type": "markdown",
   "id": "70e93111-f9a5-461e-9067-5980c301adfe",
   "metadata": {},
   "source": [
    "# 🚀 Workspace management, Working with Accounts & Domo Integration\n",
    "In this tutorial we will:\n",
    "1. store authentication credentials securely using Domo Account objects\n",
    "2. learn to interact with Domo Account objects in Jupyter\n",
    "3. implement a workflow that issues requests to Domo APIs authenticated using username/password flow\n",
    "4. store the results in a dataset\n",
    "5. schedule the script as a dataflow"
   ]
  },
  {
   "cell_type": "markdown",
   "id": "f4475f04",
   "metadata": {},
   "source": [
    "## 🚀 Handle sensitive credentials appropriately\n",
    "\n",
    "Do not store sensitive credentials in plain text on the internet!<br>\n",
    "\n",
    "### 🧪 Option 1:  Use [python-dotenv](https://pypi.org/project/python-dotenv/) to store a local `.env` and then make sure to `.gitignore` it\n",
    "\n",
    "⚠️ DomoJupyterWorkspaces makes it difficult to see the .env file so you can use env.txt  Be aware that anyone with access to your notebook can see the .txt file."
   ]
  },
  {
   "cell_type": "code",
   "execution_count": 1,
   "id": "e352eb34",
   "metadata": {},
   "outputs": [],
   "source": [
    "# %pip install python-dotenv"
   ]
  },
  {
   "cell_type": "code",
   "execution_count": 6,
   "id": "c7fe356a",
   "metadata": {},
   "outputs": [
    {
     "data": {
      "text/plain": [
       "'thisissecure'"
      ]
     },
     "execution_count": 6,
     "metadata": {},
     "output_type": "execute_result"
    }
   ],
   "source": [
    "from dotenv import load_dotenv\n",
    "import os\n",
    "\n",
    "load_dotenv('env.txt', override= True)\n",
    "\n",
    "os.environ['DOMO_PASSWORD']"
   ]
  },
  {
   "cell_type": "markdown",
   "id": "f78e16c5",
   "metadata": {},
   "source": [
    "### 🧪 Option 2:  Use Domo Account objects to store credentials\n",
    "- ⚠️ secured fields can only be seen in clear text in DomoJupyter and use the same encryption platform as Domo connectors.\n",
    "- ⚠️if you have accounts-v2 (account sharing) enabled in your instance, any user with whom you've shared the connector can read your credentials\n",
    "\n",
    "### ▶️ create account an \"abstract_credentials_store\" and \"access_token\" account object with your username and password (Data > Accounts).\n",
    "1. create an Abstract_Credentials_Store_Account named `YourInitials_Absract`\n",
    "- store your credentials as a properly formatted json object\n",
    "   ```\n",
    "   {\n",
    "      \"DOMO_USERNAME\": \"<your_username>\", \n",
    "      \"DOMO_PASSWORD\": \"<your_password>\",\n",
    "      \"DOMO_INSTANCE\": \"<domo_instance>\"\n",
    "   }\n",
    "   ```\n",
    "   \n",
    "   \n",
    "2. create a Domo_Access_Token_Account named `YourInitials_AccessToken`\n",
    "3. edit this workspace and share the accounts with this notebook\n",
    "\n",
    "\n",
    "### ▶️ create an ouput dataset for your JupyterWorkspace called `YourInitials_MONIT_DomoAccount`.\n"
   ]
  },
  {
   "cell_type": "markdown",
   "id": "c3df389b",
   "metadata": {},
   "source": [
    "## 🚀 Read Account Objects in Jupyter Workspaces\n",
    "\n",
    "### ▶️ write a function `read_domo_jupyter_account` that reads in the properties of an account \n",
    "\n",
    "- Implement function in `functions/utils.py`\n",
    "- function should receive one argument `account_name` and return a dictionary representing the account properties\n",
    "\n",
    "Notice that you can see secure fields in plain text.  \n",
    "\n",
    "```\n",
    " {\n",
    "    \"prop1\": \"value\",\n",
    "    \"prop2\" : \"value\"\n",
    " }\n",
    " ```"
   ]
  },
  {
   "cell_type": "code",
   "execution_count": 7,
   "id": "cb92ce97",
   "metadata": {
    "tags": []
   },
   "outputs": [],
   "source": [
    "# from solutions.read_domo_jupyter_account_v1 import read_domo_jupyter_account\n",
    "\n",
    "import domojupyter as dj\n",
    "\n",
    "# FIX ME and move to functions/utils.py\n",
    "def read_domo_jupyter_account(account_name):\n",
    "    account_properties = dj.get_account_property_keys(account_name)\n",
    "    account_property_value = dj.get_account_property_value(account_name, account_properties[0])\n",
    "    \n",
    "    creds = { }\n",
    "    return creds"
   ]
  },
  {
   "cell_type": "code",
   "execution_count": 10,
   "id": "6274fab3",
   "metadata": {
    "tags": []
   },
   "outputs": [
    {
     "ename": "Exception",
     "evalue": "Failed to obtain workspace account properties for workspace: 1cfe9db4-5937-4889-beb3-a311fc42f246, accountId: None {'status': 400, 'statusReason': 'Bad Request', 'message': 'Bad Request', 'toe': 'WA3NN7ZUHL-2ZZZS-H0WN2'}",
     "output_type": "error",
     "traceback": [
      "\u001b[0;31m---------------------------------------------------------------------------\u001b[0m",
      "\u001b[0;31mException\u001b[0m                                 Traceback (most recent call last)",
      "Cell \u001b[0;32mIn[10], line 4\u001b[0m\n\u001b[1;32m      1\u001b[0m \u001b[38;5;66;03m# from solutions.read_domo_jupyter_account_v1 import read_domo_jupyter_account\u001b[39;00m\n\u001b[1;32m      3\u001b[0m ACCOUNT_NAME \u001b[38;5;241m=\u001b[39m \u001b[38;5;124m\"\u001b[39m\u001b[38;5;124mYourIntitials_Abstract\u001b[39m\u001b[38;5;124m\"\u001b[39m \n\u001b[0;32m----> 4\u001b[0m creds \u001b[38;5;241m=\u001b[39m \u001b[43mread_domo_jupyter_account\u001b[49m\u001b[43m(\u001b[49m\u001b[43mACCOUNT_NAME\u001b[49m\u001b[43m)\u001b[49m\n",
      "Cell \u001b[0;32mIn[7], line 7\u001b[0m, in \u001b[0;36mread_domo_jupyter_account\u001b[0;34m(account_name)\u001b[0m\n\u001b[1;32m      6\u001b[0m \u001b[38;5;28;01mdef\u001b[39;00m \u001b[38;5;21mread_domo_jupyter_account\u001b[39m(account_name):\n\u001b[0;32m----> 7\u001b[0m     account_properties \u001b[38;5;241m=\u001b[39m \u001b[43mdj\u001b[49m\u001b[38;5;241;43m.\u001b[39;49m\u001b[43mget_account_property_keys\u001b[49m\u001b[43m(\u001b[49m\u001b[43maccount_name\u001b[49m\u001b[43m)\u001b[49m\n\u001b[1;32m      8\u001b[0m     account_property_value \u001b[38;5;241m=\u001b[39m dj\u001b[38;5;241m.\u001b[39mget_account_property_value(account_name, account_properties[\u001b[38;5;241m0\u001b[39m])\n\u001b[1;32m      9\u001b[0m     creds \u001b[38;5;241m=\u001b[39m { }\n",
      "File \u001b[0;32m~/.conda/lib/python3.9/site-packages/domojupyter/io.py:270\u001b[0m, in \u001b[0;36mget_account_property_keys\u001b[0;34m(account)\u001b[0m\n\u001b[1;32m    268\u001b[0m \u001b[38;5;28;01mdef\u001b[39;00m \u001b[38;5;21mget_account_property_keys\u001b[39m(account):\n\u001b[1;32m    269\u001b[0m     account_id \u001b[38;5;241m=\u001b[39m _find_account_id(account)\n\u001b[0;32m--> 270\u001b[0m     properties \u001b[38;5;241m=\u001b[39m \u001b[43m_domo\u001b[49m\u001b[38;5;241;43m.\u001b[39;49m\u001b[43mget_account_properties\u001b[49m\u001b[43m(\u001b[49m\u001b[43maccount_id\u001b[49m\u001b[43m)\u001b[49m\n\u001b[1;32m    271\u001b[0m     \u001b[38;5;28;01mif\u001b[39;00m properties \u001b[38;5;129;01mis\u001b[39;00m \u001b[38;5;28;01mNone\u001b[39;00m:\n\u001b[1;32m    272\u001b[0m         \u001b[38;5;28;01mraise\u001b[39;00m \u001b[38;5;167;01mException\u001b[39;00m(\u001b[38;5;124mf\u001b[39m\u001b[38;5;124m'\u001b[39m\u001b[38;5;124mAccount properties were not found for accountId \u001b[39m\u001b[38;5;132;01m{\u001b[39;00maccount_id\u001b[38;5;132;01m}\u001b[39;00m\u001b[38;5;124m'\u001b[39m)\n",
      "File \u001b[0;32m~/.conda/lib/python3.9/site-packages/domojupyter/domo.py:196\u001b[0m, in \u001b[0;36mDomo.get_account_properties\u001b[0;34m(self, account_id)\u001b[0m\n\u001b[1;32m    193\u001b[0m     \u001b[38;5;28;01mraise\u001b[39;00m \u001b[38;5;167;01mException\u001b[39;00m(\n\u001b[1;32m    194\u001b[0m         \u001b[38;5;124mf\u001b[39m\u001b[38;5;124m'\u001b[39m\u001b[38;5;124mPermissions denied for workspace: \u001b[39m\u001b[38;5;132;01m{\u001b[39;00m\u001b[38;5;28mself\u001b[39m\u001b[38;5;241m.\u001b[39mworkspace_id\u001b[38;5;132;01m}\u001b[39;00m\u001b[38;5;124m, accountId: \u001b[39m\u001b[38;5;132;01m{\u001b[39;00maccount_id\u001b[38;5;132;01m}\u001b[39;00m\u001b[38;5;124m \u001b[39m\u001b[38;5;132;01m{\u001b[39;00mr\u001b[38;5;241m.\u001b[39mjson()\u001b[38;5;132;01m}\u001b[39;00m\u001b[38;5;124m'\u001b[39m)\n\u001b[1;32m    195\u001b[0m \u001b[38;5;28;01mif\u001b[39;00m r\u001b[38;5;241m.\u001b[39mstatus_code \u001b[38;5;241m!=\u001b[39m \u001b[38;5;241m200\u001b[39m \u001b[38;5;129;01mor\u001b[39;00m workspace \u001b[38;5;129;01mis\u001b[39;00m \u001b[38;5;28;01mNone\u001b[39;00m:\n\u001b[0;32m--> 196\u001b[0m     \u001b[38;5;28;01mraise\u001b[39;00m \u001b[38;5;167;01mException\u001b[39;00m(\n\u001b[1;32m    197\u001b[0m         \u001b[38;5;124mf\u001b[39m\u001b[38;5;124m'\u001b[39m\u001b[38;5;124mFailed to obtain workspace account properties for workspace: \u001b[39m\u001b[38;5;132;01m{\u001b[39;00m\u001b[38;5;28mself\u001b[39m\u001b[38;5;241m.\u001b[39mworkspace_id\u001b[38;5;132;01m}\u001b[39;00m\u001b[38;5;124m, accountId: \u001b[39m\u001b[38;5;132;01m{\u001b[39;00maccount_id\u001b[38;5;132;01m}\u001b[39;00m\u001b[38;5;124m \u001b[39m\u001b[38;5;132;01m{\u001b[39;00mr\u001b[38;5;241m.\u001b[39mjson()\u001b[38;5;132;01m}\u001b[39;00m\u001b[38;5;124m'\u001b[39m)\n\u001b[1;32m    199\u001b[0m \u001b[38;5;28;01mreturn\u001b[39;00m r\u001b[38;5;241m.\u001b[39mjson()\n",
      "\u001b[0;31mException\u001b[0m: Failed to obtain workspace account properties for workspace: 1cfe9db4-5937-4889-beb3-a311fc42f246, accountId: None {'status': 400, 'statusReason': 'Bad Request', 'message': 'Bad Request', 'toe': 'WA3NN7ZUHL-2ZZZS-H0WN2'}"
     ]
    }
   ],
   "source": [
    "# from solutions.read_domo_jupyter_account_v1 import read_domo_jupyter_account\n",
    "\n",
    "ACCOUNT_NAME = \"YourIntitials_Abstract\" \n",
    "creds = read_domo_jupyter_account(ACCOUNT_NAME)"
   ]
  },
  {
   "cell_type": "markdown",
   "id": "de0ab3da",
   "metadata": {},
   "source": [
    "### 🧪 modify `read_domo_jupyter_account` to provide custom formatting to the output for `abstract_credentials_store` account types\n",
    "\n",
    "🎓 you could have two functions, one for handling any account type, and one specifically for formatting abstract_credentials_store accounts.  But no need to overengineer today :D\n",
    "\n",
    "1. Modify `read_domo_jupyter_account` to receive parameter, `is_abstract : bool = False`\n",
    "2. add a conditional return to return \n",
    "```\n",
    "if not is_abstract_account`: return creds\n",
    "```\n",
    "3. use `json.load()` to convert the `creds['credentials']` from a string into a dictioary  \n",
    "4. return the result\n",
    "\n",
    "[solution](./solutions/read_domo_jupyter_account_v2.py)"
   ]
  },
  {
   "cell_type": "markdown",
   "id": "2336cd1f",
   "metadata": {},
   "source": [
    "## ▶️ Put it all Together with a function called 'main'\n",
    "\n",
    "create a function called `main()` that encapsulates the entire script.\n",
    "\n",
    "Main should:\n",
    "1. retrieve username and password from domo account, `account_name` object using `read_domo_jupyter_account`\n",
    "2. get a session token using `get_session_token`\n",
    "3. return the results of `get_accounts`\n"
   ]
  },
  {
   "cell_type": "code",
   "execution_count": null,
   "id": "47239381",
   "metadata": {},
   "outputs": [],
   "source": [
    "from typing import List\n",
    "\n",
    "# from solutions.read_domo_jupyter_account_v2 import read_domo_jupyter_account\n",
    "# from solutions.get_session_token import get_session_token\n",
    "# from solutions.get_accounts_v2 import get_accounts\n",
    "\n",
    "def main(account_name) -> List[dict]:\n",
    "    pass\n",
    "\n"
   ]
  },
  {
   "cell_type": "code",
   "execution_count": null,
   "id": "8d7a5574",
   "metadata": {},
   "outputs": [],
   "source": [
    "main(ACCOUNT_NAME)"
   ]
  },
  {
   "cell_type": "markdown",
   "id": "ed296eeb",
   "metadata": {},
   "source": [
    "## 🎓 What's the deal with main?\n",
    "\n",
    "All of our code so far consists of individual functions are are each test-able on their own.\n",
    "\n",
    "This vastly improves code legibility and speaks to decoupling (making sure peices of code can stand on their own because they just perform one task with a very short list of inputs).\n",
    "\n",
    "Main becomes an 'implementation' or a 'program' that we might repeat multiple times, and the component parts (the .py files) are peices we are recycling across multiple implementations"
   ]
  },
  {
   "cell_type": "markdown",
   "id": "e72abbc5",
   "metadata": {},
   "source": [
    "## ▶️ add an output to dataset step into main()\n",
    "\n",
    "1. use `pandas` to convert our list of results into a dataframe.\n",
    "2. write the dataframe to the dataset `YourInitials_MONIT_DomoAccount`"
   ]
  },
  {
   "cell_type": "code",
   "execution_count": null,
   "id": "e008c326",
   "metadata": {},
   "outputs": [],
   "source": [
    "# %pip install pandas"
   ]
  },
  {
   "cell_type": "code",
   "execution_count": null,
   "id": "09157079",
   "metadata": {},
   "outputs": [],
   "source": [
    "import pandas as pd\n",
    "import domojupyter as dj\n",
    "\n",
    "df = pd.DataFrame(account_ls)\n",
    "dj.write_dataframe(df, \"YourInitials_MONIT_DomoAccount\")"
   ]
  },
  {
   "cell_type": "markdown",
   "id": "fd06ac5d",
   "metadata": {},
   "source": [
    "## 🚀 Solution"
   ]
  },
  {
   "cell_type": "code",
   "execution_count": 14,
   "id": "c246e140",
   "metadata": {},
   "outputs": [],
   "source": [
    "from typing import List, Union\n",
    "\n",
    "from solutions.utils import read_domo_jupyter_account\n",
    "from solutions.auth import get_session_token\n",
    "from solutions.accounts import get_accounts\n",
    "\n",
    "\n",
    "def main(account_name, is_dataframe: bool = True) -> Union[List[dict], pd.DataFrame]:\n",
    "    creds = read_domo_jupyter_account(account_name)\n",
    "\n",
    "    domo_username = creds.get('DOMO_USERNAME')\n",
    "    domo_password = creds.get('DOMO_PASSWORD')\n",
    "    domo_instance = creds.get('DOMO_INSTANCE')\n",
    "\n",
    "    session_token = get_session_token(domo_username=domo_username, domo_password=domo_password, )\n",
    "    res = get_accounts(domo_instance = domo_instance , session_token= session_token)\n",
    "\n",
    "    account_ls = res.response\n",
    "    \n",
    "    if not is_dataframe:\n",
    "        return account_ls\n",
    "\n",
    "    df = pd.DataFrame(account_ls)\n",
    "    dj.write_dataframe(df, \"YourInitials_MONIT_DomoAccount\")\n",
    "\n",
    "main(\n",
    "    account_name = \"account_name\"\n",
    ")\n",
    "                              "
   ]
  }
 ],
 "metadata": {
  "kernelspec": {
   "display_name": "Python",
   "language": "python",
   "name": "python_3_9"
  },
  "language_info": {
   "codemirror_mode": {
    "name": "ipython",
    "version": 3
   },
   "file_extension": ".py",
   "mimetype": "text/x-python",
   "name": "python",
   "nbconvert_exporter": "python",
   "pygments_lexer": "ipython3",
   "version": "3.9.13"
  }
 },
 "nbformat": 4,
 "nbformat_minor": 5
}
