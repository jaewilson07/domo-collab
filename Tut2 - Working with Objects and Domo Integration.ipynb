{
 "cells": [
  {
   "cell_type": "markdown",
   "id": "70e93111-f9a5-461e-9067-5980c301adfe",
   "metadata": {},
   "source": [
    "# Working with Objects & Domo Integration\n",
    "In this tutorial we will:\n",
    "1. compartmentalize our code into .py files for recycleability\n",
    "2. learn to create and interact with account objects\n",
    "3. implement a workflow that interrogates Domo APIs using session_token authentication\n",
    "4. output the results to a dataset\n",
    "\n",
    "\n",
    "## 🎓 Before we begin:\n",
    "- notebooks allow you to compartmentalize your code, write a simple test under each function\n",
    "- storing functios in .py file allow you to import files as modules and recycle code in the same workspace\n",
    "    - you may need a blank file called `__init__.py` in all the subfolders\n",
    "\n",
    "### ▶️ store get_full_auth() in a file `auth.py`\n",
    "    \n",
    "- create the file in ./functions\n",
    "- ensure ./functions has  a blank file called `__init__.py`\n",
    "- try importing your function like a 'normal' module\n",
    "\n",
    "### ▶️ store get_accounts() in a file `accounts.py`\n"
   ]
  },
  {
   "cell_type": "markdown",
   "id": "f78e16c5",
   "metadata": {},
   "source": [
    "## 🧪 handle sensitive credentials appropriately\n",
    "\n",
    "DO NOT STORE YOUR PASSWORD IN PLAIN TEXT on the internet!!<br>\n",
    "\n",
    "Use [python-dotenv](https://pypi.org/project/python-dotenv/) to store a local `.env` and then make sure to `.gitignore` it\n",
    "\n",
    "OR\n",
    "Use Domo Account objects to store credentials\n",
    "- secured fields can only be seen in clear text in DomoJupyter and use the same encryption security platform as Domo connectors.\n",
    "\n",
    "### ▶️ create account objects with your username and password (Data > Accounts).\n",
    "1. create an Abstract_Credentials_Store_Account named `YourInitials_Absract`\n",
    "   - store your credentials as a properly formatted json object\n",
    "   ```\n",
    "   {\n",
    "      \"DOMO_USERNAME\": \"<your_username>\", \n",
    "      \"DOMO_PASSWORD\": \"<your_password>\",\n",
    "      \"DOMO_INSTANCE\": \"<domo_instance>\"\n",
    "   }\n",
    "   ```\n",
    "2. create a Domo_Access_Token_Account named `YourInitials_AccessToken`\n",
    "3. edit this workspace and share the accounts with this notebook\n",
    "\n",
    "\n",
    "### ▶️ create an ouput dataset for this JupyterWorkspace called `YourInitials_MONIT_DomoAccount`.\n"
   ]
  },
  {
   "cell_type": "markdown",
   "id": "c3df389b",
   "metadata": {},
   "source": [
    "## Read Account Objects in Jupyter Workspaces\n",
    "\n",
    "### ▶️ write a function `read_domo_jupyter_account` that reads in the properties of an account\n",
    "\n",
    "Notice that you can see secure fields in plain text.  Be careful how you save the state of your document.\n",
    "\n",
    "Anyone your JupyerWorkspace is shared with could theoretically read account credentials!!\n",
    "\n",
    "- function should receive one argument `account_name` and return a dictionary representing the account properties\n",
    "```\n",
    " {\n",
    "    \"prop1\": \"value\",\n",
    "    \"prop2\" : \"value\"\n",
    " }\n",
    " ```"
   ]
  },
  {
   "cell_type": "code",
   "execution_count": 1,
   "id": "cb92ce97",
   "metadata": {},
   "outputs": [
    {
     "ename": "ModuleNotFoundError",
     "evalue": "No module named 'domojupyter'",
     "output_type": "error",
     "traceback": [
      "\u001b[1;31m---------------------------------------------------------------------------\u001b[0m",
      "\u001b[1;31mModuleNotFoundError\u001b[0m                       Traceback (most recent call last)",
      "Cell \u001b[1;32mIn[1], line 1\u001b[0m\n\u001b[1;32m----> 1\u001b[0m \u001b[38;5;28;01mimport\u001b[39;00m \u001b[38;5;21;01mdomojupyter\u001b[39;00m \u001b[38;5;28;01mas\u001b[39;00m \u001b[38;5;21;01mdj\u001b[39;00m\n\u001b[0;32m      3\u001b[0m \u001b[38;5;28;01mdef\u001b[39;00m \u001b[38;5;21mread_domo_jupyter_account\u001b[39m(account_name):\n\u001b[0;32m      4\u001b[0m     \u001b[38;5;66;03m# account_properties = dj.get_account_property_keys('ACCOUNT_NAME')\u001b[39;00m\n\u001b[0;32m      5\u001b[0m     \u001b[38;5;66;03m# account_property_value = dj.get_account_property_value('ACCOUNT_NAME', account_properties[0])\u001b[39;00m\n\u001b[0;32m      6\u001b[0m     \u001b[38;5;66;03m# creds = { fix me!! }\u001b[39;00m\n\u001b[0;32m      7\u001b[0m     \u001b[38;5;28;01mreturn\u001b[39;00m creds\n",
      "\u001b[1;31mModuleNotFoundError\u001b[0m: No module named 'domojupyter'"
     ]
    }
   ],
   "source": [
    "import domojupyter as dj\n",
    "\n",
    "def read_domo_jupyter_account(account_name):\n",
    "    # account_properties = dj.get_account_property_keys('ACCOUNT_NAME')\n",
    "    # account_property_value = dj.get_account_property_value('ACCOUNT_NAME', account_properties[0])\n",
    "    # creds = { fix me!! }\n",
    "    return creds"
   ]
  },
  {
   "cell_type": "code",
   "execution_count": null,
   "id": "6274fab3",
   "metadata": {},
   "outputs": [],
   "source": [
    "# from solutions.read_domo_jupyter_account_v1 import read_domo_jupyter_account\n",
    "# from solutions.read_domo_jupyter_account_v2 import read_domo_jupyter_account\n",
    "\n",
    "ACCOUNT_NAME = \"your_account_name\" \n",
    "creds = read_domo_jupyter_account(\"ACCOUNT_NAME\")"
   ]
  },
  {
   "cell_type": "markdown",
   "id": "de0ab3da",
   "metadata": {},
   "source": [
    "### 🧪 modify `read_domo_jupyter_account` to provide custom output for abstract account types\n",
    "\n",
    "you could have two functions, one for handling any account type, and one specifically for handling abstract_credentials_store accounts (arguably best practices).\n",
    "\n",
    "1. Modify get_account_credentials to receive parameter, `is_abstract : bool = False`\n",
    "2. add a conditional return to return `if not is_abstract_account`: return creds` \n",
    "3. use `json.load()` to convert the `creds['credentials']` from a string into a dictioary  \n",
    "4. return the result"
   ]
  },
  {
   "cell_type": "markdown",
   "id": "2336cd1f",
   "metadata": {},
   "source": [
    "## ▶️ Put it all Together with a functio called 'main'\n",
    "\n",
    "create a function called `main()` that encapsulates the entire script.\n",
    "\n",
    "Main should:\n",
    "1. retrieve username and password from a domo account, `account_name` object\n",
    "2. get a session token from get_full_auth\n",
    "3. authenticate our API request\n"
   ]
  },
  {
   "cell_type": "code",
   "execution_count": null,
   "id": "47239381",
   "metadata": {},
   "outputs": [],
   "source": [
    "from typing import List\n",
    "\n",
    "# from solutions.read_domo_jupyter_account_v2 import read_domo_jupyter_account\n",
    "# from solutions.get_full_auth_v1 import get_full_auth\n",
    "# from solutions.get_accounts_v2 import get_accounts\n",
    "\n",
    "def main(account_name) -> List(dict):\n",
    "    pass\n",
    "\n"
   ]
  },
  {
   "cell_type": "code",
   "execution_count": null,
   "id": "8d7a5574",
   "metadata": {},
   "outputs": [],
   "source": [
    "res_ls = main(ACCOUNT_NAME)"
   ]
  },
  {
   "cell_type": "markdown",
   "id": "ed296eeb",
   "metadata": {},
   "source": [
    "## 🎓 What's the deal with main?\n",
    "\n",
    "It's common practice to wrap 'the entire program' in a function called main\n",
    "\n",
    "All of our code so far consists of individual functions are are each test-able on their own.\n",
    "\n",
    "This vastly improves code legibility and speaks to decoupling (making sure peices of code can stand on their own because they just perform one task with a very short list of inputs).\n",
    "\n",
    "Main becomes an 'implementation' or a 'program' that we might repeat multiple times, and the component parts (the .py files) are peices we are recycling across multiple implementations"
   ]
  },
  {
   "cell_type": "markdown",
   "id": "e72abbc5",
   "metadata": {},
   "source": [
    "## ▶️ Output to Dataset\n",
    "\n",
    "1. use pandas to convert our list of results into a dataframe.\n",
    "2. write the dataframe to the dataset `YourInitials_MONIT_DomoAccount`"
   ]
  },
  {
   "cell_type": "code",
   "execution_count": 4,
   "id": "e008c326",
   "metadata": {},
   "outputs": [
    {
     "name": "stdout",
     "output_type": "stream",
     "text": [
      "Collecting pandas\n",
      "  Downloading pandas-2.2.1-cp310-cp310-win_amd64.whl.metadata (19 kB)\n",
      "Collecting numpy<2,>=1.22.4 (from pandas)\n",
      "  Downloading numpy-1.26.4-cp310-cp310-win_amd64.whl.metadata (61 kB)\n",
      "     ---------------------------------------- 0.0/61.0 kB ? eta -:--:--\n",
      "     -------------------- ------------------- 30.7/61.0 kB 1.3 MB/s eta 0:00:01\n",
      "     -------------------------------------- 61.0/61.0 kB 651.3 kB/s eta 0:00:00\n",
      "Requirement already satisfied: python-dateutil>=2.8.2 in d:\\github\\domopalooza-24\\.venv\\lib\\site-packages (from pandas) (2.9.0.post0)\n",
      "Collecting pytz>=2020.1 (from pandas)\n",
      "  Downloading pytz-2024.1-py2.py3-none-any.whl.metadata (22 kB)\n",
      "Collecting tzdata>=2022.7 (from pandas)\n",
      "  Downloading tzdata-2024.1-py2.py3-none-any.whl.metadata (1.4 kB)\n",
      "Requirement already satisfied: six>=1.5 in d:\\github\\domopalooza-24\\.venv\\lib\\site-packages (from python-dateutil>=2.8.2->pandas) (1.16.0)\n",
      "Downloading pandas-2.2.1-cp310-cp310-win_amd64.whl (11.6 MB)\n",
      "   ---------------------------------------- 0.0/11.6 MB ? eta -:--:--\n",
      "   ---------------------------------------- 0.1/11.6 MB 5.5 MB/s eta 0:00:03\n",
      "   - -------------------------------------- 0.3/11.6 MB 3.8 MB/s eta 0:00:03\n",
      "   - -------------------------------------- 0.5/11.6 MB 3.5 MB/s eta 0:00:04\n",
      "   -- ------------------------------------- 0.7/11.6 MB 3.5 MB/s eta 0:00:04\n",
      "   ---- ----------------------------------- 1.2/11.6 MB 5.1 MB/s eta 0:00:03\n",
      "   ------- -------------------------------- 2.3/11.6 MB 8.0 MB/s eta 0:00:02\n",
      "   ---------- ----------------------------- 3.0/11.6 MB 9.5 MB/s eta 0:00:01\n",
      "   ---------- ----------------------------- 3.0/11.6 MB 9.5 MB/s eta 0:00:01\n",
      "   ----------- ---------------------------- 3.4/11.6 MB 8.0 MB/s eta 0:00:02\n",
      "   ------------------- -------------------- 5.5/11.6 MB 11.8 MB/s eta 0:00:01\n",
      "   --------------------- ------------------ 6.3/11.6 MB 12.6 MB/s eta 0:00:01\n",
      "   ----------------------------- ---------- 8.6/11.6 MB 15.7 MB/s eta 0:00:01\n",
      "   -------------------------------- ------- 9.4/11.6 MB 15.8 MB/s eta 0:00:01\n",
      "   ----------------------------------- ---- 10.2/11.6 MB 16.0 MB/s eta 0:00:01\n",
      "   -------------------------------------- - 11.1/11.6 MB 20.5 MB/s eta 0:00:01\n",
      "   ---------------------------------------  11.6/11.6 MB 21.9 MB/s eta 0:00:01\n",
      "   ---------------------------------------  11.6/11.6 MB 21.9 MB/s eta 0:00:01\n",
      "   ---------------------------------------  11.6/11.6 MB 21.9 MB/s eta 0:00:01\n",
      "   ---------------------------------------  11.6/11.6 MB 21.9 MB/s eta 0:00:01\n",
      "   ---------------------------------------- 11.6/11.6 MB 15.6 MB/s eta 0:00:00\n",
      "Downloading numpy-1.26.4-cp310-cp310-win_amd64.whl (15.8 MB)\n",
      "   ---------------------------------------- 0.0/15.8 MB ? eta -:--:--\n",
      "   -- ------------------------------------- 1.1/15.8 MB 23.3 MB/s eta 0:00:01\n",
      "   --- ------------------------------------ 1.3/15.8 MB 21.1 MB/s eta 0:00:01\n",
      "   ----- ---------------------------------- 2.4/15.8 MB 16.7 MB/s eta 0:00:01\n",
      "   ------- -------------------------------- 2.9/15.8 MB 15.4 MB/s eta 0:00:01\n",
      "   -------- ------------------------------- 3.5/15.8 MB 15.8 MB/s eta 0:00:01\n",
      "   ---------- ----------------------------- 4.1/15.8 MB 15.4 MB/s eta 0:00:01\n",
      "   ------------ --------------------------- 4.8/15.8 MB 15.2 MB/s eta 0:00:01\n",
      "   ------------- -------------------------- 5.3/15.8 MB 14.8 MB/s eta 0:00:01\n",
      "   --------------- ------------------------ 6.0/15.8 MB 14.7 MB/s eta 0:00:01\n",
      "   ---------------- ----------------------- 6.6/15.8 MB 14.6 MB/s eta 0:00:01\n",
      "   ------------------ --------------------- 7.2/15.8 MB 14.4 MB/s eta 0:00:01\n",
      "   ------------------- -------------------- 7.8/15.8 MB 14.3 MB/s eta 0:00:01\n",
      "   -------------------- ------------------- 8.3/15.8 MB 14.3 MB/s eta 0:00:01\n",
      "   ---------------------- ----------------- 8.9/15.8 MB 13.9 MB/s eta 0:00:01\n",
      "   ----------------------- ---------------- 9.5/15.8 MB 13.8 MB/s eta 0:00:01\n",
      "   ------------------------- -------------- 10.0/15.8 MB 13.6 MB/s eta 0:00:01\n",
      "   --------------------------- ------------ 10.8/15.8 MB 13.4 MB/s eta 0:00:01\n",
      "   ---------------------------- ----------- 11.4/15.8 MB 13.1 MB/s eta 0:00:01\n",
      "   ------------------------------ --------- 11.9/15.8 MB 13.9 MB/s eta 0:00:01\n",
      "   ------------------------------- -------- 12.5/15.8 MB 13.4 MB/s eta 0:00:01\n",
      "   -------------------------------- ------- 13.0/15.8 MB 13.1 MB/s eta 0:00:01\n",
      "   --------------------------------- ------ 13.0/15.8 MB 12.1 MB/s eta 0:00:01\n",
      "   ----------------------------------- ---- 14.1/15.8 MB 12.6 MB/s eta 0:00:01\n",
      "   ------------------------------------ --- 14.6/15.8 MB 12.6 MB/s eta 0:00:01\n",
      "   ------------------------------------- -- 15.0/15.8 MB 12.6 MB/s eta 0:00:01\n",
      "   ---------------------------------------  15.4/15.8 MB 12.4 MB/s eta 0:00:01\n",
      "   ---------------------------------------  15.4/15.8 MB 12.4 MB/s eta 0:00:01\n",
      "   ---------------------------------------  15.8/15.8 MB 11.9 MB/s eta 0:00:01\n",
      "   ---------------------------------------  15.8/15.8 MB 11.9 MB/s eta 0:00:01\n",
      "   ---------------------------------------  15.8/15.8 MB 11.9 MB/s eta 0:00:01\n",
      "   ---------------------------------------  15.8/15.8 MB 11.9 MB/s eta 0:00:01\n",
      "   ---------------------------------------- 15.8/15.8 MB 9.8 MB/s eta 0:00:00\n",
      "Downloading pytz-2024.1-py2.py3-none-any.whl (505 kB)\n",
      "   ---------------------------------------- 0.0/505.5 kB ? eta -:--:--\n",
      "   ------------------------------ -------- 399.4/505.5 kB 12.6 MB/s eta 0:00:01\n",
      "   --------------------------------------  501.8/505.5 kB 10.5 MB/s eta 0:00:01\n",
      "   ---------------------------------------- 505.5/505.5 kB 6.3 MB/s eta 0:00:00\n",
      "Downloading tzdata-2024.1-py2.py3-none-any.whl (345 kB)\n",
      "   ---------------------------------------- 0.0/345.4 kB ? eta -:--:--\n",
      "   --------------------------------------  337.9/345.4 kB 10.2 MB/s eta 0:00:01\n",
      "   ---------------------------------------- 345.4/345.4 kB 5.3 MB/s eta 0:00:00\n",
      "Installing collected packages: pytz, tzdata, numpy, pandas\n",
      "Successfully installed numpy-1.26.4 pandas-2.2.1 pytz-2024.1 tzdata-2024.1\n",
      "Note: you may need to restart the kernel to use updated packages.\n"
     ]
    }
   ],
   "source": [
    "%pip install pandas"
   ]
  },
  {
   "cell_type": "code",
   "execution_count": null,
   "id": "09157079",
   "metadata": {},
   "outputs": [],
   "source": [
    "import pandas as pd\n",
    "import domojupyter as dj\n",
    "\n",
    "pd.DataFrame(res_ls)\n",
    "dj.write_dataframe(df, \"YourInitials_MONIT_DomoAccount\")"
   ]
  }
 ],
 "metadata": {
  "kernelspec": {
   "display_name": ".venv",
   "language": "python",
   "name": "python3"
  },
  "language_info": {
   "codemirror_mode": {
    "name": "ipython",
    "version": 3
   },
   "file_extension": ".py",
   "mimetype": "text/x-python",
   "name": "python",
   "nbconvert_exporter": "python",
   "pygments_lexer": "ipython3",
   "version": "3.10.9"
  }
 },
 "nbformat": 4,
 "nbformat_minor": 5
}
