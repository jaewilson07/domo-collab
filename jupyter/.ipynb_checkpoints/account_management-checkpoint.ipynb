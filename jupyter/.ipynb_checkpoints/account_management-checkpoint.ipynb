{
 "cells": [
  {
   "cell_type": "code",
   "execution_count": 1,
   "id": "8f5fbe85-f42a-4c25-982f-9bb89ae88327",
   "metadata": {
    "tags": []
   },
   "outputs": [],
   "source": [
    "# %pip install domolibrary --upgrade\n",
    "# %pip install domolibrary_execution --upgrade"
   ]
  },
  {
   "cell_type": "markdown",
   "id": "5c5f5c51-c91d-460e-a1bc-40e6981bccc6",
   "metadata": {},
   "source": [
    "## WARNING\n",
    "-- as of 2/12/2025 - the test_full_auth workflow does not support instances MFA\n"
   ]
  },
  {
   "cell_type": "code",
   "execution_count": 2,
   "id": "a90f1fcd-a600-43ec-8a4a-28685d27af1f",
   "metadata": {
    "tags": []
   },
   "outputs": [
    {
     "name": "stdout",
     "output_type": "stream",
     "text": [
      "🎉 full_auth token retrieved from domo-community ⚙️\n"
     ]
    }
   ],
   "source": [
    "import domojupyter as dj\n",
    "import domolibrary_execution.utils.domojupyter as dxdj\n",
    "import domolibrary.client.DomoAuth as dmda\n",
    "\n",
    "config_auth = await dxdj.generate_domo_auth('domo-community', domojupyter_fn = dj)\n",
    "# await config_auth.who_am_i()\n"
   ]
  },
  {
   "cell_type": "code",
   "execution_count": 3,
   "id": "c039048e-f3c0-4bcf-8a4c-da1a54cf7d0c",
   "metadata": {
    "tags": []
   },
   "outputs": [
    {
     "data": {
      "text/plain": [
       "DomoJupyterAccount(account_id=146, alias='sdk_datacrew-space', is_exists=True, domo_account=DomoAccount_Credential(id=146, name='sdk_datacrew-space', data_provider_type='domo-access-token', created_dt=datetime.datetime(2025, 2, 11, 21, 47, 59), modified_dt=datetime.datetime(2025, 2, 11, 21, 49, 20), owners=None, is_admin_summary=False, target_instance=None, is_valid_full_auth=None, is_valid_token_auth=None, target_auth=None, target_user=None))"
      ]
     },
     "execution_count": 3,
     "metadata": {},
     "output_type": "execute_result"
    }
   ],
   "source": [
    "import domolibrary.classes.DomoJupyter as dmdj\n",
    "\n",
    "workspace_id = '70afbd1d-e85c-4846-8a0e-a46987011676'\n",
    "\n",
    "async def get_workspace_access_token_accounts(workspace_id, auth):\n",
    "    domo_workspace = await dmdj.DomoJupyterWorkspace.get_by_id(workspace_id, auth = auth)\n",
    "        \n",
    "    return [dja for dja in domo_workspace.account_configuration if dja.domo_account and dja.domo_account.data_provider_type == 'domo-access-token']\n",
    "   \n",
    "    \n",
    "workspace_access_token_accounts = await get_workspace_access_token_accounts(workspace_id=workspace_id, auth = config_auth)\n",
    "test_dja = workspace_access_token_accounts[-1]\n",
    "# workspace_access_token_accounts[0:5]\n",
    "test_dja"
   ]
  },
  {
   "cell_type": "code",
   "execution_count": 4,
   "id": "18b5f450-3fe0-4dd0-ab3a-a1ae89a99e20",
   "metadata": {
    "tags": []
   },
   "outputs": [
    {
     "data": {
      "text/plain": [
       "DomoJupyterAccount(account_id=146, alias='sdk_datacrew-space', is_exists=True, domo_account=DomoAccount_Credential(id=146, name='sdk_datacrew-space', data_provider_type='domo-access-token', created_dt=datetime.datetime(2025, 2, 11, 21, 47, 59), modified_dt=datetime.datetime(2025, 2, 11, 21, 49, 20), owners=None, is_admin_summary=False, target_instance='datacrew-space', is_valid_full_auth=None, is_valid_token_auth=None, target_auth=None, target_user=None))"
      ]
     },
     "execution_count": 4,
     "metadata": {},
     "output_type": "execute_result"
    }
   ],
   "source": [
    "from typing import Callable\n",
    "import domolibrary_execution.client.ExecutionError as ExecutionError\n",
    "\n",
    "def extract_domo_instance_from_account_name(account_name):\n",
    "    if not account_name.startswith('sdk_'):\n",
    "        raise ExecutionError('account name does not start with sdk_')\n",
    "    \n",
    "    return account_name.split('_')[-1]\n",
    "    \n",
    "\n",
    "def populate_cred_config(dja : dmdj.DomoJupyterAccount,\n",
    "                         domojupyter_fn : Callable\n",
    "):\n",
    "    dja.read_creds(domojupyter_fn = domojupyter_fn)\n",
    "    \n",
    "    dja.domo_account.target_instance = extract_domo_instance_from_account_name(dja.domo_account.name)\n",
    "    \n",
    "    return dja\n",
    "\n",
    "populate_cred_config(dja = test_dja,\n",
    "                     domojupyter_fn = dj)"
   ]
  },
  {
   "cell_type": "code",
   "execution_count": 5,
   "id": "d2b4dd4a-b3b2-40eb-b0de-d45a7cc48293",
   "metadata": {},
   "outputs": [
    {
     "name": "stdout",
     "output_type": "stream",
     "text": [
      "🎉 token_auth token retrieved from datacrew-space ⚙️\n",
      "🎉 full_auth token retrieved from datacrew-space ⚙️\n"
     ]
    },
    {
     "data": {
      "text/plain": [
       "'pasword reset - sdk_datacrew-space - sdk_datacrew-space'"
      ]
     },
     "execution_count": 5,
     "metadata": {},
     "output_type": "execute_result"
    }
   ],
   "source": [
    "import domolibrary_extensions.utils.xkcd_password as xkcd\n",
    "import domolibrary.client.DomoError as dmde\n",
    "\n",
    "def generate_new_password():\n",
    "    return xkcd.generate_domo_password(process_fn=xkcd.process_domo_password_fn, delimiter=\"-\")\n",
    "\n",
    "async def fix_password(\n",
    "    domo_account,\n",
    "    new_password: str = None,\n",
    "    is_force_password_required: bool = False,\n",
    "\n",
    "    backup_auth: dmda.DomoAuth = None,\n",
    "    is_test_auth : bool = True,\n",
    "    is_update_account: bool = True,\n",
    "    \n",
    "    debug_api: bool = False,\n",
    "    debug_prn: bool = False,\n",
    "    **kwargs,\n",
    "):\n",
    "    if is_test_auth:\n",
    "        try:\n",
    "            await domo_account.test_auths(debug_api = True)\n",
    "        except dmde.DomoError as e:\n",
    "            print(e)\n",
    "\n",
    "    if domo_account.is_valid_full_auth:\n",
    "        return f\"No Action - {domo_account.name} username / password creds are valid\"\n",
    "\n",
    "    user_email = domo_account.Config.username\n",
    "\n",
    "    if is_force_password_required and not user_email:\n",
    "        raise dxde.ExecutionException(\n",
    "            f\"no username for {domo_account.id} - {domo_account.name}\"\n",
    "        )\n",
    "    \n",
    "    if not domo_account.target_auth:\n",
    "        await domo_account.test_auths()\n",
    "        \n",
    "    if not domo_account.target_user:\n",
    "        await domo_account.get_target_user()\n",
    "    \n",
    "    message = f\"pasword reset - {domo_account.name} - {domo_account.target_user.display_name}\"\n",
    "\n",
    "    if debug_prn:\n",
    "        print(message)\n",
    "\n",
    "    await domo_account.update_target_user_password(\n",
    "        new_password=new_password or generate_new_password(),\n",
    "        is_test_auths=False,\n",
    "        is_update_account=is_update_account,\n",
    "        backup_auth=backup_auth,\n",
    "        debug_api=debug_api,\n",
    "    )\n",
    "    \n",
    "    return message\n",
    "\n",
    "await fix_password(\n",
    "    domo_account = test_dja.domo_account,\n",
    "    debug_api = False,\n",
    "    is_test_auth = False\n",
    ")"
   ]
  },
  {
   "cell_type": "code",
   "execution_count": 6,
   "id": "23d39eb2-5f1f-43ef-a7eb-93c349b22d5c",
   "metadata": {
    "tags": []
   },
   "outputs": [
    {
     "name": "stdout",
     "output_type": "stream",
     "text": [
      "🎉 token_auth token retrieved from datacrew-space ⚙️\n",
      "🎉 full_auth token retrieved from datacrew-space ⚙️\n"
     ]
    },
    {
     "data": {
      "text/plain": [
       "'No Action - sdk_datacrew-space - valid token not expiring'"
      ]
     },
     "execution_count": 6,
     "metadata": {},
     "output_type": "execute_result"
    }
   ],
   "source": [
    "import asyncio\n",
    "from typing import List\n",
    "import domolibrary.classes.DomoAccount as dmac\n",
    "import domolibrary.classes.DomoAccessToken as dmat\n",
    "\n",
    "async def fix_token(\n",
    "    domo_account: dmac.DomoAccount_Credential,\n",
    "    \n",
    "    token_name : str = None,\n",
    "    is_force_token_required : bool = False,\n",
    "    token_update_threshold: int = 7 ,\n",
    "    domo_access_tokens : List[dmat.DomoAccessToken] = None,\n",
    "    \n",
    "    backup_auth: dmda.DomoAuth = None,\n",
    "    is_test_auth : bool = True,\n",
    "    is_update_account: bool = True,\n",
    "    debug_api: bool = False,\n",
    "    debug_prn: bool = False,\n",
    "    \n",
    "    **kwargs,\n",
    "):\n",
    "    if is_test_auth:\n",
    "        try:\n",
    "            await domo_account.test_auths()\n",
    "        except dmde.DomoError as e:\n",
    "            print(e)\n",
    "                     \n",
    "    '''\n",
    "    retrieve the domoAccessToken.\n",
    "    cannot retrieve via target_user b/c not all access_token_accounts will have an email\n",
    "    '''\n",
    "    domo_access_tokens = domo_access_tokens or (\n",
    "        await dmat.DomoAccessTokens(auth = domo_account.target_auth).get()\n",
    "    )\n",
    "    token_name = token_name or domo_account.name\n",
    "    dat = next((dat for dat in domo_access_tokens if dat.name == token_name), None)\n",
    "    \n",
    "    \n",
    "    # is valid and not expiring\n",
    "    if domo_account.is_valid_token_auth and dat and dat.days_till_expiration > token_update_threshold:\n",
    "        message = f'No Action - {dat.name} - valid token not expiring'\n",
    "        if debug_prn:\n",
    "            print(message)\n",
    "        \n",
    "        return message\n",
    "\n",
    "    # dat (expiring or not valid)\n",
    "    if dat:\n",
    "        message = f'Regenerate - {dat.name} token - token expiring or invalid'\n",
    "        \n",
    "        if debug_prn:\n",
    "            print(message)\n",
    "            \n",
    "        await dat.regenerate(debug_api = debug_api)\n",
    "        return message\n",
    "    \n",
    "    # dat not required\n",
    "    if not is_force_token_required and not domo_account.Config.domo_access_token:\n",
    "        message = f\"No Action {domo_account.name}- token_required is False\"\n",
    "        \n",
    "        if debug_prn:\n",
    "            print(message)\n",
    "            \n",
    "        return message \n",
    "    \n",
    "    # no dat\n",
    "    if not domo_account.target_user:\n",
    "        await domo_account.get_target_user()\n",
    "    \n",
    "    message = f'Generate new access_token for {domo_account.name}'\n",
    "    \n",
    "    if debug_prn:\n",
    "        print(message)\n",
    "            \n",
    "    await domo_account.reset_access_token(\n",
    "        token_name = token_name,\n",
    "        debug_api = debug_api,\n",
    "        duration_in_days = 90\n",
    "    )\n",
    "    \n",
    "    return message\n",
    "\n",
    "\n",
    "await fix_token(\n",
    "    domo_account = test_dja.domo_account,\n",
    ")\n"
   ]
  },
  {
   "cell_type": "code",
   "execution_count": 7,
   "id": "2532555f-b9ba-435e-9352-a465a28b2a94",
   "metadata": {
    "tags": []
   },
   "outputs": [
    {
     "name": "stdout",
     "output_type": "stream",
     "text": [
      "🎉 token_auth token retrieved from datacrew-space ⚙️\n",
      "🎉 full_auth token retrieved from datacrew-space ⚙️\n",
      "No Action - sdk_datacrew-space - valid token not expiring\n",
      "🎉 token_auth token retrieved from datacrew-space ⚙️\n",
      "🎉 full_auth token retrieved from datacrew-space ⚙️\n"
     ]
    },
    {
     "data": {
      "text/plain": [
       "{'account_id': 146,\n",
       " 'alias': 'sdk_datacrew-space',\n",
       " 'target_instance': 'datacrew-space',\n",
       " 'is_valid_full_auth': True,\n",
       " 'is_valid_token_auth': True}"
      ]
     },
     "execution_count": 7,
     "metadata": {},
     "output_type": "execute_result"
    }
   ],
   "source": [
    "\n",
    "async def test_and_fix_domo_account(\n",
    "    dja: dmdj.DomoJupyterAccount,\n",
    "    backup_auth: dmda.DomoAuth = None,\n",
    "    \n",
    "    new_password: str = None,\n",
    "    is_force_password_required: bool = False,\n",
    "\n",
    "    token_name : str = None,\n",
    "    is_force_token_required : bool = False,\n",
    "    token_update_threshold: int = 7 ,\n",
    "    domo_access_tokens : List[dmat.DomoAccessToken] = None,\n",
    "    \n",
    "    debug_api: bool = False,\n",
    "    debug_prn: bool = False,\n",
    "\n",
    "):\n",
    "    domo_account = dja.domo_account\n",
    "\n",
    "    await domo_account.test_auths()\n",
    "    \n",
    "    repair_functions = [fix_password, fix_token]\n",
    "\n",
    "    for fn in repair_functions:\n",
    "        await fn(\n",
    "            domo_account=domo_account,\n",
    "            backup_auth=backup_auth,\n",
    "            is_test_auth = False,\n",
    "            new_password = new_password,\n",
    "            is_force_password_required=is_force_password_required,\n",
    "            token_name = token_name,\n",
    "            is_force_token_required = is_force_token_required,\n",
    "            token_update_threshold = token_update_threshold,\n",
    "            domo_access_tokens = domo_access_tokens,\n",
    "            debug_api = debug_api,\n",
    "            debug_prn = debug_prn\n",
    "        )\n",
    "    \n",
    "    await domo_account.update_config(debug_api = debug_api)\n",
    "    \n",
    "    await asyncio.sleep(5)\n",
    "    return await domo_account.test_auths()\n",
    "\n",
    "\n",
    "await test_and_fix_domo_account(dja=test_dja, debug_prn = True)\n"
   ]
  },
  {
   "cell_type": "markdown",
   "id": "152684cf-ace0-425f-90a7-941fdc2649a7",
   "metadata": {
    "tags": []
   },
   "source": [
    "## Deploy Remote Instance\n"
   ]
  },
  {
   "cell_type": "code",
   "execution_count": 33,
   "id": "d3879507-36d3-40e7-9fa2-dddbe6faf586",
   "metadata": {
    "tags": []
   },
   "outputs": [
    {
     "name": "stdout",
     "output_type": "stream",
     "text": [
      "🎉 token_auth token retrieved from datacrew-space ⚙️\n"
     ]
    }
   ],
   "source": [
    "test_remote_auth = await dxdj.generate_token_auth('datacrew-space', domojupyter_fn = dj)"
   ]
  },
  {
   "cell_type": "code",
   "execution_count": 37,
   "id": "29f6a082-80c6-45a1-9ea5-04e5b4ce2923",
   "metadata": {
    "tags": []
   },
   "outputs": [
    {
     "data": {
      "text/plain": [
       "DomoAccount(id=10, name='sdk_datacrew-space', data_provider_type='domo-access-token', created_dt=datetime.datetime(2025, 2, 12, 22, 55, 37), modified_dt=datetime.datetime(2025, 2, 13, 0, 22, 45), owners=[DictDot(id='402376113', type='USER', displayName='sdk_datacrew-space')], is_admin_summary=True)"
      ]
     },
     "execution_count": 37,
     "metadata": {},
     "output_type": "execute_result"
    }
   ],
   "source": [
    "import domolibrary.classes.DomoGroup as dmdg\n",
    "import domolibrary.classes.DomoUser as dmdu\n",
    "\n",
    "async def generate_domo_group(auth : dmda.DomoAuth,\n",
    "                              group_name : str,\n",
    "                              owner_user_email_ls: List[str] = None,\n",
    "                              owner_group_name_ls : List[str] = None,\n",
    "                               debug_api : bool = False\n",
    "                             ):\n",
    "    \n",
    "    domo_group = await dmdg.DomoGroups(auth = auth).upsert(\n",
    "        group_name = group_name,\n",
    "        group_type = dmdg.GroupType_Enum.CLOSED.value,\n",
    "        description = \"generated for managing account access\",\n",
    "        debug_api = debug_api,\n",
    "    )\n",
    "\n",
    "    group_owners = []\n",
    "    domo_users = []\n",
    "    \n",
    "    if owner_user_email_ls:\n",
    "        domo_users = await dmdu.DomoUsers(auth = auth).search_by_email(owner_user_email_ls, \n",
    "                                                                       only_allow_one = False,\n",
    "                                                                       debug_api = debug_api)\n",
    "        group_owners += domo_users\n",
    "        \n",
    "    if owner_group_name_ls:\n",
    "        group_owners += await dmdg.DomoGroups(auth = auth).search_by_name(\n",
    "            group_name = owner_group_name_ls,\n",
    "            only_allow_one = False,\n",
    "            debug_api = debug_api\n",
    "        )\n",
    "        \n",
    "    await domo_group.Membership.add_owners(group_owners, debug_api = debug_api)\n",
    "    \n",
    "    await domo_group.Membership.add_members(domo_users, debug_api  = debug_api)\n",
    "    \n",
    "    return domo_group\n",
    "    \n",
    "\n",
    "async def deploy_account_to_remote_instance(remote_auth : dmda.DomoAuth, \n",
    "                                            account_name : str, \n",
    "                                            account_config : dmac.AccountConfig,\n",
    "                                            debug_api : bool = False,\n",
    "                                            share_default_group : dmdg.DomoGroup = None,\n",
    "                                            owner_group_name_ls : List[str] = None,\n",
    "                                            owner_user_email_ls : List[str] = None\n",
    ") :\n",
    "    \n",
    "    \n",
    "    remote_account = await dmac.DomoAccounts.upsert_account(auth = remote_auth,\n",
    "                                                            account_name = account_name,\n",
    "                                                            account_config = account_config,\n",
    "                                                            debug_api = debug_api,\n",
    "                                                           )\n",
    "    \n",
    "    share_default_group = await generate_domo_group(\n",
    "        auth = remote_auth,\n",
    "        group_name = account_name,\n",
    "        owner_group_name_ls = owner_group_name_ls,\n",
    "        owner_user_email_ls = owner_user_email_ls\n",
    "    )\n",
    "    \n",
    "    await remote_account.Access.upsert_share(\n",
    "        domo_group = share_default_group,\n",
    "        debug_api = debug_api\n",
    "    )\n",
    "        \n",
    "    return remote_account\n",
    "\n",
    "\n",
    "await deploy_account_to_remote_instance(\n",
    "    remote_auth = test_remote_auth,\n",
    "    account_name = test_dja.domo_account.name,\n",
    "    account_config = test_dja.domo_account.Config,\n",
    ")"
   ]
  },
  {
   "cell_type": "code",
   "execution_count": null,
   "id": "f6871540-93b8-44e5-a39a-653c739f58cc",
   "metadata": {},
   "outputs": [],
   "source": [
    "test_deploy = [\n",
    "    {\n",
    "        \"domo_instance\" : \"datacrew-space\",\n",
    "        \"owner_group_name\" : \n",
    "        \n",
    "    }"
   ]
  },
  {
   "cell_type": "code",
   "execution_count": null,
   "id": "3155f3e8-79a6-4920-b931-86f79ef72b16",
   "metadata": {},
   "outputs": [],
   "source": [
    "@dataclass\n",
    "class Config:\n",
    "    "
   ]
  }
 ],
 "metadata": {
  "kernelspec": {
   "display_name": "Python",
   "language": "python",
   "name": "python_3_9"
  },
  "language_info": {
   "codemirror_mode": {
    "name": "ipython",
    "version": 3
   },
   "file_extension": ".py",
   "mimetype": "text/x-python",
   "name": "python",
   "nbconvert_exporter": "python",
   "pygments_lexer": "ipython3",
   "version": "3.9.13"
  }
 },
 "nbformat": 4,
 "nbformat_minor": 5
}
