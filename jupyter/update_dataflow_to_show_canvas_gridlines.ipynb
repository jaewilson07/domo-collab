{
 "cells": [
  {
   "cell_type": "code",
   "execution_count": 1,
   "id": "a4abf7ff-bd55-4ddd-833f-844afbabbec5",
   "metadata": {
    "tags": []
   },
   "outputs": [],
   "source": [
    "# %pip install --upgrade domolibrary"
   ]
  },
  {
   "cell_type": "code",
   "execution_count": 22,
   "id": "388a50db-4ec6-4bb4-888e-d853f37ba2a8",
   "metadata": {
    "tags": []
   },
   "outputs": [],
   "source": [
    "import domolibrary.client.DomoAuth as dmda\n",
    "import domojupyter as dj\n",
    "\n",
    "\n",
    "async def generate_domo_auth(account_name : str, \n",
    "                             domo_instance : str,\n",
    "                             debug_prn: bool = False) -> dmda.DomoAuth:\n",
    "    \n",
    "    account_properties = dj.get_account_property_keys(account_name)\n",
    "    if debug_prn:\n",
    "        print(account_properties)\n",
    "    \n",
    "    creds = {prop : dj.get_account_property_value(account_name, prop) for prop in account_properties}\n",
    "\n",
    "    auth = dmda.DomoTokenAuth(domo_access_token = creds['domoAccessToken'],\n",
    "                   domo_instance = domo_instance)\n",
    "\n",
    "    if debug_prn:\n",
    "        print((await auth.who_am_i()).response)\n",
    "    \n",
    "    return auth\n",
    "\n",
    "auth = await generate_domo_auth( 'sdk_domo-community', 'domo_community', debug_prn = False)\n",
    "\n",
    "USER_ID = 1893952720"
   ]
  },
  {
   "cell_type": "code",
   "execution_count": 38,
   "id": "3f72b9c2-715d-4941-9705-6c6fe3d4b71f",
   "metadata": {
    "tags": []
   },
   "outputs": [
    {
     "data": {
      "text/plain": [
       "DomoDataflow(id=131, name='BeastModesGovernance_01_AccumulateHistory', owner=1893952720, description='This JSON describes a Domo ETL dataflow named \"BeastModesGovernance_01_AccumulateHistory\" with ID 131. The dataflow consists of three actions:\\n\\n1. LoadFromVault:\\n   - Action ID: 40554fc4-428a-4117-8820-b3f4f4927021\\n   - Name: \"Governance_Beast Modes\"\\n   - Loads data from a Domo Vault with data source ID b7998b45-ccb5-4183-830e-8c2bdd489fd0\\n   - Does not execute flow when updated\\n   - Does not truncate text columns or rows\\n   - Does not only load new versions\\n\\n2. ExpressionEvaluator:\\n   - Action ID: 05082103-d42e-49ab-a66e-bd31b4c0e3df\\n   - Name: \"Add Formula\"\\n   - Depends on the LoadFromVault action\\n   - Adds a new column named \"report_date\" with a fixed value of \"2023-03-06\"\\n\\n3. PublishToVault:\\n   - Action ID: fe77761b-eb11-4491-b19c-ebb56d009b76\\n   - Name: \"Governance_BeastMode_historical\"\\n   - Depends on the ExpressionEvaluator action\\n   - Publishes data to a Domo Vault with GUID e6559952-30ce-41a1-b831-f29ebe95d6e5\\n   - Uses APPEND as the version chain type\\n   - Partitions data using the \"report_date\" column\\n   - Uses the dataflow schema as the schema source\\n   - Enables partitioning\\n\\nThe dataflow loads data from a source, adds a fixed date column, and then appends the result to a historical dataset in the Domo Vault, using the added date column for partitioning. This process allows for accumulating historical data over time, with each run adding a new partition based on the specified report date.\\n autogen via llm - 2025-02-09 04:23', tags=None, actions=[DomoDataflow_Action(id='40554fc4-428a-4117-8820-b3f4f4927021', type='LoadFromVault', name='Governance_Beast Modes', datasource_id='b7998b45-ccb5-4183-830e-8c2bdd489fd0', sql=None, depends_on=None, parent_actions=None), DomoDataflow_Action(id='05082103-d42e-49ab-a66e-bd31b4c0e3df', type='ExpressionEvaluator', name='Add Formula', datasource_id=None, sql=None, depends_on=['40554fc4-428a-4117-8820-b3f4f4927021'], parent_actions=[DomoDataflow_Action(id='40554fc4-428a-4117-8820-b3f4f4927021', type='LoadFromVault', name='Governance_Beast Modes', datasource_id='b7998b45-ccb5-4183-830e-8c2bdd489fd0', sql=None, depends_on=None, parent_actions=None)]), DomoDataflow_Action(id='fe77761b-eb11-4491-b19c-ebb56d009b76', type='PublishToVault', name='Governance_BeastMode_historical', datasource_id='e6559952-30ce-41a1-b831-f29ebe95d6e5', sql=None, depends_on=['05082103-d42e-49ab-a66e-bd31b4c0e3df'], parent_actions=[DomoDataflow_Action(id='05082103-d42e-49ab-a66e-bd31b4c0e3df', type='ExpressionEvaluator', name='Add Formula', datasource_id=None, sql=None, depends_on=['40554fc4-428a-4117-8820-b3f4f4927021'], parent_actions=[DomoDataflow_Action(id='40554fc4-428a-4117-8820-b3f4f4927021', type='LoadFromVault', name='Governance_Beast Modes', datasource_id='b7998b45-ccb5-4183-830e-8c2bdd489fd0', sql=None, depends_on=None, parent_actions=None)])])], version_id=None, version_number=None, versions=None, History=DomoDataflow_History(execution_history=None), Lineage=DomoLineage(parent_type='DATAFLOW', parent_id=131))"
      ]
     },
     "execution_count": 38,
     "metadata": {},
     "output_type": "execute_result"
    }
   ],
   "source": [
    "import domolibrary.classes.DomoDataflow as dmdf\n",
    "\n",
    "async def get_filtered_dataflows(auth: dmda.DomoAuth, user_id : int):\n",
    "    domo_dataflows = await dmdf.DomoDataflows(auth = auth).get()\n",
    "    \n",
    "    return [df for df in domo_dataflows if int(df.owner) == user_id]\n",
    "\n",
    "filtered_dataflows = await get_filtered_dataflows(auth = auth, user_id = USER_ID)\n",
    "filtered_dataflows[0]"
   ]
  },
  {
   "cell_type": "code",
   "execution_count": 44,
   "id": "92994395-a42e-46e6-9687-b2b429f22c0d",
   "metadata": {
    "tags": []
   },
   "outputs": [
    {
     "data": {
      "text/plain": [
       "DomoDataflow(id=131, name='BeastModesGovernance_01_AccumulateHistory', owner=1893952720, description='This JSON describes a Domo ETL dataflow named \"BeastModesGovernance_01_AccumulateHistory\" with ID 131. The dataflow consists of three actions:\\n\\n1. LoadFromVault:\\n   - Action ID: 40554fc4-428a-4117-8820-b3f4f4927021\\n   - Name: \"Governance_Beast Modes\"\\n   - Loads data from a Domo Vault with data source ID b7998b45-ccb5-4183-830e-8c2bdd489fd0\\n   - Does not execute flow when updated\\n   - Does not truncate text columns or rows\\n   - Does not only load new versions\\n\\n2. ExpressionEvaluator:\\n   - Action ID: 05082103-d42e-49ab-a66e-bd31b4c0e3df\\n   - Name: \"Add Formula\"\\n   - Depends on the LoadFromVault action\\n   - Adds a new column named \"report_date\" with a fixed value of \"2023-03-06\"\\n\\n3. PublishToVault:\\n   - Action ID: fe77761b-eb11-4491-b19c-ebb56d009b76\\n   - Name: \"Governance_BeastMode_historical\"\\n   - Depends on the ExpressionEvaluator action\\n   - Publishes data to a Domo Vault with GUID e6559952-30ce-41a1-b831-f29ebe95d6e5\\n   - Uses APPEND as the version chain type\\n   - Partitions data using the \"report_date\" column\\n   - Uses the dataflow schema as the schema source\\n   - Enables partitioning\\n\\nThe dataflow loads data from a source, adds a fixed date column, and then appends the result to a historical dataset in the Domo Vault, using the added date column for partitioning. This process allows for accumulating historical data over time, with each run adding a new partition based on the specified report date.\\n autogen via llm - 2025-02-09 04:23', tags=None, actions=[DomoDataflow_Action(id='40554fc4-428a-4117-8820-b3f4f4927021', type='LoadFromVault', name='Governance_Beast Modes', datasource_id='b7998b45-ccb5-4183-830e-8c2bdd489fd0', sql=None, depends_on=None, parent_actions=None), DomoDataflow_Action(id='05082103-d42e-49ab-a66e-bd31b4c0e3df', type='ExpressionEvaluator', name='Add Formula', datasource_id=None, sql=None, depends_on=['40554fc4-428a-4117-8820-b3f4f4927021'], parent_actions=[DomoDataflow_Action(id='40554fc4-428a-4117-8820-b3f4f4927021', type='LoadFromVault', name='Governance_Beast Modes', datasource_id='b7998b45-ccb5-4183-830e-8c2bdd489fd0', sql=None, depends_on=None, parent_actions=None)]), DomoDataflow_Action(id='fe77761b-eb11-4491-b19c-ebb56d009b76', type='PublishToVault', name='Governance_BeastMode_historical', datasource_id='e6559952-30ce-41a1-b831-f29ebe95d6e5', sql=None, depends_on=['05082103-d42e-49ab-a66e-bd31b4c0e3df'], parent_actions=[DomoDataflow_Action(id='05082103-d42e-49ab-a66e-bd31b4c0e3df', type='ExpressionEvaluator', name='Add Formula', datasource_id=None, sql=None, depends_on=['40554fc4-428a-4117-8820-b3f4f4927021'], parent_actions=[DomoDataflow_Action(id='40554fc4-428a-4117-8820-b3f4f4927021', type='LoadFromVault', name='Governance_Beast Modes', datasource_id='b7998b45-ccb5-4183-830e-8c2bdd489fd0', sql=None, depends_on=None, parent_actions=None)])])], version_id=None, version_number=None, versions=None, History=DomoDataflow_History(execution_history=None), Lineage=DomoLineage(parent_type='DATAFLOW', parent_id=131))"
      ]
     },
     "execution_count": 44,
     "metadata": {},
     "output_type": "execute_result"
    }
   ],
   "source": [
    "from enum import Enum\n",
    "\n",
    "class ETL_BackgroundVariant(Enum):\n",
    "    NONE = \"None\"\n",
    "    DOT = \"Dot\"\n",
    "    LINES = \"Lines\"\n",
    "    CROSS = \"Cross\"\n",
    "    \n",
    "    \n",
    "async def process_dataflow(domo_dataflow: dmdf.DomoDataflow, \n",
    "                           background_variant : ETL_BackgroundVariant = ETL_BackgroundVariant.NONE\n",
    "):\n",
    "    dataflow_definition = (await domo_dataflow.get_definition(return_raw = True)).response\n",
    "    \n",
    "    # return dataflow_definition\n",
    "    \n",
    "    try:\n",
    "        dataflow_definition['gui']['canvases']['default']['canvasSettings'].update(\n",
    "            {\"coraserGrid\": True,\n",
    "             \"backgroundVariant\": background_variant.value}\n",
    "        )    \n",
    "\n",
    "        return await domo_dataflow.update_dataflow_definition(dataflow_definition, debug_api = False)\n",
    "    \n",
    "    except KeyError as e:\n",
    "        return domo_dataflow\n",
    "    \n",
    "    except dmde.DomoError as e:\n",
    "        print(e)\n",
    "        \n",
    "await process_dataflow(filtered_dataflows[0], background_variant = ETL_BackgroundVariant.CROSS)\n"
   ]
  },
  {
   "cell_type": "code",
   "execution_count": 45,
   "id": "8c62c71e-565d-4f8a-bc97-5035f0072f35",
   "metadata": {
    "tags": []
   },
   "outputs": [],
   "source": [
    "import domolibrary.utils.chunk_execution as dmce\n",
    "\n",
    "async def update_all_dataflows(auth: dmda.DomoAuth, user_id : int ):\n",
    "    domo_dataflows = await get_filtered_dataflows(auth = auth, user_id = user_id)\n",
    "    \n",
    "    return await dmce.gather_with_concurrency(*[process_dataflow(domo_dataflow = df, \n",
    "                                                                 background_variant = ETL_BackgroundVariant.DOT) for df in domo_dataflows], n =10)\n",
    "\n",
    "res = await update_all_dataflows(auth = auth, user_id = USER_ID)"
   ]
  }
 ],
 "metadata": {
  "kernelspec": {
   "display_name": "Python",
   "language": "python",
   "name": "python_3_9"
  },
  "language_info": {
   "codemirror_mode": {
    "name": "ipython",
    "version": 3
   },
   "file_extension": ".py",
   "mimetype": "text/x-python",
   "name": "python",
   "nbconvert_exporter": "python",
   "pygments_lexer": "ipython3",
   "version": "3.9.13"
  }
 },
 "nbformat": 4,
 "nbformat_minor": 5
}
