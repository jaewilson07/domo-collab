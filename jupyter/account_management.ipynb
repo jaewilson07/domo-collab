{
 "cells": [
  {
   "cell_type": "code",
   "execution_count": 1,
   "id": "8f5fbe85-f42a-4c25-982f-9bb89ae88327",
   "metadata": {
    "tags": []
   },
   "outputs": [],
   "source": [
    "# %pip install domolibrary --upgrade\n",
    "# %pip install domolibrary_execution --upgrade"
   ]
  },
  {
   "cell_type": "markdown",
   "id": "5c5f5c51-c91d-460e-a1bc-40e6981bccc6",
   "metadata": {},
   "source": [
    "## WARNING\n",
    "-- as of 2/12/2025 - the test_full_auth workflow does not support instances MFA\n"
   ]
  },
  {
   "cell_type": "code",
   "execution_count": 32,
   "id": "a90f1fcd-a600-43ec-8a4a-28685d27af1f",
   "metadata": {
    "tags": []
   },
   "outputs": [
    {
     "name": "stdout",
     "output_type": "stream",
     "text": [
      "🎉 full_auth token retrieved from domo-community ⚙️\n"
     ]
    }
   ],
   "source": [
    "import domojupyter as dj\n",
    "import domolibrary_execution.utils.domojupyter as dxdj\n",
    "import domolibrary.client.DomoAuth as dmda\n",
    "\n",
    "config_auth = await dxdj.generate_domo_auth('domo-community', domojupyter_fn = dj)\n",
    "# await config_auth.who_am_i()\n"
   ]
  },
  {
   "cell_type": "code",
   "execution_count": 35,
   "id": "c039048e-f3c0-4bcf-8a4c-da1a54cf7d0c",
   "metadata": {
    "tags": []
   },
   "outputs": [
    {
     "data": {
      "text/plain": [
       "DomoJupyterAccount(account_id=146, alias='sdk_datacrew-space', is_exists=True, domo_account=DomoAccount_Credential(id=146, name='sdk_datacrew-space', data_provider_type='domo-access-token', created_dt=datetime.datetime(2025, 2, 11, 21, 47, 59), modified_dt=datetime.datetime(2025, 2, 11, 21, 49, 20), owners=None, is_admin_summary=False, target_instance=None, is_valid_full_auth=None, is_valid_token_auth=None, target_auth=None, target_user=None))"
      ]
     },
     "execution_count": 35,
     "metadata": {},
     "output_type": "execute_result"
    }
   ],
   "source": [
    "import domolibrary.classes.DomoJupyter as dmdj\n",
    "\n",
    "workspace_id = '70afbd1d-e85c-4846-8a0e-a46987011676'\n",
    "\n",
    "async def get_workspace_access_token_accounts(workspace_id, auth):\n",
    "    domo_workspace = await dmdj.DomoJupyterWorkspace.get_by_id(workspace_id, auth = auth)\n",
    "        \n",
    "    return [dja for dja in domo_workspace.account_configuration if dja.domo_account and dja.domo_account.data_provider_type == 'domo-access-token']\n",
    "   \n",
    "    \n",
    "workspace_access_token_accounts = await get_workspace_access_token_accounts(workspace_id=workspace_id, auth = config_auth)\n",
    "test_dja = workspace_access_token_accounts[-1]\n",
    "# workspace_access_token_accounts[0:5]\n",
    "test_dja"
   ]
  },
  {
   "cell_type": "code",
   "execution_count": 36,
   "id": "18b5f450-3fe0-4dd0-ab3a-a1ae89a99e20",
   "metadata": {
    "tags": []
   },
   "outputs": [
    {
     "data": {
      "text/plain": [
       "DomoJupyterAccount(account_id=146, alias='sdk_datacrew-space', is_exists=True, domo_account=DomoAccount_Credential(id=146, name='sdk_datacrew-space', data_provider_type='domo-access-token', created_dt=datetime.datetime(2025, 2, 11, 21, 47, 59), modified_dt=datetime.datetime(2025, 2, 11, 21, 49, 20), owners=None, is_admin_summary=False, target_instance='datacrew-space', is_valid_full_auth=None, is_valid_token_auth=None, target_auth=None, target_user=None))"
      ]
     },
     "execution_count": 36,
     "metadata": {},
     "output_type": "execute_result"
    }
   ],
   "source": [
    "from typing import Callable\n",
    "import domolibrary_execution.client.ExecutionError as ExecutionError\n",
    "\n",
    "def extract_domo_instance_from_account_name(account_name):\n",
    "    if not account_name.startswith('sdk_'):\n",
    "        raise ExecutionError('account name does not start with sdk_')\n",
    "    \n",
    "    return account_name.split('_')[-1]\n",
    "    \n",
    "\n",
    "def populate_cred_config(dja : dmdj.DomoJupyterAccount,\n",
    "                         domojupyter_fn : Callable\n",
    "):\n",
    "    dja.read_creds(domojupyter_fn = domojupyter_fn)\n",
    "    \n",
    "    dja.domo_account.target_instance = extract_domo_instance_from_account_name(dja.domo_account.name)\n",
    "    \n",
    "    return dja\n",
    "\n",
    "populate_cred_config(dja = test_dja,\n",
    "                     domojupyter_fn = dj)"
   ]
  },
  {
   "cell_type": "code",
   "execution_count": 77,
   "id": "d2b4dd4a-b3b2-40eb-b0de-d45a7cc48293",
   "metadata": {},
   "outputs": [
    {
     "data": {
      "text/plain": [
       "'No Action - sdk_datacrew-space username / password creds are valid'"
      ]
     },
     "execution_count": 77,
     "metadata": {},
     "output_type": "execute_result"
    }
   ],
   "source": [
    "import domolibrary_extensions.utils.xkcd_password as xkcd\n",
    "import domolibrary.client.DomoError as dmde\n",
    "\n",
    "def generate_new_password():\n",
    "    return xkcd.generate_domo_password(process_fn=xkcd.process_domo_password_fn, delimiter=\"-\")\n",
    "\n",
    "async def fix_password(\n",
    "    domo_account,\n",
    "    new_password: str = None,\n",
    "    is_force_password_required: bool = False,\n",
    "\n",
    "    backup_auth: dmda.DomoAuth = None,\n",
    "    is_test_auth : bool = True,\n",
    "    is_update_account: bool = True,\n",
    "    \n",
    "    debug_api: bool = False,\n",
    "    debug_prn: bool = False,\n",
    "    **kwargs,\n",
    "):\n",
    "    if is_test_auth:\n",
    "        try:\n",
    "            await domo_account.test_auths(debug_api = True)\n",
    "        except dmde.DomoError as e:\n",
    "            print(e)\n",
    "\n",
    "    if domo_account.is_valid_full_auth:\n",
    "        return f\"No Action - {domo_account.name} username / password creds are valid\"\n",
    "\n",
    "    user_email = domo_account.Config.username\n",
    "\n",
    "    if is_force_password_required and not user_email:\n",
    "        raise dxde.ExecutionException(\n",
    "            f\"no username for {domo_account.id} - {domo_account.name}\"\n",
    "        )\n",
    "    \n",
    "    if not domo_account.target_auth:\n",
    "        await domo_account.test_auths()\n",
    "        \n",
    "    if not domo_account.target_user:\n",
    "        await domo_account.get_target_user()\n",
    "    \n",
    "    message = f\"pasword reset - {domo_account.name} - {domo_account.target_user.display_name}\"\n",
    "\n",
    "    if debug_prn:\n",
    "        print(message)\n",
    "\n",
    "    await domo_account.update_target_user_password(\n",
    "        new_password=new_password or generate_new_password(),\n",
    "        is_test_auths=False,\n",
    "        is_update_account=is_update_account,\n",
    "        backup_auth=backup_auth,\n",
    "        debug_api=debug_api,\n",
    "    )\n",
    "    \n",
    "    return message\n",
    "\n",
    "await fix_password(\n",
    "    domo_account = test_dja.domo_account,\n",
    "    debug_api = False,\n",
    "    is_test_auth = False\n",
    ")"
   ]
  },
  {
   "cell_type": "code",
   "execution_count": 78,
   "id": "23d39eb2-5f1f-43ef-a7eb-93c349b22d5c",
   "metadata": {
    "tags": []
   },
   "outputs": [
    {
     "name": "stdout",
     "output_type": "stream",
     "text": [
      "🎉 token_auth token retrieved from datacrew-space ⚙️\n",
      "🎉 full_auth token retrieved from datacrew-space ⚙️\n"
     ]
    },
    {
     "data": {
      "text/plain": [
       "'No Action - sdk_datacrew-space - valid token not expiring'"
      ]
     },
     "execution_count": 78,
     "metadata": {},
     "output_type": "execute_result"
    }
   ],
   "source": [
    "import asyncio\n",
    "from typing import List\n",
    "import domolibrary.classes.DomoAccount as dmac\n",
    "import domolibrary.classes.DomoAccessToken as dmat\n",
    "\n",
    "async def fix_token(\n",
    "    domo_account: dmac.DomoAccount_Credential,\n",
    "    \n",
    "    token_name : str = None,\n",
    "    is_force_token_required : bool = False,\n",
    "    token_update_threshold: int = 7 ,\n",
    "    domo_access_tokens : List[dmat.DomoAccessToken] = None,\n",
    "    \n",
    "    backup_auth: dmda.DomoAuth = None,\n",
    "    is_test_auth : bool = True,\n",
    "    is_update_account: bool = True,\n",
    "    debug_api: bool = False,\n",
    "    debug_prn: bool = False,\n",
    "    \n",
    "    **kwargs,\n",
    "):\n",
    "    if is_test_auth:\n",
    "        try:\n",
    "            await domo_account.test_auths()\n",
    "        except dmde.DomoError as e:\n",
    "            print(e)\n",
    "    \n",
    "\n",
    "                    \n",
    "    '''\n",
    "    retrieve the domoAccessToken.\n",
    "    cannot retrieve via target_user b/c not all access_token_accounts will have an email\n",
    "    '''\n",
    "    domo_access_tokens = domo_access_tokens or (\n",
    "        await dmat.DomoAccessTokens(auth = domo_account.target_auth).get()\n",
    "    )\n",
    "    token_name = token_name or domo_account.name\n",
    "    dat = next((dat for dat in domo_access_tokens if dat.name == token_name), None)\n",
    "    \n",
    "    \n",
    "    # is valid and not expiring\n",
    "    if domo_account.is_valid_token_auth and dat and dat.days_till_expiration > token_update_threshold:\n",
    "        message = f'No Action - {dat.name} - valid token not expiring'\n",
    "        if debug_prn:\n",
    "            print(message)\n",
    "        \n",
    "        return message\n",
    "\n",
    "    # dat (expiring or not valid)\n",
    "    if dat:\n",
    "        message = f'Regenerate - {dat.name} token - token expiring or invalid'\n",
    "        \n",
    "        if debug_prn:\n",
    "            print(message)\n",
    "            \n",
    "        await dat.regenerate(debug_api = debug_api)\n",
    "        return message\n",
    "    \n",
    "    # dat not required\n",
    "    if not is_force_token_required and not domo_account.Config.domo_access_token:\n",
    "        message = f\"No Action {domo_account.name}- token_required is False\"\n",
    "        \n",
    "        if debug_prn:\n",
    "            print(message)\n",
    "            \n",
    "        return message \n",
    "    \n",
    "    # no dat\n",
    "    if not domo_account.target_user:\n",
    "        await domo_account.get_target_user()\n",
    "    \n",
    "    message = f'Generate new access_token for {domo_account.name}'\n",
    "    \n",
    "    if debug_prn:\n",
    "        print(message)\n",
    "            \n",
    "    await domo_account.reset_access_token(\n",
    "        token_name = token_name,\n",
    "        debug_api = debug_api,\n",
    "        duration_in_days = 90\n",
    "    )\n",
    "    \n",
    "    return message\n",
    "\n",
    "\n",
    "await fix_token(\n",
    "    domo_account = test_dja.domo_account,\n",
    ")\n"
   ]
  },
  {
   "cell_type": "code",
   "execution_count": 60,
   "id": "2532555f-b9ba-435e-9352-a465a28b2a94",
   "metadata": {
    "tags": []
   },
   "outputs": [
    {
     "data": {
      "text/markdown": [
       "🤯 test_token_auth for: ***sdk_datacrew-space*** returned 🛑  InvalidCredentialsError 🛑 - function: DomoTokenAuth.get_traceback || status 401 || Unauthorized at datacrew-space"
      ]
     },
     "metadata": {},
     "output_type": "display_data"
    },
    {
     "name": "stdout",
     "output_type": "stream",
     "text": [
      "🎉 full_auth token retrieved from datacrew-space ⚙️\n"
     ]
    },
    {
     "ename": "NameError",
     "evalue": "name 'mesage' is not defined",
     "output_type": "error",
     "traceback": [
      "\u001b[0;31m---------------------------------------------------------------------------\u001b[0m",
      "\u001b[0;31mNameError\u001b[0m                                 Traceback (most recent call last)",
      "Cell \u001b[0;32mIn[60], line 44\u001b[0m\n\u001b[1;32m     40\u001b[0m     \u001b[38;5;28;01mawait\u001b[39;00m asyncio\u001b[38;5;241m.\u001b[39msleep(\u001b[38;5;241m5\u001b[39m)\n\u001b[1;32m     41\u001b[0m     \u001b[38;5;28;01mreturn\u001b[39;00m \u001b[38;5;28;01mawait\u001b[39;00m domo_account\u001b[38;5;241m.\u001b[39mtest_auths()\n\u001b[0;32m---> 44\u001b[0m \u001b[38;5;28;01mawait\u001b[39;00m test_and_fix_domo_account(dja\u001b[38;5;241m=\u001b[39mtest_dja, debug_prn \u001b[38;5;241m=\u001b[39m \u001b[38;5;28;01mTrue\u001b[39;00m)\n",
      "Cell \u001b[0;32mIn[60], line 24\u001b[0m, in \u001b[0;36mtest_and_fix_domo_account\u001b[0;34m(dja, backup_auth, new_password, is_force_password_required, token_name, is_force_token_required, token_update_threshold, domo_access_tokens, debug_api, debug_prn)\u001b[0m\n\u001b[1;32m     21\u001b[0m repair_functions \u001b[38;5;241m=\u001b[39m [fix_password, fix_token]\n\u001b[1;32m     23\u001b[0m \u001b[38;5;28;01mfor\u001b[39;00m fn \u001b[38;5;129;01min\u001b[39;00m repair_functions:\n\u001b[0;32m---> 24\u001b[0m     \u001b[38;5;28;01mawait\u001b[39;00m fn(\n\u001b[1;32m     25\u001b[0m         domo_account\u001b[38;5;241m=\u001b[39mdomo_account,\n\u001b[1;32m     26\u001b[0m         backup_auth\u001b[38;5;241m=\u001b[39mbackup_auth,\n\u001b[1;32m     27\u001b[0m         is_test_auth \u001b[38;5;241m=\u001b[39m \u001b[38;5;28;01mFalse\u001b[39;00m,\n\u001b[1;32m     28\u001b[0m         new_password \u001b[38;5;241m=\u001b[39m new_password,\n\u001b[1;32m     29\u001b[0m         is_force_password_required\u001b[38;5;241m=\u001b[39mis_force_password_required,\n\u001b[1;32m     30\u001b[0m         token_name \u001b[38;5;241m=\u001b[39m token_name,\n\u001b[1;32m     31\u001b[0m         is_force_token_required \u001b[38;5;241m=\u001b[39m is_force_token_required,\n\u001b[1;32m     32\u001b[0m         token_update_threshold \u001b[38;5;241m=\u001b[39m token_update_threshold,\n\u001b[1;32m     33\u001b[0m         domo_access_tokens \u001b[38;5;241m=\u001b[39m domo_access_tokens,\n\u001b[1;32m     34\u001b[0m         debug_api \u001b[38;5;241m=\u001b[39m debug_api,\n\u001b[1;32m     35\u001b[0m         debug_prn \u001b[38;5;241m=\u001b[39m debug_prn\n\u001b[1;32m     36\u001b[0m     )\n\u001b[1;32m     38\u001b[0m \u001b[38;5;28;01mawait\u001b[39;00m domo_account\u001b[38;5;241m.\u001b[39mupdate_config(debug_api \u001b[38;5;241m=\u001b[39m debug_api)\n\u001b[1;32m     40\u001b[0m \u001b[38;5;28;01mawait\u001b[39;00m asyncio\u001b[38;5;241m.\u001b[39msleep(\u001b[38;5;241m5\u001b[39m)\n",
      "Cell \u001b[0;32mIn[58], line 59\u001b[0m, in \u001b[0;36mfix_token\u001b[0;34m(domo_account, token_name, is_force_token_required, token_update_threshold, domo_access_tokens, backup_auth, is_test_auth, is_update_account, debug_api, debug_prn, **kwargs)\u001b[0m\n\u001b[1;32m     56\u001b[0m     message \u001b[38;5;241m=\u001b[39m \u001b[38;5;124mf\u001b[39m\u001b[38;5;124m\"\u001b[39m\u001b[38;5;124mNo Action \u001b[39m\u001b[38;5;132;01m{\u001b[39;00mdomo_account\u001b[38;5;241m.\u001b[39mname\u001b[38;5;132;01m}\u001b[39;00m\u001b[38;5;124m- token_required is False\u001b[39m\u001b[38;5;124m\"\u001b[39m\n\u001b[1;32m     58\u001b[0m     \u001b[38;5;28;01mif\u001b[39;00m debug_prn:\n\u001b[0;32m---> 59\u001b[0m         \u001b[38;5;28mprint\u001b[39m(mesage)\n\u001b[1;32m     61\u001b[0m     \u001b[38;5;28;01mreturn\u001b[39;00m message \n\u001b[1;32m     63\u001b[0m \u001b[38;5;66;03m# no dat\u001b[39;00m\n",
      "\u001b[0;31mNameError\u001b[0m: name 'mesage' is not defined"
     ]
    }
   ],
   "source": [
    "\n",
    "async def test_and_fix_domo_account(\n",
    "    dja: dmdj.DomoJupyterAccount,\n",
    "    backup_auth: dmda.DomoAuth = None,\n",
    "    \n",
    "    new_password: str = None,\n",
    "    is_force_password_required: bool = False,\n",
    "\n",
    "    token_name : str = None,\n",
    "    is_force_token_required : bool = False,\n",
    "    token_update_threshold: int = 7 ,\n",
    "    domo_access_tokens : List[dmat.DomoAccessToken] = None,\n",
    "    \n",
    "    debug_api: bool = False,\n",
    "    debug_prn: bool = False,\n",
    "\n",
    "):\n",
    "    domo_account = dja.domo_account\n",
    "\n",
    "    await domo_account.test_auths()\n",
    "    \n",
    "    repair_functions = [fix_password, fix_token]\n",
    "\n",
    "    for fn in repair_functions:\n",
    "        await fn(\n",
    "            domo_account=domo_account,\n",
    "            backup_auth=backup_auth,\n",
    "            is_test_auth = False,\n",
    "            new_password = new_password,\n",
    "            is_force_password_required=is_force_password_required,\n",
    "            token_name = token_name,\n",
    "            is_force_token_required = is_force_token_required,\n",
    "            token_update_threshold = token_update_threshold,\n",
    "            domo_access_tokens = domo_access_tokens,\n",
    "            debug_api = debug_api,\n",
    "            debug_prn = debug_prn\n",
    "        )\n",
    "    \n",
    "    await domo_account.update_config(debug_api = debug_api)\n",
    "    \n",
    "    await asyncio.sleep(5)\n",
    "    return await domo_account.test_auths()\n",
    "\n",
    "\n",
    "await test_and_fix_domo_account(dja=test_dja, debug_prn = True)\n"
   ]
  }
 ],
 "metadata": {
  "kernelspec": {
   "display_name": "Python",
   "language": "python",
   "name": "python_3_9"
  },
  "language_info": {
   "codemirror_mode": {
    "name": "ipython",
    "version": 3
   },
   "file_extension": ".py",
   "mimetype": "text/x-python",
   "name": "python",
   "nbconvert_exporter": "python",
   "pygments_lexer": "ipython3",
   "version": "3.9.13"
  }
 },
 "nbformat": 4,
 "nbformat_minor": 5
}
