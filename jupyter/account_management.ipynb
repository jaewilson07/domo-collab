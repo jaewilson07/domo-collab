{
 "cells": [
  {
   "cell_type": "code",
   "execution_count": 1,
   "id": "8f5fbe85-f42a-4c25-982f-9bb89ae88327",
   "metadata": {
    "tags": []
   },
   "outputs": [],
   "source": [
    "# %pip install domolibrary --upgrade\n",
    "# %pip install domolibrary_execution --upgrade"
   ]
  },
  {
   "cell_type": "code",
   "execution_count": 2,
   "id": "a90f1fcd-a600-43ec-8a4a-28685d27af1f",
   "metadata": {
    "tags": []
   },
   "outputs": [
    {
     "name": "stdout",
     "output_type": "stream",
     "text": [
      "🎉 full_auth token retrieved from domo-community ⚙️\n"
     ]
    },
    {
     "data": {
      "text/plain": [
       "DomoFullAuth(domo_instance='domo-community', url_manual_login='https://domo-community.domo.com/auth/index?domoManualLogin=true', token_name='full_auth', user_id=None, is_valid_token=True, domo_username='jae@datacrew.space')"
      ]
     },
     "execution_count": 2,
     "metadata": {},
     "output_type": "execute_result"
    }
   ],
   "source": [
    "import domojupyter as dj\n",
    "import domolibrary_execution.utils.domojupyter as dxdj\n",
    "import domolibrary.client.DomoAuth as dmda\n",
    "\n",
    "config_auth = await dxdj.generate_domo_auth('domo-community', domojupyter_fn = dj)\n",
    "config_auth"
   ]
  },
  {
   "cell_type": "code",
   "execution_count": 3,
   "id": "c039048e-f3c0-4bcf-8a4c-da1a54cf7d0c",
   "metadata": {
    "tags": []
   },
   "outputs": [
    {
     "data": {
      "text/plain": [
       "[DomoJupyterAccount(account_id=96, alias='sdk_domo-community', is_exists=True, domo_account=DomoAccount_Credential(id=96, name='sdk_domo-community', data_provider_type='domo-access-token', created_dt=datetime.datetime(2024, 2, 27, 0, 8, 54), modified_dt=datetime.datetime(2025, 2, 10, 21, 15, 47), owners=None, is_admin_summary=False, target_instance=None, is_valid_full_auth=None, is_valid_token_auth=None, target_auth=None, target_user=None))]"
      ]
     },
     "execution_count": 3,
     "metadata": {},
     "output_type": "execute_result"
    }
   ],
   "source": [
    "import domolibrary.classes.DomoJupyter as dmdj\n",
    "\n",
    "workspace_id = '70afbd1d-e85c-4846-8a0e-a46987011676'\n",
    "\n",
    "async def get_workspace_access_token_accounts(workspace_id, auth):\n",
    "    domo_workspace = await dmdj.DomoJupyterWorkspace.get_by_id(workspace_id, auth = auth)\n",
    "        \n",
    "    return [dja for dja in domo_workspace.account_configuration if dja.domo_account and dja.domo_account.data_provider_type == 'domo-access-token']\n",
    "   \n",
    "    \n",
    "workspace_access_token_accounts = await get_workspace_access_token_accounts(workspace_id=workspace_id, auth = config_auth)\n",
    "test_dja = workspace_access_token_accounts[0]\n",
    "workspace_access_token_accounts[0:5]"
   ]
  },
  {
   "cell_type": "code",
   "execution_count": 4,
   "id": "18b5f450-3fe0-4dd0-ab3a-a1ae89a99e20",
   "metadata": {
    "tags": []
   },
   "outputs": [
    {
     "data": {
      "text/plain": [
       "DomoJupyterAccount(account_id=96, alias='sdk_domo-community', is_exists=True, domo_account=DomoAccount_Credential(id=96, name='sdk_domo-community', data_provider_type='domo-access-token', created_dt=datetime.datetime(2024, 2, 27, 0, 8, 54), modified_dt=datetime.datetime(2025, 2, 10, 21, 15, 47), owners=None, is_admin_summary=False, target_instance='domo-community', is_valid_full_auth=None, is_valid_token_auth=None, target_auth=None, target_user=None))"
      ]
     },
     "execution_count": 4,
     "metadata": {},
     "output_type": "execute_result"
    }
   ],
   "source": [
    "from typing import Callable\n",
    "import domolibrary_execution.client.ExecutionError as ExecutionError\n",
    "\n",
    "def extract_domo_instance_from_account_name(account_name):\n",
    "    if not account_name.startswith('sdk_'):\n",
    "        raise ExecutionError('account name does not start with sdk_')\n",
    "    \n",
    "    return account_name.split('_')[-1]\n",
    "    \n",
    "\n",
    "def populate_cred_config(dja : dmdj.DomoJupyterAccount,\n",
    "                         domojupyter_fn : Callable\n",
    "):\n",
    "    dja.read_creds(domojupyter_fn = domojupyter_fn)\n",
    "    \n",
    "    dja.domo_account.target_instance = extract_domo_instance_from_account_name(dja.domo_account.name)\n",
    "    \n",
    "    return dja\n",
    "\n",
    "populate_cred_config(dja = test_dja,\n",
    "                     domojupyter_fn = dj)"
   ]
  },
  {
   "cell_type": "code",
   "execution_count": 5,
   "id": "1057eb54-8397-457f-b942-841651f744d4",
   "metadata": {
    "tags": []
   },
   "outputs": [
    {
     "data": {
      "text/plain": [
       "'LASSO-octane-swerve2025.'"
      ]
     },
     "execution_count": 5,
     "metadata": {},
     "output_type": "execute_result"
    }
   ],
   "source": [
    "import domolibrary_extensions.utils.xkcd_password as xkcd\n",
    "\n",
    "def generate_new_password():\n",
    "    return xkcd.generate_domo_password(process_fn=xkcd.process_domo_password_fn, delimiter=\"-\")\n",
    "\n",
    "generate_new_password()"
   ]
  },
  {
   "cell_type": "code",
   "execution_count": 6,
   "id": "d2b4dd4a-b3b2-40eb-b0de-d45a7cc48293",
   "metadata": {},
   "outputs": [],
   "source": [
    "\n",
    "async def fix_password(\n",
    "    domo_account,\n",
    "    backup_auth: dmda.DomoAuth = None,\n",
    "    new_password: str = None,\n",
    "    force_password_required: bool = False,\n",
    "    is_update_account: bool = True,\n",
    "    debug_api: bool = False,\n",
    "    **kwargs,\n",
    "):\n",
    "\n",
    "    if domo_account.is_valid_full_auth:\n",
    "        return True\n",
    "\n",
    "    user_email = domo_account.Config.username\n",
    "\n",
    "    if force_password_required and not user_email:\n",
    "        raise dxde.ExecutionException(\n",
    "            f\"no username for {domo_account.id} - {domo_account.name}\"\n",
    "        )\n",
    "\n",
    "    print(f\"rotating {user_email} passsword in {domo_account.target_instance}\")\n",
    "\n",
    "    new_password = new_password or generate_new_password()\n",
    "\n",
    "    await domo_account.update_target_user_password(\n",
    "        new_password=new_password,\n",
    "        is_test_auths=False,\n",
    "        is_update_account=is_update_account,\n",
    "        backup_auth=backup_auth,\n",
    "        debug_api=debug_api,\n",
    "    )"
   ]
  },
  {
   "cell_type": "code",
   "execution_count": 7,
   "id": "d6f994f3-85ad-4d97-bbc4-829422d08f0f",
   "metadata": {
    "tags": []
   },
   "outputs": [
    {
     "ename": "NameError",
     "evalue": "name 'domo_access_tokens' is not defined",
     "output_type": "error",
     "traceback": [
      "\u001b[0;31m---------------------------------------------------------------------------\u001b[0m",
      "\u001b[0;31mNameError\u001b[0m                                 Traceback (most recent call last)",
      "Cell \u001b[0;32mIn[7], line 2\u001b[0m\n\u001b[1;32m      1\u001b[0m \u001b[38;5;66;03m# domo_access_tokens = await dmat.DomoAccessTokens(auth = test_dja.domo_account.target_auth).get()\u001b[39;00m\n\u001b[0;32m----> 2\u001b[0m [dat\u001b[38;5;241m.\u001b[39mdisplay_name \u001b[38;5;28;01mfor\u001b[39;00m dat \u001b[38;5;129;01min\u001b[39;00m \u001b[43mdomo_access_tokens\u001b[49m]\n",
      "\u001b[0;31mNameError\u001b[0m: name 'domo_access_tokens' is not defined"
     ]
    }
   ],
   "source": [
    "# domo_access_tokens = await dmat.DomoAccessTokens(auth = test_dja.domo_account.target_auth).get()\n",
    "[dat.display_name for dat in domo_access_tokens]"
   ]
  },
  {
   "cell_type": "code",
   "execution_count": null,
   "id": "23d39eb2-5f1f-43ef-a7eb-93c349b22d5c",
   "metadata": {
    "tags": []
   },
   "outputs": [],
   "source": [
    "import domolibrary.classes.DomoAccessToken as dmat\n",
    "import asyncio\n",
    "\n",
    "async def fix_token(\n",
    "    domo_account,\n",
    "    backup_auth: dmda.DomoAuth = None,\n",
    "    \n",
    "    token_name : str = None,\n",
    "    force_token_required : bool = False,\n",
    "    token_update_threshold: int = 7 ,\n",
    "\n",
    "    is_update_account : bool = False,\n",
    "    debug_api: bool = False,\n",
    "    **kwargs,\n",
    "):\n",
    "    \n",
    "    token_name = token_name or domo_account.name\n",
    "    \n",
    "    domo_access_tokens = await dmat.DomoAccessTokens(auth = domo_account.target_auth).get()\n",
    "    \n",
    "    print(token_name)\n",
    "    print(len(domo_access_tokens))\n",
    "          \n",
    "    dat = next((dat for dat in domo_access_tokens if dat.name == token_name), None)\n",
    "    \n",
    "    # if not dat:\n",
    "    #     print(token_name)\n",
    "    #     print(domo_access_tokens)\n",
    "    \n",
    "    return dat\n",
    "\n",
    "await test_dja.domo_account.test_auths()\n",
    "await fix_token(domo_account = test_dja.domo_account)\n"
   ]
  },
  {
   "cell_type": "code",
   "execution_count": null,
   "id": "2532555f-b9ba-435e-9352-a465a28b2a94",
   "metadata": {
    "tags": []
   },
   "outputs": [],
   "source": [
    "\n",
    "\n",
    "repair_functions = [fix_password]\n",
    "\n",
    "async def test_and_fix_domo_account(\n",
    "    dja: dmdj.DomoJupyterAccount,\n",
    "    backup_auth: dmda.DomoAuth = None,\n",
    "    force_password_required: bool = False,\n",
    "    new_password: str = None,\n",
    "    debug_api : bool = False\n",
    "):\n",
    "    domo_account = dja.domo_account\n",
    "\n",
    "    await domo_account.test_auths()\n",
    "\n",
    "    for fn in repair_functions:\n",
    "        await fn(\n",
    "            domo_account=domo_account,\n",
    "            backup_auth=backup_auth,\n",
    "            force_password_required=force_password_required,\n",
    "            new_password=new_password,\n",
    "            is_update_account = True,\n",
    "            debug_api = debug_api\n",
    "        )\n",
    "        \n",
    "    await asyncio.sleep(5)\n",
    "    await domo_account.test_auths()\n",
    "\n",
    "\n",
    "# await test_and_fix_domo_account(dja=test_dja, debug_api = True)\n"
   ]
  }
 ],
 "metadata": {
  "kernelspec": {
   "display_name": "Python",
   "language": "python",
   "name": "python_3_9"
  },
  "language_info": {
   "codemirror_mode": {
    "name": "ipython",
    "version": 3
   },
   "file_extension": ".py",
   "mimetype": "text/x-python",
   "name": "python",
   "nbconvert_exporter": "python",
   "pygments_lexer": "ipython3",
   "version": "3.9.13"
  }
 },
 "nbformat": 4,
 "nbformat_minor": 5
}
