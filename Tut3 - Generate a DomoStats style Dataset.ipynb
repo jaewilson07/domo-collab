{
 "cells": [
  {
   "cell_type": "markdown",
   "id": "70e93111-f9a5-461e-9067-5980c301adfe",
   "metadata": {
    "tags": []
   },
   "source": [
    "# 🚀 Generate a DomoStats style Dataset\n",
    "\n",
    "This tutorial covers 3 use cases!\n",
    "- using DomoJupyter for ETL\n",
    "- using DomoJupyter as a replacement for custom connectors\n",
    "- using DomoJupyter to generate DomoStats reports\n",
    "\n",
    "Once you can hit APIs, everything else comes into focus!  All you need is a little Google and a lot of data wrangling skills!\n",
    "\n",
    "💡 Mentally (and physically) separate the act of retrieving data from an API vs restructuring your data for use. (generic api_function vs. specific implementation)\n"
   ]
  },
  {
   "cell_type": "markdown",
   "id": "f34f8e47",
   "metadata": {},
   "source": [
    "## ▶️ Where do we begin?\n",
    "\n",
    "PROBLEM: \"I want a dataset that shows me information about accounts\"\n",
    "\n",
    "CONVERT that into\n",
    "- a statement of granularity: \"what does one row of the dataset represent\"\n",
    "- a more specific definition of \"information about accounts\"\n",
    "\n",
    "PLAN the project.\n",
    "\n",
    "- look at the data you receive. describe how it differs from what you want it to look like.\n",
    "- stub out some function names\n",
    "- add appropriate parameters and expected response object\n"
   ]
  },
  {
   "cell_type": "code",
   "execution_count": null,
   "id": "9a7d9aad",
   "metadata": {
    "tags": []
   },
   "outputs": [],
   "source": [
    "###\n",
    "# start by describing the strucutre.  is it a list or a dictionary?\n",
    "# look for the stuff you want.  is it nested somehow?\n",
    "\n",
    "# this is nested dictionary represents one of many 'data_provider_type' where each data_provider_type has multpiple accounts associated with it\n",
    "# is all the information i want inside the account obj or is there stuff i want from the data_provider?\n",
    "\n",
    "test = [\n",
    "    {\n",
    "        \"key\": \"abstract-credential-store\",\n",
    "        \"name\": \"Abstract Credential Store\",\n",
    "        \"authenticationScheme\": \"fields\",\n",
    "        \"unassociatedDataSourceCount\": 0,\n",
    "        \"accounts\": [\n",
    "            {\n",
    "                \"id\": 71,\n",
    "                \"name\": \"domo_creds\",\n",
    "                \"userId\": \"1893952720\",\n",
    "                \"displayName\": \"DomoLibrary - testrename 2024-03-20\",\n",
    "                \"type\": \"data\",\n",
    "                \"dataProviderType\": \"abstract-credential-store\",\n",
    "                \"valid\": True,\n",
    "                \"dateOfExpiration\": None,\n",
    "                \"dataSourceCount\": 0,\n",
    "                \"daysToExpiry\": None,\n",
    "                \"expired\": None,\n",
    "            },\n",
    "            {\n",
    "                \"id\": 87,\n",
    "                \"name\": \"Abstract Credential Store Account\",\n",
    "                \"userId\": \"1893952720\",\n",
    "                \"displayName\": \"jw_creds\",\n",
    "                \"type\": \"data\",\n",
    "                \"dataProviderType\": \"abstract-credential-store\",\n",
    "                \"valid\": True,\n",
    "                \"dateOfExpiration\": None,\n",
    "                \"dataSourceCount\": 0,\n",
    "                \"daysToExpiry\": None,\n",
    "                \"expired\": None,\n",
    "            },\n",
    "            {\n",
    "                \"id\": 88,\n",
    "                \"name\": \"fake_account\",\n",
    "                \"userId\": \"1893952720\",\n",
    "                \"displayName\": \"fake_account\",\n",
    "                \"type\": \"data\",\n",
    "                \"dataProviderType\": \"abstract-credential-store\",\n",
    "                \"valid\": True,\n",
    "                \"dateOfExpiration\": None,\n",
    "                \"dataSourceCount\": 0,\n",
    "                \"daysToExpiry\": None,\n",
    "                \"expired\": None,\n",
    "            },\n",
    "            {\n",
    "                \"id\": 94,\n",
    "                \"name\": \"Abstract Credential Store Account\",\n",
    "                \"userId\": \"1893952720\",\n",
    "                \"displayName\": \"my_domo_community_access_token - updated 2024-02-23\",\n",
    "                \"type\": \"data\",\n",
    "                \"dataProviderType\": \"abstract-credential-store\",\n",
    "                \"valid\": True,\n",
    "                \"dateOfExpiration\": None,\n",
    "                \"dataSourceCount\": 0,\n",
    "                \"daysToExpiry\": None,\n",
    "                \"expired\": None,\n",
    "            },\n",
    "        ],\n",
    "    }\n",
    "]"
   ]
  },
  {
   "cell_type": "markdown",
   "id": "bba41863-cb0c-4f93-9d8c-d06fab7c1555",
   "metadata": {
    "tags": []
   },
   "source": [
    "### utils\n",
    "\n",
    "because the `api_response` contains nested lists, we have to do a double list comprehension to flatten into a list of dictionaries.\n"
   ]
  },
  {
   "cell_type": "code",
   "execution_count": null,
   "id": "2d63b13e",
   "metadata": {},
   "outputs": [],
   "source": [
    "# add me to functions/utils.py\n",
    "\n",
    "from typing import Any, List\n",
    "\n",
    "\n",
    "def flatten_list_of_lists(list_of_lists) -> List[Any]:\n",
    "    # these are the same.\n",
    "\n",
    "    # gather = []\n",
    "    # for list in list_of_lists:    # for each dataprovider_type in entire_list.\n",
    "    #     for row in list:          # for each account in dataprovider_type.\n",
    "    #         gather.append(row)    # accumulate the account in a new list called gather\n",
    "\n",
    "    gather = [row for ls in list_of_lists for row in ls]  # nested list comprehension\n",
    "    return gather\n",
    "\n",
    "\n",
    "flatten_list_of_lists([[\"a\", \"b\", \"c\"], [1, 2, 3], [\"john\", \"jacob\", \"jingle\"]])"
   ]
  },
  {
   "cell_type": "markdown",
   "id": "f92688c4",
   "metadata": {},
   "source": [
    "DEVELOPER_NOTE\n",
    "\n",
    "- while it is common for APIs to return JSON in `camelCase`, in python we will rewrite everything in `snake_case`.\n",
    "- we can also take the liberty of renaming properties to something user friendly\n"
   ]
  },
  {
   "cell_type": "code",
   "execution_count": null,
   "id": "00a77352-c7c3-4428-bcbc-9fd4ca1d5947",
   "metadata": {
    "tags": []
   },
   "outputs": [],
   "source": [
    "import re\n",
    "\n",
    "\n",
    "def format_str_camel_case(text):\n",
    "    # https://www.w3resource.com/python-exercises/string/python-data-type-string-exercise-97.php\n",
    "    # Replace hyphens with spaces, then apply regular expression substitutions for title case conversion\n",
    "    # and add an underscore between words, finally convert the result to lowercase\n",
    "\n",
    "    return \"_\".join(\n",
    "        re.sub(\n",
    "            \"([A-Z][a-z]+)\", r\" \\1\", re.sub(\"([A-Z]+)\", r\" \\1\", text.replace(\"-\", \" \"))\n",
    "        ).split()\n",
    "    ).lower()\n",
    "\n",
    "\n",
    "print(format_str_camel_case(\"doesThisWork?\"))\n",
    "print(format_str_camel_case(\"what about This?\"))"
   ]
  },
  {
   "cell_type": "markdown",
   "id": "775d889b",
   "metadata": {},
   "source": [
    "### make a new notebook for your solution in implementations/monit_accounts.ipynb\n"
   ]
  },
  {
   "cell_type": "code",
   "execution_count": null,
   "id": "660bf1aa",
   "metadata": {},
   "outputs": [],
   "source": [
    "# move your code to functions/implementation/monit_accounts.py\n",
    "\n",
    "\n",
    "def main():\n",
    "    pass\n",
    "\n",
    "\n",
    "main()"
   ]
  },
  {
   "cell_type": "markdown",
   "id": "995dbd30",
   "metadata": {},
   "source": [
    "## 🚀 SOLUTION\n"
   ]
  },
  {
   "cell_type": "markdown",
   "id": "0ef64e9f",
   "metadata": {},
   "source": [
    "### STEP 1. handle authentication\n"
   ]
  },
  {
   "cell_type": "code",
   "execution_count": null,
   "id": "621be635",
   "metadata": {},
   "outputs": [],
   "source": [
    "from dotenv import load_dotenv\n",
    "\n",
    "load_dotenv(\".env\")"
   ]
  },
  {
   "cell_type": "code",
   "execution_count": null,
   "id": "8c6a0dbf",
   "metadata": {},
   "outputs": [],
   "source": [
    "from solutions.auth import get_session_token\n",
    "import os\n",
    "\n",
    "DOMO_INSTANCE = \"domo-community\"\n",
    "domo_password = os.environ[\"DOMO_PASSWORD\"]\n",
    "domo_username = os.environ[\"DOMO_USERNAME\"]\n",
    "\n",
    "\n",
    "def get_instance_session_token(domo_username, domo_password, domo_instance):\n",
    "    return get_session_token(\n",
    "        domo_instance=domo_instance,\n",
    "        domo_password=domo_password,\n",
    "        domo_username=domo_username,\n",
    "    )\n",
    "\n",
    "\n",
    "test_session_token = get_instance_session_token(\n",
    "    domo_username, domo_password=domo_password, domo_instance=DOMO_INSTANCE\n",
    ")"
   ]
  },
  {
   "cell_type": "markdown",
   "id": "c1ab9999",
   "metadata": {},
   "source": [
    "### Step 2. Get Data\n"
   ]
  },
  {
   "cell_type": "code",
   "execution_count": null,
   "id": "834ff043",
   "metadata": {},
   "outputs": [],
   "source": [
    "from solutions.accounts import get_accounts\n",
    "from typing import List\n",
    "\n",
    "\n",
    "def get_instance_accounts(\n",
    "    session_token, domo_instance, debug_api: bool = False\n",
    ") -> List[dict]:\n",
    "\n",
    "    res = get_accounts(\n",
    "        domo_instance=domo_instance, session_token=session_token, debug_api=debug_api\n",
    "    )\n",
    "\n",
    "    account_ls = res.response\n",
    "\n",
    "    return account_ls\n",
    "\n",
    "\n",
    "test_dataproviders_ls = get_instance_accounts(\n",
    "    session_token=test_session_token, domo_instance=DOMO_INSTANCE, debug_api=False\n",
    ")[0:1]\n",
    "\n",
    "test_dataproviders_ls"
   ]
  },
  {
   "cell_type": "markdown",
   "id": "f917f73c-615a-4074-923b-4e6f3e1ccd3b",
   "metadata": {
    "tags": []
   },
   "source": [
    "instead of complex nested `for loops`, we will build a function to handle data transformation at the row granularity.<br>\n",
    "This approach improves testabilty because we can test the output of one row\n"
   ]
  },
  {
   "cell_type": "code",
   "execution_count": null,
   "id": "46b15d7d-b737-4ac0-9509-e4ca5fcfe06e",
   "metadata": {
    "tags": []
   },
   "outputs": [],
   "source": [
    "\"get_instance_accounts returns a list of account types which we'll capture as account_ls\"\n",
    "\"each member of account_ls is a data_provider_type\"\n",
    "\"each data_provider_type has a list of accounts\"\n",
    "\n",
    "test_dataprovider_obj = test_dataproviders_ls[0]\n",
    "test_dataprovider_obj"
   ]
  },
  {
   "cell_type": "code",
   "execution_count": null,
   "id": "e5f27591-3fc8-4a16-980e-db562303cc10",
   "metadata": {
    "tags": []
   },
   "outputs": [],
   "source": [
    "test_account = test_dataprovider_obj[\"accounts\"][0]\n",
    "test_account"
   ]
  },
  {
   "cell_type": "markdown",
   "id": "1f42dc0d",
   "metadata": {},
   "source": [
    "## Step 3: Format Data\n"
   ]
  },
  {
   "cell_type": "code",
   "execution_count": null,
   "id": "35702d2b-5f9a-4d2f-ae68-b10b9414d78d",
   "metadata": {
    "tags": []
   },
   "outputs": [],
   "source": [
    "def format_account_v1(account_obj, dataprovider_obj, **kwargs):\n",
    "    \"\"\"most granular level\"\"\"\n",
    "\n",
    "    s = {**account_obj, \"data_provider_name\": dataprovider_obj[\"name\"]}\n",
    "\n",
    "    # rename a field and remove the old field\n",
    "    s[\"account_id\"] = s.pop(\"id\")\n",
    "    s[\"account_name\"] = s.pop(\"displayName\")\n",
    "\n",
    "    # remove fields\n",
    "    s.pop(\"name\")\n",
    "    s.pop(\"type\")\n",
    "    s.pop(\"daysToExpiry\")\n",
    "    s.pop(\"valid\")\n",
    "    s.pop(\"expired\")\n",
    "\n",
    "    return {format_str_camel_case(key): value for key, value in s.items()}\n",
    "\n",
    "\n",
    "format_account_v1(account_obj=test_account, dataprovider_obj=test_dataprovider_obj)"
   ]
  },
  {
   "cell_type": "code",
   "execution_count": null,
   "id": "473dc6a2",
   "metadata": {},
   "outputs": [],
   "source": [
    "def format_account_v2(account_obj, dataprovider_obj, **kwargs):\n",
    "    \"\"\"most granular level\"\"\"\n",
    "\n",
    "    s = {**account_obj, \"data_provider_name\": dataprovider_obj[\"name\"]}\n",
    "\n",
    "    # rename a field and remove the old field\n",
    "    s[\"account_id\"] = s.pop(\"id\")\n",
    "    s[\"account_name\"] = s.pop(\"displayName\")\n",
    "\n",
    "    # remove fields\n",
    "    s.pop(\"name\")\n",
    "    s.pop(\"valid\")\n",
    "\n",
    "    return {format_str_camel_case(key): value for key, value in s.items()}\n",
    "\n",
    "\n",
    "format_account_v2(account_obj=test_account, dataprovider_obj=test_dataprovider_obj)"
   ]
  },
  {
   "cell_type": "code",
   "execution_count": null,
   "id": "a67547d6",
   "metadata": {},
   "outputs": [],
   "source": [
    "# %pip install pandas"
   ]
  },
  {
   "cell_type": "code",
   "execution_count": null,
   "id": "35324fb1",
   "metadata": {},
   "outputs": [],
   "source": [
    "import pandas as pd\n",
    "from typing import Callable\n",
    "\n",
    "def format_domostats_accounts(api_response,format_fn: Callable,  is_dataframe: bool = True):\n",
    "\n",
    "    account_ls = [\n",
    "        format_fn(account_obj=account_obj, dataprovider_obj=dataprovider_obj)\n",
    "        for dataprovider_obj in api_response\n",
    "        for account_obj in dataprovider_obj[\"accounts\"]\n",
    "    ]  # produces nested list of lists\n",
    "\n",
    "    if not is_dataframe:\n",
    "        return account_ls\n",
    "\n",
    "    return pd.DataFrame(account_ls)\n",
    "\n",
    "\n",
    "format_domostats_accounts(test_dataproviders_ls,format_fn=format_account_v1, is_dataframe=True)[0:5]\n",
    "\n",
    "# passing functions into functions allow us to have configurable results without significantly refactoring code.\n",
    "# notice that by passing the format function as a function (instead of calling it outside of format_domostats_accounts), \n",
    "# we can have different permutations of the accounts report!\n",
    "# any idea what adding kwargs does for us?\n",
    "\n",
    "format_domostats_accounts(test_dataproviders_ls,format_fn=format_account_v2, is_dataframe=True)[0:5]"
   ]
  },
  {
   "cell_type": "code",
   "execution_count": null,
   "id": "5e657a24-090b-4ead-842e-3cd411d6f99c",
   "metadata": {
    "tags": []
   },
   "outputs": [],
   "source": [
    "def generate_monit_instance_accounts(\n",
    "    session_token : str,\n",
    "    domo_instance : str,\n",
    "    format_fn : callable,\n",
    "    is_dataframe: bool = True,\n",
    "    return_raw: bool = False,\n",
    "    debug_api: bool = False,\n",
    ") -> pd.DataFrame:\n",
    "\n",
    "    api_response = get_instance_accounts(\n",
    "        domo_instance=domo_instance, session_token=session_token, debug_api=debug_api\n",
    "    )\n",
    "\n",
    "    if return_raw:\n",
    "        return api_response\n",
    "\n",
    "    return format_domostats_accounts(\n",
    "        api_response=api_response, is_dataframe=is_dataframe, format_fn=format_fn\n",
    "    )\n",
    "\n",
    "generate_monit_instance_accounts(\n",
    "    domo_instance=DOMO_INSTANCE,\n",
    "    session_token= test_session_token,\n",
    "    format_fn = format_account_v1,\n",
    "    is_dataframe=True,\n",
    ")[0:5]"
   ]
  },
  {
   "cell_type": "markdown",
   "id": "3a423d80-8464-44d2-a856-0149e9514415",
   "metadata": {},
   "source": [
    "### 🎓 USE CASES TO CONSIDER\n",
    "\n",
    "1. Recall, `session_token` will mimic the access rights and permissions of the user the session token is based off of. Under what circumstances would the list of account_objects retrieved NOT represent the entire list of account objects existent in the instance? How might you address that issue?\n",
    "\n",
    "2. Recall, the base behavior in Domo of updating datasets is a full REPLACE operation. How would that impact your ability to track changes over time in account objects? What steps might you take to modify your code to track history?\n",
    "\n",
    "3. Notice that `get_accounts()` does not retrieve account configuration (that's a different API) how might you approach building a dataset that monitors account configuration?\n",
    "\n",
    "- Recall, that you cannot see account secret fields in plain text unless you are in DomoJupyter. What kind of workflow might you need to accurately see account configuration and build a dataset off of it?\n",
    "\n",
    "\n",
    "### 🧪 Extra Challenge\n",
    "\n",
    "Notice that the named user_id is just a user_id is just a name.\n",
    "\n",
    "1. Construct a function, `get_user_by_id` that retrieves user information\n",
    "2. Create a function `format_account` that receives an account_obj and adds decorator information (like the user display_name),\n"
   ]
  },
  {
   "cell_type": "code",
   "execution_count": null,
   "id": "da3a6832",
   "metadata": {},
   "outputs": [],
   "source": [
    "import domojupyter as dj\n",
    "\n",
    "\n",
    "def main(session_token, domo_instance):\n",
    "\n",
    "    df = generate_monit_instance_accounts(\n",
    "        domo_instance=domo_instance,\n",
    "        session_token=session_token,\n",
    "        format_fn=format_account_v1,\n",
    "        is_dataframe=True,\n",
    "    )\n",
    "\n",
    "    dj.write_dataframe(df, \"YOUR_DATASET_NAME_v1\")\n",
    "\n",
    "    df = generate_monit_instance_accounts(\n",
    "        domo_instance=domo_instance,\n",
    "        session_token=session_token,\n",
    "        format_fn=format_account_v2,\n",
    "        is_dataframe=True,\n",
    "    )\n",
    "\n",
    "    dj.write_dataframe(df, \"YOUR_DATASET_NAME_v2\")"
   ]
  }
 ],
 "metadata": {
  "kernelspec": {
   "display_name": "Python",
   "language": "python",
   "name": "python_3_9"
  },
  "language_info": {
   "codemirror_mode": {
    "name": "ipython",
    "version": 3
   },
   "file_extension": ".py",
   "mimetype": "text/x-python",
   "name": "python",
   "nbconvert_exporter": "python",
   "pygments_lexer": "ipython3",
   "version": "3.9.13"
  }
 },
 "nbformat": 4,
 "nbformat_minor": 5
}
