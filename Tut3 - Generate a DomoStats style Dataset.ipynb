{
 "cells": [
  {
   "cell_type": "markdown",
   "id": "70e93111-f9a5-461e-9067-5980c301adfe",
   "metadata": {
    "tags": []
   },
   "source": [
    "# Generate a DomoStats style Dataset\n",
    "In this tutorial we will:\n",
    "Investigate how we can use python skills to produce a DomoStats / DomoGovernance styled dataset\n",
    "\n",
    "Generating the Dataset is just a case of getting your data into the shape that you want it.\n",
    "\n",
    "Mentally (and physically) separate the act of retrieving data from an API vs restructuring your data for use."
   ]
  },
  {
   "cell_type": "markdown",
   "id": "f34f8e47",
   "metadata": {},
   "source": [
    "## ▶️ how might we organize our project?\n",
    "\n",
    "PROBLEM: \"I want a dataset that shows me information about accounts\"\n",
    "\n",
    "CONVERT that into a statement of granularity.\n",
    "\n",
    "PLAN the project.\n",
    "- look at the data you receive.  describe how it differs from what you want it to look like.\n",
    "- stub out some function names\n",
    "- add a doc string for what each function should do\n",
    "- add appropriate parameters and expected response object"
   ]
  },
  {
   "cell_type": "markdown",
   "id": "bba41863-cb0c-4f93-9d8c-d06fab7c1555",
   "metadata": {
    "tags": []
   },
   "source": [
    "### utils\n",
    "\n",
    "because the `api_response` contains nested lists, we have to do a double list comprehension to flatten into a list of dictionaries."
   ]
  },
  {
   "cell_type": "code",
   "execution_count": 66,
   "id": "2d63b13e",
   "metadata": {},
   "outputs": [
    {
     "data": {
      "text/plain": [
       "['a', 'b', 'c', 1, 2, 3, 'john', 'jacob', 'jingle']"
      ]
     },
     "execution_count": 66,
     "metadata": {},
     "output_type": "execute_result"
    }
   ],
   "source": [
    "def flatten_list_of_lists(list_of_lists):\n",
    "    # these are the same.\n",
    "    \n",
    "    # gather = []\n",
    "    # for list in list_of_lists:\n",
    "    #     for row in list:\n",
    "    #         gather.append(row)\n",
    "            \n",
    "\n",
    "    return [row for ls in list_of_lists for row in ls]\n",
    "\n",
    "flatten_list_of_lists([['a','b','c'],[1,2,3],['john','jacob','jingle']])"
   ]
  },
  {
   "cell_type": "markdown",
   "id": "f92688c4",
   "metadata": {},
   "source": [
    "DEVELOPER_NOTE\n",
    "- while it is common for APIs to return JSON in `camelCase`, in python we will rewrite everything in `snake_case`.\n",
    "- we can also take the liberty of renaming properties to something user friendly"
   ]
  },
  {
   "cell_type": "code",
   "execution_count": 32,
   "id": "00a77352-c7c3-4428-bcbc-9fd4ca1d5947",
   "metadata": {
    "tags": []
   },
   "outputs": [
    {
     "name": "stdout",
     "output_type": "stream",
     "text": [
      "does_this_work?\n",
      "what_about_this?\n"
     ]
    }
   ],
   "source": [
    "import re\n",
    "\n",
    "def format_str_camel_case(text):\n",
    "    # https://www.w3resource.com/python-exercises/string/python-data-type-string-exercise-97.php\n",
    "    # Replace hyphens with spaces, then apply regular expression substitutions for title case conversion\n",
    "    # and add an underscore between words, finally convert the result to lowercase\n",
    "\n",
    "    return '_'.join(\n",
    "        re.sub('([A-Z][a-z]+)', r' \\1',\n",
    "        re.sub('([A-Z]+)', r' \\1',\n",
    "        text.replace('-', ' '))).split()).lower() \n",
    "\n",
    "print(format_str_camel_case(\"doesThisWork?\"))\n",
    "print(format_str_camel_case(\"what about This?\"))"
   ]
  },
  {
   "cell_type": "markdown",
   "id": "995dbd30",
   "metadata": {},
   "source": [
    "## SPOILER!! -- SOLUTION --"
   ]
  },
  {
   "cell_type": "markdown",
   "id": "5337bdd6",
   "metadata": {},
   "source": [
    "### for local development use python-dotenv\n",
    "\n",
    "- the domolibrary is not available for use outside of domojupyter\n",
    "- so to handle authentication, we will store credentials in a .env file"
   ]
  },
  {
   "cell_type": "code",
   "execution_count": null,
   "id": "9574cca8",
   "metadata": {},
   "outputs": [],
   "source": [
    "# %pip install python-dotenv"
   ]
  },
  {
   "cell_type": "code",
   "execution_count": 2,
   "id": "06c002e6",
   "metadata": {},
   "outputs": [
    {
     "data": {
      "text/plain": [
       "True"
      ]
     },
     "execution_count": 2,
     "metadata": {},
     "output_type": "execute_result"
    }
   ],
   "source": [
    "from dotenv import load_dotenv\n",
    "import os\n",
    "load_dotenv('.env', override= True)"
   ]
  },
  {
   "cell_type": "markdown",
   "id": "0ef64e9f",
   "metadata": {},
   "source": [
    "### handle authentication"
   ]
  },
  {
   "cell_type": "code",
   "execution_count": 7,
   "id": "8c6a0dbf",
   "metadata": {},
   "outputs": [
    {
     "name": "stderr",
     "output_type": "stream",
     "text": [
      "d:\\GitHub\\domopalooza-24\\.venv\\lib\\site-packages\\urllib3\\connectionpool.py:1103: InsecureRequestWarning: Unverified HTTPS request is being made to host 'domo-community.domo.com'. Adding certificate verification is strongly advised. See: https://urllib3.readthedocs.io/en/latest/advanced-usage.html#tls-warnings\n",
      "  warnings.warn(\n"
     ]
    }
   ],
   "source": [
    "from solutions.get_full_auth_v1 import get_full_auth\n",
    "\n",
    "domo_instance = 'domo-community'\n",
    "\n",
    "session_token = get_full_auth(domo_instance=domo_instance,\n",
    "                              domo_password= os.environ['DOMO_PASSWORD'],\n",
    "                              domo_username= os.environ['DOMO_USERNAME'],\n",
    "                              return_raw= False\n",
    "                              )"
   ]
  },
  {
   "cell_type": "code",
   "execution_count": 67,
   "id": "834ff043",
   "metadata": {},
   "outputs": [
    {
     "data": {
      "text/plain": [
       "[{'key': 'abstract-credential-store',\n",
       "  'name': 'Abstract Credential Store',\n",
       "  'authenticationScheme': 'fields',\n",
       "  'unassociatedDataSourceCount': 0,\n",
       "  'accounts': [{'id': 71,\n",
       "    'name': 'domo_creds',\n",
       "    'userId': '1893952720',\n",
       "    'displayName': 'DomoLibrary - testrename 2024-03-20',\n",
       "    'type': 'data',\n",
       "    'dataProviderType': 'abstract-credential-store',\n",
       "    'valid': True,\n",
       "    'dateOfExpiration': None,\n",
       "    'dataSourceCount': 0,\n",
       "    'daysToExpiry': None,\n",
       "    'expired': None},\n",
       "   {'id': 87,\n",
       "    'name': 'Abstract Credential Store Account',\n",
       "    'userId': '1893952720',\n",
       "    'displayName': 'jw_creds',\n",
       "    'type': 'data',\n",
       "    'dataProviderType': 'abstract-credential-store',\n",
       "    'valid': True,\n",
       "    'dateOfExpiration': None,\n",
       "    'dataSourceCount': 0,\n",
       "    'daysToExpiry': None,\n",
       "    'expired': None},\n",
       "   {'id': 88,\n",
       "    'name': 'fake_account',\n",
       "    'userId': '1893952720',\n",
       "    'displayName': 'fake_account',\n",
       "    'type': 'data',\n",
       "    'dataProviderType': 'abstract-credential-store',\n",
       "    'valid': True,\n",
       "    'dateOfExpiration': None,\n",
       "    'dataSourceCount': 0,\n",
       "    'daysToExpiry': None,\n",
       "    'expired': None},\n",
       "   {'id': 92,\n",
       "    'name': 'jw_username_password_auth',\n",
       "    'userId': '1893952720',\n",
       "    'displayName': 'jw_username_password_auth',\n",
       "    'type': 'data',\n",
       "    'dataProviderType': 'abstract-credential-store',\n",
       "    'valid': True,\n",
       "    'dateOfExpiration': None,\n",
       "    'dataSourceCount': 0,\n",
       "    'daysToExpiry': None,\n",
       "    'expired': None},\n",
       "   {'id': 94,\n",
       "    'name': 'Abstract Credential Store Account',\n",
       "    'userId': '1893952720',\n",
       "    'displayName': 'my_domo_community_access_token - updated 2024-02-23',\n",
       "    'type': 'data',\n",
       "    'dataProviderType': 'abstract-credential-store',\n",
       "    'valid': True,\n",
       "    'dateOfExpiration': None,\n",
       "    'dataSourceCount': 0,\n",
       "    'daysToExpiry': None,\n",
       "    'expired': None}]}]"
      ]
     },
     "execution_count": 67,
     "metadata": {},
     "output_type": "execute_result"
    }
   ],
   "source": [
    "from solutions.get_accounts_v2 import get_accounts \n",
    "from typing import List\n",
    "\n",
    "def get_instance_accounts(session_token,\n",
    "                          domo_instance,\n",
    "                          debug_api : bool = False) -> List[dict]:\n",
    "    \n",
    "    res = get_accounts(domo_instance = domo_instance , session_token = session_token, debug_api= debug_api)\n",
    "\n",
    "    account_ls = res.json()\n",
    "\n",
    "    return account_ls\n",
    "\n",
    "get_instance_accounts(session_token = session_token, domo_instance= domo_instance, debug_api = False)[0:1]"
   ]
  },
  {
   "cell_type": "markdown",
   "id": "f917f73c-615a-4074-923b-4e6f3e1ccd3b",
   "metadata": {
    "tags": []
   },
   "source": [
    "\n",
    "instead of complex nested `for loops`, we will build a function to handle data transformation at the row granularity.<br>\n",
    "This approach improves testabilty because we can test the output of one row"
   ]
  },
  {
   "cell_type": "code",
   "execution_count": 51,
   "id": "46b15d7d-b737-4ac0-9509-e4ca5fcfe06e",
   "metadata": {
    "tags": []
   },
   "outputs": [
    {
     "data": {
      "text/plain": [
       "{'key': 'abstract-credential-store',\n",
       " 'name': 'Abstract Credential Store',\n",
       " 'authenticationScheme': 'fields',\n",
       " 'unassociatedDataSourceCount': 0,\n",
       " 'accounts': [{'id': 71,\n",
       "   'name': 'domo_creds',\n",
       "   'userId': '1893952720',\n",
       "   'displayName': 'DomoLibrary - testrename 2024-03-20',\n",
       "   'type': 'data',\n",
       "   'dataProviderType': 'abstract-credential-store',\n",
       "   'valid': True,\n",
       "   'dateOfExpiration': None,\n",
       "   'dataSourceCount': 0,\n",
       "   'daysToExpiry': None,\n",
       "   'expired': None},\n",
       "  {'id': 87,\n",
       "   'name': 'Abstract Credential Store Account',\n",
       "   'userId': '1893952720',\n",
       "   'displayName': 'jw_creds',\n",
       "   'type': 'data',\n",
       "   'dataProviderType': 'abstract-credential-store',\n",
       "   'valid': True,\n",
       "   'dateOfExpiration': None,\n",
       "   'dataSourceCount': 0,\n",
       "   'daysToExpiry': None,\n",
       "   'expired': None},\n",
       "  {'id': 88,\n",
       "   'name': 'fake_account',\n",
       "   'userId': '1893952720',\n",
       "   'displayName': 'fake_account',\n",
       "   'type': 'data',\n",
       "   'dataProviderType': 'abstract-credential-store',\n",
       "   'valid': True,\n",
       "   'dateOfExpiration': None,\n",
       "   'dataSourceCount': 0,\n",
       "   'daysToExpiry': None,\n",
       "   'expired': None},\n",
       "  {'id': 92,\n",
       "   'name': 'jw_username_password_auth',\n",
       "   'userId': '1893952720',\n",
       "   'displayName': 'jw_username_password_auth',\n",
       "   'type': 'data',\n",
       "   'dataProviderType': 'abstract-credential-store',\n",
       "   'valid': True,\n",
       "   'dateOfExpiration': None,\n",
       "   'dataSourceCount': 0,\n",
       "   'daysToExpiry': None,\n",
       "   'expired': None},\n",
       "  {'id': 94,\n",
       "   'name': 'Abstract Credential Store Account',\n",
       "   'userId': '1893952720',\n",
       "   'displayName': 'my_domo_community_access_token - updated 2024-02-23',\n",
       "   'type': 'data',\n",
       "   'dataProviderType': 'abstract-credential-store',\n",
       "   'valid': True,\n",
       "   'dateOfExpiration': None,\n",
       "   'dataSourceCount': 0,\n",
       "   'daysToExpiry': None,\n",
       "   'expired': None}]}"
      ]
     },
     "execution_count": 51,
     "metadata": {},
     "output_type": "execute_result"
    }
   ],
   "source": [
    "test_account_ls = get_instance_accounts(domo_instance = domo_instance, \n",
    "                                  session_token = session_token)\n",
    "\n",
    "\n",
    "\"get_instance_accounts returns a list of account types which we'll capture as account_ls\"\n",
    "\"each member of account_ls is a data_provider_type\"\n",
    "\"each data_provider_type has a list of accounts\"\n",
    "\n",
    "test_data_provider_type = test_account_ls[0]\n",
    "test_data_provider_type"
   ]
  },
  {
   "cell_type": "code",
   "execution_count": 52,
   "id": "e5f27591-3fc8-4a16-980e-db562303cc10",
   "metadata": {
    "tags": []
   },
   "outputs": [
    {
     "data": {
      "text/plain": [
       "{'id': 71,\n",
       " 'name': 'domo_creds',\n",
       " 'userId': '1893952720',\n",
       " 'displayName': 'DomoLibrary - testrename 2024-03-20',\n",
       " 'type': 'data',\n",
       " 'dataProviderType': 'abstract-credential-store',\n",
       " 'valid': True,\n",
       " 'dateOfExpiration': None,\n",
       " 'dataSourceCount': 0,\n",
       " 'daysToExpiry': None,\n",
       " 'expired': None}"
      ]
     },
     "execution_count": 52,
     "metadata": {},
     "output_type": "execute_result"
    }
   ],
   "source": [
    "test_account = test_data_provider_type['accounts'][0]\n",
    "test_account"
   ]
  },
  {
   "cell_type": "code",
   "execution_count": 57,
   "id": "35702d2b-5f9a-4d2f-ae68-b10b9414d78d",
   "metadata": {
    "tags": []
   },
   "outputs": [
    {
     "data": {
      "text/plain": [
       "{'user_id': '1893952720',\n",
       " 'data_provider_type': 'abstract-credential-store',\n",
       " 'date_of_expiration': None,\n",
       " 'data_source_count': 0,\n",
       " 'data_provider_name': 'Abstract Credential Store',\n",
       " 'account_id': 71,\n",
       " 'account_name': 'DomoLibrary - testrename 2024-03-20'}"
      ]
     },
     "execution_count": 57,
     "metadata": {},
     "output_type": "execute_result"
    }
   ],
   "source": [
    "import copy\n",
    "\n",
    "\n",
    "def process_account(account_obj, data_provider_name):\n",
    "\n",
    "    \"\"\"most granular level\"\"\"\n",
    "\n",
    "    s = {**account_obj, \"data_provider_name\": data_provider_name}\n",
    "\n",
    "    # rename a field and remove the old field\n",
    "    s[\"account_id\"] = s.pop(\"id\")\n",
    "    s[\"account_name\"] = s.pop(\"displayName\")\n",
    "\n",
    "\n",
    "    # remove fields\n",
    "    s.pop(\"name\")\n",
    "    s.pop(\"type\")\n",
    "    s.pop(\"daysToExpiry\")\n",
    "    s.pop(\"valid\")\n",
    "    s.pop(\"expired\")\n",
    "\n",
    "\n",
    "    return {format_str_camel_case(key): value for key, value in s.items()}\n",
    "\n",
    "\n",
    "process_account(\n",
    "    account_obj=test_account, data_provider_name=test_data_provider_type[\"name\"]\n",
    ")"
   ]
  },
  {
   "cell_type": "code",
   "execution_count": 58,
   "id": "d2b79a65-c6a2-4ee0-b3d2-d5368ec0c784",
   "metadata": {
    "tags": []
   },
   "outputs": [
    {
     "data": {
      "text/html": [
       "<div>\n",
       "<style scoped>\n",
       "    .dataframe tbody tr th:only-of-type {\n",
       "        vertical-align: middle;\n",
       "    }\n",
       "\n",
       "    .dataframe tbody tr th {\n",
       "        vertical-align: top;\n",
       "    }\n",
       "\n",
       "    .dataframe thead th {\n",
       "        text-align: right;\n",
       "    }\n",
       "</style>\n",
       "<table border=\"1\" class=\"dataframe\">\n",
       "  <thead>\n",
       "    <tr style=\"text-align: right;\">\n",
       "      <th></th>\n",
       "      <th>user_id</th>\n",
       "      <th>data_provider_type</th>\n",
       "      <th>date_of_expiration</th>\n",
       "      <th>data_source_count</th>\n",
       "      <th>data_provider_name</th>\n",
       "      <th>account_id</th>\n",
       "      <th>account_name</th>\n",
       "    </tr>\n",
       "  </thead>\n",
       "  <tbody>\n",
       "    <tr>\n",
       "      <th>0</th>\n",
       "      <td>1893952720</td>\n",
       "      <td>abstract-credential-store</td>\n",
       "      <td>None</td>\n",
       "      <td>0</td>\n",
       "      <td>Abstract Credential Store</td>\n",
       "      <td>71</td>\n",
       "      <td>DomoLibrary - testrename 2024-03-20</td>\n",
       "    </tr>\n",
       "    <tr>\n",
       "      <th>1</th>\n",
       "      <td>1893952720</td>\n",
       "      <td>abstract-credential-store</td>\n",
       "      <td>None</td>\n",
       "      <td>0</td>\n",
       "      <td>Abstract Credential Store</td>\n",
       "      <td>87</td>\n",
       "      <td>jw_creds</td>\n",
       "    </tr>\n",
       "    <tr>\n",
       "      <th>2</th>\n",
       "      <td>1893952720</td>\n",
       "      <td>abstract-credential-store</td>\n",
       "      <td>None</td>\n",
       "      <td>0</td>\n",
       "      <td>Abstract Credential Store</td>\n",
       "      <td>88</td>\n",
       "      <td>fake_account</td>\n",
       "    </tr>\n",
       "    <tr>\n",
       "      <th>3</th>\n",
       "      <td>1893952720</td>\n",
       "      <td>abstract-credential-store</td>\n",
       "      <td>None</td>\n",
       "      <td>0</td>\n",
       "      <td>Abstract Credential Store</td>\n",
       "      <td>92</td>\n",
       "      <td>jw_username_password_auth</td>\n",
       "    </tr>\n",
       "    <tr>\n",
       "      <th>4</th>\n",
       "      <td>1893952720</td>\n",
       "      <td>abstract-credential-store</td>\n",
       "      <td>None</td>\n",
       "      <td>0</td>\n",
       "      <td>Abstract Credential Store</td>\n",
       "      <td>94</td>\n",
       "      <td>my_domo_community_access_token - updated 2024-...</td>\n",
       "    </tr>\n",
       "  </tbody>\n",
       "</table>\n",
       "</div>"
      ],
      "text/plain": [
       "      user_id         data_provider_type date_of_expiration  \\\n",
       "0  1893952720  abstract-credential-store               None   \n",
       "1  1893952720  abstract-credential-store               None   \n",
       "2  1893952720  abstract-credential-store               None   \n",
       "3  1893952720  abstract-credential-store               None   \n",
       "4  1893952720  abstract-credential-store               None   \n",
       "\n",
       "   data_source_count         data_provider_name  account_id  \\\n",
       "0                  0  Abstract Credential Store          71   \n",
       "1                  0  Abstract Credential Store          87   \n",
       "2                  0  Abstract Credential Store          88   \n",
       "3                  0  Abstract Credential Store          92   \n",
       "4                  0  Abstract Credential Store          94   \n",
       "\n",
       "                                        account_name  \n",
       "0                DomoLibrary - testrename 2024-03-20  \n",
       "1                                           jw_creds  \n",
       "2                                       fake_account  \n",
       "3                          jw_username_password_auth  \n",
       "4  my_domo_community_access_token - updated 2024-...  "
      ]
     },
     "execution_count": 58,
     "metadata": {},
     "output_type": "execute_result"
    }
   ],
   "source": [
    "import pandas as pd\n",
    "\n",
    "\n",
    "def process_data_povider(data_provider_obj: dict) -> List[dict]:\n",
    "    \"\"\"receives the data_provider obj and flattens to the account obj\"\"\"\n",
    "    account_ls = data_provider_obj[\"accounts\"]\n",
    "\n",
    "    return [\n",
    "        process_account(account_obj, data_provider_name=data_provider_obj[\"name\"])\n",
    "        for account_obj in account_ls\n",
    "    ]\n",
    "\n",
    "\n",
    "pd.DataFrame(process_data_povider(test_data_provider_type))[0:5]"
   ]
  },
  {
   "cell_type": "code",
   "execution_count": null,
   "id": "35324fb1",
   "metadata": {},
   "outputs": [],
   "source": [
    "def format_domostats_accounts(api_response, is_to_dataframe: bool = True):\n",
    "    \n",
    "    accounts_by_providers_ls = [\n",
    "        process_data_povider(data_provider_obj) for data_provider_obj in api_response\n",
    "    ]  # produces nested list of lists\n",
    "\n",
    "    accounts_ls = flatten_list_of_lists(accounts_by_providers_ls)\n",
    "\n",
    "    if not is_to_dataframe:\n",
    "        return accounts_by_providers_ls\n",
    "        \n",
    "    return pd.DataFrame(accounts_ls)"
   ]
  },
  {
   "cell_type": "code",
   "execution_count": 65,
   "id": "5e657a24-090b-4ead-842e-3cd411d6f99c",
   "metadata": {
    "tags": []
   },
   "outputs": [],
   "source": [
    "import pandas as pd\n",
    "\n",
    "\n",
    "def generate_domostats_get_accounts(\n",
    "    domo_instance,\n",
    "    session_token,\n",
    "    is_to_dataframe: bool = True,\n",
    "    return_raw: bool = False,\n",
    "    debug_api: bool = False,\n",
    ") -> pd.DataFrame:\n",
    "\n",
    "    api_response = get_instance_accounts(\n",
    "        domo_instance=domo_instance, session_token=session_token, debug_api=debug_api\n",
    "    )\n",
    "\n",
    "    if return_raw:\n",
    "        return api_response\n",
    "\n",
    "    return format_domostats_accounts(\n",
    "        api_response=api_response, is_to_dataframe=is_to_dataframe\n",
    "    )"
   ]
  },
  {
   "cell_type": "code",
   "execution_count": null,
   "id": "952e301c",
   "metadata": {},
   "outputs": [],
   "source": [
    "generate_domostats_get_accounts(\n",
    "    domo_instance=domo_instance, session_token=session_token\n",
    ")[0:5]"
   ]
  },
  {
   "cell_type": "markdown",
   "id": "3a423d80-8464-44d2-a856-0149e9514415",
   "metadata": {},
   "source": [
    "## 🧪 Extra Challenge\n",
    "\n",
    "Notice that the named user_id is just a user_id is just a name.  \n",
    "\n",
    "1. Construct a function, `get_user_by_id` that retrieves user information\n",
    "2. Create a function `format_account` that receives an account_obj and adds decorator information (like the user display_name), "
   ]
  },
  {
   "cell_type": "markdown",
   "id": "c89acf02-180a-4527-a69a-f12c70b9bf32",
   "metadata": {
    "tags": []
   },
   "source": [
    "## ▶️ create a function main() that output the formatted DataFrame\n",
    "\n",
    "1. create a function `main` that receives a domojupyter account_name, updates the datast, `YourInitials_MONIT_DomoAccount` and returns the dataframe\n",
    "\n",
    "🎓 USE CASES TO CONSIDER\n",
    "1. Recall, `session_token` will mimic the access rights and permissions of the user the session token is based off of.  Under what circumstances would the list of account_objects retrieved NOT represent the entire list of account objects existent in the instance?  How might you address that issue?\n",
    "\n",
    "2. Recall, the base behavior in Domo of updating datasets is a full REPLACE operation.  How would that impact your ability to track changes over time in account objects?  What steps might you take to modify your code to track history?\n",
    "\n",
    "3. Notice that `get_accounts()` does not retrieve account configuration (that's a different API) how might you approach building a dataset that monitors account configuration?  \n",
    "- Recall, that you cannot see account secret fields in plain text unless you are in DomoJupyter.  What kind of workflow might you need to accurately see account configuration and build a dataset off of it?"
   ]
  }
 ],
 "metadata": {
  "kernelspec": {
   "display_name": ".venv",
   "language": "python",
   "name": "python3"
  },
  "language_info": {
   "codemirror_mode": {
    "name": "ipython",
    "version": 3
   },
   "file_extension": ".py",
   "mimetype": "text/x-python",
   "name": "python",
   "nbconvert_exporter": "python",
   "pygments_lexer": "ipython3",
   "version": "3.10.9"
  }
 },
 "nbformat": 4,
 "nbformat_minor": 5
}
