{
 "cells": [
  {
   "cell_type": "markdown",
   "id": "70e93111-f9a5-461e-9067-5980c301adfe",
   "metadata": {
    "tags": []
   },
   "source": [
    "# 🚀 Generate a DomoStats style Dataset\n",
    "\n",
    "Arguably\n",
    "\n",
    "- This is an example of using DomoJupyter for ETL\n",
    "- Using Domo as a replacement for custom connectors\n",
    "\n",
    "Generating the Dataset is just a case of getting your data into the shape that you want it.\n",
    "\n",
    "Mentally (and physically) separate the act of retrieving data from an API vs restructuring your data for use.\n"
   ]
  },
  {
   "cell_type": "markdown",
   "id": "f34f8e47",
   "metadata": {},
   "source": [
    "## ▶️ Where do we begin?\n",
    "\n",
    "PROBLEM: \"I want a dataset that shows me information about accounts\"\n",
    "\n",
    "CONVERT that into a statement of granularity: \"what does one row of the dataset represent\"\n",
    "\n",
    "PLAN the project.\n",
    "\n",
    "- look at the data you receive. describe how it differs from what you want it to look like.\n",
    "- stub out some function names\n",
    "- add appropriate parameters and expected response object\n"
   ]
  },
  {
   "cell_type": "code",
   "execution_count": 1,
   "id": "9a7d9aad",
   "metadata": {},
   "outputs": [],
   "source": [
    "### this is nested dictionary represents one of many 'data_provider_type' where each data_provider_type has multpiple accounts associated with it\n",
    "\n",
    "test = [\n",
    "    {\n",
    "        \"key\": \"abstract-credential-store\",\n",
    "        \"name\": \"Abstract Credential Store\",\n",
    "        \"authenticationScheme\": \"fields\",\n",
    "        \"unassociatedDataSourceCount\": 0,\n",
    "        \"accounts\": [\n",
    "            {\n",
    "                \"id\": 71,\n",
    "                \"name\": \"domo_creds\",\n",
    "                \"userId\": \"1893952720\",\n",
    "                \"displayName\": \"DomoLibrary - testrename 2024-03-20\",\n",
    "                \"type\": \"data\",\n",
    "                \"dataProviderType\": \"abstract-credential-store\",\n",
    "                \"valid\": True,\n",
    "                \"dateOfExpiration\": None,\n",
    "                \"dataSourceCount\": 0,\n",
    "                \"daysToExpiry\": None,\n",
    "                \"expired\": None,\n",
    "            },\n",
    "            {\n",
    "                \"id\": 87,\n",
    "                \"name\": \"Abstract Credential Store Account\",\n",
    "                \"userId\": \"1893952720\",\n",
    "                \"displayName\": \"jw_creds\",\n",
    "                \"type\": \"data\",\n",
    "                \"dataProviderType\": \"abstract-credential-store\",\n",
    "                \"valid\": True,\n",
    "                \"dateOfExpiration\": None,\n",
    "                \"dataSourceCount\": 0,\n",
    "                \"daysToExpiry\": None,\n",
    "                \"expired\": None,\n",
    "            },\n",
    "            {\n",
    "                \"id\": 88,\n",
    "                \"name\": \"fake_account\",\n",
    "                \"userId\": \"1893952720\",\n",
    "                \"displayName\": \"fake_account\",\n",
    "                \"type\": \"data\",\n",
    "                \"dataProviderType\": \"abstract-credential-store\",\n",
    "                \"valid\": True,\n",
    "                \"dateOfExpiration\": None,\n",
    "                \"dataSourceCount\": 0,\n",
    "                \"daysToExpiry\": None,\n",
    "                \"expired\": None,\n",
    "            },\n",
    "            {\n",
    "                \"id\": 94,\n",
    "                \"name\": \"Abstract Credential Store Account\",\n",
    "                \"userId\": \"1893952720\",\n",
    "                \"displayName\": \"my_domo_community_access_token - updated 2024-02-23\",\n",
    "                \"type\": \"data\",\n",
    "                \"dataProviderType\": \"abstract-credential-store\",\n",
    "                \"valid\": True,\n",
    "                \"dateOfExpiration\": None,\n",
    "                \"dataSourceCount\": 0,\n",
    "                \"daysToExpiry\": None,\n",
    "                \"expired\": None,\n",
    "            },\n",
    "        ],\n",
    "    }\n",
    "]"
   ]
  },
  {
   "cell_type": "markdown",
   "id": "bba41863-cb0c-4f93-9d8c-d06fab7c1555",
   "metadata": {
    "tags": []
   },
   "source": [
    "### utils\n",
    "\n",
    "because the `api_response` contains nested lists, we have to do a double list comprehension to flatten into a list of dictionaries.\n"
   ]
  },
  {
   "cell_type": "code",
   "execution_count": 2,
   "id": "2d63b13e",
   "metadata": {},
   "outputs": [
    {
     "data": {
      "text/plain": [
       "['a', 'b', 'c', 1, 2, 3, 'john', 'jacob', 'jingle']"
      ]
     },
     "execution_count": 2,
     "metadata": {},
     "output_type": "execute_result"
    }
   ],
   "source": [
    "# add me to functions/utils.py\n",
    "\n",
    "from typing import Any, List\n",
    "\n",
    "\n",
    "def flatten_list_of_lists(list_of_lists) -> List[Any]:\n",
    "    # these are the same.\n",
    "\n",
    "    # gather = []\n",
    "    # for list in list_of_lists:    # for each dataprovider_type in entire_list.\n",
    "    #     for row in list:          # for each account in dataprovider_type.\n",
    "    #         gather.append(row)    # accumulate the account in a new list called gather\n",
    "\n",
    "    gather = [row for ls in list_of_lists for row in ls]  # nested list comprehension\n",
    "    return gather\n",
    "\n",
    "\n",
    "flatten_list_of_lists([[\"a\", \"b\", \"c\"], [1, 2, 3], [\"john\", \"jacob\", \"jingle\"]])"
   ]
  },
  {
   "cell_type": "markdown",
   "id": "f92688c4",
   "metadata": {},
   "source": [
    "DEVELOPER_NOTE\n",
    "\n",
    "- while it is common for APIs to return JSON in `camelCase`, in python we will rewrite everything in `snake_case`.\n",
    "- we can also take the liberty of renaming properties to something user friendly\n"
   ]
  },
  {
   "cell_type": "code",
   "execution_count": 3,
   "id": "00a77352-c7c3-4428-bcbc-9fd4ca1d5947",
   "metadata": {
    "tags": []
   },
   "outputs": [
    {
     "name": "stdout",
     "output_type": "stream",
     "text": [
      "does_this_work?\n",
      "what_about_this?\n"
     ]
    }
   ],
   "source": [
    "import re\n",
    "\n",
    "\n",
    "def format_str_camel_case(text):\n",
    "    # https://www.w3resource.com/python-exercises/string/python-data-type-string-exercise-97.php\n",
    "    # Replace hyphens with spaces, then apply regular expression substitutions for title case conversion\n",
    "    # and add an underscore between words, finally convert the result to lowercase\n",
    "\n",
    "    return \"_\".join(\n",
    "        re.sub(\n",
    "            \"([A-Z][a-z]+)\", r\" \\1\", re.sub(\"([A-Z]+)\", r\" \\1\", text.replace(\"-\", \" \"))\n",
    "        ).split()\n",
    "    ).lower()\n",
    "\n",
    "\n",
    "print(format_str_camel_case(\"doesThisWork?\"))\n",
    "print(format_str_camel_case(\"what about This?\"))"
   ]
  },
  {
   "cell_type": "markdown",
   "id": "775d889b",
   "metadata": {},
   "source": [
    "### make a new notebook for your solution in implementations/monit_accounts.ipynb\n"
   ]
  },
  {
   "cell_type": "code",
   "execution_count": 4,
   "id": "660bf1aa",
   "metadata": {},
   "outputs": [],
   "source": [
    "# move your code to functions/implementation/monit_accounts.py\n",
    "\n",
    "\n",
    "def main():\n",
    "    pass\n",
    "\n",
    "\n",
    "main()"
   ]
  },
  {
   "cell_type": "markdown",
   "id": "995dbd30",
   "metadata": {},
   "source": [
    "## 🚀 SOLUTION\n"
   ]
  },
  {
   "cell_type": "markdown",
   "id": "0ef64e9f",
   "metadata": {},
   "source": [
    "### STEP 1. handle authentication\n"
   ]
  },
  {
   "cell_type": "code",
   "execution_count": 5,
   "id": "621be635",
   "metadata": {},
   "outputs": [
    {
     "data": {
      "text/plain": [
       "True"
      ]
     },
     "execution_count": 5,
     "metadata": {},
     "output_type": "execute_result"
    }
   ],
   "source": [
    "from dotenv import load_dotenv\n",
    "\n",
    "load_dotenv(\".env\")"
   ]
  },
  {
   "cell_type": "code",
   "execution_count": 6,
   "id": "8c6a0dbf",
   "metadata": {},
   "outputs": [],
   "source": [
    "from solutions.auth import get_session_token\n",
    "import os\n",
    "\n",
    "DOMO_INSTANCE = \"domo-community\"\n",
    "domo_password = os.environ[\"DOMO_PASSWORD\"]\n",
    "domo_username = os.environ[\"DOMO_USERNAME\"]\n",
    "\n",
    "\n",
    "def get_instance_session_token(domo_username, domo_password, domo_instance):\n",
    "    return get_session_token(\n",
    "        domo_instance=domo_instance,\n",
    "        domo_password=domo_password,\n",
    "        domo_username=domo_username,\n",
    "    )\n",
    "\n",
    "\n",
    "test_session_token = get_instance_session_token(\n",
    "    domo_username, domo_password=domo_password, domo_instance=DOMO_INSTANCE\n",
    ")"
   ]
  },
  {
   "cell_type": "markdown",
   "id": "c1ab9999",
   "metadata": {},
   "source": [
    "### Step 2. Get Data\n"
   ]
  },
  {
   "cell_type": "code",
   "execution_count": 7,
   "id": "834ff043",
   "metadata": {},
   "outputs": [
    {
     "data": {
      "text/plain": [
       "[{'key': 'abstract-credential-store',\n",
       "  'name': 'Abstract Credential Store',\n",
       "  'authenticationScheme': 'fields',\n",
       "  'unassociatedDataSourceCount': 0,\n",
       "  'accounts': [{'id': 71,\n",
       "    'name': 'domo_creds',\n",
       "    'userId': '1893952720',\n",
       "    'displayName': 'domolibrary test account - updated 2024-03-23',\n",
       "    'type': 'data',\n",
       "    'dataProviderType': 'abstract-credential-store',\n",
       "    'valid': True,\n",
       "    'dateOfExpiration': None,\n",
       "    'dataSourceCount': 0,\n",
       "    'daysToExpiry': None,\n",
       "    'expired': None},\n",
       "   {'id': 87,\n",
       "    'name': 'Abstract Credential Store Account',\n",
       "    'userId': '1893952720',\n",
       "    'displayName': 'jw_creds',\n",
       "    'type': 'data',\n",
       "    'dataProviderType': 'abstract-credential-store',\n",
       "    'valid': True,\n",
       "    'dateOfExpiration': None,\n",
       "    'dataSourceCount': 0,\n",
       "    'daysToExpiry': None,\n",
       "    'expired': None},\n",
       "   {'id': 88,\n",
       "    'name': 'fake_account',\n",
       "    'userId': '1893952720',\n",
       "    'displayName': 'fake_account',\n",
       "    'type': 'data',\n",
       "    'dataProviderType': 'abstract-credential-store',\n",
       "    'valid': True,\n",
       "    'dateOfExpiration': None,\n",
       "    'dataSourceCount': 0,\n",
       "    'daysToExpiry': None,\n",
       "    'expired': None},\n",
       "   {'id': 92,\n",
       "    'name': 'jw_username_password_auth',\n",
       "    'userId': '1893952720',\n",
       "    'displayName': 'jw_username_password_auth',\n",
       "    'type': 'data',\n",
       "    'dataProviderType': 'abstract-credential-store',\n",
       "    'valid': True,\n",
       "    'dateOfExpiration': None,\n",
       "    'dataSourceCount': 0,\n",
       "    'daysToExpiry': None,\n",
       "    'expired': None},\n",
       "   {'id': 94,\n",
       "    'name': 'Abstract Credential Store Account',\n",
       "    'userId': '1893952720',\n",
       "    'displayName': 'my_domo_community_access_token - updated 2024-02-23',\n",
       "    'type': 'data',\n",
       "    'dataProviderType': 'abstract-credential-store',\n",
       "    'valid': True,\n",
       "    'dateOfExpiration': None,\n",
       "    'dataSourceCount': 0,\n",
       "    'daysToExpiry': None,\n",
       "    'expired': None},\n",
       "   {'id': 99,\n",
       "    'name': 'Abstract Credential Store Account',\n",
       "    'userId': '1893952720',\n",
       "    'displayName': 'Abstract Credential Store Account',\n",
       "    'type': 'data',\n",
       "    'dataProviderType': 'abstract-credential-store',\n",
       "    'valid': True,\n",
       "    'dateOfExpiration': None,\n",
       "    'dataSourceCount': 0,\n",
       "    'daysToExpiry': None,\n",
       "    'expired': None}]}]"
      ]
     },
     "execution_count": 7,
     "metadata": {},
     "output_type": "execute_result"
    }
   ],
   "source": [
    "from solutions.accounts import get_accounts\n",
    "from typing import List\n",
    "\n",
    "\n",
    "def get_instance_accounts(\n",
    "    session_token, domo_instance, debug_api: bool = False\n",
    ") -> List[dict]:\n",
    "\n",
    "    res = get_accounts(\n",
    "        domo_instance=domo_instance, session_token=session_token, debug_api=debug_api\n",
    "    )\n",
    "\n",
    "    account_ls = res.response\n",
    "\n",
    "    return account_ls\n",
    "\n",
    "\n",
    "test_dataproviders_ls = get_instance_accounts(\n",
    "    session_token=test_session_token, domo_instance=DOMO_INSTANCE, debug_api=False\n",
    ")[0:1]\n",
    "\n",
    "test_dataproviders_ls"
   ]
  },
  {
   "cell_type": "markdown",
   "id": "f917f73c-615a-4074-923b-4e6f3e1ccd3b",
   "metadata": {
    "tags": []
   },
   "source": [
    "instead of complex nested `for loops`, we will build a function to handle data transformation at the row granularity.<br>\n",
    "This approach improves testabilty because we can test the output of one row\n"
   ]
  },
  {
   "cell_type": "code",
   "execution_count": 8,
   "id": "46b15d7d-b737-4ac0-9509-e4ca5fcfe06e",
   "metadata": {
    "tags": []
   },
   "outputs": [
    {
     "data": {
      "text/plain": [
       "{'key': 'abstract-credential-store',\n",
       " 'name': 'Abstract Credential Store',\n",
       " 'authenticationScheme': 'fields',\n",
       " 'unassociatedDataSourceCount': 0,\n",
       " 'accounts': [{'id': 71,\n",
       "   'name': 'domo_creds',\n",
       "   'userId': '1893952720',\n",
       "   'displayName': 'domolibrary test account - updated 2024-03-23',\n",
       "   'type': 'data',\n",
       "   'dataProviderType': 'abstract-credential-store',\n",
       "   'valid': True,\n",
       "   'dateOfExpiration': None,\n",
       "   'dataSourceCount': 0,\n",
       "   'daysToExpiry': None,\n",
       "   'expired': None},\n",
       "  {'id': 87,\n",
       "   'name': 'Abstract Credential Store Account',\n",
       "   'userId': '1893952720',\n",
       "   'displayName': 'jw_creds',\n",
       "   'type': 'data',\n",
       "   'dataProviderType': 'abstract-credential-store',\n",
       "   'valid': True,\n",
       "   'dateOfExpiration': None,\n",
       "   'dataSourceCount': 0,\n",
       "   'daysToExpiry': None,\n",
       "   'expired': None},\n",
       "  {'id': 88,\n",
       "   'name': 'fake_account',\n",
       "   'userId': '1893952720',\n",
       "   'displayName': 'fake_account',\n",
       "   'type': 'data',\n",
       "   'dataProviderType': 'abstract-credential-store',\n",
       "   'valid': True,\n",
       "   'dateOfExpiration': None,\n",
       "   'dataSourceCount': 0,\n",
       "   'daysToExpiry': None,\n",
       "   'expired': None},\n",
       "  {'id': 92,\n",
       "   'name': 'jw_username_password_auth',\n",
       "   'userId': '1893952720',\n",
       "   'displayName': 'jw_username_password_auth',\n",
       "   'type': 'data',\n",
       "   'dataProviderType': 'abstract-credential-store',\n",
       "   'valid': True,\n",
       "   'dateOfExpiration': None,\n",
       "   'dataSourceCount': 0,\n",
       "   'daysToExpiry': None,\n",
       "   'expired': None},\n",
       "  {'id': 94,\n",
       "   'name': 'Abstract Credential Store Account',\n",
       "   'userId': '1893952720',\n",
       "   'displayName': 'my_domo_community_access_token - updated 2024-02-23',\n",
       "   'type': 'data',\n",
       "   'dataProviderType': 'abstract-credential-store',\n",
       "   'valid': True,\n",
       "   'dateOfExpiration': None,\n",
       "   'dataSourceCount': 0,\n",
       "   'daysToExpiry': None,\n",
       "   'expired': None},\n",
       "  {'id': 99,\n",
       "   'name': 'Abstract Credential Store Account',\n",
       "   'userId': '1893952720',\n",
       "   'displayName': 'Abstract Credential Store Account',\n",
       "   'type': 'data',\n",
       "   'dataProviderType': 'abstract-credential-store',\n",
       "   'valid': True,\n",
       "   'dateOfExpiration': None,\n",
       "   'dataSourceCount': 0,\n",
       "   'daysToExpiry': None,\n",
       "   'expired': None}]}"
      ]
     },
     "execution_count": 8,
     "metadata": {},
     "output_type": "execute_result"
    }
   ],
   "source": [
    "\"get_instance_accounts returns a list of account types which we'll capture as account_ls\"\n",
    "\"each member of account_ls is a data_provider_type\"\n",
    "\"each data_provider_type has a list of accounts\"\n",
    "\n",
    "test_dataprovider_obj = test_dataproviders_ls[0]\n",
    "test_dataprovider_obj"
   ]
  },
  {
   "cell_type": "code",
   "execution_count": 9,
   "id": "e5f27591-3fc8-4a16-980e-db562303cc10",
   "metadata": {
    "tags": []
   },
   "outputs": [
    {
     "data": {
      "text/plain": [
       "{'id': 71,\n",
       " 'name': 'domo_creds',\n",
       " 'userId': '1893952720',\n",
       " 'displayName': 'domolibrary test account - updated 2024-03-23',\n",
       " 'type': 'data',\n",
       " 'dataProviderType': 'abstract-credential-store',\n",
       " 'valid': True,\n",
       " 'dateOfExpiration': None,\n",
       " 'dataSourceCount': 0,\n",
       " 'daysToExpiry': None,\n",
       " 'expired': None}"
      ]
     },
     "execution_count": 9,
     "metadata": {},
     "output_type": "execute_result"
    }
   ],
   "source": [
    "test_account = test_dataprovider_obj[\"accounts\"][0]\n",
    "test_account"
   ]
  },
  {
   "cell_type": "markdown",
   "id": "1f42dc0d",
   "metadata": {},
   "source": [
    "## Step 3: Format Data\n"
   ]
  },
  {
   "cell_type": "code",
   "execution_count": 37,
   "id": "35702d2b-5f9a-4d2f-ae68-b10b9414d78d",
   "metadata": {
    "tags": []
   },
   "outputs": [
    {
     "data": {
      "text/plain": [
       "{'user_id': '1893952720',\n",
       " 'data_provider_type': 'abstract-credential-store',\n",
       " 'date_of_expiration': None,\n",
       " 'data_source_count': 0,\n",
       " 'data_provider_name': 'Abstract Credential Store',\n",
       " 'account_id': 71,\n",
       " 'account_name': 'domolibrary test account - updated 2024-03-23'}"
      ]
     },
     "execution_count": 37,
     "metadata": {},
     "output_type": "execute_result"
    }
   ],
   "source": [
    "def format_account_v1(account_obj, dataprovider_obj, **kwargs):\n",
    "    \"\"\"most granular level\"\"\"\n",
    "\n",
    "    s = {**account_obj, \"data_provider_name\": dataprovider_obj[\"name\"]}\n",
    "\n",
    "    # rename a field and remove the old field\n",
    "    s[\"account_id\"] = s.pop(\"id\")\n",
    "    s[\"account_name\"] = s.pop(\"displayName\")\n",
    "\n",
    "    # remove fields\n",
    "    s.pop(\"name\")\n",
    "    s.pop(\"type\")\n",
    "    s.pop(\"daysToExpiry\")\n",
    "    s.pop(\"valid\")\n",
    "    s.pop(\"expired\")\n",
    "\n",
    "    return {format_str_camel_case(key): value for key, value in s.items()}\n",
    "\n",
    "\n",
    "format_account_v1(account_obj=test_account, dataprovider_obj=test_dataprovider_obj)"
   ]
  },
  {
   "cell_type": "code",
   "execution_count": 38,
   "id": "473dc6a2",
   "metadata": {},
   "outputs": [
    {
     "data": {
      "text/plain": [
       "{'user_id': '1893952720',\n",
       " 'type': 'data',\n",
       " 'data_provider_type': 'abstract-credential-store',\n",
       " 'date_of_expiration': None,\n",
       " 'data_source_count': 0,\n",
       " 'days_to_expiry': None,\n",
       " 'expired': None,\n",
       " 'data_provider_name': 'Abstract Credential Store',\n",
       " 'account_id': 71,\n",
       " 'account_name': 'domolibrary test account - updated 2024-03-23'}"
      ]
     },
     "execution_count": 38,
     "metadata": {},
     "output_type": "execute_result"
    }
   ],
   "source": [
    "def format_account_v2(account_obj, dataprovider_obj, **kwargs):\n",
    "    \"\"\"most granular level\"\"\"\n",
    "\n",
    "    s = {**account_obj, \"data_provider_name\": dataprovider_obj[\"name\"]}\n",
    "\n",
    "    # rename a field and remove the old field\n",
    "    s[\"account_id\"] = s.pop(\"id\")\n",
    "    s[\"account_name\"] = s.pop(\"displayName\")\n",
    "\n",
    "    # remove fields\n",
    "    s.pop(\"name\")\n",
    "    s.pop(\"valid\")\n",
    "\n",
    "    return {format_str_camel_case(key): value for key, value in s.items()}\n",
    "\n",
    "\n",
    "format_account_v2(account_obj=test_account, dataprovider_obj=test_dataprovider_obj)"
   ]
  },
  {
   "cell_type": "code",
   "execution_count": 11,
   "id": "a67547d6",
   "metadata": {},
   "outputs": [],
   "source": [
    "# %pip install pandas"
   ]
  },
  {
   "cell_type": "code",
   "execution_count": 36,
   "id": "35324fb1",
   "metadata": {},
   "outputs": [
    {
     "data": {
      "text/html": [
       "<div>\n",
       "<style scoped>\n",
       "    .dataframe tbody tr th:only-of-type {\n",
       "        vertical-align: middle;\n",
       "    }\n",
       "\n",
       "    .dataframe tbody tr th {\n",
       "        vertical-align: top;\n",
       "    }\n",
       "\n",
       "    .dataframe thead th {\n",
       "        text-align: right;\n",
       "    }\n",
       "</style>\n",
       "<table border=\"1\" class=\"dataframe\">\n",
       "  <thead>\n",
       "    <tr style=\"text-align: right;\">\n",
       "      <th></th>\n",
       "      <th>user_id</th>\n",
       "      <th>type</th>\n",
       "      <th>data_provider_type</th>\n",
       "      <th>date_of_expiration</th>\n",
       "      <th>data_source_count</th>\n",
       "      <th>days_to_expiry</th>\n",
       "      <th>expired</th>\n",
       "      <th>data_provider_name</th>\n",
       "      <th>account_id</th>\n",
       "      <th>account_name</th>\n",
       "    </tr>\n",
       "  </thead>\n",
       "  <tbody>\n",
       "    <tr>\n",
       "      <th>0</th>\n",
       "      <td>1893952720</td>\n",
       "      <td>data</td>\n",
       "      <td>abstract-credential-store</td>\n",
       "      <td>None</td>\n",
       "      <td>0</td>\n",
       "      <td>None</td>\n",
       "      <td>None</td>\n",
       "      <td>Abstract Credential Store</td>\n",
       "      <td>71</td>\n",
       "      <td>domolibrary test account - updated 2024-03-23</td>\n",
       "    </tr>\n",
       "    <tr>\n",
       "      <th>1</th>\n",
       "      <td>1893952720</td>\n",
       "      <td>data</td>\n",
       "      <td>abstract-credential-store</td>\n",
       "      <td>None</td>\n",
       "      <td>0</td>\n",
       "      <td>None</td>\n",
       "      <td>None</td>\n",
       "      <td>Abstract Credential Store</td>\n",
       "      <td>87</td>\n",
       "      <td>jw_creds</td>\n",
       "    </tr>\n",
       "    <tr>\n",
       "      <th>2</th>\n",
       "      <td>1893952720</td>\n",
       "      <td>data</td>\n",
       "      <td>abstract-credential-store</td>\n",
       "      <td>None</td>\n",
       "      <td>0</td>\n",
       "      <td>None</td>\n",
       "      <td>None</td>\n",
       "      <td>Abstract Credential Store</td>\n",
       "      <td>88</td>\n",
       "      <td>fake_account</td>\n",
       "    </tr>\n",
       "    <tr>\n",
       "      <th>3</th>\n",
       "      <td>1893952720</td>\n",
       "      <td>data</td>\n",
       "      <td>abstract-credential-store</td>\n",
       "      <td>None</td>\n",
       "      <td>0</td>\n",
       "      <td>None</td>\n",
       "      <td>None</td>\n",
       "      <td>Abstract Credential Store</td>\n",
       "      <td>92</td>\n",
       "      <td>jw_username_password_auth</td>\n",
       "    </tr>\n",
       "    <tr>\n",
       "      <th>4</th>\n",
       "      <td>1893952720</td>\n",
       "      <td>data</td>\n",
       "      <td>abstract-credential-store</td>\n",
       "      <td>None</td>\n",
       "      <td>0</td>\n",
       "      <td>None</td>\n",
       "      <td>None</td>\n",
       "      <td>Abstract Credential Store</td>\n",
       "      <td>94</td>\n",
       "      <td>my_domo_community_access_token - updated 2024-...</td>\n",
       "    </tr>\n",
       "  </tbody>\n",
       "</table>\n",
       "</div>"
      ],
      "text/plain": [
       "      user_id  type         data_provider_type date_of_expiration  \\\n",
       "0  1893952720  data  abstract-credential-store               None   \n",
       "1  1893952720  data  abstract-credential-store               None   \n",
       "2  1893952720  data  abstract-credential-store               None   \n",
       "3  1893952720  data  abstract-credential-store               None   \n",
       "4  1893952720  data  abstract-credential-store               None   \n",
       "\n",
       "   data_source_count days_to_expiry expired         data_provider_name  \\\n",
       "0                  0           None    None  Abstract Credential Store   \n",
       "1                  0           None    None  Abstract Credential Store   \n",
       "2                  0           None    None  Abstract Credential Store   \n",
       "3                  0           None    None  Abstract Credential Store   \n",
       "4                  0           None    None  Abstract Credential Store   \n",
       "\n",
       "   account_id                                       account_name  \n",
       "0          71      domolibrary test account - updated 2024-03-23  \n",
       "1          87                                           jw_creds  \n",
       "2          88                                       fake_account  \n",
       "3          92                          jw_username_password_auth  \n",
       "4          94  my_domo_community_access_token - updated 2024-...  "
      ]
     },
     "execution_count": 36,
     "metadata": {},
     "output_type": "execute_result"
    }
   ],
   "source": [
    "import pandas as pd\n",
    "from typing import Callable\n",
    "\n",
    "def format_domostats_accounts(api_response,format_fn: Callable,  is_dataframe: bool = True):\n",
    "\n",
    "    account_ls = [\n",
    "        format_fn(account_obj=account_obj, dataprovider_obj=dataprovider_obj)\n",
    "        for dataprovider_obj in api_response\n",
    "        for account_obj in dataprovider_obj[\"accounts\"]\n",
    "    ]  # produces nested list of lists\n",
    "\n",
    "    if not is_dataframe:\n",
    "        return account_ls\n",
    "\n",
    "    return pd.DataFrame(account_ls)\n",
    "\n",
    "\n",
    "format_domostats_accounts(test_dataproviders_ls,format_fn=format_account_v1, is_dataframe=True)[0:5]\n",
    "\n",
    "# passing functions into functions allow us to have configurable results without significantly refactoring code.\n",
    "# notice that by passing the format function as a function (instead of calling it outside of format_domostats_accounts), \n",
    "# we can have different permutations of the accounts report!\n",
    "# any idea what adding kwargs does for us?\n",
    "\n",
    "format_domostats_accounts(test_dataproviders_ls,format_fn=format_account_v2, is_dataframe=True)[0:5]"
   ]
  },
  {
   "cell_type": "code",
   "execution_count": 44,
   "id": "5e657a24-090b-4ead-842e-3cd411d6f99c",
   "metadata": {
    "tags": []
   },
   "outputs": [
    {
     "data": {
      "text/html": [
       "<div>\n",
       "<style scoped>\n",
       "    .dataframe tbody tr th:only-of-type {\n",
       "        vertical-align: middle;\n",
       "    }\n",
       "\n",
       "    .dataframe tbody tr th {\n",
       "        vertical-align: top;\n",
       "    }\n",
       "\n",
       "    .dataframe thead th {\n",
       "        text-align: right;\n",
       "    }\n",
       "</style>\n",
       "<table border=\"1\" class=\"dataframe\">\n",
       "  <thead>\n",
       "    <tr style=\"text-align: right;\">\n",
       "      <th></th>\n",
       "      <th>user_id</th>\n",
       "      <th>data_provider_type</th>\n",
       "      <th>date_of_expiration</th>\n",
       "      <th>data_source_count</th>\n",
       "      <th>data_provider_name</th>\n",
       "      <th>account_id</th>\n",
       "      <th>account_name</th>\n",
       "    </tr>\n",
       "  </thead>\n",
       "  <tbody>\n",
       "    <tr>\n",
       "      <th>0</th>\n",
       "      <td>1893952720</td>\n",
       "      <td>abstract-credential-store</td>\n",
       "      <td>None</td>\n",
       "      <td>0</td>\n",
       "      <td>Abstract Credential Store</td>\n",
       "      <td>71</td>\n",
       "      <td>domolibrary test account - updated 2024-03-23</td>\n",
       "    </tr>\n",
       "    <tr>\n",
       "      <th>1</th>\n",
       "      <td>1893952720</td>\n",
       "      <td>abstract-credential-store</td>\n",
       "      <td>None</td>\n",
       "      <td>0</td>\n",
       "      <td>Abstract Credential Store</td>\n",
       "      <td>87</td>\n",
       "      <td>jw_creds</td>\n",
       "    </tr>\n",
       "    <tr>\n",
       "      <th>2</th>\n",
       "      <td>1893952720</td>\n",
       "      <td>abstract-credential-store</td>\n",
       "      <td>None</td>\n",
       "      <td>0</td>\n",
       "      <td>Abstract Credential Store</td>\n",
       "      <td>88</td>\n",
       "      <td>fake_account</td>\n",
       "    </tr>\n",
       "    <tr>\n",
       "      <th>3</th>\n",
       "      <td>1893952720</td>\n",
       "      <td>abstract-credential-store</td>\n",
       "      <td>None</td>\n",
       "      <td>0</td>\n",
       "      <td>Abstract Credential Store</td>\n",
       "      <td>92</td>\n",
       "      <td>jw_username_password_auth</td>\n",
       "    </tr>\n",
       "    <tr>\n",
       "      <th>4</th>\n",
       "      <td>1893952720</td>\n",
       "      <td>abstract-credential-store</td>\n",
       "      <td>None</td>\n",
       "      <td>0</td>\n",
       "      <td>Abstract Credential Store</td>\n",
       "      <td>94</td>\n",
       "      <td>my_domo_community_access_token - updated 2024-...</td>\n",
       "    </tr>\n",
       "  </tbody>\n",
       "</table>\n",
       "</div>"
      ],
      "text/plain": [
       "      user_id         data_provider_type date_of_expiration  \\\n",
       "0  1893952720  abstract-credential-store               None   \n",
       "1  1893952720  abstract-credential-store               None   \n",
       "2  1893952720  abstract-credential-store               None   \n",
       "3  1893952720  abstract-credential-store               None   \n",
       "4  1893952720  abstract-credential-store               None   \n",
       "\n",
       "   data_source_count         data_provider_name  account_id  \\\n",
       "0                  0  Abstract Credential Store          71   \n",
       "1                  0  Abstract Credential Store          87   \n",
       "2                  0  Abstract Credential Store          88   \n",
       "3                  0  Abstract Credential Store          92   \n",
       "4                  0  Abstract Credential Store          94   \n",
       "\n",
       "                                        account_name  \n",
       "0      domolibrary test account - updated 2024-03-23  \n",
       "1                                           jw_creds  \n",
       "2                                       fake_account  \n",
       "3                          jw_username_password_auth  \n",
       "4  my_domo_community_access_token - updated 2024-...  "
      ]
     },
     "execution_count": 44,
     "metadata": {},
     "output_type": "execute_result"
    }
   ],
   "source": [
    "def generate_monit_instance_accounts(\n",
    "    session_token : str,\n",
    "    domo_instance : str,\n",
    "    format_fn : callable,\n",
    "    is_dataframe: bool = True,\n",
    "    return_raw: bool = False,\n",
    "    debug_api: bool = False,\n",
    ") -> pd.DataFrame:\n",
    "\n",
    "    api_response = get_instance_accounts(\n",
    "        domo_instance=domo_instance, session_token=session_token, debug_api=debug_api\n",
    "    )\n",
    "\n",
    "    if return_raw:\n",
    "        return api_response\n",
    "\n",
    "    return format_domostats_accounts(\n",
    "        api_response=api_response, is_dataframe=is_dataframe, format_fn=format_fn\n",
    "    )\n",
    "\n",
    "generate_monit_instance_accounts(\n",
    "    domo_instance=DOMO_INSTANCE,\n",
    "    session_token= test_session_token,\n",
    "    format_fn = format_account_v1,\n",
    "    is_dataframe=True,\n",
    ")[0:5]"
   ]
  },
  {
   "cell_type": "markdown",
   "id": "3a423d80-8464-44d2-a856-0149e9514415",
   "metadata": {},
   "source": [
    "### 🎓 USE CASES TO CONSIDER\n",
    "\n",
    "1. Recall, `session_token` will mimic the access rights and permissions of the user the session token is based off of. Under what circumstances would the list of account_objects retrieved NOT represent the entire list of account objects existent in the instance? How might you address that issue?\n",
    "\n",
    "2. Recall, the base behavior in Domo of updating datasets is a full REPLACE operation. How would that impact your ability to track changes over time in account objects? What steps might you take to modify your code to track history?\n",
    "\n",
    "3. Notice that `get_accounts()` does not retrieve account configuration (that's a different API) how might you approach building a dataset that monitors account configuration?\n",
    "\n",
    "- Recall, that you cannot see account secret fields in plain text unless you are in DomoJupyter. What kind of workflow might you need to accurately see account configuration and build a dataset off of it?\n",
    "\n",
    "\n",
    "### 🧪 Extra Challenge\n",
    "\n",
    "Notice that the named user_id is just a user_id is just a name.\n",
    "\n",
    "1. Construct a function, `get_user_by_id` that retrieves user information\n",
    "2. Create a function `format_account` that receives an account_obj and adds decorator information (like the user display_name),\n"
   ]
  },
  {
   "cell_type": "code",
   "execution_count": null,
   "id": "da3a6832",
   "metadata": {},
   "outputs": [],
   "source": [
    "import domojupyter as dj\n",
    "\n",
    "\n",
    "def main(session_token, domo_instance):\n",
    "\n",
    "    df = generate_monit_instance_accounts(\n",
    "        domo_instance=domo_instance,\n",
    "        session_token=session_token,\n",
    "        format_fn=format_account_v1,\n",
    "        is_dataframe=True,\n",
    "    )\n",
    "\n",
    "    dj.write_dataframe(df, \"YOUR_DATASET_NAME_v1\")\n",
    "\n",
    "    df = generate_monit_instance_accounts(\n",
    "        domo_instance=domo_instance,\n",
    "        session_token=session_token,\n",
    "        format_fn=format_account_v2,\n",
    "        is_dataframe=True,\n",
    "    )\n",
    "\n",
    "    dj.write_dataframe(df, \"YOUR_DATASET_NAME_v2\")"
   ]
  }
 ],
 "metadata": {
  "kernelspec": {
   "display_name": ".venv",
   "language": "python",
   "name": "python3"
  },
  "language_info": {
   "codemirror_mode": {
    "name": "ipython",
    "version": 3
   },
   "file_extension": ".py",
   "mimetype": "text/x-python",
   "name": "python",
   "nbconvert_exporter": "python",
   "pygments_lexer": "ipython3",
   "version": "3.10.12"
  }
 },
 "nbformat": 4,
 "nbformat_minor": 5
}
