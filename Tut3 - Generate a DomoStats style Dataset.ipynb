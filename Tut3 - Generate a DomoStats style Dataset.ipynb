{
 "cells": [
  {
   "cell_type": "markdown",
   "id": "70e93111-f9a5-461e-9067-5980c301adfe",
   "metadata": {},
   "source": [
    "# Generate a DomoStats style Dataset\n",
    "\n",
    "Generating the Dataset is just a case of getting your data into the shape that you want it.\n",
    "\n",
    "Developer Tip\n",
    "- separate the act of retrieving data from act of restructuring your data for use"
   ]
  },
  {
   "cell_type": "code",
   "execution_count": 17,
   "id": "c2916efa-7a46-4054-86d4-caaa24045cc5",
   "metadata": {
    "tags": []
   },
   "outputs": [],
   "source": [
    "import domojupyter as domo\n",
    "import json\n",
    "\n",
    "def get_account_credentials(account_name, is_abstract_account: bool = True):\n",
    "    \"\"\"handles retrieving account properties in domo jupter\"\"\"\n",
    "    \n",
    "    account_properties = domo.get_account_property_keys(account_name)\n",
    "    res = {prop: domo.get_account_property_value(account_name, prop) for prop in account_properties}\n",
    "    return json.loads(res['credentials'])\n",
    "\n",
    "creds = get_account_credentials(\"username_password_auth\", is_abstract_account=True)\n",
    "domo_instance = creds['DOMO_INSTANCE']"
   ]
  },
  {
   "cell_type": "code",
   "execution_count": 8,
   "id": "b6ecf1e6-7e84-4b86-8838-ff3a97e4b529",
   "metadata": {},
   "outputs": [],
   "source": [
    "class DomoAPIRequest_Error(Exception):\n",
    "    \"\"\"a customized Exception class for handing Domo errors\"\"\"\n",
    "    \n",
    "    def __init__(self, message):\n",
    "        super().__init__(message)"
   ]
  },
  {
   "cell_type": "markdown",
   "id": "ca099d5b-9b54-4879-ab3a-86df9d4d1d2a",
   "metadata": {
    "tags": []
   },
   "source": [
    "# Domo Authentication"
   ]
  },
  {
   "cell_type": "code",
   "execution_count": 9,
   "id": "21beb207-e0b2-44d0-909e-6442ea4b2425",
   "metadata": {
    "tags": []
   },
   "outputs": [],
   "source": [
    "import requests\n",
    "\n",
    "def get_full_auth(\n",
    "    domo_instance: str,\n",
    "    domo_username: str,\n",
    "    domo_password: str\n",
    ") -> str:  # returns a session token\n",
    "    \"\"\"use username and password to generate an access token\"\"\"\n",
    "\n",
    "    url = f\"https://{domo_instance}.domo.com/api/content/v2/authentication\"\n",
    "\n",
    "    body = {\n",
    "        \"method\": \"password\",\n",
    "        \"emailAddress\": domo_username,\n",
    "        \"password\": domo_password,\n",
    "    }\n",
    "\n",
    "    res = requests.request(method=\"POST\", url=url, json=body)\n",
    "    data = res.json()\n",
    "\n",
    "    token = data.get(\"sessionToken\")\n",
    "    \n",
    "    if not token:\n",
    "        raise DomoAPIRequest_Error(\"unable to retrieve a session token\")\n",
    "\n",
    "    return token\n",
    "\n",
    "session_token = get_full_auth(domo_username = creds['DOMO_USERNAME'],\n",
    "                              domo_password = creds['DOMO_PASSWORD'],\n",
    "                              domo_instance = creds['DOMO_INSTANCE'] )\n",
    "assert session_token"
   ]
  },
  {
   "cell_type": "code",
   "execution_count": 10,
   "id": "624bcae4-40ac-42c0-89cd-1d939787cbc6",
   "metadata": {},
   "outputs": [],
   "source": [
    "import json\n",
    "\n",
    "# to accommod\n",
    "def get_account_credentials(account_name, is_abstract_account: bool = True):\n",
    "    \n",
    "    account_properties = domo.get_account_property_keys(account_name)\n",
    "    res = {prop: domo.get_account_property_value(account_name, prop) for prop in account_properties}\n",
    "    return json.loads(res['credentials'])\n",
    "\n",
    "creds = get_account_credentials(\"username_password_auth\")\n",
    "# creds"
   ]
  },
  {
   "cell_type": "markdown",
   "id": "b31f8ba0-0809-4111-ba08-728f361e7036",
   "metadata": {
    "tags": []
   },
   "source": [
    "# Interact with Domo"
   ]
  },
  {
   "cell_type": "code",
   "execution_count": 25,
   "id": "69170328-f07a-4007-ac6d-b1c0ad86ae18",
   "metadata": {
    "tags": []
   },
   "outputs": [],
   "source": [
    "from typing import List\n",
    "\n",
    "def get_accounts(domo_instance, session_token) -> List[dict]:\n",
    "    \"\"\"retrieves a list of accounts this user has access to\"\"\"\n",
    "    \n",
    "    headers = {\"x-domo-authentication\": session_token}    \n",
    "    url = f'https://{domo_instance}.domo.com/api/data/v2/datasources/providers'\n",
    "    \n",
    "    res= requests.request(method = \"GET\",\n",
    "                            url = url,\n",
    "                            headers = headers\n",
    "                           )\n",
    "    \n",
    "    data = res.json()\n",
    "    \n",
    "    if not res.ok:\n",
    "        DomoAPIRequestError(data)\n",
    "        \n",
    "    return data"
   ]
  },
  {
   "cell_type": "markdown",
   "id": "01b7413e-1626-4d4f-bd9e-f5ce34d0ff7c",
   "metadata": {},
   "source": [
    "# How should we begin?\n",
    "Look at what the API, `get_accounts` gives you -- a `List[dict]` where each dict represents a `dataProiderType` and within each `dataProviderType` there's the list of `accounts` that belong to that data provider type.\n",
    "\n",
    "Express your Target granularity\n",
    "\"We want one row for each account\"\n",
    "\n",
    "DEVELOPER_NOTE\n",
    "- while it is common for APIs to return JSON in camelCase, in our code we will rewrite everything in snake_case.\n",
    "- we can also take the liberty of renaming properties to something user friendly"
   ]
  },
  {
   "cell_type": "markdown",
   "id": "bba41863-cb0c-4f93-9d8c-d06fab7c1555",
   "metadata": {
    "tags": []
   },
   "source": [
    "## utils"
   ]
  },
  {
   "cell_type": "code",
   "execution_count": 34,
   "id": "00a77352-c7c3-4428-bcbc-9fd4ca1d5947",
   "metadata": {
    "tags": []
   },
   "outputs": [
    {
     "name": "stdout",
     "output_type": "stream",
     "text": [
      "does_this_work?\n",
      "what_about_this?\n"
     ]
    }
   ],
   "source": [
    "import re\n",
    "\n",
    "def format_str_camel_case(text):\n",
    "    # https://www.w3resource.com/python-exercises/string/python-data-type-string-exercise-97.php\n",
    "    # Replace hyphens with spaces, then apply regular expression substitutions for title case conversion\n",
    "    # and add an underscore between words, finally convert the result to lowercase\n",
    "\n",
    "    return '_'.join(\n",
    "        re.sub('([A-Z][a-z]+)', r' \\1',\n",
    "        re.sub('([A-Z]+)', r' \\1',\n",
    "        text.replace('-', ' '))).split()).lower() \n",
    "\n",
    "print(format_str_camel_case(\"doesThisWork?\"))\n",
    "print(format_str_camel_case(\"what about This?\"))"
   ]
  },
  {
   "cell_type": "markdown",
   "id": "f917f73c-615a-4074-923b-4e6f3e1ccd3b",
   "metadata": {
    "tags": []
   },
   "source": [
    "## process API Response"
   ]
  },
  {
   "cell_type": "code",
   "execution_count": 78,
   "id": "46b15d7d-b737-4ac0-9509-e4ca5fcfe06e",
   "metadata": {
    "tags": []
   },
   "outputs": [
    {
     "data": {
      "text/plain": [
       "{'key': 'abstract-credential-store',\n",
       " 'name': 'Abstract Credential Store',\n",
       " 'authenticationScheme': 'fields',\n",
       " 'unassociatedDataSourceCount': 0,\n",
       " 'accounts': [{'id': 71,\n",
       "   'name': 'domo_creds',\n",
       "   'userId': '1893952720',\n",
       "   'displayName': 'domo_creds - update 2024-02-21',\n",
       "   'type': 'data',\n",
       "   'dataProviderType': 'abstract-credential-store',\n",
       "   'valid': True,\n",
       "   'dateOfExpiration': None,\n",
       "   'dataSourceCount': 0,\n",
       "   'daysToExpiry': None,\n",
       "   'expired': None},\n",
       "  {'id': 87,\n",
       "   'name': 'Abstract Credential Store Account',\n",
       "   'userId': '1893952720',\n",
       "   'displayName': 'jw_creds',\n",
       "   'type': 'data',\n",
       "   'dataProviderType': 'abstract-credential-store',\n",
       "   'valid': True,\n",
       "   'dateOfExpiration': None,\n",
       "   'dataSourceCount': 0,\n",
       "   'daysToExpiry': None,\n",
       "   'expired': None},\n",
       "  {'id': 88,\n",
       "   'name': 'fake_account',\n",
       "   'userId': '1893952720',\n",
       "   'displayName': 'fake_account',\n",
       "   'type': 'data',\n",
       "   'dataProviderType': 'abstract-credential-store',\n",
       "   'valid': True,\n",
       "   'dateOfExpiration': None,\n",
       "   'dataSourceCount': 0,\n",
       "   'daysToExpiry': None,\n",
       "   'expired': None},\n",
       "  {'id': 92,\n",
       "   'name': 'jw_username_password_auth',\n",
       "   'userId': '1893952720',\n",
       "   'displayName': 'jw_username_password_auth',\n",
       "   'type': 'data',\n",
       "   'dataProviderType': 'abstract-credential-store',\n",
       "   'valid': True,\n",
       "   'dateOfExpiration': None,\n",
       "   'dataSourceCount': 0,\n",
       "   'daysToExpiry': None,\n",
       "   'expired': None}]}"
      ]
     },
     "execution_count": 78,
     "metadata": {},
     "output_type": "execute_result"
    }
   ],
   "source": [
    "test_data = get_accounts(domo_instance = domo_instance, session_token = session_token)\n",
    "test_data_provider_type = test_data[0]\n",
    "test_data_provider_type"
   ]
  },
  {
   "cell_type": "code",
   "execution_count": 68,
   "id": "e5f27591-3fc8-4a16-980e-db562303cc10",
   "metadata": {
    "tags": []
   },
   "outputs": [
    {
     "data": {
      "text/plain": [
       "{'name': 'domo_creds',\n",
       " 'userId': '1893952720',\n",
       " 'displayName': 'domo_creds - update 2024-02-21',\n",
       " 'type': 'data',\n",
       " 'dataProviderType': 'abstract-credential-store',\n",
       " 'valid': True,\n",
       " 'dateOfExpiration': None,\n",
       " 'dataSourceCount': 0,\n",
       " 'daysToExpiry': None,\n",
       " 'expired': None,\n",
       " 'data_provider_type_display_name': 'Abstract Credential Store',\n",
       " 'data_provider_type_name': 'Abstract Credential Store'}"
      ]
     },
     "execution_count": 68,
     "metadata": {},
     "output_type": "execute_result"
    }
   ],
   "source": [
    "test_data_provider_type['accounts'][0] "
   ]
  },
  {
   "cell_type": "code",
   "execution_count": 94,
   "id": "35702d2b-5f9a-4d2f-ae68-b10b9414d78d",
   "metadata": {
    "tags": []
   },
   "outputs": [
    {
     "data": {
      "text/plain": [
       "[{'user_id': '1893952720',\n",
       "  'data_provider_type': 'abstract-credential-store',\n",
       "  'date_of_expiration': None,\n",
       "  'data_source_count': 0,\n",
       "  'data_provider_name': 'Abstract Credential Store',\n",
       "  'account_id': 71,\n",
       "  'account_name': 'domo_creds - update 2024-02-21'},\n",
       " {'user_id': '1893952720',\n",
       "  'data_provider_type': 'abstract-credential-store',\n",
       "  'date_of_expiration': None,\n",
       "  'data_source_count': 0,\n",
       "  'data_provider_name': 'Abstract Credential Store',\n",
       "  'account_id': 87,\n",
       "  'account_name': 'jw_creds'},\n",
       " {'user_id': '1893952720',\n",
       "  'data_provider_type': 'abstract-credential-store',\n",
       "  'date_of_expiration': None,\n",
       "  'data_source_count': 0,\n",
       "  'data_provider_name': 'Abstract Credential Store',\n",
       "  'account_id': 88,\n",
       "  'account_name': 'fake_account'},\n",
       " {'user_id': '1893952720',\n",
       "  'data_provider_type': 'abstract-credential-store',\n",
       "  'date_of_expiration': None,\n",
       "  'data_source_count': 0,\n",
       "  'data_provider_name': 'Abstract Credential Store',\n",
       "  'account_id': 92,\n",
       "  'account_name': 'jw_username_password_auth'}]"
      ]
     },
     "execution_count": 94,
     "metadata": {},
     "output_type": "execute_result"
    }
   ],
   "source": [
    "def process_domostats_get_accounts_account(account_obj, data_provider_type_name):\n",
    "    \"\"\"most granular level\"\"\"\n",
    "    \n",
    "    account_obj.update({\"data_provider_name\": data_provider_type_name}) \n",
    "    \n",
    "    account_obj['dataProviderType'] = account_obj['dataProviderType'] \n",
    "    account_obj['account_id'] = account_obj.pop('id')\n",
    "    account_obj['account_name'] = account_obj.pop('displayName')\n",
    "\n",
    "    account_obj.pop('name')\n",
    "    account_obj.pop('type')\n",
    "    account_obj.pop('daysToExpiry')\n",
    "    account_obj.pop('valid')\n",
    "    account_obj.pop('expired')\n",
    "\n",
    "    \n",
    "    return { format_str_camel_case(key) : value for key, value in account_obj.items()}\n",
    "\n",
    "    \n",
    "def process_domostats_get_accounts_data_povider(data_provider_obj) -> List[dict]:\n",
    "    \"\"\"receives the data_provider obj and flattens to the account obj\"\"\"\n",
    "    account_ls = data_provider_obj['accounts']\n",
    "    \n",
    "    return [process_domostats_get_accounts_account(account_obj.copy(), data_provider_type_name = data_provider_obj['name']) for account_obj in account_ls]\n",
    "    \n",
    "process_domostats_get_accounts_dataprovider(test_data_provider_type.copy())[0:5]"
   ]
  },
  {
   "cell_type": "code",
   "execution_count": 99,
   "id": "5e657a24-090b-4ead-842e-3cd411d6f99c",
   "metadata": {
    "tags": []
   },
   "outputs": [
    {
     "data": {
      "text/html": [
       "<div>\n",
       "<style scoped>\n",
       "    .dataframe tbody tr th:only-of-type {\n",
       "        vertical-align: middle;\n",
       "    }\n",
       "\n",
       "    .dataframe tbody tr th {\n",
       "        vertical-align: top;\n",
       "    }\n",
       "\n",
       "    .dataframe thead th {\n",
       "        text-align: right;\n",
       "    }\n",
       "</style>\n",
       "<table border=\"1\" class=\"dataframe\">\n",
       "  <thead>\n",
       "    <tr style=\"text-align: right;\">\n",
       "      <th></th>\n",
       "      <th>user_id</th>\n",
       "      <th>data_provider_type</th>\n",
       "      <th>date_of_expiration</th>\n",
       "      <th>data_source_count</th>\n",
       "      <th>data_provider_name</th>\n",
       "      <th>account_id</th>\n",
       "      <th>account_name</th>\n",
       "    </tr>\n",
       "  </thead>\n",
       "  <tbody>\n",
       "    <tr>\n",
       "      <th>0</th>\n",
       "      <td>1893952720</td>\n",
       "      <td>abstract-credential-store</td>\n",
       "      <td>None</td>\n",
       "      <td>0</td>\n",
       "      <td>Abstract Credential Store</td>\n",
       "      <td>71</td>\n",
       "      <td>domo_creds - update 2024-02-21</td>\n",
       "    </tr>\n",
       "    <tr>\n",
       "      <th>1</th>\n",
       "      <td>1893952720</td>\n",
       "      <td>abstract-credential-store</td>\n",
       "      <td>None</td>\n",
       "      <td>0</td>\n",
       "      <td>Abstract Credential Store</td>\n",
       "      <td>87</td>\n",
       "      <td>jw_creds</td>\n",
       "    </tr>\n",
       "    <tr>\n",
       "      <th>2</th>\n",
       "      <td>1893952720</td>\n",
       "      <td>abstract-credential-store</td>\n",
       "      <td>None</td>\n",
       "      <td>0</td>\n",
       "      <td>Abstract Credential Store</td>\n",
       "      <td>88</td>\n",
       "      <td>fake_account</td>\n",
       "    </tr>\n",
       "    <tr>\n",
       "      <th>3</th>\n",
       "      <td>1893952720</td>\n",
       "      <td>abstract-credential-store</td>\n",
       "      <td>None</td>\n",
       "      <td>0</td>\n",
       "      <td>Abstract Credential Store</td>\n",
       "      <td>92</td>\n",
       "      <td>jw_username_password_auth</td>\n",
       "    </tr>\n",
       "    <tr>\n",
       "      <th>4</th>\n",
       "      <td>1893952720</td>\n",
       "      <td>dataset-copy</td>\n",
       "      <td>None</td>\n",
       "      <td>1</td>\n",
       "      <td>DataSet Copy</td>\n",
       "      <td>1</td>\n",
       "      <td>dsa - northshore</td>\n",
       "    </tr>\n",
       "  </tbody>\n",
       "</table>\n",
       "</div>"
      ],
      "text/plain": [
       "      user_id         data_provider_type date_of_expiration  \\\n",
       "0  1893952720  abstract-credential-store               None   \n",
       "1  1893952720  abstract-credential-store               None   \n",
       "2  1893952720  abstract-credential-store               None   \n",
       "3  1893952720  abstract-credential-store               None   \n",
       "4  1893952720               dataset-copy               None   \n",
       "\n",
       "   data_source_count         data_provider_name  account_id  \\\n",
       "0                  0  Abstract Credential Store          71   \n",
       "1                  0  Abstract Credential Store          87   \n",
       "2                  0  Abstract Credential Store          88   \n",
       "3                  0  Abstract Credential Store          92   \n",
       "4                  1               DataSet Copy           1   \n",
       "\n",
       "                     account_name  \n",
       "0  domo_creds - update 2024-02-21  \n",
       "1                        jw_creds  \n",
       "2                    fake_account  \n",
       "3       jw_username_password_auth  \n",
       "4                dsa - northshore  "
      ]
     },
     "execution_count": 99,
     "metadata": {},
     "output_type": "execute_result"
    }
   ],
   "source": [
    "import pandas as pd\n",
    "\n",
    "def generate_domostats_get_accounts(\n",
    "    domo_instance, session_token\n",
    ") -> pd.DataFrame:\n",
    "    \n",
    "    api_response = get_accounts(domo_instance = domo_instance, session_token = session_token)\n",
    "    \n",
    "    accounts_by_providers_ls = [ process_domostats_get_accounts_data_povider(data_provider_obj) for data_provider_obj in api_response]\n",
    "    \n",
    "    # return accounts_by_providers_ls # one list of accounts per data_provider_type\n",
    "    \n",
    "    account_ls = [account for account_ls in accounts_by_providers_ls for account in account_ls] \n",
    "    \n",
    "    # return account_ls # a list of accounts\n",
    "    \n",
    "    return pd.DataFrame(account_ls)\n",
    "\n",
    "generate_domostats_get_accounts(\n",
    "    domo_instance = domo_instance,\n",
    "    session_token = session_token\n",
    ")[0:5]\n",
    "    "
   ]
  },
  {
   "cell_type": "markdown",
   "id": "3a423d80-8464-44d2-a856-0149e9514415",
   "metadata": {},
   "source": [
    "## 🚧 HOMEWORK!!\n",
    "\n",
    "Notice that the named user_id is just a user_id is just a name.\n",
    "\n",
    "can you construct a function, `get_user_by_id` that GETs user information from this api?\n",
    "\n",
    "url = f'https://{domo_instance}.domo.com/api/content/v2/users/{user_id}\n",
    "\n",
    "Then can you alter `process_domostats_get_accounts_account` to call the `get_user_by_id` function for the `userId` (remember it gets renamed to `user_id` after the application of the `format_str_camel_case` function of the ) and return the user_name?"
   ]
  },
  {
   "cell_type": "markdown",
   "id": "c89acf02-180a-4527-a69a-f12c70b9bf32",
   "metadata": {
    "tags": []
   },
   "source": [
    "## Output as a Dataframe\n",
    "\n",
    "To output as a dataframe, modify the configuration of the JupyterWorkspace to have an output file.\n",
    "\n",
    "1. add an output dataset to domojupyter workspace to interact with<br><br>\n",
    "   Data > Jupyter Workspaces > Edit (Workspace Name) > Output Datasets > Add Output Dataset - \"DomoStas - Accounts\"\n",
    "\n",
    "2. call `domojupyter.write_dataframe` to output the dataset.  Note it is theoretically possible to apply a PARTITION or UPSERT scheme instead of a straight REPLACE"
   ]
  },
  {
   "cell_type": "code",
   "execution_count": 101,
   "id": "3d0665f6-e734-426e-a0c5-0dd2bd0678e5",
   "metadata": {
    "tags": []
   },
   "outputs": [
    {
     "name": "stderr",
     "output_type": "stream",
     "text": [
      "/home/domo/.conda/lib/python3.9/site-packages/domojupyter/io.py:125: FutureWarning: Series.__getitem__ treating keys as positions is deprecated. In a future version, integer keys will always be treated as labels (consistent with DataFrame behavior). To access a value by position, use `ser.iloc[pos]`\n",
      "  columns = [{'name': column, 'type': _convert_type(df.dtypes[ind].name)} for ind, column in enumerate(df.columns)]\n",
      "/home/domo/.conda/lib/python3.9/site-packages/domojupyter/io.py:125: FutureWarning: Series.__getitem__ treating keys as positions is deprecated. In a future version, integer keys will always be treated as labels (consistent with DataFrame behavior). To access a value by position, use `ser.iloc[pos]`\n",
      "  columns = [{'name': column, 'type': _convert_type(df.dtypes[ind].name)} for ind, column in enumerate(df.columns)]\n",
      "/home/domo/.conda/lib/python3.9/site-packages/domojupyter/io.py:125: FutureWarning: Series.__getitem__ treating keys as positions is deprecated. In a future version, integer keys will always be treated as labels (consistent with DataFrame behavior). To access a value by position, use `ser.iloc[pos]`\n",
      "  columns = [{'name': column, 'type': _convert_type(df.dtypes[ind].name)} for ind, column in enumerate(df.columns)]\n",
      "/home/domo/.conda/lib/python3.9/site-packages/domojupyter/io.py:125: FutureWarning: Series.__getitem__ treating keys as positions is deprecated. In a future version, integer keys will always be treated as labels (consistent with DataFrame behavior). To access a value by position, use `ser.iloc[pos]`\n",
      "  columns = [{'name': column, 'type': _convert_type(df.dtypes[ind].name)} for ind, column in enumerate(df.columns)]\n",
      "/home/domo/.conda/lib/python3.9/site-packages/domojupyter/io.py:125: FutureWarning: Series.__getitem__ treating keys as positions is deprecated. In a future version, integer keys will always be treated as labels (consistent with DataFrame behavior). To access a value by position, use `ser.iloc[pos]`\n",
      "  columns = [{'name': column, 'type': _convert_type(df.dtypes[ind].name)} for ind, column in enumerate(df.columns)]\n",
      "/home/domo/.conda/lib/python3.9/site-packages/domojupyter/io.py:125: FutureWarning: Series.__getitem__ treating keys as positions is deprecated. In a future version, integer keys will always be treated as labels (consistent with DataFrame behavior). To access a value by position, use `ser.iloc[pos]`\n",
      "  columns = [{'name': column, 'type': _convert_type(df.dtypes[ind].name)} for ind, column in enumerate(df.columns)]\n",
      "/home/domo/.conda/lib/python3.9/site-packages/domojupyter/io.py:125: FutureWarning: Series.__getitem__ treating keys as positions is deprecated. In a future version, integer keys will always be treated as labels (consistent with DataFrame behavior). To access a value by position, use `ser.iloc[pos]`\n",
      "  columns = [{'name': column, 'type': _convert_type(df.dtypes[ind].name)} for ind, column in enumerate(df.columns)]\n"
     ]
    }
   ],
   "source": [
    "import domojupyter as domo\n",
    "\n",
    "def main():\n",
    "    \n",
    "    creds = get_account_credentials('username_password_auth')\n",
    "    domo_instance = creds['DOMO_INSTANCE']\n",
    "    \n",
    "    session_token = get_full_auth(domo_username = creds['DOMO_USERNAME'],\n",
    "                                  domo_password = creds['DOMO_PASSWORD'],\n",
    "                                  domo_instance = domo_instance\n",
    "                                )\n",
    "\n",
    "    df = generate_domostats_get_accounts(domo_instance = domo_instance,\n",
    "                                         session_token = session_token)\n",
    "    \n",
    "\n",
    "    domo.write_dataframe(df, 'DomoStats - Accounts')\n",
    "    \n",
    "    \n",
    "main()"
   ]
  }
 ],
 "metadata": {
  "kernelspec": {
   "display_name": "Python 3.9",
   "language": "python",
   "name": "python_3_9"
  },
  "language_info": {
   "codemirror_mode": {
    "name": "ipython",
    "version": 3
   },
   "file_extension": ".py",
   "mimetype": "text/x-python",
   "name": "python",
   "nbconvert_exporter": "python",
   "pygments_lexer": "ipython3",
   "version": "3.9.13"
  }
 },
 "nbformat": 4,
 "nbformat_minor": 5
}
