{
 "cells": [
  {
   "cell_type": "markdown",
   "id": "416e4643-3929-401a-a290-c16f5fa669d3",
   "metadata": {},
   "source": [
    "# How do I send an API request?\n",
    "\n",
    "1. specifically how can i figure out the API request when there is no documentation?\n",
    "2. How does Domo handle authentication?\n",
    "\n",
    "**Domo uses \"username and password\" to generate an token which is then used to authenticate most API requests that get sent in the user interface.**\n",
    "\n",
    "1. Go to Data > Accounts to view a list of all accounts you have access to.\n",
    "\n",
    "2. Monitor network traffic (different for each browser -- Inspect > Network on Chrome) to see what API request is being sent to retrieve a list of auth objects.\n",
    "\n",
    "3. Find the API request.  Filter for \"providers\".  Examine the URL, headers, request Method (GET, PUT, POST, DELETE) and body<br>\n",
    "\n",
    "   usually you can right click the query and copy paste into raw text\n",
    "   \n",
    "   below, the CURL request had a few unnecessary attributes removed, but the cookie is handling authentication."
   ]
  },
  {
   "cell_type": "raw",
   "id": "e2bec108-314d-4d95-9921-ecf26f57de7b",
   "metadata": {},
   "source": [
    "curl 'https://domo-community.domo.com/api/data/v2/datasources/providers' \\\n",
    "  -H 'accept-language: en' \\\n",
    "  -H 'cookie: <REMOVED>\n",
    "  --compressed"
   ]
  },
  {
   "cell_type": "markdown",
   "id": "c2319cc6-ca05-4fe5-b4b1-4f3eb0dd6773",
   "metadata": {},
   "source": [
    "## convert an API request into a function\n",
    "- We will use the requests library to send an API request to the providers endpoint.\n",
    "- In the above sample, authentication is handled by the cookie.  in a later step we will show how to handle authentication in Domo.\n",
    "- Functions allow us to call snippets of code multiple times.\n",
    "Using functions improves legibility, recycle-ability, and maitainability of code\n"
   ]
  },
  {
   "cell_type": "code",
   "execution_count": 1,
   "id": "94c0d58d-df1c-491a-b0f8-afa5a4ad4078",
   "metadata": {
    "tags": []
   },
   "outputs": [
    {
     "data": {
      "text/plain": [
       "<Response [401]>"
      ]
     },
     "execution_count": 1,
     "metadata": {},
     "output_type": "execute_result"
    }
   ],
   "source": [
    "import requests\n",
    "\n",
    "DOMO_INSTANCE = 'domo-community' ## it's common practice to declare constants using all caps.\n",
    "\n",
    "def get_accounts(domo_instance):\n",
    "    # v1 does not accept authentication and therefore will fail\n",
    "    \n",
    "    url = f'https://{domo_instance}.domo.com/api/data/v2/datasources/providers'\n",
    "    \n",
    "    return requests.request(method = \"GET\",\n",
    "                            url = url)\n",
    "\n",
    "res = get_accounts(domo_instance = DOMO_INSTANCE)\n",
    "res"
   ]
  },
  {
   "cell_type": "markdown",
   "id": "b24bdbff-ac57-4f8a-a443-578b10014431",
   "metadata": {
    "tags": []
   },
   "source": [
    "### debugging what happened\n",
    "\n",
    "DEVELOPER_TIP\n",
    "- get comfortable googling \"example of sending an API request with the requests library\"\n",
    "- use the type() function to see the data type of the response\n",
    "\n",
    "the get_accounts function returns a class \"Response\" from the requests.request library\n",
    "the Response class has attributes like status_code and a method json() which allows us to view the response as a json object"
   ]
  },
  {
   "cell_type": "code",
   "execution_count": 2,
   "id": "54769366-26ab-46a5-9667-248933af6ff0",
   "metadata": {
    "tags": []
   },
   "outputs": [
    {
     "name": "stdout",
     "output_type": "stream",
     "text": [
      "<class 'requests.models.Response'>\n",
      "401\n",
      "{'status': 401, 'statusReason': 'Unauthorized', 'path': '/api/data/v2/datasources/providers', 'message': 'Full authentication is required to access this resource', 'toe': 'NYPSO7AJYW-7MPCT-WTWVN'}\n"
     ]
    }
   ],
   "source": [
    "print(type(res))\n",
    "print(res.status_code)\n",
    "print(res.json())\n",
    "\n",
    "# from the error message it's clear we need to pass authentication with our API request"
   ]
  },
  {
   "cell_type": "markdown",
   "id": "70e93111-f9a5-461e-9067-5980c301adfe",
   "metadata": {},
   "source": [
    "## Use Full Auth to handle Domo API Authentication\n",
    "\n",
    "- \"full authentication\" is not the same as client_id and secret authentication which can be retrieved from developer.domo.com\n",
    "\n",
    "- client_id and secret auth (we will call developer_token authentication moving forward) only applies to a small handful of APIs documented under developer.domo.com\n",
    "\n",
    "- \"full authentication actually has two flavors.<br>\n",
    "    - username and password authentication (session_token which has a short expiration date)\n",
    "    - access_token authentication (Admin > Security > Access Token) which tends to have a longer expiration date, we will cover this later\n",
    "\n",
    "\n",
    "DEVELOPER TIPS:\n",
    "- document the type we expect to receive for each input and output variable (str)\n",
    "- provide a document string (denoted in triple quotes) to describe what the function does\n",
    "- notice the use of logic to test for success"
   ]
  },
  {
   "cell_type": "code",
   "execution_count": 3,
   "id": "21beb207-e0b2-44d0-909e-6442ea4b2425",
   "metadata": {
    "tags": []
   },
   "outputs": [],
   "source": [
    "def get_full_auth(\n",
    "    domo_instance: str,\n",
    "    domo_username: str,\n",
    "    domo_password: str\n",
    ") -> str:  # returns a session token\n",
    "    \"\"\"use username and password to generate an access token\"\"\"\n",
    "\n",
    "    url = f\"https://{domo_instance}.domo.com/api/content/v2/authentication\"\n",
    "\n",
    "    body = {\n",
    "        \"method\": \"password\",\n",
    "        \"emailAddress\": domo_username,\n",
    "        \"password\": domo_password,\n",
    "    }\n",
    "\n",
    "    res = requests.request(method=\"POST\", url=url, json=body)\n",
    "    data = res.json()\n",
    "\n",
    "    token = data.get(\"sessionToken\")\n",
    "    \n",
    "    if not token:\n",
    "        raise Exception(\"unable to retrieve a session token\")\n",
    "\n",
    "    return token"
   ]
  },
  {
   "cell_type": "markdown",
   "id": "1b55b271-7d84-4640-8d54-0aa2f9820c11",
   "metadata": {
    "tags": []
   },
   "source": [
    "### handle sensitive credentials appropriately\n",
    "\n",
    "DO NOT STORE YOUR PASSWORD IN PLAIN TEXT on the internet!!<br>\n",
    "\n",
    "Instead use the Abstract Account object in Domo to store credentials.  They can only be seen in clear text in DomoJupyter and use the same encryption security platform as Domo connectors.\n",
    "\n",
    "1. create an abstract account object (Data > Accounts).\n",
    "2. store your credentials as a properly formatted json object<br>\n",
    "    { \"DOMO_USERNAME\": \"<your_username>\", \"DOMO_PASSWORD\": \"<your_password>\", \"DOMO_INSTANCE\": \"<domo_instance>\"}<br><br>\n",
    "3. edit this workspace to share the account with this notebook"
   ]
  },
  {
   "cell_type": "code",
   "execution_count": 4,
   "id": "d53e13a0-603b-4548-9ef2-92f68bae53c6",
   "metadata": {
    "tags": []
   },
   "outputs": [],
   "source": [
    "import domojupyter as domo\n",
    "# Requires domojupyter Python version 1.0.3\n",
    "\n",
    "# we will refactor the default script into a function\n",
    "# account_properties = domo.get_account_property_keys('username_password_auth')\n",
    "# account_property_value = domo.get_account_property_value('jw_username_password_auth', account_properties[0])\n",
    "\n",
    "\n",
    "def get_account_credentials(account_name):\n",
    "    \"\"\"version 1 of get_account credentaials\"\"\"\n",
    "    \n",
    "    account_properties = domo.get_account_property_keys(account_name)\n",
    "    return {prop: domo.get_account_property_value(account_name, prop) for prop in account_properties} # in python this technique is called a \"list comprehension\" its similar to a for loop\n",
    "\n",
    "creds = get_account_credentials(\"username_password_auth\")\n",
    "\n",
    "# umncomment to print your creds, and then recomment so that you don't save your file with your creds in clear text\n",
    "# creds "
   ]
  },
  {
   "cell_type": "markdown",
   "id": "b7f8d3ad-7cc9-49ad-ad0e-b8369ab27566",
   "metadata": {},
   "source": [
    "DEVELOPER TIPS\n",
    "you could have two functions, one for handling any account type, and one specifically for handling abstract credentials.\n",
    "\n",
    "in the case of abstract credentials, we only want the \"credentials\" key from the JSON created (notice the modified return statement)\n",
    "\n",
    "we'll pass an is_abstract_account boolean parameter with a default value of True (assumes we are usually"
   ]
  },
  {
   "cell_type": "code",
   "execution_count": 5,
   "id": "624bcae4-40ac-42c0-89cd-1d939787cbc6",
   "metadata": {},
   "outputs": [],
   "source": [
    "import json\n",
    "\n",
    "# to accommod\n",
    "def get_account_credentials(account_name, is_abstract_account: bool = True):\n",
    "    \"\"\"version 2 of get_account credentaials\"\"\"\n",
    "    \n",
    "    account_properties = domo.get_account_property_keys(account_name)\n",
    "    res = {prop: domo.get_account_property_value(account_name, prop) for prop in account_properties}\n",
    "    return json.loads(res['credentials'])\n",
    "\n",
    "creds = get_account_credentials(\"username_password_auth\")\n",
    "# creds"
   ]
  },
  {
   "cell_type": "markdown",
   "id": "3c5fac9d-d98f-434a-a959-f83329580f23",
   "metadata": {},
   "source": [
    "## put it all together\n",
    "1. retrieve username and password from an account object\n",
    "2. get a session token from get_full_auth\n",
    "3. authenticate our API request"
   ]
  },
  {
   "cell_type": "code",
   "execution_count": 6,
   "id": "69170328-f07a-4007-ac6d-b1c0ad86ae18",
   "metadata": {
    "tags": []
   },
   "outputs": [],
   "source": [
    "def get_accounts(domo_instance, session_token):\n",
    "    # v2 refactored to handle authentication\n",
    "    \n",
    "    headers = {\"x-domo-authentication\": session_token}\n",
    "    \n",
    "    url = f'https://{domo_instance}.domo.com/api/data/v2/datasources/providers'\n",
    "    \n",
    "    return requests.request(method = \"GET\",\n",
    "                            url = url,\n",
    "                            headers = headers\n",
    "                           )"
   ]
  },
  {
   "cell_type": "code",
   "execution_count": 7,
   "id": "3d0665f6-e734-426e-a0c5-0dd2bd0678e5",
   "metadata": {
    "tags": []
   },
   "outputs": [
    {
     "data": {
      "text/plain": [
       "<Response [200]>"
      ]
     },
     "execution_count": 7,
     "metadata": {},
     "output_type": "execute_result"
    }
   ],
   "source": [
    "creds = get_account_credentials('username_password_auth')\n",
    "\n",
    "domo_instance = creds['DOMO_INSTANCE']\n",
    "\n",
    "session_token = get_full_auth(domo_username = creds['DOMO_USERNAME'],\n",
    "                              domo_password = creds['DOMO_PASSWORD'],\n",
    "                              domo_instance = creds['DOMO_INSTANCE'] )\n",
    "\n",
    "get_accounts(domo_instance = domo_instance, session_token = session_token)\n"
   ]
  }
 ],
 "metadata": {
  "kernelspec": {
   "display_name": "Python 3.9",
   "language": "python",
   "name": "python_3_9"
  },
  "language_info": {
   "codemirror_mode": {
    "name": "ipython",
    "version": 3
   },
   "file_extension": ".py",
   "mimetype": "text/x-python",
   "name": "python",
   "nbconvert_exporter": "python",
   "pygments_lexer": "ipython3",
   "version": "3.9.13"
  }
 },
 "nbformat": 4,
 "nbformat_minor": 5
}
