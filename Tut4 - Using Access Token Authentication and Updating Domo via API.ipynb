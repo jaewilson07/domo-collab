{
 "cells": [
  {
   "cell_type": "markdown",
   "id": "70e93111-f9a5-461e-9067-5980c301adfe",
   "metadata": {},
   "source": [
    "# Tut4 - Using Access Token Authentication and Updating Domo via API\n",
    "In an ideal world Domo 'wants' you use Access Token authentication.\n",
    "\n",
    "Can we\n",
    "1. monitor network traffic to see how an access token gets issued\n",
    "2. capture that access token and upload it to an abstract account object in DomoJupyter?\n",
    "\n",
    "3. 🚧 for take home extra credit\n",
    "    - Using Tutorial 3 - create a dataset that lists available access tokens\n",
    "    - Using Tutorial 2 - create a function that revokes an access token\n",
    "\n",
    "RECALL:\n",
    "- client_id and secret auth (we will call developer_token authentication moving forward) only applies to a small handful of APIs documented under developer.domo.com\n",
    "\n",
    "- \"full authentication actually has two flavors.<br>\n",
    "    - username and password authentication (session_token which has a short expiration date)\n",
    "    - access_token authentication (Admin > Security > Access Token) which tends to have a longer expiration date, we will cover this later\n",
    "    \n",
    "DEVELOPER TIP\n",
    "- to have recycleable code, consider moving functions into a separate .py file in a subfolder.\n",
    "- notice you must have an `__ini__.py` file in the subfolder in order to import it as a module"
   ]
  },
  {
   "cell_type": "markdown",
   "id": "3b55c719-3ee5-4983-9308-89bccef91eb4",
   "metadata": {},
   "source": [
    "# Auth"
   ]
  },
  {
   "cell_type": "code",
   "execution_count": 1,
   "id": "ae537a33-b670-4989-9309-11ab802ba0eb",
   "metadata": {
    "tags": []
   },
   "outputs": [],
   "source": [
    "import functions.utils as utils\n",
    "import functions.auth as auth\n",
    "import functions.errors as errors"
   ]
  },
  {
   "cell_type": "code",
   "execution_count": 2,
   "id": "21cf3e80-9d4b-42fb-ba00-aed5983eb0cd",
   "metadata": {
    "tags": []
   },
   "outputs": [],
   "source": [
    "creds = utils.get_account_credentials(\"username_password_auth\", is_abstract_account=True)\n",
    "assert creds\n",
    "\n",
    "domo_instance = creds['DOMO_INSTANCE']"
   ]
  },
  {
   "cell_type": "code",
   "execution_count": 3,
   "id": "ec6cab69-d0cc-4848-aeb8-efcaf2f97414",
   "metadata": {
    "tags": []
   },
   "outputs": [],
   "source": [
    "session_token = auth.get_full_auth(domo_username = creds['DOMO_USERNAME'],\n",
    "                              domo_password = creds['DOMO_PASSWORD'],\n",
    "                              domo_instance = creds['DOMO_INSTANCE']\n",
    "                            )\n",
    "\n",
    "assert session_token"
   ]
  },
  {
   "cell_type": "code",
   "execution_count": 4,
   "id": "845ba6de-4526-4e43-bec8-937ebfca8818",
   "metadata": {
    "tags": []
   },
   "outputs": [
    {
     "data": {
      "text/plain": [
       "{'id': 1893952720,\n",
       " 'invitorUserId': 587894148,\n",
       " 'displayName': 'Jae Wilson1',\n",
       " 'department': 'Business Improvement',\n",
       " 'userName': 'jae@onyxreporting.com',\n",
       " 'emailAddress': 'jae@onyxreporting.com',\n",
       " 'avatarKey': 'c605f478-0cd2-4451-9fd4-d82090b71e66',\n",
       " 'accepted': True,\n",
       " 'userType': 'USER',\n",
       " 'modified': 1708035568417,\n",
       " 'created': 1588960518,\n",
       " 'active': True,\n",
       " 'pending': False,\n",
       " 'anonymous': False,\n",
       " 'systemUser': False}"
      ]
     },
     "execution_count": 4,
     "metadata": {},
     "output_type": "execute_result"
    }
   ],
   "source": [
    "import requests\n",
    "\n",
    "# ultimately we will move this to auth.py, but surfacing here since this is a new function for us\n",
    "\n",
    "def who_am_i(domo_instance, session_token):\n",
    "    \"\"\"uses session_token and returns who API request is authorized as\"\"\"\n",
    "    \n",
    "    headers = {\"x-domo-authentication\": session_token}\n",
    "    url = f\"https://{domo_instance}.domo.com/api/content/v2/users/me\"\n",
    "    \n",
    "    res = requests.request(method = 'GET', url = url, headers = headers)\n",
    "    \n",
    "    data = res.json()\n",
    "    \n",
    "    if not res.ok:\n",
    "        raise errors.DomoAPIRequest_Error(data)\n",
    "    return data\n",
    "\n",
    "who_am_i(domo_instance = domo_instance, session_token = session_token)"
   ]
  },
  {
   "cell_type": "markdown",
   "id": "4f7f7879-b98b-4fd1-9374-7145623aa8c6",
   "metadata": {},
   "source": [
    "## utils"
   ]
  },
  {
   "cell_type": "code",
   "execution_count": 5,
   "id": "03bcd5e0-c798-46fe-991e-b2b3c51bf5ab",
   "metadata": {
    "tags": []
   },
   "outputs": [
    {
     "name": "stdout",
     "output_type": "stream",
     "text": [
      "2024-02-28 02:50:32 is 5 days in the future\n"
     ]
    }
   ],
   "source": [
    "import datetime as dt\n",
    "import time\n",
    "def generate_expiration_unixtimestamp(\n",
    "    duration_in_days: int = 30, debug_prn: bool = False\n",
    "):\n",
    "    \"\"\"generate a unixtimestamp `duration_in_days` into the future\"\"\"\n",
    "\n",
    "    today = dt.datetime.today()\n",
    "    expiration_date = today + dt.timedelta(days=duration_in_days)\n",
    "\n",
    "    if debug_prn:\n",
    "        print(f\"expiration_date is {duration_in_days} from today {expiration_date}\")\n",
    "\n",
    "    return int(time.mktime(expiration_date.timetuple()) * 1000)\n",
    "\n",
    "print(f\"{dt.datetime.utcfromtimestamp(generate_expiration_unixtimestamp(5)/1000)} is 5 days in the future\")"
   ]
  },
  {
   "cell_type": "markdown",
   "id": "ca1619cb-6221-4829-999f-7ecdf777bea0",
   "metadata": {},
   "source": [
    "# Access Token\n"
   ]
  },
  {
   "cell_type": "code",
   "execution_count": 6,
   "id": "6d652024-cbc5-4c98-82e0-4cefc7b700df",
   "metadata": {},
   "outputs": [
    {
     "name": "stdout",
     "output_type": "stream",
     "text": [
      "🚀 generating token for 123 - will expire on 2024-03-24 02:50:32\n"
     ]
    },
    {
     "data": {
      "text/plain": [
       "{'name': 'test', 'ownerId': 123, 'expires': 1711248632000}"
      ]
     },
     "execution_count": 6,
     "metadata": {},
     "output_type": "execute_result"
    }
   ],
   "source": [
    "import datetime as dt\n",
    "\n",
    "def generate_request_accesstoken_body(token_name, owner_id, duration_in_days: int = 30, debug_prn: bool = False):\n",
    "    \n",
    "    expires_ts = generate_expiration_unixtimestamp(duration_in_days)\n",
    "    \n",
    "    res = {\"name\":token_name,\"ownerId\":owner_id,\"expires\":expires_ts}\n",
    "    \n",
    "    if debug_prn:\n",
    "        print(f\"🚀 generating token for {owner_id} - will expire on {dt.datetime.utcfromtimestamp(expires_ts/1000)}\")\n",
    "    \n",
    "    return res\n",
    "\n",
    "generate_request_accesstoken_body(token_name = 'test', owner_id = 123, debug_prn = True)"
   ]
  },
  {
   "cell_type": "code",
   "execution_count": 12,
   "id": "fcb69565-549b-4b18-9d3b-f50380c3d6b5",
   "metadata": {},
   "outputs": [
    {
     "data": {
      "text/plain": [
       "{'id': 186721,\n",
       " 'name': 'tutorial',\n",
       " 'ownerId': 1893952720,\n",
       " 'ownerName': 'Jae Wilson1',\n",
       " 'ownerEmail': 'jae@onyxreporting.com',\n",
       " 'expires': 1711249039000,\n",
       " 'token': '51f7ee083ff2306230dbdb780ba71435b57c6f5ae498709f'}"
      ]
     },
     "execution_count": 12,
     "metadata": {},
     "output_type": "execute_result"
    }
   ],
   "source": [
    "def request_access_token(\n",
    "    token_name : str,\n",
    "    session_token, \n",
    "    domo_instance,\n",
    "    duration_in_days : int= 30,\n",
    "    owner_id = None, # if no user_id provided, will generate for authenticated user\n",
    "    debug_prn:bool = False\n",
    "):\n",
    "    \n",
    "    # update user_id based on who_am_i\n",
    "    res = who_am_i(domo_instance = domo_instance, \n",
    "                   session_token = session_token)\n",
    "    \n",
    "    owner_id = owner_id or res['id']\n",
    "    \n",
    "    body = generate_request_accesstoken_body(token_name,\n",
    "                                             owner_id = owner_id,\n",
    "                                             duration_in_days = duration_in_days,\n",
    "                                             debug_prn = debug_prn)\n",
    "    \n",
    "    headers = {\"x-domo-authentication\": session_token}\n",
    "    \n",
    "    url = f'https://{domo_instance}.domo.com/api/data/v1/accesstokens'\n",
    "    \n",
    "    res = requests.request(method = 'POST', \n",
    "                           url = url, \n",
    "                           json = body,\n",
    "                           headers = headers)\n",
    "    \n",
    "    data = res.json()\n",
    "    \n",
    "    if not res.ok:\n",
    "        raise errors.DomoAPIRequest_Error(data)\n",
    "        \n",
    "    return data\n",
    "\n",
    "access_token = request_access_token(token_name = \"tutorial\", \n",
    "                                    session_token= session_token,\n",
    "                                    domo_instance = domo_instance\n",
    "                                   )\n",
    "access_token"
   ]
  },
  {
   "cell_type": "markdown",
   "id": "16226601-8a1f-4ebd-accb-19c45523416d",
   "metadata": {
    "tags": []
   },
   "source": [
    "## use an Abstract Account to store credentials\n",
    "\n",
    "Remember, once we retrieve the token, we'll never see it again in clear text\n",
    "\n",
    "How might we store it in an abstract account object?\n",
    "\n",
    "Remember in tutorial 3 we generated a DomoStats dataset.  \n",
    "1. retrieve the desired data\n",
    "2. structure the data the way we want it\n",
    "3. put it someplace\n",
    "\n",
    "At this point we have retrieved the data, now we just need to understand how the DomoAccounts api needs to receive the access token for storage\n",
    "\n",
    "1. monitor network traffic to see what it takes to store an abstract credential.\n",
    "\n",
    "Homework\n",
    "We don't always want to create a new account object, when we revoke and generate a new access_token, we probably just want to update the existing account object.  How might we.\n",
    "\n",
    "1. get_all_accounts (already done!)\n",
    "2. retrieve \"the correct\" account object (search by name)\n",
    "3. update \"the correct\" account object"
   ]
  },
  {
   "cell_type": "code",
   "execution_count": 20,
   "id": "185b40cd-b431-40ce-a557-43739935f1ca",
   "metadata": {
    "tags": []
   },
   "outputs": [
    {
     "data": {
      "text/plain": [
       "{'name': 'Abstract Credential Store Account',\n",
       " 'displayName': 'test - updated 2024-02-23',\n",
       " 'dataProviderType': 'abstract-credential-store',\n",
       " 'configurations': {'credentials': 'my creds go here'}}"
      ]
     },
     "execution_count": 20,
     "metadata": {},
     "output_type": "execute_result"
    }
   ],
   "source": [
    "import datetime as dt\n",
    "import json\n",
    "def generate_abstract_credential_account_body( account_name, credentials, is_timestamp: bool = True):\n",
    "    \n",
    "    # the API expects credentials to be type string, so conditionally convert dict to string\n",
    "    if isinstance(credentials, dict):\n",
    "        credentials = json.dumps(credentials)\n",
    "    \n",
    "    if is_timestamp:\n",
    "        account_name = f\"{account_name} - updated {dt.date.today()}\"\n",
    "    return {\"name\":\"Abstract Credential Store Account\",\n",
    "            \"displayName\": account_name,\n",
    "            \"dataProviderType\":\"abstract-credential-store\",\n",
    "            \"configurations\":{\"credentials\": credentials}}\n",
    "\n",
    "generate_abstract_credential_account_body( \"test\", \"my creds go here\", is_timestamp = True)\n"
   ]
  },
  {
   "cell_type": "code",
   "execution_count": 22,
   "id": "35b54d23-5d84-4912-9380-9c582fee6c22",
   "metadata": {},
   "outputs": [
    {
     "data": {
      "text/plain": [
       "{'id': 94,\n",
       " 'userId': 1893952720,\n",
       " 'name': 'Abstract Credential Store Account',\n",
       " 'displayName': 'my_domo_community_access_token - updated 2024-02-23',\n",
       " 'type': 'data',\n",
       " 'valid': False,\n",
       " 'dataProviderType': 'abstract-credential-store',\n",
       " 'credentialsType': 'fields',\n",
       " 'createdAt': None,\n",
       " 'createdBy': 1893952720,\n",
       " 'modifiedAt': None,\n",
       " 'modifiedBy': 1893952720,\n",
       " 'configurations': {},\n",
       " 'accountId': 94,\n",
       " 'accountTemplateId': None,\n",
       " 'accountTemplateAuthorizationId': None}"
      ]
     },
     "execution_count": 22,
     "metadata": {},
     "output_type": "execute_result"
    }
   ],
   "source": [
    "import requests\n",
    "def create_account(body, domo_instance, session_token):\n",
    "    url = f\"https://{domo_instance}.domo.com/api/data/v1/accounts\"\n",
    "    \n",
    "    headers = {\"x-domo-authentication\": session_token}\n",
    "    \n",
    "    res = requests.request(method = 'POST', url = url, json = body, headers = headers)\n",
    "    data = res.json()\n",
    "    \n",
    "    if not res.ok:\n",
    "        raise errors.DomoAPIRequest_Error(data)\n",
    "        \n",
    "    return data\n",
    "\n",
    "create_account_body = generate_abstract_credential_account_body(account_name = \"my_domo_community_access_token\", credentials = access_token)\n",
    "\n",
    "create_account(body = create_account_body,\n",
    "               domo_instance = domo_instance,\n",
    "               session_token = session_token)"
   ]
  },
  {
   "cell_type": "code",
   "execution_count": 23,
   "id": "3d0665f6-e734-426e-a0c5-0dd2bd0678e5",
   "metadata": {
    "tags": []
   },
   "outputs": [
    {
     "data": {
      "text/plain": [
       "{'id': 95,\n",
       " 'userId': 1893952720,\n",
       " 'name': 'my_domo_community_access_token - updated 2024-02-23 (2)',\n",
       " 'displayName': 'my_domo_community_access_token - updated 2024-02-23 (2)',\n",
       " 'type': 'data',\n",
       " 'valid': False,\n",
       " 'dataProviderType': 'abstract-credential-store',\n",
       " 'credentialsType': 'fields',\n",
       " 'createdAt': None,\n",
       " 'createdBy': 1893952720,\n",
       " 'modifiedAt': None,\n",
       " 'modifiedBy': 1893952720,\n",
       " 'configurations': {},\n",
       " 'accountId': 95,\n",
       " 'accountTemplateId': None,\n",
       " 'accountTemplateAuthorizationId': None}"
      ]
     },
     "execution_count": 23,
     "metadata": {},
     "output_type": "execute_result"
    }
   ],
   "source": [
    "\n",
    "def main():\n",
    "    \n",
    "    creds = utils.get_account_credentials(\"username_password_auth\", is_abstract_account=True)\n",
    "    domo_instance = creds['DOMO_INSTANCE']\n",
    "    \n",
    "    session_token = auth.get_full_auth(domo_username = creds['DOMO_USERNAME'],\n",
    "                              domo_password = creds['DOMO_PASSWORD'],\n",
    "                              domo_instance = creds['DOMO_INSTANCE']\n",
    "                            )\n",
    "    \n",
    "    access_token = request_access_token(token_name = \"b\", \n",
    "                                    session_token= session_token,\n",
    "                                    domo_instance = domo_instance\n",
    "                                   )\n",
    "    \n",
    "    create_account_body = generate_abstract_credential_account_body(account_name = \"my_domo_community_access_token\", credentials = access_token)\n",
    "\n",
    "    return create_account(body = create_account_body,\n",
    "               domo_instance = domo_instance,\n",
    "               session_token = session_token)\n",
    "\n",
    "main()"
   ]
  }
 ],
 "metadata": {
  "kernelspec": {
   "display_name": "Python 3.9",
   "language": "python",
   "name": "python_3_9"
  },
  "language_info": {
   "codemirror_mode": {
    "name": "ipython",
    "version": 3
   },
   "file_extension": ".py",
   "mimetype": "text/x-python",
   "name": "python",
   "nbconvert_exporter": "python",
   "pygments_lexer": "ipython3",
   "version": "3.9.13"
  }
 },
 "nbformat": 4,
 "nbformat_minor": 5
}
