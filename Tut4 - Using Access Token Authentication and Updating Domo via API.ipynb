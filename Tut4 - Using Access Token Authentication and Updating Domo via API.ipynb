{
    "cells": [
        {
            "cell_type": "markdown",
            "id": "70e93111-f9a5-461e-9067-5980c301adfe",
            "metadata": {},
            "source": [
                "# Tut4 - Automation. Using Access Token Authentication and Updating Domo via API\n",
                "\n",
                "In this tutorial we will generate an access_token and update an Account Object in Domo\n",
                "\n",
                "## 🎓 What is Automation or Integration?\n",
                "\n",
                "> \"I want to generate and store my access_token in Domo Accounts\"\n",
                "\n",
                "Writing Integrations = decomposing a multiple step process into smaller pieces.\n",
                "\n",
                "1. Use the UI to write down how you might approach this task by hand.\n",
                "2. Each mouse-click often corresponds to an API request. Stub out some functions to capture the activities you're taking\n",
                "3. Monitor network traffic to confirm assumptions.\n",
                "\n",
                "### Possible Solution\n",
                "\n",
                "1. Monitor network traffic to discover how to `get_all_access_tokens`, `generate_access_token`, `revoke_access_token`. Our goal is to create a function `regenerate_access_token` that can periodically revoke and reissue an updated access_token. Take note of the request body for any DELETE, POST, or PUT requests.\n",
                "\n",
                "2. To add a layer of logic over all these base functions, Write a function to `upsert_access_token` that accepts `user_id`, `token_name` and `duration` then either creates a new access token or revokes and regenerates an existing token\n",
                "\n",
                "3. Capture the result in a `domo_access_token` account type or `abstract_credentials_store` account type.\n",
                "   - write a function to `get_all_accounts` (or search_accounts)\n",
                "   - write a function to `create_domo_account`\n",
                "   - write a function to `update_domo_account`\n",
                "   - write a function to `update_domo_account_config` (note the process of updating Domo Account metadata is different from updating the configuration)\n",
                "   - wrap it all in a function `upsert_account`\n",
                "\n",
                "🎓 Theoretically, access_token based authentication is 'better' than username & password flow because it's easy to revoke an access_token without disrupting the end user experience. Also, because a user can have multiple access_tokens it allows administrators to have more fine grained control if revoking API based access becomes necessary\n"
            ]
        },
        {
            "cell_type": "markdown",
            "id": "014d46a8",
            "metadata": {},
            "source": [
                "### Utils\n"
            ]
        },
        {
            "cell_type": "code",
            "execution_count": 1,
            "id": "71ac38b2",
            "metadata": {},
            "outputs": [],
            "source": [
                "import datetime as dt\n",
                "\n",
                "\n",
                "def convert_domo_utc_to_datetime(timestamp):\n",
                "    return dt.datetime.fromtimestamp(timestamp / 1000, dt.timezone.utc)"
            ]
        },
        {
            "cell_type": "code",
            "execution_count": 2,
            "id": "f1271caf",
            "metadata": {},
            "outputs": [
                {
                    "data": {
                        "text/plain": [
                            "datetime.datetime(2030, 5, 13, 14, 47, 33, tzinfo=datetime.timezone.utc)"
                        ]
                    },
                    "execution_count": 2,
                    "metadata": {},
                    "output_type": "execute_result"
                }
            ],
            "source": [
                "# Domo returns token expiration date in unix time\n",
                "\n",
                "convert_domo_utc_to_datetime(1904914053000)"
            ]
        },
        {
            "cell_type": "code",
            "execution_count": 3,
            "id": "beb47e8b",
            "metadata": {},
            "outputs": [],
            "source": [
                "import time\n",
                "\n",
                "\n",
                "def generate_domo_expiration_unixtimestamp(\n",
                "    duration_in_days: int = 15, debug_prn: bool = False\n",
                "):\n",
                "    \"\"\"# the expiration date of the access token is calculated based off of x days into the future which must then be converted into a unix timestamp\"\"\"\n",
                "\n",
                "    today = dt.datetime.today()\n",
                "    expiration_date = today + dt.timedelta(days=duration_in_days)\n",
                "\n",
                "    if debug_prn:\n",
                "        print(f\"expiration_date is {duration_in_days} from today {expiration_date}\")\n",
                "\n",
                "    return int(time.mktime(expiration_date.timetuple()) * 1000)"
            ]
        },
        {
            "cell_type": "code",
            "execution_count": 4,
            "id": "a64533c6",
            "metadata": {},
            "outputs": [
                {
                    "data": {
                        "text/plain": [
                            "1712540367000"
                        ]
                    },
                    "execution_count": 4,
                    "metadata": {},
                    "output_type": "execute_result"
                }
            ],
            "source": [
                "# the expiration date of the access token is calculated based off of x days into the future which must then be converted into a unix timestamp\n",
                "\n",
                "generate_domo_expiration_unixtimestamp(duration_in_days=15)"
            ]
        },
        {
            "cell_type": "markdown",
            "id": "3b55c719-3ee5-4983-9308-89bccef91eb4",
            "metadata": {},
            "source": [
                "# Auth\n"
            ]
        },
        {
            "cell_type": "code",
            "execution_count": 5,
            "id": "ca408cfe",
            "metadata": {},
            "outputs": [
                {
                    "data": {
                        "text/plain": [
                            "True"
                        ]
                    },
                    "execution_count": 5,
                    "metadata": {},
                    "output_type": "execute_result"
                }
            ],
            "source": [
                "from dotenv import load_dotenv\n",
                "\n",
                "load_dotenv(\".env\")"
            ]
        },
        {
            "cell_type": "code",
            "execution_count": 6,
            "id": "5bf27aaa",
            "metadata": {},
            "outputs": [],
            "source": [
                "from solutions.auth import get_session_token\n",
                "import os\n",
                "\n",
                "DOMO_INSTANCE = \"domo-community\"\n",
                "DOMO_USERNAME = os.environ[\"DOMO_USERNAME\"]\n",
                "DOMO_PASSWORD = os.environ[\"DOMO_PASSWORD\"]\n",
                "\n",
                "assert DOMO_USERNAME and DOMO_PASSWORD\n",
                "\n",
                "\n",
                "def get_instance_session_token(domo_username, domo_password, domo_instance):\n",
                "    return get_session_token(\n",
                "        domo_instance=domo_instance,\n",
                "        domo_password=domo_password,\n",
                "        domo_username=domo_username,\n",
                "    )\n",
                "\n",
                "\n",
                "test_session_token = get_instance_session_token(\n",
                "    domo_username=DOMO_USERNAME,\n",
                "    domo_password=DOMO_PASSWORD,\n",
                "    domo_instance=DOMO_INSTANCE,\n",
                ")\n",
                "\n",
                "assert test_session_token"
            ]
        },
        {
            "cell_type": "markdown",
            "id": "406f9690",
            "metadata": {},
            "source": [
                "# Access Tokens\n"
            ]
        },
        {
            "cell_type": "code",
            "execution_count": 7,
            "id": "da7ed383",
            "metadata": {},
            "outputs": [],
            "source": [
                "from  solutions.access_tokens import get_all_access_tokens\n",
                "\n",
                "# import requests\n",
                "# from solutions.client import ResponseClass\n",
                "# from solutions.utils import convert_domo_utc_to_datetime\n",
                "\n",
                "\n",
                "# def get_all_access_tokens(\n",
                "#     domo_instance,\n",
                "#     session_token=None,\n",
                "#     headers=None,\n",
                "#     return_raw: bool = False,\n",
                "#     debug_api: bool = False,\n",
                "# ):\n",
                "\n",
                "#     url = f\"https://{domo_instance}.domo.com/api/data/v1/accesstokens\"\n",
                "\n",
                "#     headers = headers or {}\n",
                "\n",
                "#     if session_token:\n",
                "#         headers.update({\"x-domo-authentication\": session_token})\n",
                "\n",
                "#     if debug_api:\n",
                "#         print({\"url\": url, \"headers\": headers})\n",
                "\n",
                "#     res = requests.request(\n",
                "#         url=url,\n",
                "#         method=\"GET\",\n",
                "#         headers=headers,\n",
                "#     )\n",
                "\n",
                "#     res = ResponseClass.from_request_response(res)\n",
                "\n",
                "#     if return_raw:\n",
                "#         return res\n",
                "\n",
                "#     [\n",
                "#         token.update({\"expires\": convert_domo_utc_to_datetime(token[\"expires\"])})\n",
                "#         for token in res.response\n",
                "#     ]\n",
                "\n",
                "#     return res"
            ]
        },
        {
            "cell_type": "code",
            "execution_count": 8,
            "id": "b131b65f",
            "metadata": {},
            "outputs": [
                {
                    "data": {
                        "text/html": [
                            "<div>\n",
                            "<style scoped>\n",
                            "    .dataframe tbody tr th:only-of-type {\n",
                            "        vertical-align: middle;\n",
                            "    }\n",
                            "\n",
                            "    .dataframe tbody tr th {\n",
                            "        vertical-align: top;\n",
                            "    }\n",
                            "\n",
                            "    .dataframe thead th {\n",
                            "        text-align: right;\n",
                            "    }\n",
                            "</style>\n",
                            "<table border=\"1\" class=\"dataframe\">\n",
                            "  <thead>\n",
                            "    <tr style=\"text-align: right;\">\n",
                            "      <th></th>\n",
                            "      <th>id</th>\n",
                            "      <th>name</th>\n",
                            "      <th>ownerId</th>\n",
                            "      <th>ownerName</th>\n",
                            "      <th>ownerEmail</th>\n",
                            "      <th>expires</th>\n",
                            "    </tr>\n",
                            "  </thead>\n",
                            "  <tbody>\n",
                            "    <tr>\n",
                            "      <th>0</th>\n",
                            "      <td>156180</td>\n",
                            "      <td>Governance</td>\n",
                            "      <td>587894148</td>\n",
                            "      <td>None</td>\n",
                            "      <td>None</td>\n",
                            "      <td>1904914053000</td>\n",
                            "    </tr>\n",
                            "    <tr>\n",
                            "      <th>1</th>\n",
                            "      <td>159191</td>\n",
                            "      <td>Java CLI</td>\n",
                            "      <td>1345408759</td>\n",
                            "      <td>None</td>\n",
                            "      <td>None</td>\n",
                            "      <td>1911327081000</td>\n",
                            "    </tr>\n",
                            "    <tr>\n",
                            "      <th>2</th>\n",
                            "      <td>163868</td>\n",
                            "      <td>Governance</td>\n",
                            "      <td>1345408759</td>\n",
                            "      <td>None</td>\n",
                            "      <td>None</td>\n",
                            "      <td>1920056760000</td>\n",
                            "    </tr>\n",
                            "    <tr>\n",
                            "      <th>3</th>\n",
                            "      <td>168840</td>\n",
                            "      <td>Dataset Copy</td>\n",
                            "      <td>1345408759</td>\n",
                            "      <td>None</td>\n",
                            "      <td>None</td>\n",
                            "      <td>1929380114000</td>\n",
                            "    </tr>\n",
                            "    <tr>\n",
                            "      <th>4</th>\n",
                            "      <td>182879</td>\n",
                            "      <td>S3 Export</td>\n",
                            "      <td>68216396</td>\n",
                            "      <td>None</td>\n",
                            "      <td>None</td>\n",
                            "      <td>1665197515000</td>\n",
                            "    </tr>\n",
                            "  </tbody>\n",
                            "</table>\n",
                            "</div>"
                        ],
                        "text/plain": [
                            "       id          name     ownerId ownerName ownerEmail        expires\n",
                            "0  156180    Governance   587894148      None       None  1904914053000\n",
                            "1  159191      Java CLI  1345408759      None       None  1911327081000\n",
                            "2  163868    Governance  1345408759      None       None  1920056760000\n",
                            "3  168840  Dataset Copy  1345408759      None       None  1929380114000\n",
                            "4  182879     S3 Export    68216396      None       None  1665197515000"
                        ]
                    },
                    "execution_count": 8,
                    "metadata": {},
                    "output_type": "execute_result"
                }
            ],
            "source": [
                "import pandas as pd\n",
                "\n",
                "res = get_all_access_tokens(\n",
                "    session_token=test_session_token,\n",
                "    domo_instance=DOMO_INSTANCE,\n",
                "    return_raw=True,\n",
                "    debug_api=False,\n",
                ")\n",
                "test_access_tokens = res.response\n",
                "pd.DataFrame(test_access_tokens)[0:5]"
            ]
        },
        {
            "cell_type": "code",
            "execution_count": 9,
            "id": "410eded4",
            "metadata": {},
            "outputs": [
                {
                    "data": {
                        "text/plain": [
                            "{'id': 187009,\n",
                            " 'name': 'dp24',\n",
                            " 'ownerId': 85654293,\n",
                            " 'ownerName': None,\n",
                            " 'ownerEmail': None,\n",
                            " 'expires': 1712537469000}"
                        ]
                    },
                    "execution_count": 9,
                    "metadata": {},
                    "output_type": "execute_result"
                }
            ],
            "source": [
                "def search_tokens_by_user_id_and_token_name(\n",
                "    session_token, domo_instance, user_id, token_name\n",
                "):\n",
                "    res = get_all_access_tokens(\n",
                "        session_token=session_token,\n",
                "        domo_instance=domo_instance,\n",
                "        return_raw=True,\n",
                "        debug_api=False,\n",
                "    )\n",
                "\n",
                "    all_tokens = res.response\n",
                "\n",
                "    return next(\n",
                "        (\n",
                "            token\n",
                "            for token in all_tokens\n",
                "            if token[\"name\"] == token_name and token[\"ownerId\"] == user_id\n",
                "        ),\n",
                "        None,\n",
                "    )\n",
                "\n",
                "\n",
                "test_token = search_tokens_by_user_id_and_token_name(\n",
                "    session_token=test_session_token,\n",
                "    domo_instance=DOMO_INSTANCE,\n",
                "    user_id=85654293,\n",
                "    token_name=\"dp24\",\n",
                ")\n",
                "\n",
                "test_token"
            ]
        },
        {
            "cell_type": "markdown",
            "id": "114b2c05",
            "metadata": {},
            "source": [
                "# Users\n"
            ]
        },
        {
            "cell_type": "code",
            "execution_count": 10,
            "id": "75da1f6b",
            "metadata": {},
            "outputs": [],
            "source": [
                "from solutions.users import get_user_by_id\n",
                "\n",
                "# def get_user_by_id(\n",
                "#     domo_instance,\n",
                "#     user_id: int,\n",
                "#     session_token=None,\n",
                "#     headers=None,\n",
                "#     return_raw: bool = False,\n",
                "#     debug_api: bool = False,\n",
                "# ):\n",
                "#     url = f\"https://{domo_instance}.domo.com/api/content/v2/users/{user_id}\"\n",
                "\n",
                "#     headers = headers or {}\n",
                "\n",
                "#     if session_token:\n",
                "#         headers.update({\"x-domo-authentication\": session_token})\n",
                "\n",
                "#     if debug_api:\n",
                "#         print({\"url\": url, \"headers\": headers})\n",
                "\n",
                "#     res = requests.request(\n",
                "#         url=url,\n",
                "#         method=\"GET\",\n",
                "#         headers=headers,\n",
                "#     )\n",
                "\n",
                "#     res = ResponseClass.from_request_response(res)\n",
                "\n",
                "#     if return_raw:\n",
                "#         return res\n",
                "\n",
                "#     return res"
            ]
        },
        {
            "cell_type": "code",
            "execution_count": 11,
            "id": "0c5b7ea7",
            "metadata": {},
            "outputs": [
                {
                    "data": {
                        "text/plain": [
                            "ResponseClass(status=200, is_success=True, response={'id': 85654293, 'invitorUserId': 1893952720, 'displayName': 'test_and_delete', 'userName': 'test29@test.com', 'emailAddress': 'dp24@test.com', 'accepted': True, 'userType': 'USER', 'modified': 1711055143017, 'created': 1695810562, 'active': True, 'anonymous': True, 'systemUser': False, 'pending': True})"
                        ]
                    },
                    "execution_count": 11,
                    "metadata": {},
                    "output_type": "execute_result"
                }
            ],
            "source": [
                "get_user_by_id(\n",
                "    domo_instance=DOMO_INSTANCE,\n",
                "    session_token=test_session_token,\n",
                "    user_id=85654293,\n",
                "    debug_api=False,\n",
                ")"
            ]
        },
        {
            "cell_type": "code",
            "execution_count": 12,
            "id": "8c264466",
            "metadata": {},
            "outputs": [],
            "source": [
                "from solutions.access_tokens import generate_access_token\n",
                "\n",
                "from pprint import pprint\n",
                "\n",
                "\n",
                "# def generate_access_token(\n",
                "#     domo_instance,\n",
                "#     token_name: str,\n",
                "#     user_id,\n",
                "#     duration_in_days: 15,\n",
                "#     session_token=None,\n",
                "#     headers=None,\n",
                "#     return_raw: bool = False,\n",
                "#     debug_api: bool = False,\n",
                "# ):\n",
                "#     url = f\"https://{domo_instance}.domo.com/api/data/v1/accesstokens\"\n",
                "\n",
                "#     expiration_timestamp = generate_domo_expiration_unixtimestamp(\n",
                "#         duration_in_days=duration_in_days\n",
                "#     )\n",
                "\n",
                "#     body = {\"name\": token_name, \"ownerId\": user_id, \"expires\": expiration_timestamp}\n",
                "\n",
                "#     headers = headers or {}\n",
                "\n",
                "#     if session_token:\n",
                "#         headers.update({\"x-domo-authentication\": session_token})\n",
                "\n",
                "#     if debug_api:\n",
                "#         pprint({\"url\": url, \"headers\": headers, \"body\": body})\n",
                "\n",
                "#     res = requests.request(method=\"post\", url=url, json=body, headers=headers)\n",
                "\n",
                "#     res = ResponseClass.from_request_response(res)\n",
                "#     if return_raw:\n",
                "#         return res\n",
                "\n",
                "#     return res"
            ]
        },
        {
            "cell_type": "code",
            "execution_count": 13,
            "id": "38fb068a",
            "metadata": {},
            "outputs": [
                {
                    "data": {
                        "text/plain": [
                            "ResponseClass(status=200, is_success=True, response={'id': 187016, 'name': 'dp24', 'ownerId': 85654293, 'ownerName': 'test_and_delete', 'ownerEmail': 'dp24@test.com', 'expires': 1712540369000, 'token': '9f2134452e356b880e802f29b015e1cd58a489d686a96b18'})"
                        ]
                    },
                    "execution_count": 13,
                    "metadata": {},
                    "output_type": "execute_result"
                }
            ],
            "source": [
                "generate_access_token(\n",
                "    domo_instance=DOMO_INSTANCE,\n",
                "    session_token=test_session_token,\n",
                "    token_name=\"dp24\",\n",
                "    duration_in_days=15,\n",
                "    user_id=85654293,\n",
                "    debug_api=False,\n",
                ")"
            ]
        },
        {
            "cell_type": "code",
            "execution_count": 17,
            "id": "a4b9898c",
            "metadata": {},
            "outputs": [
                {
                    "data": {
                        "text/plain": [
                            "{'id': 187009,\n",
                            " 'name': 'dp24',\n",
                            " 'ownerId': 85654293,\n",
                            " 'ownerName': None,\n",
                            " 'ownerEmail': None,\n",
                            " 'expires': 1712537469000}"
                        ]
                    },
                    "execution_count": 17,
                    "metadata": {},
                    "output_type": "execute_result"
                }
            ],
            "source": [
                "from solutions.access_tokens import revoke_access_token\n",
                "# def revoke_access_token(\n",
                "#     domo_instance,\n",
                "#     access_token_id,\n",
                "#     session_token=None,\n",
                "#     headers=None,\n",
                "#     return_raw: bool = False,\n",
                "#     debug_api: bool = False,\n",
                "# ):\n",
                "\n",
                "#     url = f\"https://{domo_instance}.domo.com/api/data/v1/accesstokens/{access_token_id}\"\n",
                "\n",
                "#     headers = headers or {}\n",
                "\n",
                "#     if session_token:\n",
                "#         headers.update({\"x-domo-authentication\": session_token})\n",
                "\n",
                "#     if debug_api:\n",
                "#         pprint({\"url\": url, \"headers\": headers})\n",
                "\n",
                "#     res = requests.request(method=\"DELETE\", url=url, headers=headers)\n",
                "\n",
                "#     res = ResponseClass.from_request_response(res)\n",
                "#     if return_raw:\n",
                "#         return res\n",
                "\n",
                "#     res.response = f\"access token {access_token_id} deleted\"\n",
                "#     return res\n",
                "\n",
                "\n",
                "generate_access_token(\n",
                "    domo_instance=DOMO_INSTANCE,\n",
                "    session_token=test_session_token,\n",
                "    token_name=\"dp24\",\n",
                "    duration_in_days=15,\n",
                "    user_id=85654293,\n",
                "    debug_api=False,\n",
                ")\n",
                "\n",
                "test_token = search_tokens_by_user_id_and_token_name(\n",
                "    session_token=test_session_token,\n",
                "    domo_instance=DOMO_INSTANCE,\n",
                "    user_id=85654293,\n",
                "    token_name=\"dp24\",\n",
                ")\n",
                "\n",
                "if not test_token:\n",
                "    raise Exception(\"no token\")\n",
                "\n",
                "# res =revoke_access_token(domo_instance = DOMO_INSTANCE,\n",
                "#                     session_token=test_session_token,\n",
                "#                     access_token_id=test_token['id'],\n",
                "#                     return_raw=False,\n",
                "#                     debug_api=False)\n",
                "\n",
                "test_token"
            ]
        },
        {
            "cell_type": "markdown",
            "id": "c8208feb",
            "metadata": {},
            "source": [
                "# Domo Accounts\n"
            ]
        },
        {
            "cell_type": "code",
            "execution_count": 18,
            "id": "5758a03b",
            "metadata": {},
            "outputs": [],
            "source": [
                "from solutions.accounts import get_accounts_v2\n",
                "\n",
                "# def get_accounts_v2(domo_instance, session_token, debug_api: bool = False):\n",
                "\n",
                "#     url = f\"https://{domo_instance}.domo.com/api/data/v1/accounts\"\n",
                "\n",
                "#     headers = {\"x-domo-authentication\": session_token}\n",
                "\n",
                "#     if debug_api:\n",
                "#         pprint({\"url\": url, \"headers\": headers})\n",
                "\n",
                "#     res = requests.request(method=\"GET\", url=url, headers=headers)\n",
                "\n",
                "#     res = ResponseClass.from_request_response(res)\n",
                "\n",
                "#     if not res.is_success:\n",
                "#         raise DomoAPIRequest_Error(get_all_domo_accounts.__name__, res)\n",
                "\n",
                "#     return res"
            ]
        },
        {
            "cell_type": "code",
            "execution_count": 19,
            "id": "d22041e0",
            "metadata": {},
            "outputs": [
                {
                    "data": {
                        "text/html": [
                            "<div>\n",
                            "<style scoped>\n",
                            "    .dataframe tbody tr th:only-of-type {\n",
                            "        vertical-align: middle;\n",
                            "    }\n",
                            "\n",
                            "    .dataframe tbody tr th {\n",
                            "        vertical-align: top;\n",
                            "    }\n",
                            "\n",
                            "    .dataframe thead th {\n",
                            "        text-align: right;\n",
                            "    }\n",
                            "</style>\n",
                            "<table border=\"1\" class=\"dataframe\">\n",
                            "  <thead>\n",
                            "    <tr style=\"text-align: right;\">\n",
                            "      <th></th>\n",
                            "      <th>id</th>\n",
                            "      <th>userId</th>\n",
                            "      <th>name</th>\n",
                            "      <th>displayName</th>\n",
                            "      <th>type</th>\n",
                            "      <th>valid</th>\n",
                            "      <th>dataProviderType</th>\n",
                            "      <th>credentialsType</th>\n",
                            "      <th>createdAt</th>\n",
                            "      <th>createdBy</th>\n",
                            "      <th>modifiedAt</th>\n",
                            "      <th>modifiedBy</th>\n",
                            "      <th>configurations</th>\n",
                            "      <th>accountId</th>\n",
                            "      <th>accountTemplateId</th>\n",
                            "      <th>accountTemplateAuthorizationId</th>\n",
                            "    </tr>\n",
                            "  </thead>\n",
                            "  <tbody>\n",
                            "    <tr>\n",
                            "      <th>0</th>\n",
                            "      <td>1</td>\n",
                            "      <td>1893952720</td>\n",
                            "      <td>DataSet Copy Account</td>\n",
                            "      <td>dsa - northshore</td>\n",
                            "      <td>data</td>\n",
                            "      <td>True</td>\n",
                            "      <td>dataset-copy</td>\n",
                            "      <td>fields</td>\n",
                            "      <td>1589100087000</td>\n",
                            "      <td>1893952720</td>\n",
                            "      <td>1698071224000</td>\n",
                            "      <td>1893952720</td>\n",
                            "      <td>{}</td>\n",
                            "      <td>1</td>\n",
                            "      <td>None</td>\n",
                            "      <td>None</td>\n",
                            "    </tr>\n",
                            "    <tr>\n",
                            "      <th>1</th>\n",
                            "      <td>27</td>\n",
                            "      <td>1893952720</td>\n",
                            "      <td>DataSet Copy Account</td>\n",
                            "      <td>DataSet Copy Account</td>\n",
                            "      <td>data</td>\n",
                            "      <td>True</td>\n",
                            "      <td>domo-csv</td>\n",
                            "      <td>fields</td>\n",
                            "      <td>1619083568000</td>\n",
                            "      <td>1893952720</td>\n",
                            "      <td>1619083568000</td>\n",
                            "      <td>1893952720</td>\n",
                            "      <td>{}</td>\n",
                            "      <td>27</td>\n",
                            "      <td>None</td>\n",
                            "      <td>None</td>\n",
                            "    </tr>\n",
                            "    <tr>\n",
                            "      <th>2</th>\n",
                            "      <td>45</td>\n",
                            "      <td>1893952720</td>\n",
                            "      <td>onyxReporting@gmail.com</td>\n",
                            "      <td>test-goolesheets</td>\n",
                            "      <td>data</td>\n",
                            "      <td>True</td>\n",
                            "      <td>google-spreadsheets</td>\n",
                            "      <td>oauth</td>\n",
                            "      <td>1664924354000</td>\n",
                            "      <td>1893952720</td>\n",
                            "      <td>1682350828000</td>\n",
                            "      <td>1893952720</td>\n",
                            "      <td>{}</td>\n",
                            "      <td>45</td>\n",
                            "      <td>None</td>\n",
                            "      <td>None</td>\n",
                            "    </tr>\n",
                            "    <tr>\n",
                            "      <th>3</th>\n",
                            "      <td>70</td>\n",
                            "      <td>1893952720</td>\n",
                            "      <td>jaemyong.wilson@sony.com</td>\n",
                            "      <td>jaemyong.wilson@sony.com</td>\n",
                            "      <td>data</td>\n",
                            "      <td>True</td>\n",
                            "      <td>google-spreadsheets</td>\n",
                            "      <td>oauth</td>\n",
                            "      <td>1682511651000</td>\n",
                            "      <td>1893952720</td>\n",
                            "      <td>1682511651000</td>\n",
                            "      <td>1893952720</td>\n",
                            "      <td>{}</td>\n",
                            "      <td>70</td>\n",
                            "      <td>None</td>\n",
                            "      <td>None</td>\n",
                            "    </tr>\n",
                            "    <tr>\n",
                            "      <th>4</th>\n",
                            "      <td>71</td>\n",
                            "      <td>1893952720</td>\n",
                            "      <td>domo_creds</td>\n",
                            "      <td>domolibrary test account - updated 2024-03-23</td>\n",
                            "      <td>data</td>\n",
                            "      <td>True</td>\n",
                            "      <td>abstract-credential-store</td>\n",
                            "      <td>fields</td>\n",
                            "      <td>1684447092000</td>\n",
                            "      <td>1893952720</td>\n",
                            "      <td>1711223529000</td>\n",
                            "      <td>1893952720</td>\n",
                            "      <td>{}</td>\n",
                            "      <td>71</td>\n",
                            "      <td>None</td>\n",
                            "      <td>None</td>\n",
                            "    </tr>\n",
                            "  </tbody>\n",
                            "</table>\n",
                            "</div>"
                        ],
                        "text/plain": [
                            "   id      userId                      name  \\\n",
                            "0   1  1893952720      DataSet Copy Account   \n",
                            "1  27  1893952720      DataSet Copy Account   \n",
                            "2  45  1893952720   onyxReporting@gmail.com   \n",
                            "3  70  1893952720  jaemyong.wilson@sony.com   \n",
                            "4  71  1893952720                domo_creds   \n",
                            "\n",
                            "                                     displayName  type  valid  \\\n",
                            "0                               dsa - northshore  data   True   \n",
                            "1                           DataSet Copy Account  data   True   \n",
                            "2                               test-goolesheets  data   True   \n",
                            "3                       jaemyong.wilson@sony.com  data   True   \n",
                            "4  domolibrary test account - updated 2024-03-23  data   True   \n",
                            "\n",
                            "            dataProviderType credentialsType      createdAt   createdBy  \\\n",
                            "0               dataset-copy          fields  1589100087000  1893952720   \n",
                            "1                   domo-csv          fields  1619083568000  1893952720   \n",
                            "2        google-spreadsheets           oauth  1664924354000  1893952720   \n",
                            "3        google-spreadsheets           oauth  1682511651000  1893952720   \n",
                            "4  abstract-credential-store          fields  1684447092000  1893952720   \n",
                            "\n",
                            "      modifiedAt  modifiedBy configurations  accountId accountTemplateId  \\\n",
                            "0  1698071224000  1893952720             {}          1              None   \n",
                            "1  1619083568000  1893952720             {}         27              None   \n",
                            "2  1682350828000  1893952720             {}         45              None   \n",
                            "3  1682511651000  1893952720             {}         70              None   \n",
                            "4  1711223529000  1893952720             {}         71              None   \n",
                            "\n",
                            "  accountTemplateAuthorizationId  \n",
                            "0                           None  \n",
                            "1                           None  \n",
                            "2                           None  \n",
                            "3                           None  \n",
                            "4                           None  "
                        ]
                    },
                    "execution_count": 19,
                    "metadata": {},
                    "output_type": "execute_result"
                }
            ],
            "source": [
                "res = get_accounts_v2(\n",
                "    domo_instance=DOMO_INSTANCE, session_token=test_session_token\n",
                ")\n",
                "pd.DataFrame(res.response[0:5])"
            ]
        },
        {
            "cell_type": "code",
            "execution_count": 21,
            "id": "185b40cd-b431-40ce-a557-43739935f1ca",
            "metadata": {
                "tags": []
            },
            "outputs": [
                {
                    "data": {
                        "text/plain": [
                            "{'name': 'Abstract Credential Store Account',\n",
                            " 'displayName': 'test - updated 2024-03-23',\n",
                            " 'dataProviderType': 'abstract-credential-store',\n",
                            " 'configurations': {'credentials': 'my creds go here'}}"
                        ]
                    },
                    "execution_count": 21,
                    "metadata": {},
                    "output_type": "execute_result"
                }
            ],
            "source": [
                "from solutions.accounts import generate_account__abstract_credential_store_body\n",
                "# import datetime as dt\n",
                "# import json\n",
                "\n",
                "\n",
                "# def generate_account__abstract_credential_store_body(\n",
                "#     account_name, credentials, is_timestamp: bool = True\n",
                "# ):\n",
                "\n",
                "#     # the API expects credentials to be type string, so conditionally convert dict to string\n",
                "#     if isinstance(credentials, dict):\n",
                "#         credentials = json.dumps(credentials)\n",
                "\n",
                "#     if is_timestamp:\n",
                "#         account_name = f\"{account_name} - updated {dt.date.today()}\"\n",
                "#     return {\n",
                "#         \"name\": \"Abstract Credential Store Account\",\n",
                "#         \"displayName\": account_name,\n",
                "#         \"dataProviderType\": \"abstract-credential-store\",\n",
                "#         \"configurations\": {\"credentials\": credentials},\n",
                "#     }\n",
                "\n",
                "\n",
                "generate_account__abstract_credential_store_body(\n",
                "    \"test\", \"my creds go here\", is_timestamp=True\n",
                ")"
            ]
        },
        {
            "cell_type": "code",
            "execution_count": 22,
            "id": "b6b867a6",
            "metadata": {},
            "outputs": [
                {
                    "data": {
                        "text/plain": [
                            "{'name': 'Domo Access Token Account',\n",
                            " 'displayName': 'jw_dp24',\n",
                            " 'dataProviderType': 'domo-access-token',\n",
                            " 'configurations': {'domoAccessToken': {'123'},\n",
                            "  'username': {'jae@test.com'},\n",
                            "  'password': {123}}}"
                        ]
                    },
                    "execution_count": 22,
                    "metadata": {},
                    "output_type": "execute_result"
                }
            ],
            "source": [
                "from solutions.accounts import generate_account__access_token_body\n",
                "# def generate_account__access_token_body(\n",
                "#     account_name, access_token=None, username=None, password=None\n",
                "# ):\n",
                "#     return {\n",
                "#         \"name\": \"Domo Access Token Account\",\n",
                "#         \"displayName\": account_name,\n",
                "#         \"dataProviderType\": \"domo-access-token\",\n",
                "#         \"configurations\": {\n",
                "#             \"domoAccessToken\": {access_token},\n",
                "#             \"username\": {username},\n",
                "#             \"password\": {password},\n",
                "#         },\n",
                "#     }\n",
                "\n",
                "\n",
                "generate_account__access_token_body(\n",
                "    account_name=\"jw_dp24\", access_token=\"123\", username=\"jae@test.com\", password=123\n",
                ")"
            ]
        },
        {
            "cell_type": "code",
            "execution_count": 23,
            "id": "35b54d23-5d84-4912-9380-9c582fee6c22",
            "metadata": {},
            "outputs": [
                {
                    "data": {
                        "text/plain": [
                            "ResponseClass(status=200, is_success=True, response={'id': 105, 'userId': 1893952720, 'name': 'my_domo_community_access_token - updated 2024-03-23 (5)', 'displayName': 'my_domo_community_access_token - updated 2024-03-23 (5)', 'type': 'data', 'valid': False, 'dataProviderType': 'abstract-credential-store', 'credentialsType': 'fields', 'createdAt': None, 'createdBy': 1893952720, 'modifiedAt': None, 'modifiedBy': 1893952720, 'configurations': {}, 'accountId': 105, 'accountTemplateId': None, 'accountTemplateAuthorizationId': None})"
                        ]
                    },
                    "execution_count": 23,
                    "metadata": {},
                    "output_type": "execute_result"
                }
            ],
            "source": [
                "from solutions.accounts import create_account \n",
                "#  import requests\n",
                "# from solutions.client import DomoAPIRequest_Error\n",
                "\n",
                "\n",
                "# def create_account(body, domo_instance, session_token, debug_api: bool = False):\n",
                "#     url = f\"https://{domo_instance}.domo.com/api/data/v1/accounts\"\n",
                "\n",
                "#     headers = {\"x-domo-authentication\": session_token}\n",
                "\n",
                "#     if debug_api:\n",
                "#         pprint({\"url\": url, \"headers\": headers})\n",
                "\n",
                "#     res = requests.request(method=\"POST\", url=url, json=body, headers=headers)\n",
                "\n",
                "#     res = ResponseClass.from_request_response(res)\n",
                "\n",
                "#     if not res.is_success:\n",
                "#         raise DomoAPIRequest_Error(create_account.__name__, res)\n",
                "\n",
                "#     return res\n",
                "\n",
                "\n",
                "create_account_body = generate_account__abstract_credential_store_body(\n",
                "    account_name=\"my_domo_community_access_token\", credentials=test_token\n",
                ")\n",
                "\n",
                "create_account(\n",
                "    body=create_account_body,\n",
                "    domo_instance=DOMO_INSTANCE,\n",
                "    session_token=test_session_token,\n",
                ")"
            ]
        },
        {
            "cell_type": "code",
            "execution_count": 25,
            "id": "dbdf6a63",
            "metadata": {},
            "outputs": [],
            "source": [
                "from solutions.accounts import get_account_by_id\n",
                "# def get_account_by_id(\n",
                "#     domo_instance,\n",
                "#     account_id,\n",
                "#     session_token=None,\n",
                "#     headers=None,\n",
                "#     return_raw: bool = False,\n",
                "#     debug_api: bool = False,\n",
                "# ):\n",
                "#     url = f\"https://{domo_instance}.domo.com/api/data/v1/accounts/{account_id}?unmask=true\"\n",
                "\n",
                "#     headers = headers or {}\n",
                "#     headers.update({\"x-domo-authentication\": session_token})\n",
                "\n",
                "#     if debug_api:\n",
                "#         pprint({\"url\": url, \"headers\": headers})\n",
                "\n",
                "#     res = requests.request(method=\"GET\", url=url, headers=headers)\n",
                "\n",
                "#     res = ResponseClass.from_request_response(res)\n",
                "\n",
                "#     if return_raw:\n",
                "#         return res\n",
                "\n",
                "#     return res"
            ]
        },
        {
            "cell_type": "code",
            "execution_count": 26,
            "id": "3bc4073a",
            "metadata": {},
            "outputs": [
                {
                    "name": "stdout",
                    "output_type": "stream",
                    "text": [
                        "{'headers': {'x-domo-authentication': 'eyJjdXN0b21lcklkIjoibW1tbS0wMDEyLTAyMDAiLCJleHBpcmF0aW9uIjoxNzExMjczMTY4MjE0LCJobWFjU2lnbmF0dXJlIjoiY2EyOGFiOTgzZjNmMzU4MTFmY2Y4MTdmN2NlMTg5YmU0YzljYzU0ODdmOWI1MTMwZWI3M2QyNGM4YjIxMTY3MCIsInNpZCI6IjcwYmI4YTczLWI1MjEtNGE5OS1hMTU5LTMwNmZkN2FmMWMxMCIsInRpbWVzdGFtcCI6MTcxMTI0NDM2ODIxNCwidG9lcyI6IlVOS05PV05TSUQiLCJ1c2VySWQiOiIxODkzOTUyNzIwIn0%3D'},\n",
                        " 'url': 'https://domo-community.domo.com/api/data/v1/accounts/102?unmask=true'}\n"
                    ]
                },
                {
                    "data": {
                        "text/plain": [
                            "ResponseClass(status=200, is_success=True, response={'id': 102, 'userId': 1893952720, 'name': 'my_domo_community_access_token - updated 2024-03-23 (2)', 'displayName': 'dp24 - update 2024-03-23 19:29:47.931225', 'type': 'data', 'valid': True, 'dataProviderType': 'abstract-credential-store', 'credentialsType': 'fields', 'createdAt': 1711242208000, 'createdBy': 1893952720, 'modifiedAt': 1711243788000, 'modifiedBy': 1893952720, 'configurations': {}, 'accountId': 102, 'accountTemplateId': None, 'accountTemplateAuthorizationId': None})"
                        ]
                    },
                    "execution_count": 26,
                    "metadata": {},
                    "output_type": "execute_result"
                }
            ],
            "source": [
                "get_account_by_id(\n",
                "    domo_instance=DOMO_INSTANCE,\n",
                "    account_id=102,\n",
                "    session_token=test_session_token,\n",
                "    debug_api=True,\n",
                ")"
            ]
        },
        {
            "cell_type": "code",
            "execution_count": 29,
            "id": "2f44a399",
            "metadata": {},
            "outputs": [],
            "source": [
                "from solutions.accounts import update_account_config\n",
                "\n",
                "# def update_account_config(\n",
                "#     domo_instance,\n",
                "#     dataprovider_type,\n",
                "#     account_id,\n",
                "#     body: dict,  # only receives configuration portion of the account definition\n",
                "#     headers: dict = None,\n",
                "#     session_token: str = None,\n",
                "#     debug_api: bool = False,\n",
                "#     return_raw: bool = False,\n",
                "# ):\n",
                "#     url = f\"https://{domo_instance}.domo.com/api/data/v1/providers/{dataprovider_type}/account/{account_id}\"\n",
                "\n",
                "#     headers = headers or {}\n",
                "#     headers.update({\"x-domo-authentication\": session_token})\n",
                "\n",
                "#     if debug_api:\n",
                "#         pprint({\"url\": url, \"headers\": headers, \"body\": body})\n",
                "\n",
                "#     res = requests.request(method=\"PUT\", json=body, url=url, headers=headers)\n",
                "\n",
                "#     res = ResponseClass.from_request_response(res)\n",
                "\n",
                "#     if return_raw:\n",
                "#         return res\n",
                "\n",
                "#     return res"
            ]
        },
        {
            "cell_type": "code",
            "execution_count": 30,
            "metadata": {},
            "outputs": [
                {
                    "name": "stdout",
                    "output_type": "stream",
                    "text": [
                        "{'body': {'credentials': '{\"id\": 187009, \"name\": \"dp24\", \"ownerId\": 85654293, '\n",
                        "                         '\"ownerName\": null, \"ownerEmail\": null, \"expires\": '\n",
                        "                         '1712537469000}'},\n",
                        " 'headers': {'x-domo-authentication': 'eyJjdXN0b21lcklkIjoibW1tbS0wMDEyLTAyMDAiLCJleHBpcmF0aW9uIjoxNzExMjczMTY4MjE0LCJobWFjU2lnbmF0dXJlIjoiY2EyOGFiOTgzZjNmMzU4MTFmY2Y4MTdmN2NlMTg5YmU0YzljYzU0ODdmOWI1MTMwZWI3M2QyNGM4YjIxMTY3MCIsInNpZCI6IjcwYmI4YTczLWI1MjEtNGE5OS1hMTU5LTMwNmZkN2FmMWMxMCIsInRpbWVzdGFtcCI6MTcxMTI0NDM2ODIxNCwidG9lcyI6IlVOS05PV05TSUQiLCJ1c2VySWQiOiIxODkzOTUyNzIwIn0%3D'},\n",
                        " 'url': 'https://domo-community.domo.com/api/data/v1/providers/abstract-credential-store/account/102'}\n"
                    ]
                },
                {
                    "data": {
                        "text/plain": [
                            "ResponseClass(status=200, is_success=True, response={'id': 102, 'userId': 1893952720, 'name': 'my_domo_community_access_token - updated 2024-03-23 (2)', 'displayName': 'dp24 - update 2024-03-23 19:29:47.931225', 'type': 'data', 'valid': True, 'dataProviderType': 'abstract-credential-store', 'credentialsType': 'fields', 'createdAt': 1711242208000, 'createdBy': 1893952720, 'modifiedAt': 1711243788000, 'modifiedBy': 1893952720, 'configurations': {}, 'accountId': 102, 'accountTemplateId': None, 'accountTemplateAuthorizationId': None})"
                        ]
                    },
                    "execution_count": 30,
                    "metadata": {},
                    "output_type": "execute_result"
                }
            ],
            "source": [
                "create_account_body = generate_account__abstract_credential_store_body(\n",
                "    account_name=f\"my_domo_community_access_token - {dt.datetime.now()}\",\n",
                "    credentials=test_token,\n",
                ")\n",
                "\n",
                "# NOTE\n",
                "config = create_account_body[\"configurations\"]\n",
                "\n",
                "update_account_config(\n",
                "    domo_instance=DOMO_INSTANCE,\n",
                "    account_id=102,\n",
                "    dataprovider_type=\"abstract-credential-store\",\n",
                "    body=config,\n",
                "    session_token=test_session_token,\n",
                "    debug_api=True,\n",
                ")"
            ]
        },
        {
            "cell_type": "code",
            "execution_count": 31,
            "id": "f76ab098",
            "metadata": {},
            "outputs": [],
            "source": [
                "from solutions.accounts import update_account_name\n",
                "\n",
                "# def update_account_name(\n",
                "#     domo_instance: str,\n",
                "#     account_id: int,\n",
                "#     account_name: str,\n",
                "#     session_token=None,\n",
                "#     headers: dict = None,\n",
                "#     debug_api: bool = False,\n",
                "#     return_raw: bool = False,\n",
                "# ):\n",
                "#     url = f\"https://{domo_instance}.domo.com/api/data/v1/accounts/{account_id}/name\"\n",
                "\n",
                "#     headers = headers or {}\n",
                "#     headers.update({\"x-domo-authentication\": session_token})\n",
                "\n",
                "#     if debug_api:\n",
                "#         pprint({\"url\": url, \"headers\": headers, \"body\": account_name})\n",
                "\n",
                "#     res = requests.request(method=\"PUT\", data=account_name, url=url, headers=headers)\n",
                "\n",
                "#     res = ResponseClass.from_request_response(res)\n",
                "\n",
                "#     if return_raw:\n",
                "#         return res\n",
                "\n",
                "#     return res"
            ]
        },
        {
            "cell_type": "code",
            "execution_count": null,
            "id": "d97a143e",
            "metadata": {},
            "outputs": [
                {
                    "name": "stdout",
                    "output_type": "stream",
                    "text": [
                        "{'body': 'dp24 - update 2024-03-23 19:29:47.931225',\n",
                        " 'headers': {'x-domo-authentication': 'eyJjdXN0b21lcklkIjoibW1tbS0wMDEyLTAyMDAiLCJleHBpcmF0aW9uIjoxNzExMjcyNTgyNjA4LCJobWFjU2lnbmF0dXJlIjoiNDczNDI5YmU0YzBhOWU5MTQ3ODg2Yjk0ODgwMzcxMjM4ZTAyYjlkODk0OWQ0MTVjM2Q2ZmIwNzY3ODY0MTAzZCIsInNpZCI6IjhjNjI0YTZhLWE3MzYtNGNkZi1hZTEwLWJhY2Y5MzNiZTYxOCIsInRpbWVzdGFtcCI6MTcxMTI0Mzc4MjYwOCwidG9lcyI6IlVOS05PV05TSUQiLCJ1c2VySWQiOiIxODkzOTUyNzIwIn0%3D'},\n",
                        " 'url': 'https://domo-community.domo.com/api/data/v1/accounts/102/name'}\n"
                    ]
                },
                {
                    "data": {
                        "text/plain": [
                            "ResponseClass(status=200, is_success=True, response={'id': 102, 'userId': 1893952720, 'name': 'my_domo_community_access_token - updated 2024-03-23 (2)', 'displayName': 'dp24 - update 2024-03-23 19:29:47.931225', 'type': 'data', 'valid': True, 'dataProviderType': 'abstract-credential-store', 'credentialsType': 'fields', 'createdAt': 1711242208000, 'createdBy': 1893952720, 'modifiedAt': 1711243788000, 'modifiedBy': 1893952720, 'configurations': {}, 'accountId': 102, 'accountTemplateId': None, 'accountTemplateAuthorizationId': None})"
                        ]
                    },
                    "execution_count": 25,
                    "metadata": {},
                    "output_type": "execute_result"
                }
            ],
            "source": [
                "update_account_name(\n",
                "    account_id=102,\n",
                "    account_name=f\"dp24 - update {dt.datetime.now()}\",\n",
                "    domo_instance=DOMO_INSTANCE,\n",
                "    session_token=test_session_token,\n",
                "    debug_api=True,\n",
                ")"
            ]
        }
    ],
    "metadata": {
        "kernelspec": {
            "display_name": ".venv",
            "language": "python",
            "name": "python3"
        },
        "language_info": {
            "codemirror_mode": {
                "name": "ipython",
                "version": 3
            },
            "file_extension": ".py",
            "mimetype": "text/x-python",
            "name": "python",
            "nbconvert_exporter": "python",
            "pygments_lexer": "ipython3",
            "version": "3.10.12"
        }
    },
    "nbformat": 4,
    "nbformat_minor": 5
}
