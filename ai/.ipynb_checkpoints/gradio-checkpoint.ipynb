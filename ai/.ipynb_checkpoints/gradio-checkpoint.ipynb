{
 "cells": [
  {
   "cell_type": "code",
   "execution_count": null,
   "id": "b4f16b4f-10b0-4f31-88ba-7b741a07212b",
   "metadata": {
    "tags": []
   },
   "outputs": [],
   "source": [
    "# %pip install --upgrade gradio\n",
    "# %pip install pydantic\n",
    "# %pip install langchain"
   ]
  },
  {
   "cell_type": "markdown",
   "id": "51ee14b2-a0da-4642-9062-5e942c98c822",
   "metadata": {},
   "source": [
    "# generate a chatbot front end using Gradio\n",
    "\n",
    "In ChatGPT we are accustomed to having a user interface that displays our chat history and the responses from the AI.\n",
    "\n",
    "We will recreate that functionality using Gradio\n",
    "\n",
    "https://www.gradio.app/guides/creating-a-chatbot-fast\n",
    "https://www.gradio.app/docs/gradio/chatbot\n",
    "\n",
    "## generate Auth\n",
    "API requests in Domo must be authenticated"
   ]
  },
  {
   "cell_type": "code",
   "execution_count": null,
   "id": "c9c53229-09f7-43ba-8807-d2bca71f0124",
   "metadata": {
    "tags": []
   },
   "outputs": [],
   "source": [
    "import importlib\n",
    "import domojupyter as dj\n",
    "import domolibrary_execution.utils.domojupyter as dxdj\n",
    "\n",
    "DOMO_INSTANCE = 'domo-community'\n",
    "\n",
    "auth = await dxdj.generate_domo_auth(\n",
    "    domo_instance = DOMO_INSTANCE,\n",
    "    domojupyter_fn = dj) \n",
    "\n",
    "auth.user_id"
   ]
  },
  {
   "cell_type": "markdown",
   "id": "8fa207eb-44f4-45e1-88be-b3f1bde46b60",
   "metadata": {},
   "source": [
    "## Format chat history correctly\n",
    "Gradio expects history : `List[str]` and the incoming message as `message: str`"
   ]
  },
  {
   "cell_type": "code",
   "execution_count": null,
   "id": "b09176d2-5174-4532-a767-d950e203f653",
   "metadata": {
    "tags": []
   },
   "outputs": [],
   "source": [
    "import gradio as gr\n",
    "\n",
    "async def generate_state():\n",
    "    res = await auth.who_am_i()\n",
    "    \n",
    "    \n",
    "    return {'file_path' : 'history.json',\n",
    "             'user_id' : res.response['id'],\n",
    "             'display_name' : res.response['displayName']\n",
    "            }\n",
    "\n",
    "state = await generate_state()\n",
    "state"
   ]
  },
  {
   "cell_type": "code",
   "execution_count": null,
   "id": "503c8cfd-7d22-4d94-814f-6170887ae9b2",
   "metadata": {},
   "outputs": [],
   "source": [
    "import json\n",
    "\n",
    "def save_history(history, ):\n",
    "    print(f'saving history to {file_path}')\n",
    "\n",
    "    with open(file_path, 'w') as f:\n",
    "        json.dump( history, f)\n"
   ]
  },
  {
   "cell_type": "markdown",
   "id": "5dd4b2f3-61ba-4991-861d-4f92edf2974b",
   "metadata": {
    "tags": []
   },
   "source": [
    "### instantiate endpoint"
   ]
  },
  {
   "cell_type": "code",
   "execution_count": null,
   "id": "40ce886a-d15a-406e-9e65-3b5500e85fc5",
   "metadata": {
    "tags": []
   },
   "outputs": [],
   "source": [
    "import models.model as model\n",
    "importlib.reload(model)\n",
    "\n",
    "endpoint = model.EndpointHandler._from_creds_account(domo_instance = DOMO_INSTANCE)\n"
   ]
  },
  {
   "cell_type": "markdown",
   "id": "fd4411b6-b996-4287-8233-554b297b769b",
   "metadata": {},
   "source": [
    "## reset chat history"
   ]
  },
  {
   "cell_type": "code",
   "execution_count": null,
   "id": "9b9a035c-53ec-4fed-b375-7b7d3f72dfcc",
   "metadata": {
    "tags": []
   },
   "outputs": [],
   "source": [
    "from gradio import ChatMessage\n",
    "\n",
    "system_message = \"your name is beth, you are a software engineer, but try to be helpful when you can\"\n",
    "\n",
    "history = [\n",
    "    ChatMessage( \"user\", \"What is the capital of France?\"),\n",
    "    ChatMessage( \"assistant\" , \"Paris\")\n",
    "    \n",
    "]\n",
    "\n",
    "message = \"And what is its longest street?\""
   ]
  },
  {
   "cell_type": "code",
   "execution_count": null,
   "id": "a489090a-a037-4b49-a436-7b3cf4e5734c",
   "metadata": {
    "tags": []
   },
   "outputs": [],
   "source": [
    "from typing import List\n",
    "\n",
    "def prep_new_history(history):\n",
    "    nh = []\n",
    "    nh.append(ChatMessage(role = \"sytem\", content = system_message))\n",
    "    nh += history  \n",
    "    return nh\n",
    "    \n",
    "#     # return [a.__dict__ for a in nh]\n",
    "    \n",
    "def chat(message, \n",
    "         history,\n",
    "         # state = None,\n",
    "         debug_api : bool = True):\n",
    "        \n",
    "    nh = prep_new_history(history = history)\n",
    "\n",
    "    \n",
    "    res = endpoint.chat(history = nh,\n",
    "                        message = message,\n",
    "                        debug_api = debug_api)\n",
    "    \n",
    "    history.append(ChatMessage(role = 'user', content = message))\n",
    "\n",
    "    output = res.response['output'] \n",
    "    \n",
    "    history.append(ChatMessage(role=\"assistant\", content=output))\n",
    "    \n",
    "    return \"\", history #, state\n",
    "               \n",
    "chat(message = message,\n",
    "     history = history, \n",
    "     debug_api = False\n",
    ")"
   ]
  },
  {
   "cell_type": "code",
   "execution_count": null,
   "id": "0b945980-e043-467a-82bc-19712ce29667",
   "metadata": {
    "tags": []
   },
   "outputs": [],
   "source": [
    "import gradio as gr\n",
    "from functools import partial\n",
    "\n",
    "with gr.Blocks() as demo:\n",
    "    chatbot = gr.Chatbot(type=\"messages\")\n",
    "    msg = gr.Textbox()\n",
    "    clear = gr.ClearButton([msg, chatbot])\n",
    "    \n",
    "    state = gr.State()\n",
    "\n",
    "    msg.submit(\n",
    "        chat,\n",
    "        [msg, chatbot,],\n",
    "        [msg, chatbot]\n",
    "    )\n",
    "    \n",
    "demo.launch(share = True)"
   ]
  }
 ],
 "metadata": {
  "kernelspec": {
   "display_name": "Python",
   "language": "python",
   "name": "python_3_9"
  },
  "language_info": {
   "codemirror_mode": {
    "name": "ipython",
    "version": 3
   },
   "file_extension": ".py",
   "mimetype": "text/x-python",
   "name": "python",
   "nbconvert_exporter": "python",
   "pygments_lexer": "ipython3",
   "version": "3.9.13"
  }
 },
 "nbformat": 4,
 "nbformat_minor": 5
}
