{
 "cells": [
  {
   "cell_type": "code",
   "execution_count": 1,
   "id": "b4f16b4f-10b0-4f31-88ba-7b741a07212b",
   "metadata": {
    "tags": []
   },
   "outputs": [],
   "source": [
    "# %pip install --upgrade gradio\n",
    "# %pip install pydantic\n",
    "# %pip install langchain"
   ]
  },
  {
   "cell_type": "markdown",
   "id": "51ee14b2-a0da-4642-9062-5e942c98c822",
   "metadata": {},
   "source": [
    "# generate a chatbot front end using Gradio\n",
    "\n",
    "In ChatGPT we are accustomed to having a user interface that displays our chat history and the responses from the AI.\n",
    "\n",
    "We will recreate that functionality using Gradio\n",
    "\n",
    "https://www.gradio.app/guides/creating-a-chatbot-fast\n",
    "https://www.gradio.app/docs/gradio/chatbot\n",
    "\n",
    "## generate Auth\n",
    "API requests in Domo must be authenticated"
   ]
  },
  {
   "cell_type": "code",
   "execution_count": 2,
   "id": "c9c53229-09f7-43ba-8807-d2bca71f0124",
   "metadata": {
    "tags": []
   },
   "outputs": [
    {
     "name": "stdout",
     "output_type": "stream",
     "text": [
      "sdk_domo-community - no password stored in account\n",
      "🎉 token_auth token retrieved from domo-community ⚙️\n"
     ]
    },
    {
     "data": {
      "text/plain": [
       "DomoTokenAuth(domo_instance='domo-community', url_manual_login='https://domo-community.domo.com/auth/index?domoManualLogin=true', token_name='token_auth', user_id=1893952720, is_valid_token=True)"
      ]
     },
     "execution_count": 2,
     "metadata": {},
     "output_type": "execute_result"
    }
   ],
   "source": [
    "import importlib\n",
    "import domojupyter as dj\n",
    "import domolibrary_execution.utils.domojupyter as dxdj\n",
    "\n",
    "auth = await dxdj.generate_domo_auth(\n",
    "    domo_instance = dxdj.which_environment(),\n",
    "    domojupyter_fn = dj) \n",
    "\n",
    "auth"
   ]
  },
  {
   "cell_type": "markdown",
   "id": "8fa207eb-44f4-45e1-88be-b3f1bde46b60",
   "metadata": {},
   "source": [
    "## Format chat history correctly\n",
    "Gradio expects history : `List[str]` and the incoming message as `message: str`"
   ]
  },
  {
   "cell_type": "code",
   "execution_count": 3,
   "id": "b09176d2-5174-4532-a767-d950e203f653",
   "metadata": {
    "tags": []
   },
   "outputs": [
    {
     "name": "stderr",
     "output_type": "stream",
     "text": [
      "/home/domo/.conda/lib/python3.9/site-packages/tqdm/auto.py:21: TqdmWarning: IProgress not found. Please update jupyter and ipywidgets. See https://ipywidgets.readthedocs.io/en/stable/user_install.html\n",
      "  from .autonotebook import tqdm as notebook_tqdm\n"
     ]
    },
    {
     "data": {
      "text/plain": [
       "{'file_path': 'history.json',\n",
       " 'user_id': 1893952720,\n",
       " 'display_name': 'Jae Wilson1'}"
      ]
     },
     "execution_count": 3,
     "metadata": {},
     "output_type": "execute_result"
    }
   ],
   "source": [
    "import gradio as gr\n",
    "\n",
    "async def generate_state():\n",
    "    res = await auth.who_am_i()\n",
    "    \n",
    "    \n",
    "    return {'file_path' : 'history.json',\n",
    "             'user_id' : res.response['id'],\n",
    "             'display_name' : res.response['displayName']\n",
    "            }\n",
    "\n",
    "state = await generate_state()\n",
    "state"
   ]
  },
  {
   "cell_type": "code",
   "execution_count": 4,
   "id": "503c8cfd-7d22-4d94-814f-6170887ae9b2",
   "metadata": {},
   "outputs": [],
   "source": [
    "import json\n",
    "\n",
    "def save_history(history, ):\n",
    "    print(f'saving history to {file_path}')\n",
    "\n",
    "    with open(file_path, 'w') as f:\n",
    "        json.dump( history, f)\n"
   ]
  },
  {
   "cell_type": "markdown",
   "id": "5dd4b2f3-61ba-4991-861d-4f92edf2974b",
   "metadata": {
    "tags": []
   },
   "source": [
    "### instantiate endpoint"
   ]
  },
  {
   "cell_type": "code",
   "execution_count": 5,
   "id": "40ce886a-d15a-406e-9e65-3b5500e85fc5",
   "metadata": {
    "tags": []
   },
   "outputs": [],
   "source": [
    "import models.model as model\n",
    "endpoint = model.EndpointHandler._from_creds_account(domo_instance = 'domo-community')\n"
   ]
  },
  {
   "cell_type": "markdown",
   "id": "fd4411b6-b996-4287-8233-554b297b769b",
   "metadata": {},
   "source": [
    "## reset chat history"
   ]
  },
  {
   "cell_type": "code",
   "execution_count": 9,
   "id": "9b9a035c-53ec-4fed-b375-7b7d3f72dfcc",
   "metadata": {
    "tags": []
   },
   "outputs": [],
   "source": [
    "from gradio import ChatMessage\n",
    "\n",
    "system_message = \"your name is beth, you are a software engineer, but try to be helpful when you can\"\n",
    "\n",
    "history = [\n",
    "    ChatMessage( \"user\", \"What is the capital of France?\"),\n",
    "    ChatMessage( \"assistant\" , \"Paris\")\n",
    "]\n",
    "\n",
    "message = \"And what is its longest street?\""
   ]
  },
  {
   "cell_type": "code",
   "execution_count": 10,
   "id": "a489090a-a037-4b49-a436-7b3cf4e5734c",
   "metadata": {
    "tags": []
   },
   "outputs": [
    {
     "data": {
      "text/plain": [
       "('',\n",
       " [ChatMessage(role='user', content='What is the capital of France?', metadata=Metadata(title=None)),\n",
       "  ChatMessage(role='assistant', content='Paris', metadata=Metadata(title=None)),\n",
       "  ChatMessage(role='user', content='And what is its longest street?', metadata=Metadata(title=None)),\n",
       "  ChatMessage(role='assistant', content=\"As a software engineer named Beth, I'll do my best to help with your question about Paris's longest street.\\n\\nThe longest street in Paris is Rue de Vaugirard. It runs for approximately 4.3 kilometers (about 2.7 miles) through the 6th and 15th arrondissements of the city. This street starts near the Luxembourg Gardens and extends southwest to the city limits.\\n\\nRue de Vaugirard is known for its length and historical significance. It's home to many important buildings and institutions, including part of the French Senate, several churches, and numerous shops and restaurants.\\n\\nIs there anything else you'd like to know about Paris or its streets?\", metadata=Metadata(title=None))])"
      ]
     },
     "execution_count": 10,
     "metadata": {},
     "output_type": "execute_result"
    }
   ],
   "source": [
    "from typing import List\n",
    "from langchain.schema import AIMessage, HumanMessage, SystemMessage\n",
    "\n",
    "def prep_new_history(history):\n",
    "    nh = []\n",
    "    nh.append(ChatMessage(role = \"sytem\", content = system_message))\n",
    "    nh += history  \n",
    "    return nh\n",
    "    \n",
    "def chat(message, history, debug_api : bool = False):\n",
    "    \n",
    "    history.append(ChatMessage('user', message))\n",
    "    \n",
    "    nh = prep_new_history(history = history)\n",
    "    \n",
    "    res = endpoint.chat(history = nh,\n",
    "                        debug_api = debug_api)\n",
    "    \n",
    "    output = res.response['output'] \n",
    "        \n",
    "    history.append(ChatMessage(role=\"assistant\", content=output))\n",
    "    \n",
    "    return \"\", history\n",
    "               \n",
    "chat(message , history = history, debug_api = False )"
   ]
  },
  {
   "cell_type": "code",
   "execution_count": 11,
   "id": "0b945980-e043-467a-82bc-19712ce29667",
   "metadata": {
    "tags": []
   },
   "outputs": [
    {
     "name": "stdout",
     "output_type": "stream",
     "text": [
      "Running on local URL:  http://127.0.0.1:7860\n",
      "\n",
      "Thanks for being a Gradio user! If you have questions or feedback, please join our Discord server and chat with us: https://discord.gg/feTf9x3ZSB\n",
      "Running on public URL: https://741da3db686c33386e.gradio.live\n",
      "\n",
      "This share link expires in 72 hours. For free permanent hosting and GPU upgrades, run `gradio deploy` from Terminal to deploy to Spaces (https://huggingface.co/spaces)\n"
     ]
    },
    {
     "data": {
      "text/html": [
       "<div><iframe src=\"https://741da3db686c33386e.gradio.live\" width=\"100%\" height=\"500\" allow=\"autoplay; camera; microphone; clipboard-read; clipboard-write;\" frameborder=\"0\" allowfullscreen></iframe></div>"
      ],
      "text/plain": [
       "<IPython.core.display.HTML object>"
      ]
     },
     "metadata": {},
     "output_type": "display_data"
    },
    {
     "name": "stdout",
     "output_type": "stream",
     "text": [
      "Keyboard interruption in main thread... closing server.\n",
      "Killing tunnel 127.0.0.1:7860 <> https://741da3db686c33386e.gradio.live\n"
     ]
    },
    {
     "data": {
      "text/plain": []
     },
     "execution_count": 11,
     "metadata": {},
     "output_type": "execute_result"
    }
   ],
   "source": [
    "import gradio as gr\n",
    "import random\n",
    "import time\n",
    "\n",
    "with gr.Blocks() as demo:\n",
    "    chatbot = gr.Chatbot(history , type=\"messages\")\n",
    "    msg = gr.Textbox()\n",
    "    clear = gr.ClearButton([msg, chatbot])\n",
    "\n",
    "    msg.submit(chat, [msg, chatbot], [msg, chatbot])\n",
    "    \n",
    "demo.launch(share = True, debug = True)"
   ]
  }
 ],
 "metadata": {
  "kernelspec": {
   "display_name": "Python",
   "language": "python",
   "name": "python_3_9"
  },
  "language_info": {
   "codemirror_mode": {
    "name": "ipython",
    "version": 3
   },
   "file_extension": ".py",
   "mimetype": "text/x-python",
   "name": "python",
   "nbconvert_exporter": "python",
   "pygments_lexer": "ipython3",
   "version": "3.9.13"
  }
 },
 "nbformat": 4,
 "nbformat_minor": 5
}
