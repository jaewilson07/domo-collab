{
 "cells": [
  {
   "cell_type": "code",
   "execution_count": 1,
   "id": "5f8ca9b3-3baf-4b6f-9124-40db84494131",
   "metadata": {
    "tags": []
   },
   "outputs": [
    {
     "name": "stdout",
     "output_type": "stream",
     "text": [
      "sdk_domo-community - no password stored in account\n",
      "🎉 token_auth token retrieved from domo-community ⚙️\n"
     ]
    },
    {
     "data": {
      "text/plain": [
       "DomoTokenAuth(domo_instance='domo-community', url_manual_login='https://domo-community.domo.com/auth/index?domoManualLogin=true', token_name='token_auth', user_id=1893952720, is_valid_token=True)"
      ]
     },
     "execution_count": 1,
     "metadata": {},
     "output_type": "execute_result"
    }
   ],
   "source": [
    "import domojupyter as dj\n",
    "import domolibrary_execution.utils.domojupyter as dxdj\n",
    "\n",
    "auth = await dxdj.generate_domo_auth(\n",
    "    domo_instance = dxdj.which_environment(),\n",
    "    domojupyter_fn = dj) \n",
    "\n",
    "auth"
   ]
  },
  {
   "cell_type": "markdown",
   "id": "87954b9c-8e35-413e-86c8-16d0f2ad41ef",
   "metadata": {},
   "source": [
    "# Models perform better with examples"
   ]
  },
  {
   "cell_type": "code",
   "execution_count": 2,
   "id": "8dbf02b9-46a0-4df0-9ff0-5c5f95b5a7bc",
   "metadata": {
    "tags": []
   },
   "outputs": [
    {
     "data": {
      "text/plain": [
       "Messages(messages=[Message(role='SYSTEM', content='You are a python developer skilled at translating urls into route functions.  route functions should follow a specific format, see the next few examples.\\n\\nrequest:  generate a function that GETs the dataflow definition from this url, f\"/api/dataprocessing/v1/dataflows/{dataflow_id}\" \\nresponse:\\n\\ndef get_dataflow_by_id_sync(\\n    auth: dmda.DomoAuth,\\n    dataflow_id: int,\\n    debug_api: bool = False,\\n):\\n    url = f\"https://{auth.domo_instance}.domo.com/api/dataprocessing/v1/dataflows/{dataflow_id}\"     \\n    \\n    res= client.get_data_sync(\\n        auth=auth,\\n        url=url,\\n        method=\"GET\",\\n        debug_api=debug_api\\n    )     \\n    \\n    if not res.is_success:        \\n        raise dmde.DomoError(res.response)     \\n    \\n    return res\\n    \\nrequest: write a function that PUTs a list of tags for a dataflow using the following url \"https://domo-community.domo.com/api/dataprocessing/v1/dataflows/345/tags\" and this body format:  {\"flowId\": dataflow_id ,\"tags\": tag_ls}.  \\n\\nresponse:\\ndef generate_tag_body(dataflow_id, tag_ls):\\n    return {\"flowId\": dataflow_id ,\"tags\": tag_ls}\\n    \\ndef put_dataflow_tags_by_id_sync(\\n    auth: dmda.DomoAuth,\\n    dataflow_id: int,\\n    tag_ls: List[str],\\n    debug_api: bool = False,\\n):\\n    url = f\"https://{auth.domo_instance}.domo.com/api/dataprocessing/v1/dataflows/{dataflow_id}/tags\"     \\n    body = generate_tag_body(dataflow_id = dataflow_id, tag_ls = tag_ls)\\n    \\n    res= client.get_data_sync(\\n        auth=auth,\\n        url=url,\\n        method=\"PUT\",\\n        body = body,\\n        debug_api=debug_api\\n    )     \\n    \\n    if not res.is_success:        \\n        raise dmde.DomoError(res.response)     \\n    \\n    return res\\n    \\nonly response with python code.  do not include any preamble.  make sure to comment the functions')])"
      ]
     },
     "execution_count": 2,
     "metadata": {},
     "output_type": "execute_result"
    }
   ],
   "source": [
    "import models.model as model\n",
    "\n",
    "import importlib\n",
    "importlib.reload(model)\n",
    "\n",
    "from pprint import pprint\n",
    "\n",
    "msgs = model.Messages.from_system_prompt('./prompts/python_developer.txt')\n",
    "msgs"
   ]
  },
  {
   "cell_type": "code",
   "execution_count": 3,
   "id": "e6ac29d4-901a-4f88-a051-f18cb270c178",
   "metadata": {
    "tags": []
   },
   "outputs": [],
   "source": [
    "import models.model as model\n",
    "\n",
    "import importlib\n",
    "importlib.reload(model)\n",
    "\n",
    "endpoint = model.EndpointHandler._from_creds_account(domo_instance = 'domo-community')\n"
   ]
  },
  {
   "cell_type": "code",
   "execution_count": 4,
   "id": "0e2587d6-da6e-4abc-bab0-6c2db51ad3a7",
   "metadata": {
    "tags": []
   },
   "outputs": [
    {
     "name": "stdout",
     "output_type": "stream",
     "text": [
      "('# Function to post a query to the Domo search API\\n'\n",
      " 'def post_search_query_sync(\\n'\n",
      " '    auth: dmda.DomoAuth,\\n'\n",
      " '    query_body: dict,\\n'\n",
      " '    debug_api: bool = False,\\n'\n",
      " '):\\n'\n",
      " '    # Construct the URL for the search query API\\n'\n",
      " '    url = f\"https://{auth.domo_instance}.domo.com/api/search/v1/query\"\\n'\n",
      " '    \\n'\n",
      " '    # Send POST request to the search query API\\n'\n",
      " '    res = client.get_data_sync(\\n'\n",
      " '        auth=auth,\\n'\n",
      " '        url=url,\\n'\n",
      " '        method=\"POST\",\\n'\n",
      " '        body=query_body,\\n'\n",
      " '        debug_api=debug_api\\n'\n",
      " '    )\\n'\n",
      " '    \\n'\n",
      " '    # Raise an error if the request was not successful\\n'\n",
      " '    if not res.is_success:\\n'\n",
      " '        raise dmde.DomoError(res.response)\\n'\n",
      " '    \\n'\n",
      " '    # Return the response\\n'\n",
      " '    return res')\n"
     ]
    }
   ],
   "source": [
    "\n",
    "msgs.add_message(\"\"\"\n",
    "write a function that POSTs a query to the query api, https://domo-community.domo.com/api/search/v1/query,\n",
    "the function should receive a query_body of type dictionary which includes the query parameters.\n",
    "\"\"\")\n",
    "msgs =  endpoint.invoke_message(messages = msgs)\n",
    "\n",
    "pprint(msgs.messages[-1].content)"
   ]
  },
  {
   "cell_type": "markdown",
   "id": "73b28dcc-d068-41c3-b34d-9d37d783c6f6",
   "metadata": {
    "tags": []
   },
   "source": [
    "## a 'trained model' is not actually trained.  it just has examples included as context"
   ]
  },
  {
   "cell_type": "code",
   "execution_count": 5,
   "id": "99a174e1-d992-47c3-bfe6-e3e503e70125",
   "metadata": {
    "tags": []
   },
   "outputs": [
    {
     "name": "stdout",
     "output_type": "stream",
     "text": [
      "('# Function to get tags from the Domo API\\n'\n",
      " 'def get_tags_sync(\\n'\n",
      " '    auth: dmda.DomoAuth,\\n'\n",
      " '    debug_api: bool = False,\\n'\n",
      " '):\\n'\n",
      " '    # Construct the URL for the tags API\\n'\n",
      " '    url = f\"https://{auth.domo_instance}.domo.com/api/data/v1/tags\"\\n'\n",
      " '    \\n'\n",
      " '    # Send GET request to retrieve tags\\n'\n",
      " '    res = client.get_data_sync(\\n'\n",
      " '        auth=auth,\\n'\n",
      " '        url=url,\\n'\n",
      " '        method=\"GET\",\\n'\n",
      " '        debug_api=debug_api\\n'\n",
      " '    )\\n'\n",
      " '    \\n'\n",
      " '    # Raise an error if the request was not successful\\n'\n",
      " '    if not res.is_success:\\n'\n",
      " '        raise dmde.DomoError(res.response)\\n'\n",
      " '    \\n'\n",
      " '    # Return the response containing the tags\\n'\n",
      " '    return res')\n"
     ]
    }
   ],
   "source": [
    "msgs =  endpoint.invoke_message(data = \"that's great, now generate a function to GET the tags\", messages = msgs)\n",
    "pprint(msgs.messages[-1].content)"
   ]
  },
  {
   "cell_type": "code",
   "execution_count": 6,
   "id": "33b0a158-640d-4e62-8769-9d357ba90625",
   "metadata": {
    "tags": []
   },
   "outputs": [
    {
     "name": "stdout",
     "output_type": "stream",
     "text": [
      "(\"Here's a Python function that checks if a function exists in a 'dataflow.py' \"\n",
      " 'file and replaces it with a new function passed as a string input:\\n'\n",
      " '\\n'\n",
      " '```python\\n'\n",
      " 'import re\\n'\n",
      " 'import os\\n'\n",
      " '\\n'\n",
      " 'def update_function_in_file(new_function_str: str, file_path: str = '\n",
      " \"'dataflow.py'):\\n\"\n",
      " '    # Extract function name from the new function string\\n'\n",
      " \"    function_name = re.search(r'def\\\\s+(\\\\w+)', new_function_str).group(1)\\n\"\n",
      " '    \\n'\n",
      " '    # Read the existing file content\\n'\n",
      " \"    with open(file_path, 'r') as file:\\n\"\n",
      " '        content = file.read()\\n'\n",
      " '    \\n'\n",
      " '    # Check if the function already exists\\n'\n",
      " '    function_pattern = '\n",
      " \"re.compile(rf'def\\\\s+{function_name}\\\\s*\\\\(.*?\\\\):\\\\s*(?:.*?\\\\n)+?(?=\\\\n\\\\S|\\\\Z)', \"\n",
      " 're.DOTALL)\\n'\n",
      " '    if function_pattern.search(content):\\n'\n",
      " '        # Replace the existing function\\n'\n",
      " '        updated_content = function_pattern.sub(new_function_str, content)\\n'\n",
      " '    else:\\n'\n",
      " '        # Append the new function to the end of the file\\n'\n",
      " \"        updated_content = content + '\\\\n\\\\n' + new_function_str\\n\"\n",
      " '    \\n'\n",
      " '    # Write the updated content back to the file\\n'\n",
      " \"    with open(file_path, 'w') as file:\\n\"\n",
      " '        file.write(updated_content)\\n'\n",
      " '    \\n'\n",
      " '    print(f\"Function \\'{function_name}\\' has been {\\'updated\\' if '\n",
      " 'function_pattern.search(content) else \\'added\\'} in {file_path}\")\\n'\n",
      " '```\\n'\n",
      " '\\n'\n",
      " 'This function does the following:\\n'\n",
      " '\\n'\n",
      " '1. It takes two parameters: `new_function_str` (the new function as a '\n",
      " \"string) and `file_path` (defaulting to 'dataflow.py').\\n\"\n",
      " '2. It extracts the function name from the new function string using regex.\\n'\n",
      " '3. It reads the content of the existing file.\\n'\n",
      " '4. It checks if the function already exists in the file using a regex '\n",
      " 'pattern.\\n'\n",
      " '5. If the function exists, it replaces the old function with the new one.\\n'\n",
      " \"6. If the function doesn't exist, it appends the new function to the end of \"\n",
      " 'the file.\\n'\n",
      " '7. Finally, it writes the updated content back to the file.\\n'\n",
      " '\\n'\n",
      " 'You can use this function like this:\\n'\n",
      " '\\n'\n",
      " '```python\\n'\n",
      " 'new_function = \"\"\"\\n'\n",
      " 'def new_or_updated_function(param1, param2):\\n'\n",
      " '    # Function body\\n'\n",
      " '    pass\\n'\n",
      " '\"\"\"\\n'\n",
      " '\\n'\n",
      " 'update_function_in_file(new_function)\\n'\n",
      " '```\\n'\n",
      " '\\n'\n",
      " 'This will either update the existing function or add the new function to the '\n",
      " \"'dataflow.py' file.\")\n"
     ]
    }
   ],
   "source": [
    "msgs =  endpoint.invoke_message(data = \"\"\"\n",
    "i have a filesystem with a file called dataflow.py that should store all these functions we are generating.  \n",
    "write a function to find if the function exists in the .py file and\n",
    "if it does replace that function with a new function passed as a string input.\"\"\", messages = msgs)\n",
    "\n",
    "pprint(msgs.messages[-1].content)"
   ]
  },
  {
   "cell_type": "markdown",
   "id": "b0b3b850-1fd7-42d4-84d6-4fe4111ed86a",
   "metadata": {},
   "source": [
    "## if your context is too big, Domo might truncate"
   ]
  },
  {
   "cell_type": "code",
   "execution_count": 7,
   "id": "5d084ed2-409c-415c-9ca1-2c58015e2a61",
   "metadata": {
    "tags": []
   },
   "outputs": [
    {
     "data": {
      "text/plain": [
       "7"
      ]
     },
     "execution_count": 7,
     "metadata": {},
     "output_type": "execute_result"
    }
   ],
   "source": [
    "len(msgs.messages)"
   ]
  },
  {
   "cell_type": "code",
   "execution_count": 8,
   "id": "20f05186-1c56-4f8e-9847-dd7781e219ce",
   "metadata": {
    "tags": []
   },
   "outputs": [
    {
     "data": {
      "text/html": [
       "<div>\n",
       "<style scoped>\n",
       "    .dataframe tbody tr th:only-of-type {\n",
       "        vertical-align: middle;\n",
       "    }\n",
       "\n",
       "    .dataframe tbody tr th {\n",
       "        vertical-align: top;\n",
       "    }\n",
       "\n",
       "    .dataframe thead th {\n",
       "        text-align: right;\n",
       "    }\n",
       "</style>\n",
       "<table border=\"1\" class=\"dataframe\">\n",
       "  <thead>\n",
       "    <tr style=\"text-align: right;\">\n",
       "      <th></th>\n",
       "      <th>role</th>\n",
       "      <th>content</th>\n",
       "    </tr>\n",
       "  </thead>\n",
       "  <tbody>\n",
       "    <tr>\n",
       "      <th>0</th>\n",
       "      <td>SYSTEM</td>\n",
       "      <td>You are a python developer skilled at translat...</td>\n",
       "    </tr>\n",
       "    <tr>\n",
       "      <th>1</th>\n",
       "      <td>USER</td>\n",
       "      <td>\\nwrite a function that POSTs a query to the q...</td>\n",
       "    </tr>\n",
       "    <tr>\n",
       "      <th>2</th>\n",
       "      <td>SYSTEM</td>\n",
       "      <td># Function to post a query to the Domo search ...</td>\n",
       "    </tr>\n",
       "    <tr>\n",
       "      <th>3</th>\n",
       "      <td>USER</td>\n",
       "      <td>that's great, now generate a function to GET t...</td>\n",
       "    </tr>\n",
       "    <tr>\n",
       "      <th>4</th>\n",
       "      <td>SYSTEM</td>\n",
       "      <td># Function to get tags from the Domo API\\ndef ...</td>\n",
       "    </tr>\n",
       "    <tr>\n",
       "      <th>5</th>\n",
       "      <td>USER</td>\n",
       "      <td>\\ni have a filesystem with a file called dataf...</td>\n",
       "    </tr>\n",
       "    <tr>\n",
       "      <th>6</th>\n",
       "      <td>SYSTEM</td>\n",
       "      <td>Here's a Python function that checks if a func...</td>\n",
       "    </tr>\n",
       "  </tbody>\n",
       "</table>\n",
       "</div>"
      ],
      "text/plain": [
       "     role                                            content\n",
       "0  SYSTEM  You are a python developer skilled at translat...\n",
       "1    USER  \\nwrite a function that POSTs a query to the q...\n",
       "2  SYSTEM  # Function to post a query to the Domo search ...\n",
       "3    USER  that's great, now generate a function to GET t...\n",
       "4  SYSTEM  # Function to get tags from the Domo API\\ndef ...\n",
       "5    USER  \\ni have a filesystem with a file called dataf...\n",
       "6  SYSTEM  Here's a Python function that checks if a func..."
      ]
     },
     "execution_count": 8,
     "metadata": {},
     "output_type": "execute_result"
    }
   ],
   "source": [
    "import pandas as pd\n",
    "pd.DataFrame([msg.to_json() for msg in msgs.messages])"
   ]
  },
  {
   "cell_type": "code",
   "execution_count": 9,
   "id": "d928b7c1-446b-4b50-a0b6-10f586e442cb",
   "metadata": {
    "tags": []
   },
   "outputs": [],
   "source": [
    "msgs.messages = [msgs.messages[i] for i in [0,3,4]]"
   ]
  },
  {
   "cell_type": "code",
   "execution_count": 10,
   "id": "c41a5dbe-da63-47da-9cdf-5cd665cedbd6",
   "metadata": {
    "tags": []
   },
   "outputs": [
    {
     "data": {
      "text/html": [
       "<div>\n",
       "<style scoped>\n",
       "    .dataframe tbody tr th:only-of-type {\n",
       "        vertical-align: middle;\n",
       "    }\n",
       "\n",
       "    .dataframe tbody tr th {\n",
       "        vertical-align: top;\n",
       "    }\n",
       "\n",
       "    .dataframe thead th {\n",
       "        text-align: right;\n",
       "    }\n",
       "</style>\n",
       "<table border=\"1\" class=\"dataframe\">\n",
       "  <thead>\n",
       "    <tr style=\"text-align: right;\">\n",
       "      <th></th>\n",
       "      <th>role</th>\n",
       "      <th>content</th>\n",
       "    </tr>\n",
       "  </thead>\n",
       "  <tbody>\n",
       "    <tr>\n",
       "      <th>0</th>\n",
       "      <td>SYSTEM</td>\n",
       "      <td>You are a python developer skilled at translat...</td>\n",
       "    </tr>\n",
       "    <tr>\n",
       "      <th>1</th>\n",
       "      <td>USER</td>\n",
       "      <td>that's great, now generate a function to GET t...</td>\n",
       "    </tr>\n",
       "    <tr>\n",
       "      <th>2</th>\n",
       "      <td>SYSTEM</td>\n",
       "      <td># Function to get tags from the Domo API\\ndef ...</td>\n",
       "    </tr>\n",
       "  </tbody>\n",
       "</table>\n",
       "</div>"
      ],
      "text/plain": [
       "     role                                            content\n",
       "0  SYSTEM  You are a python developer skilled at translat...\n",
       "1    USER  that's great, now generate a function to GET t...\n",
       "2  SYSTEM  # Function to get tags from the Domo API\\ndef ..."
      ]
     },
     "execution_count": 10,
     "metadata": {},
     "output_type": "execute_result"
    }
   ],
   "source": [
    "pd.DataFrame([msg.to_json() for msg in msgs.messages])"
   ]
  },
  {
   "cell_type": "code",
   "execution_count": 11,
   "id": "9a0ff9bf-84f3-4544-bd9f-8ee919a61e70",
   "metadata": {
    "tags": []
   },
   "outputs": [],
   "source": [
    "# msgs =  endpoint.invoke_message(data = \"\"\"\n",
    "# i have a filesystem with a file called dataflow.py that should store all these functions we are generating.  \n",
    "# write a function to find if the function exists in the .py file and\n",
    "# if it does replace that function with a new function passed as a string input.\"\"\", messages = msgs)\n",
    "\n",
    "# msgs.messages[-1].content"
   ]
  },
  {
   "cell_type": "code",
   "execution_count": 12,
   "id": "d9dc0c39-8a1a-47a3-9adc-6fba8192069a",
   "metadata": {
    "tags": []
   },
   "outputs": [
    {
     "data": {
      "text/plain": [
       "'# Function to get tags from the Domo API\\ndef get_tags_sync(\\n    auth: dmda.DomoAuth,\\n    debug_api: bool = False,\\n):\\n    # Construct the URL for the tags API\\n    url = f\"https://{auth.domo_instance}.domo.com/api/data/v1/tags\"\\n    \\n    # Send GET request to retrieve tags\\n    res = client.get_data_sync(\\n        auth=auth,\\n        url=url,\\n        method=\"GET\",\\n        debug_api=debug_api\\n    )\\n    \\n    # Raise an error if the request was not successful\\n    if not res.is_success:\\n        raise dmde.DomoError(res.response)\\n    \\n    # Return the response containing the tags\\n    return res'"
      ]
     },
     "execution_count": 12,
     "metadata": {},
     "output_type": "execute_result"
    }
   ],
   "source": [
    "msgs.messages[-1].content"
   ]
  },
  {
   "cell_type": "code",
   "execution_count": 15,
   "id": "0c8002eb-d3cc-4cb1-a9b8-19e34a3605ea",
   "metadata": {
    "tags": []
   },
   "outputs": [],
   "source": [
    "# import utils\n",
    "\n",
    "# utils.update_function_in_file('./routes/datacenter.py','post_search_query_sync', msgs.messages[-1].content )"
   ]
  }
 ],
 "metadata": {
  "kernelspec": {
   "display_name": "Python",
   "language": "python",
   "name": "python_3_9"
  },
  "language_info": {
   "codemirror_mode": {
    "name": "ipython",
    "version": 3
   },
   "file_extension": ".py",
   "mimetype": "text/x-python",
   "name": "python",
   "nbconvert_exporter": "python",
   "pygments_lexer": "ipython3",
   "version": "3.9.13"
  }
 },
 "nbformat": 4,
 "nbformat_minor": 5
}
