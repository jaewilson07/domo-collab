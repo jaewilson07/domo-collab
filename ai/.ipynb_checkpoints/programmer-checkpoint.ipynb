{
 "cells": [
  {
   "cell_type": "code",
   "execution_count": 1,
   "id": "5f8ca9b3-3baf-4b6f-9124-40db84494131",
   "metadata": {
    "tags": []
   },
   "outputs": [
    {
     "name": "stdout",
     "output_type": "stream",
     "text": [
      "sdk_domo-community - no password stored in account\n",
      "🎉 token_auth token retrieved from domo-community ⚙️\n"
     ]
    },
    {
     "data": {
      "text/plain": [
       "DomoTokenAuth(domo_instance='domo-community', url_manual_login='https://domo-community.domo.com/auth/index?domoManualLogin=true', token_name='token_auth', user_id=1893952720, is_valid_token=True)"
      ]
     },
     "execution_count": 1,
     "metadata": {},
     "output_type": "execute_result"
    }
   ],
   "source": [
    "import domojupyter as dj\n",
    "import domolibrary_execution.utils.domojupyter as dxdj\n",
    "\n",
    "auth = await dxdj.generate_domo_auth(\n",
    "    domo_instance = dxdj.which_environment(),\n",
    "    domojupyter_fn = dj) \n",
    "\n",
    "auth"
   ]
  },
  {
   "cell_type": "markdown",
   "id": "87954b9c-8e35-413e-86c8-16d0f2ad41ef",
   "metadata": {},
   "source": [
    "# Models perform better with examples"
   ]
  },
  {
   "cell_type": "code",
   "execution_count": 2,
   "id": "8dbf02b9-46a0-4df0-9ff0-5c5f95b5a7bc",
   "metadata": {
    "tags": []
   },
   "outputs": [
    {
     "data": {
      "text/plain": [
       "[Message(type='SYSTEM', message='You are a python developer skilled at translating urls into route functions.  route functions should follow a specific format, see the next few examples.\\n\\nrequest:  generate a function that GETs the dataflow definition from this url, f\"/api/dataprocessing/v1/dataflows/{dataflow_id}\" \\nresponse:\\n\\ndef get_dataflow_by_id_sync(\\n    auth: dmda.DomoAuth,\\n    dataflow_id: int,\\n    debug_api: bool = False,\\n):\\n    url = f\"https://{auth.domo_instance}.domo.com/api/dataprocessing/v1/dataflows/{dataflow_id}\"     \\n    \\n    res= client.get_data_sync(\\n        auth=auth,\\n        url=url,\\n        method=\"GET\",\\n        debug_api=debug_api\\n    )     \\n    \\n    if not res.is_success:        \\n        raise dmde.DomoError(res.response)     \\n    \\n    return res\\n    \\nrequest: write a function that PUTs a list of tags for a dataflow using the following url \"https://domo-community.domo.com/api/dataprocessing/v1/dataflows/345/tags\" and this body format:  {\"flowId\": dataflow_id ,\"tags\": tag_ls}.  \\n\\nresponse:\\ndef generate_tag_body(dataflow_id, tag_ls):\\n    return {\"flowId\": dataflow_id ,\"tags\": tag_ls}\\n    \\ndef put_dataflow_tags_by_id_sync(\\n    auth: dmda.DomoAuth,\\n    dataflow_id: int,\\n    tag_ls: List[str],\\n    debug_api: bool = False,\\n):\\n    url = f\"https://{auth.domo_instance}.domo.com/api/dataprocessing/v1/dataflows/{dataflow_id}/tags\"     \\n    body = generate_tag_body(dataflow_id = dataflow_id, tag_ls = tag_ls)\\n    \\n    res= client.get_data_sync(\\n        auth=auth,\\n        url=url,\\n        method=\"PUT\",\\n        body = body,\\n        debug_api=debug_api\\n    )     \\n    \\n    if not res.is_success:        \\n        raise dmde.DomoError(res.response)     \\n    \\n    return res\\n    \\nonly response with python code.  do not include any preamble.  make sure to comment the functions'),\n",
       " Message(type='USER', message='\\nwrite a function that PUTs a list of tags for a dataflow using the following url\\n\"https://domo-community.domo.com/api/dataprocessing/v1/dataflows/345/tags\" \\nuse this body format:  {\"flowId\": dataflow_id ,\"tags\": tag_ls}\\n')]"
      ]
     },
     "execution_count": 2,
     "metadata": {},
     "output_type": "execute_result"
    }
   ],
   "source": [
    "import models.model as model\n",
    "\n",
    "import importlib\n",
    "importlib.reload(model)\n",
    "\n",
    "from pprint import pprint\n",
    "\n",
    "msgs = model.Messages.from_system_prompt('./prompts/python_developer.txt')\n",
    "\n",
    "msgs.add_message(\"\"\"\n",
    "write a function that PUTs a list of tags for a dataflow using the following url\n",
    "\"https://domo-community.domo.com/api/dataprocessing/v1/dataflows/345/tags\" \n",
    "use this body format:  {\"flowId\": dataflow_id ,\"tags\": tag_ls}\n",
    "\"\"\")"
   ]
  },
  {
   "cell_type": "code",
   "execution_count": 3,
   "id": "0e2587d6-da6e-4abc-bab0-6c2db51ad3a7",
   "metadata": {
    "tags": []
   },
   "outputs": [
    {
     "name": "stdout",
     "output_type": "stream",
     "text": [
      "('# Function to generate the body for the PUT request\\n'\n",
      " 'def generate_tag_body(dataflow_id, tag_ls):\\n'\n",
      " '    return {\"flowId\": dataflow_id, \"tags\": tag_ls}\\n'\n",
      " '\\n'\n",
      " '# Function to PUT tags for a dataflow\\n'\n",
      " 'def put_dataflow_tags_by_id_sync(\\n'\n",
      " '    auth: dmda.DomoAuth,\\n'\n",
      " '    dataflow_id: int,\\n'\n",
      " '    tag_ls: List[str],\\n'\n",
      " '    debug_api: bool = False,\\n'\n",
      " '):\\n'\n",
      " '    # Construct the URL for the API endpoint\\n'\n",
      " '    url = '\n",
      " 'f\"https://{auth.domo_instance}.domo.com/api/dataprocessing/v1/dataflows/{dataflow_id}/tags\"\\n'\n",
      " '    \\n'\n",
      " '    # Generate the request body\\n'\n",
      " '    body = generate_tag_body(dataflow_id=dataflow_id, tag_ls=tag_ls)\\n'\n",
      " '    \\n'\n",
      " '    # Make the PUT request\\n'\n",
      " '    res = client.get_data_sync(\\n'\n",
      " '        auth=auth,\\n'\n",
      " '        url=url,\\n'\n",
      " '        method=\"PUT\",\\n'\n",
      " '        body=body,\\n'\n",
      " '        debug_api=debug_api\\n'\n",
      " '    )\\n'\n",
      " '    \\n'\n",
      " '    # Check if the request was successful\\n'\n",
      " '    if not res.is_success:\\n'\n",
      " '        raise dmde.DomoError(res.response)\\n'\n",
      " '    \\n'\n",
      " '    return res')\n"
     ]
    }
   ],
   "source": [
    "import models.model as model\n",
    "\n",
    "import importlib\n",
    "importlib.reload(model)\n",
    "\n",
    "endpoint = model.EndpointHandler._from_creds_account(domo_instance = 'domo-community')\n",
    "\n",
    "msgs =  endpoint.invoke_message(messages = msgs)\n",
    "\n",
    "pprint(msgs.messages[-1].message)"
   ]
  },
  {
   "cell_type": "markdown",
   "id": "73b28dcc-d068-41c3-b34d-9d37d783c6f6",
   "metadata": {
    "tags": []
   },
   "source": [
    "## a 'trained model' is not actually trained.  it just has examples included as context"
   ]
  },
  {
   "cell_type": "code",
   "execution_count": 4,
   "id": "99a174e1-d992-47c3-bfe6-e3e503e70125",
   "metadata": {
    "tags": []
   },
   "outputs": [
    {
     "name": "stdout",
     "output_type": "stream",
     "text": [
      "('# Function to GET tags for a dataflow\\n'\n",
      " 'def get_dataflow_tags_by_id_sync(\\n'\n",
      " '    auth: dmda.DomoAuth,\\n'\n",
      " '    dataflow_id: int,\\n'\n",
      " '    debug_api: bool = False,\\n'\n",
      " '):\\n'\n",
      " '    # Construct the URL for the API endpoint\\n'\n",
      " '    url = '\n",
      " 'f\"https://{auth.domo_instance}.domo.com/api/dataprocessing/v1/dataflows/{dataflow_id}/tags\"\\n'\n",
      " '    \\n'\n",
      " '    # Make the GET request\\n'\n",
      " '    res = client.get_data_sync(\\n'\n",
      " '        auth=auth,\\n'\n",
      " '        url=url,\\n'\n",
      " '        method=\"GET\",\\n'\n",
      " '        debug_api=debug_api\\n'\n",
      " '    )\\n'\n",
      " '    \\n'\n",
      " '    # Check if the request was successful\\n'\n",
      " '    if not res.is_success:\\n'\n",
      " '        raise dmde.DomoError(res.response)\\n'\n",
      " '    \\n'\n",
      " '    return res')\n"
     ]
    }
   ],
   "source": [
    "msgs =  endpoint.invoke_message(data = \"that's great, now generate a function to GET the tags\", messages = msgs)\n",
    "pprint(msgs.messages[-1].message)"
   ]
  },
  {
   "cell_type": "code",
   "execution_count": 5,
   "id": "33b0a158-640d-4e62-8769-9d357ba90625",
   "metadata": {
    "tags": []
   },
   "outputs": [
    {
     "name": "stdout",
     "output_type": "stream",
     "text": [
      "(\"Here's a Python function that checks if a given function exists in a \"\n",
      " \"'dataflow.py' file and replaces it with a new function passed as a string \"\n",
      " 'input:\\n'\n",
      " '\\n'\n",
      " '```python\\n'\n",
      " 'import re\\n'\n",
      " 'import os\\n'\n",
      " '\\n'\n",
      " 'def update_function_in_file(new_function: str, file_path: str = '\n",
      " \"'dataflow.py'):\\n\"\n",
      " '    # Extract the function name from the new function string\\n'\n",
      " \"    function_name = re.search(r'def\\\\s+(\\\\w+)', new_function).group(1)\\n\"\n",
      " '\\n'\n",
      " '    # Read the current content of the file\\n'\n",
      " \"    with open(file_path, 'r') as file:\\n\"\n",
      " '        content = file.read()\\n'\n",
      " '\\n'\n",
      " '    # Check if the function already exists in the file\\n'\n",
      " '    function_pattern = '\n",
      " \"rf'def\\\\s+{function_name}\\\\s*\\\\(.*?\\\\):\\\\s*(?:\\\\n\\\\s+.*?)*?\\\\n\\\\n'\\n\"\n",
      " '    existing_function = re.search(function_pattern, content, re.DOTALL)\\n'\n",
      " '\\n'\n",
      " '    if existing_function:\\n'\n",
      " '        # Replace the existing function with the new one\\n'\n",
      " '        updated_content = content.replace(existing_function.group(), '\n",
      " \"new_function + '\\\\n\\\\n')\\n\"\n",
      " '    else:\\n'\n",
      " '        # Append the new function to the end of the file\\n'\n",
      " \"        updated_content = content + '\\\\n\\\\n' + new_function + '\\\\n'\\n\"\n",
      " '\\n'\n",
      " '    # Write the updated content back to the file\\n'\n",
      " \"    with open(file_path, 'w') as file:\\n\"\n",
      " '        file.write(updated_content)\\n'\n",
      " '\\n'\n",
      " '    print(f\"Function \\'{function_name}\\' has been {\\'updated\\' if '\n",
      " 'existing_function else \\'added\\'} in {file_path}\")\\n'\n",
      " '```\\n'\n",
      " '\\n'\n",
      " 'This function does the following:\\n'\n",
      " '\\n'\n",
      " '1. It takes two parameters: `new_function` (the function to be added or '\n",
      " \"updated, as a string) and `file_path` (defaulting to 'dataflow.py').\\n\"\n",
      " '\\n'\n",
      " '2. It extracts the function name from the `new_function` string using a '\n",
      " 'regular expression.\\n'\n",
      " '\\n'\n",
      " '3. It reads the current content of the specified file.\\n'\n",
      " '\\n'\n",
      " '4. It checks if a function with the same name already exists in the file '\n",
      " 'using a regular expression pattern.\\n'\n",
      " '\\n'\n",
      " '5. If the function exists, it replaces the existing function with the new '\n",
      " \"one. If it doesn't exist, it appends the new function to the end of the \"\n",
      " 'file.\\n'\n",
      " '\\n'\n",
      " '6. Finally, it writes the updated content back to the file and prints a '\n",
      " 'message indicating whether the function was updated or added.\\n'\n",
      " '\\n'\n",
      " 'To use this function, you would call it like this:\\n'\n",
      " '\\n'\n",
      " '```python\\n'\n",
      " 'new_function = \"\"\"\\n'\n",
      " 'def get_dataflow_tags_by_id_sync(\\n'\n",
      " '    auth: dmda.DomoAuth,\\n'\n",
      " '    dataflow_id: int,\\n'\n",
      " '    debug_api: bool = False,\\n'\n",
      " '):\\n'\n",
      " '    url = '\n",
      " 'f\"https://{auth.domo_instance}.domo.com/api/dataprocessing/v1/dataflows/{dataflow_id}/tags\"\\n'\n",
      " '    \\n'\n",
      " '    res = client.get_data_sync(\\n'\n",
      " '        auth=auth,\\n'\n",
      " '        url=url,\\n'\n",
      " '        method=\"GET\",\\n'\n",
      " '        debug_api=debug_api\\n'\n",
      " '    )\\n'\n",
      " '    \\n'\n",
      " '    if not res.is_success:\\n'\n",
      " '        raise dmde.DomoError(res.response)\\n'\n",
      " '    \\n'\n",
      " '    return res\\n'\n",
      " '\"\"\"\\n'\n",
      " '\\n'\n",
      " 'update_function_in_file(new_function)\\n'\n",
      " '```\\n'\n",
      " '\\n'\n",
      " 'This will either update the existing `get_dataflow_tags_by_id_sync` function '\n",
      " \"in 'dataflow.py' or add it if it doesn't exist.\")\n"
     ]
    }
   ],
   "source": [
    "msgs =  endpoint.invoke_message(data = \"\"\"\n",
    "i have a filesystem with a file called dataflow.py that should store all these functions we are generating.  \n",
    "write a function to find if the function exists in the .py file and\n",
    "if it does replace that function with a new function passed as a string input.\"\"\", messages = msgs)\n",
    "\n",
    "pprint(msgs.messages[-1].message)"
   ]
  },
  {
   "cell_type": "markdown",
   "id": "b0b3b850-1fd7-42d4-84d6-4fe4111ed86a",
   "metadata": {},
   "source": [
    "## if your context is too big, Domo might truncate"
   ]
  },
  {
   "cell_type": "code",
   "execution_count": 6,
   "id": "5d084ed2-409c-415c-9ca1-2c58015e2a61",
   "metadata": {
    "tags": []
   },
   "outputs": [
    {
     "data": {
      "text/plain": [
       "7"
      ]
     },
     "execution_count": 6,
     "metadata": {},
     "output_type": "execute_result"
    }
   ],
   "source": [
    "len(msgs.messages)"
   ]
  },
  {
   "cell_type": "code",
   "execution_count": 7,
   "id": "d928b7c1-446b-4b50-a0b6-10f586e442cb",
   "metadata": {
    "tags": []
   },
   "outputs": [],
   "source": [
    "msgs.messages = [msgs.messages[i] for i in [0,3,4]]"
   ]
  },
  {
   "cell_type": "code",
   "execution_count": 9,
   "id": "c41a5dbe-da63-47da-9cdf-5cd665cedbd6",
   "metadata": {
    "tags": []
   },
   "outputs": [
    {
     "data": {
      "text/plain": [
       "[Message(type='SYSTEM', message='You are a python developer skilled at translating urls into route functions.  route functions should follow a specific format, see the next few examples.\\n\\nrequest:  generate a function that GETs the dataflow definition from this url, f\"/api/dataprocessing/v1/dataflows/{dataflow_id}\" \\nresponse:\\n\\ndef get_dataflow_by_id_sync(\\n    auth: dmda.DomoAuth,\\n    dataflow_id: int,\\n    debug_api: bool = False,\\n):\\n    url = f\"https://{auth.domo_instance}.domo.com/api/dataprocessing/v1/dataflows/{dataflow_id}\"     \\n    \\n    res= client.get_data_sync(\\n        auth=auth,\\n        url=url,\\n        method=\"GET\",\\n        debug_api=debug_api\\n    )     \\n    \\n    if not res.is_success:        \\n        raise dmde.DomoError(res.response)     \\n    \\n    return res\\n    \\nrequest: write a function that PUTs a list of tags for a dataflow using the following url \"https://domo-community.domo.com/api/dataprocessing/v1/dataflows/345/tags\" and this body format:  {\"flowId\": dataflow_id ,\"tags\": tag_ls}.  \\n\\nresponse:\\ndef generate_tag_body(dataflow_id, tag_ls):\\n    return {\"flowId\": dataflow_id ,\"tags\": tag_ls}\\n    \\ndef put_dataflow_tags_by_id_sync(\\n    auth: dmda.DomoAuth,\\n    dataflow_id: int,\\n    tag_ls: List[str],\\n    debug_api: bool = False,\\n):\\n    url = f\"https://{auth.domo_instance}.domo.com/api/dataprocessing/v1/dataflows/{dataflow_id}/tags\"     \\n    body = generate_tag_body(dataflow_id = dataflow_id, tag_ls = tag_ls)\\n    \\n    res= client.get_data_sync(\\n        auth=auth,\\n        url=url,\\n        method=\"PUT\",\\n        body = body,\\n        debug_api=debug_api\\n    )     \\n    \\n    if not res.is_success:        \\n        raise dmde.DomoError(res.response)     \\n    \\n    return res\\n    \\nonly response with python code.  do not include any preamble.  make sure to comment the functions'),\n",
       " Message(type='USER', message=\"that's great, now generate a function to GET the tags\"),\n",
       " Message(type='SYSTEM', message='# Function to GET tags for a dataflow\\ndef get_dataflow_tags_by_id_sync(\\n    auth: dmda.DomoAuth,\\n    dataflow_id: int,\\n    debug_api: bool = False,\\n):\\n    # Construct the URL for the API endpoint\\n    url = f\"https://{auth.domo_instance}.domo.com/api/dataprocessing/v1/dataflows/{dataflow_id}/tags\"\\n    \\n    # Make the GET request\\n    res = client.get_data_sync(\\n        auth=auth,\\n        url=url,\\n        method=\"GET\",\\n        debug_api=debug_api\\n    )\\n    \\n    # Check if the request was successful\\n    if not res.is_success:\\n        raise dmde.DomoError(res.response)\\n    \\n    return res')]"
      ]
     },
     "execution_count": 9,
     "metadata": {},
     "output_type": "execute_result"
    }
   ],
   "source": [
    "msgs.messages"
   ]
  },
  {
   "cell_type": "code",
   "execution_count": 10,
   "id": "9a0ff9bf-84f3-4544-bd9f-8ee919a61e70",
   "metadata": {
    "tags": []
   },
   "outputs": [
    {
     "name": "stdout",
     "output_type": "stream",
     "text": [
      "('# Function to update or add a function in the dataflow.py file\\n'\n",
      " 'def update_function_in_file(new_function: str, file_path: str = '\n",
      " '\"dataflow.py\"):\\n'\n",
      " '    import re\\n'\n",
      " '    \\n'\n",
      " '    # Read the current content of the file\\n'\n",
      " \"    with open(file_path, 'r') as file:\\n\"\n",
      " '        content = file.read()\\n'\n",
      " '    \\n'\n",
      " '    # Extract the function name from the new function\\n'\n",
      " \"    function_name = re.search(r'def\\\\s+(\\\\w+)', new_function).group(1)\\n\"\n",
      " '    \\n'\n",
      " '    # Check if the function already exists in the file\\n'\n",
      " \"    pattern = rf'def\\\\s+{function_name}\\\\s*\\\\(.*?\\\\):\\\\s*.*?(?=\\\\n\\\\S|\\\\Z)'\\n\"\n",
      " '    existing_function = re.search(pattern, content, re.DOTALL)\\n'\n",
      " '    \\n'\n",
      " '    if existing_function:\\n'\n",
      " '        # Replace the existing function with the new one\\n'\n",
      " '        updated_content = content.replace(existing_function.group(), '\n",
      " 'new_function)\\n'\n",
      " '    else:\\n'\n",
      " '        # Append the new function to the end of the file\\n'\n",
      " \"        updated_content = content + '\\\\n\\\\n' + new_function\\n\"\n",
      " '    \\n'\n",
      " '    # Write the updated content back to the file\\n'\n",
      " \"    with open(file_path, 'w') as file:\\n\"\n",
      " '        file.write(updated_content)\\n'\n",
      " '    \\n'\n",
      " '    print(f\"Function \\'{function_name}\\' has been {\\'updated\\' if '\n",
      " 'existing_function else \\'added\\'} in {file_path}\")')\n"
     ]
    }
   ],
   "source": [
    "msgs =  endpoint.invoke_message(data = \"\"\"\n",
    "i have a filesystem with a file called dataflow.py that should store all these functions we are generating.  \n",
    "write a function to find if the function exists in the .py file and\n",
    "if it does replace that function with a new function passed as a string input.\"\"\", messages = msgs)\n",
    "\n",
    "pprint(msgs.messages[-1].message)"
   ]
  },
  {
   "cell_type": "code",
   "execution_count": null,
   "id": "787297cf-8c8e-4c82-8c5d-c6fb704f0fad",
   "metadata": {},
   "outputs": [],
   "source": []
  },
  {
   "cell_type": "code",
   "execution_count": null,
   "id": "0c8002eb-d3cc-4cb1-a9b8-19e34a3605ea",
   "metadata": {
    "tags": []
   },
   "outputs": [],
   "source": [
    "code = \"\"\"\n",
    "def get_dataflow_by_id_sync(\n",
    "    auth: dmda.DomoAuth,\n",
    "    dataflow_id: int,\n",
    "    debug_api: bool = False,\n",
    "):\n",
    "    url = f\"https://{auth.domo_instance}.domo.com/api/dataprocessing/v1/dataflows/{dataflow_id}\"     \n",
    "    \n",
    "    res= client.get_data_sync(\n",
    "        auth=auth,\n",
    "        url=url,\n",
    "        method=\"GET\",\n",
    "        debug_api=debug_api\n",
    "    )     \n",
    "    \n",
    "    if not res.is_success:        \n",
    "        raise dmde.DomoError(res.response)     \n",
    "    \n",
    "    return res\n",
    "\"\"\"\n",
    "\n",
    "import utils\n",
    "\n",
    "utils.update_function_in_file('./test.py','get_dataflow_by_id_sync', code )"
   ]
  }
 ],
 "metadata": {
  "kernelspec": {
   "display_name": "Python",
   "language": "python",
   "name": "python_3_9"
  },
  "language_info": {
   "codemirror_mode": {
    "name": "ipython",
    "version": 3
   },
   "file_extension": ".py",
   "mimetype": "text/x-python",
   "name": "python",
   "nbconvert_exporter": "python",
   "pygments_lexer": "ipython3",
   "version": "3.9.13"
  }
 },
 "nbformat": 4,
 "nbformat_minor": 5
}
