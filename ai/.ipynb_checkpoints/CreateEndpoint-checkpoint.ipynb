{
 "cells": [
  {
   "cell_type": "code",
   "execution_count": 1,
   "id": "e50b8378-304a-452c-8341-e06ba55caf12",
   "metadata": {},
   "outputs": [],
   "source": [
    "from domojupyter.ai import Metric\n",
    "from datetime import datetime\n",
    "import pandas as pd\n",
    "from io import StringIO\n",
    "\n",
    "hyperparameters = {}\n",
    "metrics = {}\n",
    "now = datetime.now()\n",
    "domo_metrics = {k: Metric(k, v, None, now) for (k,v) in metrics.items()}"
   ]
  },
  {
   "cell_type": "code",
   "execution_count": 2,
   "id": "21297f47-a338-4dad-a7d8-1fc268a13e00",
   "metadata": {},
   "outputs": [],
   "source": [
    "from domojupyter.ai import ModelTask, ModelTaskType\n",
    "from domojupyter.ai import CSVModelIOConfiguration\n",
    "\n",
    "input = pd.DataFrame(None, columns=[\"inputText\"])\n",
    "output = pd.DataFrame(None, columns=[\"outputText\"])\n",
    "\n",
    "input_config = CSVModelIOConfiguration(data_frame=input)\n",
    "output_config = CSVModelIOConfiguration(data_frame=output)\n",
    "\n",
    "task = ModelTask(\n",
    "    ModelTaskType.OTHER,\n",
    "    input_config=input_config, \n",
    "    output_config=output_config\n",
    ")"
   ]
  },
  {
   "cell_type": "code",
   "execution_count": 3,
   "id": "e020630c-4c95-4300-ac0e-444b5b3eefb9",
   "metadata": {
    "tags": []
   },
   "outputs": [
    {
     "name": "stdout",
     "output_type": "stream",
     "text": [
      "Creating model\n",
      "Using most recent snapshot: New Snapshot 2025-02-08T20:03:06.391962Z\n",
      "An error occurred with the tar: 'NoneType' object is not iterable\n",
      "Successfully created model with name: JaesChatbot\n"
     ]
    }
   ],
   "source": [
    "from domojupyter.ai import ModelTrainingInformation\n",
    "import domojupyter.ai.model as ml\n",
    "\n",
    "model_name = \"JaesChatbot\"\n",
    "entrypoint = \"endpoint_definition.py\"\n",
    "# extra_files = [\"model-t5-base\",\"tokenizer-t5-base\"]\n",
    "training = ModelTrainingInformation(metrics=domo_metrics,\n",
    "                                    hyperparameters=hyperparameters,\n",
    "                                    algorithm=\"Custom\")\n",
    "tasks = [task]\n",
    "\n",
    "ml.create_model(model_name, \n",
    "                entrypoint, \n",
    "                files = [] ,\n",
    "                training=training,\n",
    "                tasks=tasks\n",
    ")"
   ]
  }
 ],
 "metadata": {
  "kernelspec": {
   "display_name": "Python",
   "language": "python",
   "name": "python_3_9"
  },
  "language_info": {
   "codemirror_mode": {
    "name": "ipython",
    "version": 3
   },
   "file_extension": ".py",
   "mimetype": "text/x-python",
   "name": "python",
   "nbconvert_exporter": "python",
   "pygments_lexer": "ipython3",
   "version": "3.9.13"
  }
 },
 "nbformat": 4,
 "nbformat_minor": 5
}
