{
 "cells": [
  {
   "cell_type": "code",
   "execution_count": 1,
   "id": "a53d3b5d-b1a9-47ca-a712-61795d19018f",
   "metadata": {
    "tags": []
   },
   "outputs": [],
   "source": [
    "import sys\n",
    "sys.path.append(\"./domo-collab/ai/\") # go to parent dir"
   ]
  },
  {
   "cell_type": "code",
   "execution_count": 2,
   "id": "a83c1463-b6b3-473a-8394-b7dc048cdaea",
   "metadata": {
    "tags": []
   },
   "outputs": [],
   "source": [
    "import client"
   ]
  },
  {
   "cell_type": "code",
   "execution_count": null,
   "id": "3b245cb7-9840-4ca0-89a2-2fb6301ece0f",
   "metadata": {},
   "outputs": [],
   "source": [
    "import domojupyter as dj\n",
    "import domolibrary.client.DomoAuth as dmda\n",
    "\n",
    "account_properties = dj.get_account_property_keys('sdk_playstation-training-sandbox')\n",
    "creds = {prop : dj.get_account_property_value('sdk_playstation-training-sandbox', prop)  \n",
    "                 for prop in  account_properties}\n",
    "\n",
    "auth = dmda.DomoTokenAuth(\n",
    "            # domo_username = creds['username'],\n",
    "            # domo_password=  creds['password'],\n",
    "            domo_access_token = creds['domoAccessToken'],\n",
    "            domo_instance = 'playstation-training-sandbox')\n",
    "\n",
    "await auth.print_is_token()"
   ]
  }
 ],
 "metadata": {
  "kernelspec": {
   "display_name": "Python",
   "language": "python",
   "name": "python_3_9"
  },
  "language_info": {
   "codemirror_mode": {
    "name": "ipython",
    "version": 3
   },
   "file_extension": ".py",
   "mimetype": "text/x-python",
   "name": "python",
   "nbconvert_exporter": "python",
   "pygments_lexer": "ipython3",
   "version": "3.9.13"
  }
 },
 "nbformat": 4,
 "nbformat_minor": 5
}
