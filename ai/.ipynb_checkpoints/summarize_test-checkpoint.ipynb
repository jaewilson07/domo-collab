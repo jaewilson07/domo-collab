{
 "cells": [
  {
   "cell_type": "code",
   "execution_count": 22,
   "id": "e968bf24-5bd1-4531-91db-7a21a5045af3",
   "metadata": {
    "tags": []
   },
   "outputs": [],
   "source": [
    "import domojupyter as dj\n",
    "\n",
    "def get_data():\n",
    "    df = dj.read_dataframe('CNN_world', \"select title, description from table limit 10\")\n",
    "    df = df.fillna('')\n",
    "    \n",
    "    return \"\\n\".join([ f\"{obj['Title']} - {obj['Description']}\" for obj in df.to_dict(orient = 'records')])\n",
    "\n",
    "    return df\n",
    "\n",
    "sample_data= get_data()"
   ]
  },
  {
   "cell_type": "code",
   "execution_count": 2,
   "id": "d3e0daa0-6537-4eee-9f9e-8c05db4633c2",
   "metadata": {
    "tags": []
   },
   "outputs": [
    {
     "name": "stdout",
     "output_type": "stream",
     "text": [
      "sdk_playstation-training-sandbox - no password stored in account\n",
      "🎉 token_auth token retrieved from playstation-training-sandbox ⚙️\n"
     ]
    },
    {
     "data": {
      "text/plain": [
       "DomoTokenAuth(domo_instance='playstation-training-sandbox', url_manual_login='https://playstation-training-sandbox.domo.com/auth/index?domoManualLogin=true', token_name='token_auth', user_id=1254133024, is_valid_token=True)"
      ]
     },
     "execution_count": 2,
     "metadata": {},
     "output_type": "execute_result"
    }
   ],
   "source": [
    "import domojupyter as dj\n",
    "import domolibrary_execution.utils.domojupyter as dxdj\n",
    "\n",
    "auth = await dxdj.generate_domo_auth(\n",
    "    domo_instance = dxdj.which_environment(),\n",
    "    domojupyter_fn = dj) \n",
    "\n",
    "auth"
   ]
  },
  {
   "cell_type": "code",
   "execution_count": 27,
   "id": "a53010c6-e462-4d1c-aca1-4867af0705e3",
   "metadata": {},
   "outputs": [
    {
     "data": {
      "text/plain": [
       "'Here is a 500-word summary of the provided text:\\n\\nMarkets are digesting the latest bank earnings following recent financial turmoil. Meanwhile, the IRS has received over 90 million tax returns so far this season, but some taxpayers have yet to file. In economic news, retail spending fell in March as consumers pulled back due to recessionary fears stemming from the banking crisis. \\n\\nIn media analysis, the upcoming changes at Fox News are being scrutinized as the network prepares to enter a \"true No Spin Zone.\" The collapse of Silicon Valley Bank has renewed calls to address disparities impacting entrepreneurs of color, with some venture capitalists stepping in to help affected founders access payroll funds.\\n\\nTurning to environmental issues, a new report shows that Lake Powell, the second-largest reservoir in the US, has lost nearly 7% of its potential storage capacity since 1963 due to drought. Air pollution also spiked to unhealthy levels around the world in 2021, according to another recent study.\\n\\nOn the topic of renewable energy, experts are urging big-box stores and shopping malls to install solar panels on their roofs as a way to reduce emissions and save millions. However, many of these large retailers have yet to embrace this solution.\\n\\nIn the world of entertainment, the K-Pop group Blackpink made history as the first Asian act to headline the Coachella music festival. For their groundbreaking performance, the members paid homage to Korean heritage by wearing traditional hanboks.\\n\\nLastly, a new study has identified a secret ingredient used by renowned \"Old Masters\" like Leonardo da Vinci, Sandro Botticelli, and Rembrandt in their oil paintings - proteins, particularly egg yolk. This finding sheds light on the artistic techniques employed by these celebrated painters.\\n\\nOverall, this diverse collection of news stories covers a range of topics, from finance and the economy to environmental concerns, renewable energy, entertainment, and art history. The summaries provide a concise overview of the key developments in each area, allowing readers to quickly digest the important information.'"
      ]
     },
     "execution_count": 27,
     "metadata": {},
     "output_type": "execute_result"
    }
   ],
   "source": [
    "import routes.chat as chat_routes\n",
    "\n",
    "import importlib\n",
    "importlib.reload(chat_routes)\n",
    "\n",
    "res = chat_routes.summarize_route_sync(\n",
    "    text_input = sample_data,\n",
    "    auth = auth, \n",
    "    summary_length = 500,\n",
    "    output_style = chat_routes.OutputStlyleEnum.PARAGRAPH,\n",
    "    debug_api = False,\n",
    ")s\n",
    "\n",
    "res.response['output']\n"
   ]
  }
 ],
 "metadata": {
  "kernelspec": {
   "display_name": "Python",
   "language": "python",
   "name": "python_3_12"
  },
  "language_info": {
   "codemirror_mode": {
    "name": "ipython",
    "version": 3
   },
   "file_extension": ".py",
   "mimetype": "text/x-python",
   "name": "python",
   "nbconvert_exporter": "python",
   "pygments_lexer": "ipython3",
   "version": "3.12.3"
  }
 },
 "nbformat": 4,
 "nbformat_minor": 5
}
