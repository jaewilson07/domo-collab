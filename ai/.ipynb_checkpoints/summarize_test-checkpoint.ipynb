{
 "cells": [
  {
   "cell_type": "code",
   "execution_count": 1,
   "id": "e968bf24-5bd1-4531-91db-7a21a5045af3",
   "metadata": {
    "tags": []
   },
   "outputs": [
    {
     "data": {
      "text/plain": [
       "'Some on-air claims about Dominion Voting Systems were false, Fox News acknowledges in statement after deal is announced - \\nDominion still has pending lawsuits against election deniers such as Rudy Giuliani and Sidney Powell - \\nHere are the 20 specific Fox broadcasts and tweets Dominion says were defamatory - • Fox-Dominion trial delay \\'is not unusual,\\' judge says\\r\\n• Fox News\\' defamation battle isn\\'t stopping Trump\\'s election lies\\nJudge in Fox News-Dominion defamation trial: \\'The parties have resolved their case\\' - The judge just announced in court that a settlement has been reached in the historic defamation case between Fox News and Dominion Voting Systems.\\n\\'Difficult to say with a straight face\\': Tapper reacts to Fox News\\' statement on settlement - A settlement has been reached in Dominion Voting Systems\\' defamation case against Fox News, the judge for the case announced. The network will pay more than $787 million to Dominion, a lawyer for the company said.\\nMillions in the US could face massive consequences unless McCarthy can navigate out of a debt trap he set for Biden - • DeSantis goes to Washington, a place he once despised, looking for support to take on Trump\\r\\n• Opinion: For the GOP to win, it must ditch Trump\\r\\n• Chris Christie mulling 2024 White House bid\\r\\n• Analysis: The fire next time has begun burning in Tennessee \\nWhite homeowner accused of shooting a Black teen who rang his doorbell turns himself in to face criminal charges - • \\'A major part of Ralph died\\': Aunt of teen shot after ringing wrong doorbell speaks\\r\\n• 20-year-old woman shot after friend turned into the wrong driveway in upstate New York, officials say\\nNewly released video shows scene of Jeremy Renner\\'s snowplow accident - Newly released body camera footage shows firefighters and sheriff\\'s deputies rushing to help actor Jeremy Renner after a near-fatal snowplow accident in January. The \"Avengers\" actor broke more than 30 bones and suffered other severe injuries. CNN\\'s Chloe Melas has more. \\nJake Gyllenhaal and Jamie Lee Curtis spent the Covid-19 lockdown together - It\\'s sourdough bread and handstands for Jake Gyllenhaal and Jamie Lee Curtis.\\nToddler crawls through White House fence, prompts Secret Service response - A tiny intruder infiltrated White House grounds Tuesday, prompting a swift response from the US Secret Service.\\nJamie Foxx remains hospitalized nearly a week after \\'medical complication\\' - Jamie Foxx remains hospitalized in Georgia nearly a week after his daughter revealed the actor experienced a \"medical complication,\" a source with knowledge of the matter told CNN on Monday.\\nA 13-year-old dies after participating in a Benadryl TikTok \\'challenge\\' - A 13-year-old in Ohio has died after \"he took a bunch of Benadryl,\" trying a dangerous TikTok challenge that\\'s circulating online, according to a CNN affiliate and a GoFundMe account from his family.\\nSee pizza delivery guy take out suspect fleeing police - Pizza guy delivers more than a pie, taking out a fleeing suspect. CNN\\'s Jeanne Moos shows him putting his best foot forward.\\nNetflix is winding down its DVD business after 25 years - Netflix is officially winding down the business that helped make it a household name. \\nFTC chair Lina Khan warns AI could \\'turbocharge\\' fraud and scams - Artificial intelligence tools such as ChatGPT could lead to a \"turbocharging\" of consumer harms including fraud and scams, and the US government has substantial authority to crack down on AI-driven consumer harms under existing law, members of the Federal Trade Commission said Tuesday. \\nEating too much of these foods is driving the rise in type 2 diabetes, study says - Gobbling up too many refined wheat and rice products, along with eating too few whole grains, is fueling the growth of new cases of type 2 diabetes worldwide, according to a new study that models data through 2018.\\nADHD medication abuse in schools is a \\'wake-up call\\' - At some middle and high schools in the United States, 1 in 4 teens report they\\'ve abused prescription stimulants for attention deficit hyperactivity disorder during the year prior, a new study found. \\nApple CEO was presented with an original Macintosh. See his reaction - CEO Tim Cook personally welcomed customers to the new Apple store in Mumbai as the tech company opens its first retail stores in India. CNN\\'s Vedika Sud reports. \\nDemocrats bash Justice Clarence Thomas but their plan to investigate ethics allegations is unclear - Senate Democrats railed against Justice Clarence Thomas on Tuesday amid reports that the Supreme Court conservative failed to disclose luxury travel, gifts and a real estate transaction involving a GOP megadonor, but their plan to investigate the conservative jurist remains unclear.  \\nRussia is \\'going backwards\\' in equipment and deploying post WWII-era tanks, according to Western officials - • Jailed Wall Street Journal reporter Evan Gershkovich denied detention appeal in Moscow\\r\\n• Putin visits Russian troops at military headquarters in Kherson\\r\\n• Watch moment WSJ journalist appears in Russian court'"
      ]
     },
     "execution_count": 1,
     "metadata": {},
     "output_type": "execute_result"
    }
   ],
   "source": [
    "import domojupyter as dj\n",
    "\n",
    "def get_data():\n",
    "    df = dj.read_dataframe('cnn_world', \"select title, description from table limit 20\")\n",
    "    df = df.fillna('')\n",
    "    \n",
    "    return \"\\n\".join([ f\"{obj['Title']} - {obj['Description']}\" for obj in df.to_dict(orient = 'records')])\n",
    "\n",
    "    return df\n",
    "\n",
    "sample_data= get_data()\n",
    "sample_data"
   ]
  },
  {
   "cell_type": "code",
   "execution_count": 6,
   "id": "d3e0daa0-6537-4eee-9f9e-8c05db4633c2",
   "metadata": {
    "tags": []
   },
   "outputs": [
    {
     "name": "stdout",
     "output_type": "stream",
     "text": [
      "🎉 token_auth token retrieved from domo-community ⚙️\n"
     ]
    },
    {
     "data": {
      "text/plain": [
       "DomoTokenAuth(domo_instance='domo-community', url_manual_login='https://domo-community.domo.com/auth/index?domoManualLogin=true', token_name='token_auth', user_id=929336557, is_valid_token=True)"
      ]
     },
     "execution_count": 6,
     "metadata": {},
     "output_type": "execute_result"
    }
   ],
   "source": [
    "import domojupyter as dj\n",
    "import domolibrary_execution.utils.domojupyter as dxdj\n",
    "\n",
    "auth = await dxdj.generate_token_auth(\n",
    "    domo_instance = dxdj.which_environment(),\n",
    "    domojupyter_fn = dj) \n",
    "\n",
    "auth"
   ]
  },
  {
   "cell_type": "code",
   "execution_count": 14,
   "id": "a53010c6-e462-4d1c-aca1-4867af0705e3",
   "metadata": {
    "tags": []
   },
   "outputs": [
    {
     "data": {
      "text/plain": [
       "'要約は以下の通りです。\\n\\n近年、気候変動の影響が深刻化しています。地球温暖化に伴う極端な気象現象の増加や、海水温上昇による生態系の変化など、さまざまな問題が懸念されています。気候変動への対策は喫緊の課題となっており、世界各国で様々な取り組みが行われています。\\n\\n再生可能エネルギーの利用促進や、省エネ技術の開発、森林保護などの取り組みが進められています。また、経済的なインセンティブの導入や、国際的な枠組み作りも行われています。一人一人が意識を変え、日々の生活を見直すことも重要です。\\n\\n気候変動への対策は長期的な視点が必要です。一朝一夕には解決できない課題ですが、着実な取り組みを重ねることで、少しずつ前に進めていくことができます。\\n\\n将来世代のために、今私たちにできることを精一杯行う必要があります。地球規模の課題に一人一人が真摯に向き合い、行動することが求められています。'"
      ]
     },
     "execution_count": 14,
     "metadata": {},
     "output_type": "execute_result"
    }
   ],
   "source": [
    "#from routes.summarize import OutputStlyleEnum as en\n",
    "import routes.summarize as summarize_routes \n",
    "\n",
    "\n",
    "import domolibrary.client.DomoAuth  as dmda\n",
    "\n",
    "import importlib\n",
    "importlib.reload(summarize_routes)\n",
    "\n",
    "res = summarize_routes.summarize_route_sync(\n",
    "    system_prompt = \"以下の文章を500単語で要約し、日本語で書いてください。翻訳した要約のみを回答してください。前置きは含めないでください。\",\n",
    "    text_input = sample_data,\n",
    "    auth = auth, \n",
    "    summary_length = 100,\n",
    "    output_style = \"BULLETED\",\n",
    "    debug_api = False,\n",
    ")\n",
    "\n",
    "res.response['output']"
   ]
  }
 ],
 "metadata": {
  "kernelspec": {
   "display_name": "Python",
   "language": "python",
   "name": "python_3_9"
  },
  "language_info": {
   "codemirror_mode": {
    "name": "ipython",
    "version": 3
   },
   "file_extension": ".py",
   "mimetype": "text/x-python",
   "name": "python",
   "nbconvert_exporter": "python",
   "pygments_lexer": "ipython3",
   "version": "3.9.13"
  }
 },
 "nbformat": 4,
 "nbformat_minor": 5
}
