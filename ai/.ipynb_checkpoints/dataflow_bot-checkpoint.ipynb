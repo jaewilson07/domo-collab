{
 "cells": [
  {
   "cell_type": "code",
   "execution_count": 1,
   "id": "ca0c6f20-2d62-4515-a490-379d116969fa",
   "metadata": {
    "tags": []
   },
   "outputs": [],
   "source": [
    "DATAFLOW_ID = 12"
   ]
  },
  {
   "cell_type": "code",
   "execution_count": 2,
   "id": "a51a9d55-12f8-4472-8d80-f4f913e6ad69",
   "metadata": {
    "tags": []
   },
   "outputs": [
    {
     "name": "stdout",
     "output_type": "stream",
     "text": [
      "sdk_domo-community - no password stored in account\n",
      "🎉 token_auth token retrieved from domo-community ⚙️\n"
     ]
    }
   ],
   "source": [
    "import domojupyter as dj\n",
    "import domolibrary_execution.utils.domojupyter as dxdj\n",
    "\n",
    "async def generate_auth():\n",
    "    return await dxdj.generate_domo_auth(\n",
    "        domo_instance = dxdj.which_environment(),\n",
    "        domojupyter_fn = dj) \n",
    "\n",
    "auth = await generate_auth()"
   ]
  },
  {
   "cell_type": "code",
   "execution_count": 3,
   "id": "207ab982-3c11-43d7-805f-6bc54728ece4",
   "metadata": {
    "tags": []
   },
   "outputs": [
    {
     "name": "stdout",
     "output_type": "stream",
     "text": [
      "{'dataflow_id': 12, 'dataflow_name': 'Domo Governance Dataflow', 'dataflow_actions': [{'type': 'LoadFromVault', 'id': '0fab5ca6-3d86-4e43-8daf-2a5fed0d4e40', 'name': 'Governance_Dataflow Details', 'settings': {}, 'gui': {'x': 156, 'y': 204, 'color': 3238043, 'colorSource': None, 'sampleJson': None}, 'dataSourceId': '80c4a085-2cb7-4917-a956-ee11e3d838bb', 'executeFlowWhenUpdated': False, 'pseudoDataSource': False, 'truncateTextColumns': False, 'truncateRows': False, 'onlyLoadNewVersions': False, 'recentVersionCutoffMs': 0}, {'type': 'GroupBy', 'id': '7f1443c9-5584-4980-8546-4434286c16dc', 'name': 'Group By', 'dependsOn': ['0fab5ca6-3d86-4e43-8daf-2a5fed0d4e40'], 'settings': {}, 'gui': {'x': 300, 'y': 336, 'color': None, 'colorSource': None, 'sampleJson': None}, 'addLineNumber': False, 'giveBackRow': False, 'allRows': False, 'groups': [{'name': 'Name'}], 'fields': [{'name': 'Inputs', 'source': 'Input Dataset Name', 'type': 'CONCAT_COMMA', 'valuefield': None, 'expression': None, 'settings': None}, {'name': 'Outputs', 'source': 'Output Dataset Name', 'type': 'CONCAT_COMMA', 'valuefield': None, 'expression': None, 'settings': None}, {'name': 'Input IDs', 'source': 'Input Dataset ID', 'type': 'CONCAT_COMMA', 'valuefield': None, 'expression': None, 'settings': None}, {'name': 'Outputs IDs', 'source': 'Output Dataset ID', 'type': 'CONCAT_COMMA', 'valuefield': None, 'expression': None, 'settings': None}]}, {'type': 'MergeJoin', 'id': '4bacccc7-8aa1-408d-a9c1-6572e4be63ee', 'name': 'Join Data', 'dependsOn': ['0fab5ca6-3d86-4e43-8daf-2a5fed0d4e40', '7f1443c9-5584-4980-8546-4434286c16dc'], 'settings': {}, 'gui': {'x': 420, 'y': 204, 'color': None, 'colorSource': None, 'sampleJson': None}, 'joinType': 'INNER', 'relationshipType': 'MANY_TO_MANY', 'step1': '0fab5ca6-3d86-4e43-8daf-2a5fed0d4e40', 'step2': '7f1443c9-5584-4980-8546-4434286c16dc', 'keys1': ['Name'], 'keys2': ['Name'], 'schemaModification2': [{'name': 'Name', 'rename': 'Name_1', 'remove': False}]}, {'type': 'Unique', 'id': '6b311369-d32a-46a2-bb48-d0bba47257fd', 'name': 'Remove Duplicates', 'dependsOn': ['4bacccc7-8aa1-408d-a9c1-6572e4be63ee'], 'settings': {}, 'gui': {'x': 528, 'y': 204, 'color': None, 'colorSource': None, 'sampleJson': None}, 'countRows': False, 'fields': [{'name': 'Name', 'caseInsensitive': False}]}, {'type': 'ReplaceString', 'id': '18c95e6c-d0ca-4a1f-8cff-5c01b7e54d90', 'name': 'Replace Text', 'dependsOn': ['6b311369-d32a-46a2-bb48-d0bba47257fd'], 'settings': {}, 'gui': {'x': 780, 'y': 204, 'color': None, 'colorSource': None, 'sampleJson': None}, 'fields': [{'inStreamName': 'Inputs', 'outStreamName': None, 'useRegex': False, 'replaceString': ',', 'replaceByString': '<br>', 'setEmptyString': False, 'replaceFieldByString': None, 'wholeWord': False, 'caseSensitive': False}, {'inStreamName': 'Outputs', 'outStreamName': None, 'useRegex': False, 'replaceString': ',', 'replaceByString': '<br>', 'setEmptyString': False, 'replaceFieldByString': None, 'wholeWord': False, 'caseSensitive': False}, {'inStreamName': 'Input IDs', 'outStreamName': None, 'useRegex': False, 'replaceString': ',', 'replaceByString': '<br>', 'setEmptyString': False, 'replaceFieldByString': None, 'wholeWord': False, 'caseSensitive': False}, {'inStreamName': 'Outputs IDs', 'outStreamName': None, 'useRegex': False, 'replaceString': ',', 'replaceByString': '<br>', 'setEmptyString': False, 'replaceFieldByString': None, 'wholeWord': False, 'caseSensitive': False}]}, {'type': 'PublishToVault', 'id': 'fc028731-4f58-4e98-a923-bdc83fca8d74', 'name': 'Dataflow Lineage', 'dependsOn': ['18c95e6c-d0ca-4a1f-8cff-5c01b7e54d90'], 'settings': {}, 'gui': {'x': 924, 'y': 204, 'color': None, 'colorSource': None, 'sampleJson': None}, 'dataSource': {'guid': 'ccbbed79-7ecd-4ad4-a561-a19ceb4c68de', 'type': 'DataFlow', 'name': 'Dataflow Lineage', 'cloudId': 'domo'}, 'versionChainType': 'REPLACE', 'schemaSource': 'DATAFLOW', 'partitioned': False}]}\n"
     ]
    }
   ],
   "source": [
    "import domolibrary.client.DomoError as dmde\n",
    "import domolibrary.client.DomoAuth as dmda\n",
    "\n",
    "import routes.dataflow as dataflow_routes\n",
    "import models.dataflow_model as dataflow_model\n",
    "import pandas as pd\n",
    "\n",
    "def get_dataflow_descriptive_data(dataflow_id : int ,\n",
    "                                  auth : dmda.DomoAuth,\n",
    "                                  debug_api: bool = False):\n",
    "    \n",
    "    res = dataflow_routes.get_dataflow_by_id_sync(dataflow_id = dataflow_id,\n",
    "                                                  auth = auth,\n",
    "                                                  debug_api = debug_api)\n",
    "    \n",
    "    if res.response.get('description') and \"autogen\" not in res.response.get('description') :\n",
    "        raise dmde.DomoError(message = f\"dataflow_id {dataflow_id} has a description already\")\n",
    "    \n",
    "    return dataflow_model.llm_dataflow_process_definition(res)\n",
    "\n",
    "try:\n",
    "    descriptive_data = get_dataflow_descriptive_data(DATAFLOW_ID , auth = auth)\n",
    "    print(descriptive_data)\n",
    "except dmde.DomoError as e:\n",
    "    print(e)\n"
   ]
  },
  {
   "cell_type": "code",
   "execution_count": 4,
   "id": "b69b527a-613f-49dc-98f5-1aa056d3a426",
   "metadata": {
    "tags": []
   },
   "outputs": [
    {
     "data": {
      "text/plain": [
       "'This JSON describes a Domo ETL dataflow named \"Domo Governance Dataflow\" with ID 12. The dataflow consists of six actions:\\n\\n1. LoadFromVault: Loads data from a vault source with ID \\'80c4a085-2cb7-4917-a956-ee11e3d838bb\\' named \"Governance_Dataflow Details\".\\n\\n2. GroupBy: Groups the data by the \"Name\" field and performs concatenation operations on four fields: \"Inputs\", \"Outputs\", \"Input IDs\", and \"Output IDs\". Each of these fields uses the CONCAT_COMMA aggregation type.\\n\\n3. MergeJoin: Performs an inner join between the results of the LoadFromVault and GroupBy actions. The join is based on the \"Name\" field from both inputs. The \"Name\" field from the second input is renamed to \"Name_1\" in the output.\\n\\n4. Unique: Removes duplicate rows based on the \"Name\" field. The operation is case-sensitive.\\n\\n5. ReplaceString: Replaces commas with \"<br>\" in the \"Inputs\", \"Outputs\", \"Input IDs\", and \"Output IDs\" fields. This operation is not case-sensitive and does not use regex.\\n\\n6. PublishToVault: Publishes the final result to a Domo vault with GUID \\'ccbbed79-7ecd-4ad4-a561-a19ceb4c68de\\' named \"Dataflow Lineage\". The publish operation uses the REPLACE version chain type and derives its schema from the dataflow.\\n\\nThe dataflow actions are connected sequentially, with each action depending on the output of the previous action(s). The final result provides a cleaned and formatted view of dataflow lineage information, with inputs and outputs grouped by name and formatted for display with line breaks.\\n autogen via llm - 2025-02-09 04:50'"
      ]
     },
     "execution_count": 4,
     "metadata": {},
     "output_type": "execute_result"
    }
   ],
   "source": [
    "import models.model as model\n",
    "import datetime as dt\n",
    "\n",
    "def generate_new_description(description : str) -> str:\n",
    "    return f'{description}\\n autogen via llm - {dt.datetime.now().strftime(\"%Y-%m-%d %H:%M\")}'\n",
    "\n",
    "def llm_describe_dataflow(descriptive_data, return_raw: bool = False, debug_api : bool = False):\n",
    "    endpoint = model.EndpointHandler._from_creds_account(domo_instance = 'domo-community')\n",
    "\n",
    "    messages = endpoint.llm_describe_dataflow(data = descriptive_data,debug_api = debug_api)\n",
    "    \n",
    "    if return_raw:\n",
    "        return messages\n",
    "\n",
    "    return generate_new_description( messages.messages[-1].message)\n",
    "\n",
    "dataflow_description = llm_describe_dataflow(descriptive_data = descriptive_data)\n",
    "\n",
    "dataflow_description"
   ]
  },
  {
   "cell_type": "code",
   "execution_count": 5,
   "id": "908ff2ac-d854-4a0b-99ce-e927f6d77a67",
   "metadata": {
    "tags": []
   },
   "outputs": [],
   "source": [
    "def update_dataflow(dataflow_id, \n",
    "                    auth : dmda.DomoAuth,\n",
    "                    new_description : str , \n",
    "                    debug_api : bool = False):\n",
    "    \n",
    "    res = dataflow_routes.get_dataflow_by_id_sync(dataflow_id = dataflow_id, auth = auth, debug_api = debug_api)\n",
    "    \n",
    "    update_dataflow_body = dataflow_routes.generate_update_dataflow_body(obj = res.response, description = new_description)\n",
    "\n",
    "    return dataflow_routes.update_dataflow_by_id_sync(dataflow_id = dataflow_id, \n",
    "                                               auth = auth,\n",
    "                                               dataflow_body = update_dataflow_body ,\n",
    "                                               debug_api = debug_api)"
   ]
  },
  {
   "cell_type": "code",
   "execution_count": 6,
   "id": "b96d78a4-31fd-4936-9835-3e0ed9010b7c",
   "metadata": {
    "tags": []
   },
   "outputs": [
    {
     "data": {
      "text/plain": [
       "ResponseGetData(status=200, response={'gui': {'version': '1.0', 'canvases': {'default': {'canvasSettings': {'coarserGrid': False, 'backgroundVariant': 'None'}, 'elements': [{'type': 'Tile', 'id': '265a26c7-61b4-4161-85b4-fae0ddeca575', 'x': 36, 'y': 180, 'color': 3238043, 'colorSource': None, 'sampleJson': None}, {'type': 'Tile', 'id': '76093974-bee2-4bbc-9d00-fdd90cf99564', 'x': 216, 'y': 180, 'color': None, 'colorSource': None, 'sampleJson': None}, {'type': 'Tile', 'id': 'fef76f74-691d-42f9-98a7-23619323e15c', 'x': 420, 'y': 180, 'color': None, 'colorSource': None, 'sampleJson': None}, {'type': 'Tile', 'id': '57525a53-399f-4f83-a88d-9a77c6873516', 'x': 552, 'y': 180, 'color': None, 'colorSource': None, 'sampleJson': None}, {'type': 'Tile', 'id': 'b2b86b35-a4b5-433d-80c4-90d6d6e3b332', 'x': 792, 'y': 192, 'color': None, 'colorSource': None, 'sampleJson': None}]}}}, 'id': 132, 'name': 'BeastModesGovernance_02_ChangeReport', 'description': 'The JSON describes a Domo Governance Dataflow with ID 12. The dataflow consists of six actions:\\n\\n1. LoadFromVault: Loads data from a source named \"Governance_Dataflow Details\" with ID \\'0fab5ca6-3d86-4e43-8daf-2a5fed0d4e40\\'.\\n\\n2. GroupBy: Groups the data by the \"Name\" field. It concatenates values from \"Input Dataset Name\", \"Output Dataset Name\", \"Input Dataset ID\", and \"Output Dataset ID\" into new fields named \"Inputs\", \"Outputs\", \"Input IDs\", and \"Outputs IDs\" respectively, using comma as the separator.\\n\\n3. MergeJoin: Performs an inner join between the results of the LoadFromVault and GroupBy actions. The join is based on the \"Name\" field from both sources. The \"Name\" field from the GroupBy result is renamed to \"Name_1\".\\n\\n4. Unique: Removes duplicate rows based on the \"Name\" field, considering case sensitivity.\\n\\n5. ReplaceString: Replaces all commas with \"<br>\" in the \"Inputs\", \"Outputs\", \"Input IDs\", and \"Outputs IDs\" fields. This operation is not case-sensitive and does not use regex.\\n\\n6. PublishToVault: Publishes the final result to a data source named \"Dataflow Lineage\" with ID \\'ccbbed79-7ecd-4ad4-a561-a19ceb4c68de\\'. The publish action replaces any existing data in the target.\\n\\nThe dataflow is designed to process and transform governance-related data, specifically focusing on dataflow details and lineage information. It consolidates input and output dataset information, removes duplicates, and formats the data for better readability before publishing the results.\\n autogen via llm - 2025-02-09 04:50', 'dapDataFlowId': '79aab796-8cdf-4177-ac7c-267dc7c2c8cf', 'responsibleUserId': 1893952720, 'runState': 'ENABLED', 'onboardFlowVersion': {'id': 1602, 'onboardFlowId': 132, 'timeStamp': 1739076629177, 'authorId': 1893952720, 'numInputs': 1, 'numOutputs': 1, 'executionCount': 0, 'executionSuccessCount': 0, 'versionNumber': 14}, 'lastExecution': {'id': 272928, 'onboardFlowId': 132, 'previewRows': 0, 'dapDataFlowExecutionId': '3aed0c1c-a58d-4f53-bc62-4795377d8296', 'beginTime': 1678148146000, 'endTime': 1678148156000, 'lastUpdated': 1678148156000, 'failed': False, 'state': 'SUCCESS', 'dataFlowVersion': 522}, 'created': 1678148021000, 'modified': 1739076628993, 'actions': [{'type': 'LoadFromVault', 'id': '265a26c7-61b4-4161-85b4-fae0ddeca575', 'name': 'Governance_BeastMode_historical', 'settings': {}, 'gui': {'x': 36, 'y': 180, 'color': 3238043, 'colorSource': None, 'sampleJson': None}, 'dataSourceId': 'e6559952-30ce-41a1-b831-f29ebe95d6e5', 'executeFlowWhenUpdated': False, 'pseudoDataSource': False, 'truncateTextColumns': False, 'truncateRows': False, 'onlyLoadNewVersions': False, 'recentVersionCutoffMs': 0}, {'type': 'WindowAction', 'id': '76093974-bee2-4bbc-9d00-fdd90cf99564', 'name': 'Rank & Window', 'dependsOn': ['265a26c7-61b4-4161-85b4-fae0ddeca575'], 'settings': {}, 'gui': {'x': 216, 'y': 180, 'color': None, 'colorSource': None, 'sampleJson': None}, 'groupRules': [{'column': 'Beast Mode ID', 'caseSensitive': False}], 'orderRules': [{'column': 'report_date', 'caseSensitive': False, 'ascending': False}], 'additions': [{'name': 'row_number', 'operation': {'type': 'RANKING', 'operationType': 'ROW_NUMBER'}}, {'name': 'prev_Beast Mode Formula', 'operation': {'type': 'OFFSET', 'operationType': 'LEAD', 'column': 'Beast Mode Formula', 'defaultValue': None, 'amount': 1}}]}, {'type': 'SelectValues', 'id': 'fef76f74-691d-42f9-98a7-23619323e15c', 'name': 'Select Columns', 'dependsOn': ['76093974-bee2-4bbc-9d00-fdd90cf99564'], 'settings': {}, 'gui': {'x': 420, 'y': 180, 'color': None, 'colorSource': None, 'sampleJson': None}, 'fields': [{'name': 'Dataset ID', 'rename': None, 'type': None, 'dateFormat': None, 'settings': {}, 'remove': False}, {'name': 'Dataset Name', 'rename': None, 'type': None, 'dateFormat': None, 'settings': {}, 'remove': False}, {'name': 'Beast Mode ID', 'rename': None, 'type': None, 'dateFormat': None, 'settings': {}, 'remove': False}, {'name': 'Beast Mode Name', 'rename': None, 'type': None, 'dateFormat': None, 'settings': {}, 'remove': False}, {'name': 'Beast Mode Formula', 'rename': None, 'type': None, 'dateFormat': None, 'settings': {}, 'remove': False}, {'name': 'Beast Mode Status', 'rename': None, 'type': None, 'dateFormat': None, 'settings': {}, 'remove': False}, {'name': 'Beast Mode Saved to Dataset', 'rename': None, 'type': None, 'dateFormat': None, 'settings': {}, 'remove': False}, {'name': 'report_date', 'rename': None, 'type': None, 'dateFormat': None, 'settings': {}, 'remove': False}, {'name': 'row_number', 'rename': None, 'type': None, 'dateFormat': None, 'settings': {}, 'remove': False}, {'name': 'prev_Beast Mode Formula', 'rename': None, 'type': None, 'dateFormat': None, 'settings': {}, 'remove': False}], 'columnSettings': {'Beast Mode Formula': {}, 'Beast Mode ID': {}, 'Beast Mode Name': {}, 'Beast Mode Saved to Dataset': {}, 'Beast Mode Status': {}, 'Dataset ID': {}, 'Dataset Name': {}, 'prev_Beast Mode Formula': {}, 'report_date': {}, 'row_number': {}}}, {'type': 'ExpressionEvaluator', 'id': '57525a53-399f-4f83-a88d-9a77c6873516', 'name': 'Add Formula', 'dependsOn': ['fef76f74-691d-42f9-98a7-23619323e15c'], 'settings': {}, 'gui': {'x': 552, 'y': 180, 'color': None, 'colorSource': None, 'sampleJson': None}, 'expressions': [{'expression': 'case when `Beast Mode Formula` = `prev_Beast Mode Formula` then 0 else 1 end', 'fieldName': 'is_change', 'settings': None}]}, {'type': 'PublishToVault', 'id': 'b2b86b35-a4b5-433d-80c4-90d6d6e3b332', 'name': 'BeastModesGovernance_02_ChangeReport', 'dependsOn': ['57525a53-399f-4f83-a88d-9a77c6873516'], 'settings': {}, 'gui': {'x': 792, 'y': 192, 'color': None, 'colorSource': None, 'sampleJson': None}, 'dataSource': {'guid': 'a71706b3-36e7-4d00-ba78-cb5728949d39', 'type': 'DataFlow', 'name': 'BeastModesGovernance_02_ChangeReport', 'cloudId': 'domo'}, 'versionChainType': 'REPLACE', 'schemaSource': 'DATAFLOW', 'partitioned': False}], 'engineProperties': {'kettle.mode': 'STRICT'}, 'inputs': [{'onboardFlowId': 132, 'dataSourceId': 'e6559952-30ce-41a1-b831-f29ebe95d6e5', 'executeFlowWhenUpdated': False, 'onlyLoadNewVersions': False}], 'outputs': [{'onboardFlowId': 132, 'dataSourceId': 'a71706b3-36e7-4d00-ba78-cb5728949d39', 'dataSourceName': None, 'versionChainType': 'REPLACE'}], 'executionCount': 2, 'executionSuccessCount': 2, 'hydrationState': 'DEHYDRATED', 'useLegacyTriggerBehavior': False, 'passwordProtected': False, 'deleted': False, 'abandoned': False, 'neverAbandon': False, 'settings': {}, 'paused': False, 'enabled': True, 'restricted': False, 'subsetProcessing': False, 'container': False, 'databaseType': 'MAGIC', 'triggeredByInput': False, 'draft': False, 'editable': True, 'numInputs': 1, 'numOutputs': 1, 'magic': True}, is_success=True, parent_class=None)"
      ]
     },
     "execution_count": 6,
     "metadata": {},
     "output_type": "execute_result"
    }
   ],
   "source": [
    "def process_dataflow(dataflow_id,\n",
    "                     auth : dmda.DomoAuth,\n",
    "                     debug_prn: bool = False,\n",
    "                     debug_api: bool = False, **kwargs):\n",
    "    if debug_prn:\n",
    "        index = kwargs.get('index')\n",
    "        outOf = kwargs.get('outOf')\n",
    "        end = None\n",
    "        \n",
    "        if index and outOf:\n",
    "            end = f\" {index} out of {outOf}\"\n",
    "        \n",
    "        print(f'starting {dataflow_id}{end or \"\"}')\n",
    "    \n",
    "    try:\n",
    "        dataflow_descriptive_data = get_dataflow_descriptive_data(dataflow_id , auth = auth, debug_api=debug_api)\n",
    "         \n",
    "        dataflow_description = llm_describe_dataflow(descriptive_data = descriptive_data, debug_api = debug_api)\n",
    "\n",
    "        return update_dataflow(dataflow_id, \n",
    "                        auth = auth, \n",
    "                        new_description = dataflow_description,\n",
    "                        debug_api = debug_api)\n",
    "    \n",
    "    except dmde.DomoError as e:\n",
    "        print(f\"{e} - on dataflow - {dataflow_id}\")\n",
    "\n",
    "\n",
    "process_dataflow(132, auth = auth)"
   ]
  },
  {
   "cell_type": "code",
   "execution_count": null,
   "id": "3c1d5126-0704-4e26-b30b-69b082117845",
   "metadata": {
    "tags": []
   },
   "outputs": [],
   "source": [
    "import routes.datacenter as dmdc\n",
    "import importlib\n",
    "importlib.reload(dmdc)\n",
    "\n",
    "query_body = {\"entities\":[\"DATAFLOW\"],\"filters\":[\n",
    "    # {\"field\":\"name_sort\",\"filterType\":\"wildcard\",\"query\":\"*b*\"},\n",
    "    {\"filterType\":\"term\",\"field\":\"owned_by_id\",\"value\":\"1893952720:USER\",\"name\":\"Jae Wilson1\",\"not\":False}],\n",
    "              \"combineResults\":True,\"query\":\"*\",\"count\":30,\"offset\":0,\n",
    "             }\n",
    "\n",
    "res = dmdc.search_datacenter_sync(\n",
    "    auth = auth,\n",
    "    query_body= query_body,\n",
    "    debug_api = False\n",
    ")\n",
    "\n",
    "for index, obj in enumerate(res.response['searchObjects']):\n",
    "    process_dataflow(dataflow_id = obj['databaseId'],\n",
    "                     auth = auth,\n",
    "                     index = index,\n",
    "                     outOf = len(res.response['searchObjects'])\n",
    "    ) "
   ]
  }
 ],
 "metadata": {
  "kernelspec": {
   "display_name": "Python",
   "language": "python",
   "name": "python_3_9"
  },
  "language_info": {
   "codemirror_mode": {
    "name": "ipython",
    "version": 3
   },
   "file_extension": ".py",
   "mimetype": "text/x-python",
   "name": "python",
   "nbconvert_exporter": "python",
   "pygments_lexer": "ipython3",
   "version": "3.9.13"
  }
 },
 "nbformat": 4,
 "nbformat_minor": 5
}
