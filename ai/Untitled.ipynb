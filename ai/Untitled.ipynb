{
 "cells": [
  {
   "cell_type": "code",
   "execution_count": 3,
   "id": "d03fd4ad-881d-4e30-b6d4-8865e1752bd9",
   "metadata": {
    "tags": []
   },
   "outputs": [
    {
     "data": {
      "text/plain": [
       "{'password': '',\n",
       " 'domoAccessToken': '7bfb5625711672a405cc3c79c32c943795e78e00ecad53f1',\n",
       " 'username': 'jae@datacacrew.space'}"
      ]
     },
     "execution_count": 3,
     "metadata": {},
     "output_type": "execute_result"
    }
   ],
   "source": [
    "import domojupyter as domo\n",
    "# Requires domojupyter Python version 1.0.3\n",
    "account_properties = domo.get_account_property_keys('sdk_domo-community')\n",
    "\n",
    "{prop: domo.get_account_property_value('sdk_domo-community', prop) for prop in account_properties}"
   ]
  },
  {
   "cell_type": "code",
   "execution_count": null,
   "id": "8c283728-80fd-49f3-b965-d5ce2b9022fd",
   "metadata": {},
   "outputs": [],
   "source": []
  },
  {
   "cell_type": "code",
   "execution_count": null,
   "id": "322d1779-b697-4f87-b7f0-f89cea706fcc",
   "metadata": {},
   "outputs": [],
   "source": []
  },
  {
   "cell_type": "code",
   "execution_count": null,
   "id": "86ed1619-0710-462d-bb38-c9a8462beb58",
   "metadata": {},
   "outputs": [],
   "source": []
  }
 ],
 "metadata": {
  "kernelspec": {
   "display_name": "Python",
   "language": "python",
   "name": "python_3_9"
  },
  "language_info": {
   "codemirror_mode": {
    "name": "ipython",
    "version": 3
   },
   "file_extension": ".py",
   "mimetype": "text/x-python",
   "name": "python",
   "nbconvert_exporter": "python",
   "pygments_lexer": "ipython3",
   "version": "3.9.13"
  }
 },
 "nbformat": 4,
 "nbformat_minor": 5
}
