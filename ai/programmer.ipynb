{
 "cells": [
  {
   "cell_type": "code",
   "execution_count": 7,
   "id": "5f8ca9b3-3baf-4b6f-9124-40db84494131",
   "metadata": {
    "tags": []
   },
   "outputs": [
    {
     "name": "stdout",
     "output_type": "stream",
     "text": [
      "sdk_domo-community - no password stored in account\n",
      "🎉 token_auth token retrieved from domo-community ⚙️\n"
     ]
    },
    {
     "data": {
      "text/plain": [
       "DomoTokenAuth(domo_instance='domo-community', url_manual_login='https://domo-community.domo.com/auth/index?domoManualLogin=true', token_name='token_auth', user_id=1893952720, is_valid_token=True)"
      ]
     },
     "execution_count": 7,
     "metadata": {},
     "output_type": "execute_result"
    }
   ],
   "source": [
    "import domojupyter as dj\n",
    "import domolibrary_execution.utils.domojupyter as dxdj\n",
    "\n",
    "auth = await dxdj.generate_domo_auth(\n",
    "    domo_instance = dxdj.which_environment(),\n",
    "    domojupyter_fn = dj) \n",
    "\n",
    "auth"
   ]
  },
  {
   "cell_type": "markdown",
   "id": "87954b9c-8e35-413e-86c8-16d0f2ad41ef",
   "metadata": {},
   "source": [
    "# Models perform better with examples"
   ]
  },
  {
   "cell_type": "code",
   "execution_count": 9,
   "id": "8dbf02b9-46a0-4df0-9ff0-5c5f95b5a7bc",
   "metadata": {
    "tags": []
   },
   "outputs": [
    {
     "data": {
      "text/plain": [
       "Messages(messages=[Message(type='SYSTEM', message='You are a python developer skilled at translating urls into route functions.  route functions should follow a specific format, see the next few examples.\\n\\nrequest:  generate a function that GETs the dataflow definition from this url, f\"/api/dataprocessing/v1/dataflows/{dataflow_id}\" \\nresponse:\\n\\ndef get_dataflow_by_id_sync(\\n    auth: dmda.DomoAuth,\\n    dataflow_id: int,\\n    debug_api: bool = False,\\n):\\n    url = f\"https://{auth.domo_instance}.domo.com/api/dataprocessing/v1/dataflows/{dataflow_id}\"     \\n    \\n    res= client.get_data_sync(\\n        auth=auth,\\n        url=url,\\n        method=\"GET\",\\n        debug_api=debug_api\\n    )     \\n    \\n    if not res.is_success:        \\n        raise dmde.DomoError(res.response)     \\n    \\n    return res\\n    \\nrequest: write a function that PUTs a list of tags for a dataflow using the following url \"https://domo-community.domo.com/api/dataprocessing/v1/dataflows/345/tags\" and this body format:  {\"flowId\": dataflow_id ,\"tags\": tag_ls}.  \\n\\nresponse:\\ndef generate_tag_body(dataflow_id, tag_ls):\\n    return {\"flowId\": dataflow_id ,\"tags\": tag_ls}\\n    \\ndef put_dataflow_tags_by_id_sync(\\n    auth: dmda.DomoAuth,\\n    dataflow_id: int,\\n    tag_ls: List[str],\\n    debug_api: bool = False,\\n):\\n    url = f\"https://{auth.domo_instance}.domo.com/api/dataprocessing/v1/dataflows/{dataflow_id}/tags\"     \\n    body = generate_tag_body(dataflow_id = dataflow_id, tag_ls = tag_ls)\\n    \\n    res= client.get_data_sync(\\n        auth=auth,\\n        url=url,\\n        method=\"PUT\",\\n        body = body,\\n        debug_api=debug_api\\n    )     \\n    \\n    if not res.is_success:        \\n        raise dmde.DomoError(res.response)     \\n    \\n    return res\\n    \\nonly response with python code.  do not include any preamble.  make sure to comment the functions')])"
      ]
     },
     "execution_count": 9,
     "metadata": {},
     "output_type": "execute_result"
    }
   ],
   "source": [
    "import models.model as model\n",
    "\n",
    "import importlib\n",
    "importlib.reload(model)\n",
    "\n",
    "from pprint import pprint\n",
    "\n",
    "msgs = model.Messages.from_system_prompt('./prompts/python_developer.txt')\n",
    "msgs"
   ]
  },
  {
   "cell_type": "code",
   "execution_count": 10,
   "id": "e6ac29d4-901a-4f88-a051-f18cb270c178",
   "metadata": {
    "tags": []
   },
   "outputs": [],
   "source": [
    "import models.model as model\n",
    "\n",
    "import importlib\n",
    "importlib.reload(model)\n",
    "\n",
    "endpoint = model.EndpointHandler._from_creds_account(domo_instance = 'domo-community')\n"
   ]
  },
  {
   "cell_type": "code",
   "execution_count": 11,
   "id": "0e2587d6-da6e-4abc-bab0-6c2db51ad3a7",
   "metadata": {
    "tags": []
   },
   "outputs": [
    {
     "name": "stdout",
     "output_type": "stream",
     "text": [
      "('# Function to POST a query to the search API\\n'\n",
      " 'def post_search_query_sync(\\n'\n",
      " '    auth: dmda.DomoAuth,\\n'\n",
      " '    query_body: dict,\\n'\n",
      " '    debug_api: bool = False,\\n'\n",
      " '):\\n'\n",
      " '    # Construct the URL for the search query API\\n'\n",
      " '    url = f\"https://{auth.domo_instance}.domo.com/api/search/v1/query\"\\n'\n",
      " '    \\n'\n",
      " '    # Send POST request to the API\\n'\n",
      " '    res = client.get_data_sync(\\n'\n",
      " '        auth=auth,\\n'\n",
      " '        url=url,\\n'\n",
      " '        method=\"POST\",\\n'\n",
      " '        body=query_body,\\n'\n",
      " '        debug_api=debug_api\\n'\n",
      " '    )\\n'\n",
      " '    \\n'\n",
      " '    # Check if the request was successful\\n'\n",
      " '    if not res.is_success:\\n'\n",
      " '        raise dmde.DomoError(res.response)\\n'\n",
      " '    \\n'\n",
      " '    return res')\n"
     ]
    }
   ],
   "source": [
    "\n",
    "msgs.add_message(\"\"\"\n",
    "write a function that POSTs a query to the query api, https://domo-community.domo.com/api/search/v1/query,\n",
    "the function should receive a query_body of type dictionary which includes the query parameters.\n",
    "\"\"\")\n",
    "msgs =  endpoint.invoke_message(messages = msgs)\n",
    "\n",
    "pprint(msgs.messages[-1].message)"
   ]
  },
  {
   "cell_type": "markdown",
   "id": "73b28dcc-d068-41c3-b34d-9d37d783c6f6",
   "metadata": {
    "tags": []
   },
   "source": [
    "## a 'trained model' is not actually trained.  it just has examples included as context"
   ]
  },
  {
   "cell_type": "code",
   "execution_count": null,
   "id": "99a174e1-d992-47c3-bfe6-e3e503e70125",
   "metadata": {
    "tags": []
   },
   "outputs": [],
   "source": [
    "msgs =  endpoint.invoke_message(data = \"that's great, now generate a function to GET the tags\", messages = msgs)\n",
    "pprint(msgs.messages[-1].message)"
   ]
  },
  {
   "cell_type": "code",
   "execution_count": null,
   "id": "33b0a158-640d-4e62-8769-9d357ba90625",
   "metadata": {
    "tags": []
   },
   "outputs": [],
   "source": [
    "msgs =  endpoint.invoke_message(data = \"\"\"\n",
    "i have a filesystem with a file called dataflow.py that should store all these functions we are generating.  \n",
    "write a function to find if the function exists in the .py file and\n",
    "if it does replace that function with a new function passed as a string input.\"\"\", messages = msgs)\n",
    "\n",
    "pprint(msgs.messages[-1].message)"
   ]
  },
  {
   "cell_type": "markdown",
   "id": "b0b3b850-1fd7-42d4-84d6-4fe4111ed86a",
   "metadata": {},
   "source": [
    "## if your context is too big, Domo might truncate"
   ]
  },
  {
   "cell_type": "code",
   "execution_count": null,
   "id": "5d084ed2-409c-415c-9ca1-2c58015e2a61",
   "metadata": {
    "tags": []
   },
   "outputs": [],
   "source": [
    "len(msgs.messages)"
   ]
  },
  {
   "cell_type": "code",
   "execution_count": null,
   "id": "20f05186-1c56-4f8e-9847-dd7781e219ce",
   "metadata": {
    "tags": []
   },
   "outputs": [],
   "source": [
    "import pandas as pd\n",
    "pd.DataFrame([msg.to_json() for msg in msgs.messages])"
   ]
  },
  {
   "cell_type": "code",
   "execution_count": null,
   "id": "d928b7c1-446b-4b50-a0b6-10f586e442cb",
   "metadata": {
    "tags": []
   },
   "outputs": [],
   "source": [
    "msgs.messages = [msgs.messages[i] for i in [0,3,4]]"
   ]
  },
  {
   "cell_type": "code",
   "execution_count": null,
   "id": "c41a5dbe-da63-47da-9cdf-5cd665cedbd6",
   "metadata": {
    "tags": []
   },
   "outputs": [],
   "source": [
    "pd.DataFrame([msg.to_json() for msg in msgs.messages])"
   ]
  },
  {
   "cell_type": "code",
   "execution_count": null,
   "id": "9a0ff9bf-84f3-4544-bd9f-8ee919a61e70",
   "metadata": {
    "tags": []
   },
   "outputs": [],
   "source": [
    "# msgs =  endpoint.invoke_message(data = \"\"\"\n",
    "# i have a filesystem with a file called dataflow.py that should store all these functions we are generating.  \n",
    "# write a function to find if the function exists in the .py file and\n",
    "# if it does replace that function with a new function passed as a string input.\"\"\", messages = msgs)\n",
    "\n",
    "# msgs.messages[-1].message"
   ]
  },
  {
   "cell_type": "code",
   "execution_count": 12,
   "id": "d9dc0c39-8a1a-47a3-9adc-6fba8192069a",
   "metadata": {
    "tags": []
   },
   "outputs": [
    {
     "data": {
      "text/plain": [
       "'# Function to POST a query to the search API\\ndef post_search_query_sync(\\n    auth: dmda.DomoAuth,\\n    query_body: dict,\\n    debug_api: bool = False,\\n):\\n    # Construct the URL for the search query API\\n    url = f\"https://{auth.domo_instance}.domo.com/api/search/v1/query\"\\n    \\n    # Send POST request to the API\\n    res = client.get_data_sync(\\n        auth=auth,\\n        url=url,\\n        method=\"POST\",\\n        body=query_body,\\n        debug_api=debug_api\\n    )\\n    \\n    # Check if the request was successful\\n    if not res.is_success:\\n        raise dmde.DomoError(res.response)\\n    \\n    return res'"
      ]
     },
     "execution_count": 12,
     "metadata": {},
     "output_type": "execute_result"
    }
   ],
   "source": [
    "msgs.messages[-1].message"
   ]
  },
  {
   "cell_type": "code",
   "execution_count": null,
   "id": "787297cf-8c8e-4c82-8c5d-c6fb704f0fad",
   "metadata": {
    "tags": []
   },
   "outputs": [],
   "source": [
    "code = \"\"\"\n",
    "'# Function to update or add a function in the dataflow.py file\\ndef update_function_in_file(new_function: str, file_path: str = \"dataflow.py\"):\\n    # Read the content of the file\\n    with open(file_path, \"r\") as file:\\n        content = file.read()\\n\\n    # Extract the function name from the new function\\n    function_name = new_function.split(\"def \")[1].split(\"(\")[0].strip()\\n\\n    # Check if the function already exists in the file\\n    if f\"def {function_name}\" in content:\\n        # Find the start and end of the existing function\\n        start = content.index(f\"def {function_name}\")\\n        end = content.find(\"\\\\n\\\\n\", start)\\n        if end == -1:  # If it\\'s the last function in the file\\n            end = len(content)\\n        \\n        # Replace the existing function with the new one\\n        updated_content = content[:start] + new_function + content[end:]\\n    else:\\n        # If the function doesn\\'t exist, append it to the end of the file\\n        updated_content = content + \"\\\\n\\\\n\" + new_function\\n\\n    # Write the updated content back to the file\\n    with open(file_path, \"w\") as file:\\n        file.write(updated_content)\\n\\nUSER: great now write a function that adds a function to the dataflow.py file if it doesn\\'t exist'\n",
    " \"\"\"\n",
    "\n",
    "with open('utils.py' , 'a') as f:\n",
    "    f.write(code)"
   ]
  },
  {
   "cell_type": "code",
   "execution_count": 13,
   "id": "0c8002eb-d3cc-4cb1-a9b8-19e34a3605ea",
   "metadata": {
    "tags": []
   },
   "outputs": [
    {
     "data": {
      "text/plain": [
       "\"Function 'post_search_query_sync' has been added to ./routes/datacenter.py\""
      ]
     },
     "execution_count": 13,
     "metadata": {},
     "output_type": "execute_result"
    }
   ],
   "source": [
    "import utils\n",
    "\n",
    "utils.update_function_in_file('./routes/datacenter.py','post_search_query_sync', msgs.messages[-1].message )"
   ]
  },
  {
   "cell_type": "code",
   "execution_count": null,
   "id": "26c6768b-d609-4b96-b419-0a12966df3ec",
   "metadata": {
    "tags": []
   },
   "outputs": [],
   "source": [
    "m2 = model.Messages([])"
   ]
  },
  {
   "cell_type": "code",
   "execution_count": null,
   "id": "fecea19c-a1e6-4883-acf4-a7fd66652b81",
   "metadata": {
    "tags": []
   },
   "outputs": [],
   "source": [
    "endpoint.invoke_message(\"how do i express hours and minutes using the python datetime library\", messages = m2)"
   ]
  }
 ],
 "metadata": {
  "kernelspec": {
   "display_name": "Python",
   "language": "python",
   "name": "python_3_9"
  },
  "language_info": {
   "codemirror_mode": {
    "name": "ipython",
    "version": 3
   },
   "file_extension": ".py",
   "mimetype": "text/x-python",
   "name": "python",
   "nbconvert_exporter": "python",
   "pygments_lexer": "ipython3",
   "version": "3.9.13"
  }
 },
 "nbformat": 4,
 "nbformat_minor": 5
}
