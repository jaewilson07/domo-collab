{
 "cells": [
  {
   "cell_type": "code",
   "execution_count": 1,
   "id": "a51a9d55-12f8-4472-8d80-f4f913e6ad69",
   "metadata": {
    "tags": []
   },
   "outputs": [
    {
     "name": "stdout",
     "output_type": "stream",
     "text": [
      "sdk_domo-community - no password stored in account\n",
      "🎉 token_auth token retrieved from domo-community ⚙️\n"
     ]
    },
    {
     "data": {
      "text/plain": [
       "DomoTokenAuth(domo_instance='domo-community', url_manual_login='https://domo-community.domo.com/auth/index?domoManualLogin=true', token_name='token_auth', user_id=1893952720, is_valid_token=True)"
      ]
     },
     "execution_count": 1,
     "metadata": {},
     "output_type": "execute_result"
    }
   ],
   "source": [
    "import domojupyter as dj\n",
    "import domolibrary_execution.utils.domojupyter as dxdj\n",
    "\n",
    "auth = await dxdj.generate_domo_auth(\n",
    "    domo_instance = dxdj.which_environment(),\n",
    "    domojupyter_fn = dj) \n",
    "\n",
    "auth"
   ]
  },
  {
   "cell_type": "code",
   "execution_count": 2,
   "id": "207ab982-3c11-43d7-805f-6bc54728ece4",
   "metadata": {
    "tags": []
   },
   "outputs": [
    {
     "data": {
      "text/plain": [
       "{'gui': {'version': None},\n",
       " 'id': 12,\n",
       " 'name': 'Domo Governance Dataflow',\n",
       " 'dapDataFlowId': 'etl-d6956a33-abeb-4009-bda9-05377ab3cf0a',\n",
       " 'responsibleUserId': 1768567034,\n",
       " 'runState': 'ENABLED',\n",
       " 'onboardFlowVersion': {'id': 34,\n",
       "  'timeStamp': 1594388113000,\n",
       "  'authorId': 1768567034,\n",
       "  'numInputs': 1,\n",
       "  'numOutputs': 1,\n",
       "  'executionCount': 0,\n",
       "  'executionSuccessCount': 0,\n",
       "  'versionNumber': 1},\n",
       " 'lastExecution': {'id': 934,\n",
       "  'onboardFlowId': 12,\n",
       "  'previewRows': 0,\n",
       "  'dapDataFlowExecutionId': '6c05f64e-8fcd-4154-8c1a-f96453098d58',\n",
       "  'beginTime': 1594388114000,\n",
       "  'endTime': 1594388133000,\n",
       "  'lastUpdated': 1594388133000,\n",
       "  'failed': False,\n",
       "  'state': 'SUCCESS',\n",
       "  'dataFlowVersion': 34},\n",
       " 'created': 1594388112000,\n",
       " 'modified': 1594388112000,\n",
       " 'actions': [{'type': 'LoadFromVault',\n",
       "   'id': '0fab5ca6-3d86-4e43-8daf-2a5fed0d4e40',\n",
       "   'name': 'Governance_Dataflow Details',\n",
       "   'gui': {'x': 156,\n",
       "    'y': 204,\n",
       "    'color': 3238043,\n",
       "    'colorSource': None,\n",
       "    'sampleJson': None},\n",
       "   'dataSourceId': '80c4a085-2cb7-4917-a956-ee11e3d838bb',\n",
       "   'executeFlowWhenUpdated': False,\n",
       "   'pseudoDataSource': False,\n",
       "   'truncateTextColumns': False,\n",
       "   'truncateRows': False,\n",
       "   'onlyLoadNewVersions': False,\n",
       "   'recentVersionCutoffMs': 0},\n",
       "  {'type': 'GroupBy',\n",
       "   'id': '7f1443c9-5584-4980-8546-4434286c16dc',\n",
       "   'name': 'Group By',\n",
       "   'dependsOn': ['0fab5ca6-3d86-4e43-8daf-2a5fed0d4e40'],\n",
       "   'gui': {'x': 300,\n",
       "    'y': 336,\n",
       "    'color': None,\n",
       "    'colorSource': None,\n",
       "    'sampleJson': None},\n",
       "   'addLineNumber': False,\n",
       "   'giveBackRow': False,\n",
       "   'allRows': False,\n",
       "   'groups': [{'name': 'Name'}],\n",
       "   'fields': [{'name': 'Inputs',\n",
       "     'source': 'Input Dataset Name',\n",
       "     'type': 'CONCAT_COMMA',\n",
       "     'valuefield': None,\n",
       "     'expression': None,\n",
       "     'settings': None},\n",
       "    {'name': 'Outputs',\n",
       "     'source': 'Output Dataset Name',\n",
       "     'type': 'CONCAT_COMMA',\n",
       "     'valuefield': None,\n",
       "     'expression': None,\n",
       "     'settings': None},\n",
       "    {'name': 'Input IDs',\n",
       "     'source': 'Input Dataset ID',\n",
       "     'type': 'CONCAT_COMMA',\n",
       "     'valuefield': None,\n",
       "     'expression': None,\n",
       "     'settings': None},\n",
       "    {'name': 'Outputs IDs',\n",
       "     'source': 'Output Dataset ID',\n",
       "     'type': 'CONCAT_COMMA',\n",
       "     'valuefield': None,\n",
       "     'expression': None,\n",
       "     'settings': None}]},\n",
       "  {'type': 'MergeJoin',\n",
       "   'id': '4bacccc7-8aa1-408d-a9c1-6572e4be63ee',\n",
       "   'name': 'Join Data',\n",
       "   'dependsOn': ['0fab5ca6-3d86-4e43-8daf-2a5fed0d4e40',\n",
       "    '7f1443c9-5584-4980-8546-4434286c16dc'],\n",
       "   'gui': {'x': 420,\n",
       "    'y': 204,\n",
       "    'color': None,\n",
       "    'colorSource': None,\n",
       "    'sampleJson': None},\n",
       "   'joinType': 'INNER',\n",
       "   'step1': '0fab5ca6-3d86-4e43-8daf-2a5fed0d4e40',\n",
       "   'step2': '7f1443c9-5584-4980-8546-4434286c16dc',\n",
       "   'keys1': ['Name'],\n",
       "   'keys2': ['Name'],\n",
       "   'schemaModification2': [{'name': 'Name',\n",
       "     'rename': 'Name_1',\n",
       "     'remove': False}]},\n",
       "  {'type': 'Unique',\n",
       "   'id': '6b311369-d32a-46a2-bb48-d0bba47257fd',\n",
       "   'name': 'Remove Duplicates',\n",
       "   'dependsOn': ['4bacccc7-8aa1-408d-a9c1-6572e4be63ee'],\n",
       "   'gui': {'x': 528,\n",
       "    'y': 204,\n",
       "    'color': None,\n",
       "    'colorSource': None,\n",
       "    'sampleJson': None},\n",
       "   'countRows': False,\n",
       "   'fields': [{'name': 'Name', 'caseInsensitive': False}]},\n",
       "  {'type': 'ReplaceString',\n",
       "   'id': '18c95e6c-d0ca-4a1f-8cff-5c01b7e54d90',\n",
       "   'name': 'Replace Text',\n",
       "   'dependsOn': ['6b311369-d32a-46a2-bb48-d0bba47257fd'],\n",
       "   'gui': {'x': 780,\n",
       "    'y': 204,\n",
       "    'color': None,\n",
       "    'colorSource': None,\n",
       "    'sampleJson': None},\n",
       "   'fields': [{'inStreamName': 'Inputs',\n",
       "     'outStreamName': None,\n",
       "     'useRegex': False,\n",
       "     'replaceString': ',',\n",
       "     'replaceByString': '<br>',\n",
       "     'setEmptyString': False,\n",
       "     'replaceFieldByString': None,\n",
       "     'wholeWord': False,\n",
       "     'caseSensitive': False},\n",
       "    {'inStreamName': 'Outputs',\n",
       "     'outStreamName': None,\n",
       "     'useRegex': False,\n",
       "     'replaceString': ',',\n",
       "     'replaceByString': '<br>',\n",
       "     'setEmptyString': False,\n",
       "     'replaceFieldByString': None,\n",
       "     'wholeWord': False,\n",
       "     'caseSensitive': False},\n",
       "    {'inStreamName': 'Input IDs',\n",
       "     'outStreamName': None,\n",
       "     'useRegex': False,\n",
       "     'replaceString': ',',\n",
       "     'replaceByString': '<br>',\n",
       "     'setEmptyString': False,\n",
       "     'replaceFieldByString': None,\n",
       "     'wholeWord': False,\n",
       "     'caseSensitive': False},\n",
       "    {'inStreamName': 'Outputs IDs',\n",
       "     'outStreamName': None,\n",
       "     'useRegex': False,\n",
       "     'replaceString': ',',\n",
       "     'replaceByString': '<br>',\n",
       "     'setEmptyString': False,\n",
       "     'replaceFieldByString': None,\n",
       "     'wholeWord': False,\n",
       "     'caseSensitive': False}]},\n",
       "  {'type': 'PublishToVault',\n",
       "   'id': 'fc028731-4f58-4e98-a923-bdc83fca8d74',\n",
       "   'name': 'Dataflow Lineage',\n",
       "   'dependsOn': ['18c95e6c-d0ca-4a1f-8cff-5c01b7e54d90'],\n",
       "   'gui': {'x': 924,\n",
       "    'y': 204,\n",
       "    'color': None,\n",
       "    'colorSource': None,\n",
       "    'sampleJson': None},\n",
       "   'dataSource': {'guid': 'ccbbed79-7ecd-4ad4-a561-a19ceb4c68de',\n",
       "    'type': 'DataFlow',\n",
       "    'name': 'Dataflow Lineage'},\n",
       "   'versionChainType': 'REPLACE',\n",
       "   'schemaSource': 'DATAFLOW',\n",
       "   'partitioned': False}],\n",
       " 'engineProperties': {'kettle.mode': 'STRICT'},\n",
       " 'inputs': [{'dataSourceId': '80c4a085-2cb7-4917-a956-ee11e3d838bb',\n",
       "   'executeFlowWhenUpdated': False,\n",
       "   'dataSourceName': 'Governance_Dataflow Details',\n",
       "   'onlyLoadNewVersions': False,\n",
       "   'recentVersionCutoffMs': 0}],\n",
       " 'outputs': [{'onboardFlowId': None,\n",
       "   'dataSourceId': 'ccbbed79-7ecd-4ad4-a561-a19ceb4c68de',\n",
       "   'dataSourceName': 'Dataflow Lineage',\n",
       "   'versionChainType': 'REPLACE'}],\n",
       " 'executionCount': 1,\n",
       " 'executionSuccessCount': 1,\n",
       " 'hydrationState': 'DEHYDRATED',\n",
       " 'useLegacyTriggerBehavior': False,\n",
       " 'passwordProtected': False,\n",
       " 'deleted': False,\n",
       " 'abandoned': False,\n",
       " 'neverAbandon': False,\n",
       " 'paused': False,\n",
       " 'enabled': True,\n",
       " 'restricted': False,\n",
       " 'subsetProcessing': False,\n",
       " 'container': False,\n",
       " 'databaseType': 'MAGIC',\n",
       " 'triggeredByInput': False,\n",
       " 'draft': False,\n",
       " 'editable': True,\n",
       " 'numInputs': 1,\n",
       " 'numOutputs': 1,\n",
       " 'magic': True}"
      ]
     },
     "execution_count": 2,
     "metadata": {},
     "output_type": "execute_result"
    }
   ],
   "source": [
    "import routes.dataflow as dmdf\n",
    "import importlib\n",
    "importlib.reload(dmdf)\n",
    "\n",
    "dataflow_id = 12\n",
    "(dmdf.get_dataflow_by_id_sync(dataflow_id = dataflow_id, auth = auth)).response"
   ]
  },
  {
   "cell_type": "code",
   "execution_count": 6,
   "id": "1611cb92-4b12-4784-9a10-9c3bba31d880",
   "metadata": {
    "tags": []
   },
   "outputs": [],
   "source": [
    "import models.model as model\n",
    "\n",
    "import importlib\n",
    "importlib.reload(model)\n",
    "\n",
    "endpoint = model.EndpointHandler._from_creds_account(domo_instance = 'domo-community')\n",
    "\n",
    "messages = endpoint.llm_describe_dataflow(dataflow_id = dataflow_id)"
   ]
  },
  {
   "cell_type": "code",
   "execution_count": 10,
   "id": "1aa0a9f1-4cdd-4f42-9dee-61098a8d6950",
   "metadata": {
    "tags": []
   },
   "outputs": [
    {
     "data": {
      "text/plain": [
       "\"SYSTEM : You are Senior Domo ETL engineer that translates the json definitions of a data transformation processes into plain english for other Senior Engineers.  You prioritize specificity and minimize non deterministic language in your responses.\\nUSER : \\n        describe the following JSON transformation steps in plain english: {'dataflow_id': 12, 'dataflow_name': 'Domo Governance Dataflow', 'datafow_actions': [{'type': 'LoadFromVault', 'id': '0fab5ca6-3d86-4e43-8daf-2a5fed0d4e40', 'name': 'Governance_Dataflow Details', 'gui': {'x': 156, 'y': 204, 'color': 3238043, 'colorSource': None, 'sampleJson': None}, 'dataSourceId': '80c4a085-2cb7-4917-a956-ee11e3d838bb', 'executeFlowWhenUpdated': False, 'pseudoDataSource': False, 'truncateTextColumns': False, 'truncateRows': False, 'onlyLoadNewVersions': False, 'recentVersionCutoffMs': 0}, {'type': 'GroupBy', 'id': '7f1443c9-5584-4980-8546-4434286c16dc', 'name': 'Group By', 'dependsOn': ['0fab5ca6-3d86-4e43-8daf-2a5fed0d4e40'], 'gui': {'x': 300, 'y': 336, 'color': None, 'colorSource': None, 'sampleJson': None}, 'addLineNumber': False, 'giveBackRow': False, 'allRows': False, 'groups': [{'name': 'Name'}], 'fields': [{'name': 'Inputs', 'source': 'Input Dataset Name', 'type': 'CONCAT_COMMA', 'valuefield': None, 'expression': None, 'settings': None}, {'name': 'Outputs', 'source': 'Output Dataset Name', 'type': 'CONCAT_COMMA', 'valuefield': None, 'expression': None, 'settings': None}, {'name': 'Input IDs', 'source': 'Input Dataset ID', 'type': 'CONCAT_COMMA', 'valuefield': None, 'expression': None, 'settings': None}, {'name': 'Outputs IDs', 'source': 'Output Dataset ID', 'type': 'CONCAT_COMMA', 'valuefield': None, 'expression': None, 'settings': None}]}, {'type': 'MergeJoin', 'id': '4bacccc7-8aa1-408d-a9c1-6572e4be63ee', 'name': 'Join Data', 'dependsOn': ['0fab5ca6-3d86-4e43-8daf-2a5fed0d4e40', '7f1443c9-5584-4980-8546-4434286c16dc'], 'gui': {'x': 420, 'y': 204, 'color': None, 'colorSource': None, 'sampleJson': None}, 'joinType': 'INNER', 'step1': '0fab5ca6-3d86-4e43-8daf-2a5fed0d4e40', 'step2': '7f1443c9-5584-4980-8546-4434286c16dc', 'keys1': ['Name'], 'keys2': ['Name'], 'schemaModification2': [{'name': 'Name', 'rename': 'Name_1', 'remove': False}]}, {'type': 'Unique', 'id': '6b311369-d32a-46a2-bb48-d0bba47257fd', 'name': 'Remove Duplicates', 'dependsOn': ['4bacccc7-8aa1-408d-a9c1-6572e4be63ee'], 'gui': {'x': 528, 'y': 204, 'color': None, 'colorSource': None, 'sampleJson': None}, 'countRows': False, 'fields': [{'name': 'Name', 'caseInsensitive': False}]}, {'type': 'ReplaceString', 'id': '18c95e6c-d0ca-4a1f-8cff-5c01b7e54d90', 'name': 'Replace Text', 'dependsOn': ['6b311369-d32a-46a2-bb48-d0bba47257fd'], 'gui': {'x': 780, 'y': 204, 'color': None, 'colorSource': None, 'sampleJson': None}, 'fields': [{'inStreamName': 'Inputs', 'outStreamName': None, 'useRegex': False, 'replaceString': ',', 'replaceByString': '<br>', 'setEmptyString': False, 'replaceFieldByString': None, 'wholeWord': False, 'caseSensitive': False}, {'inStreamName': 'Outputs', 'outStreamName': None, 'useRegex': False, 'replaceString': ',', 'replaceByString': '<br>', 'setEmptyString': False, 'replaceFieldByString': None, 'wholeWord': False, 'caseSensitive': False}, {'inStreamName': 'Input IDs', 'outStreamName': None, 'useRegex': False, 'replaceString': ',', 'replaceByString': '<br>', 'setEmptyString': False, 'replaceFieldByString': None, 'wholeWord': False, 'caseSensitive': False}, {'inStreamName': 'Outputs IDs', 'outStreamName': None, 'useRegex': False, 'replaceString': ',', 'replaceByString': '<br>', 'setEmptyString': False, 'replaceFieldByString': None, 'wholeWord': False, 'caseSensitive': False}]}, {'type': 'PublishToVault', 'id': 'fc028731-4f58-4e98-a923-bdc83fca8d74', 'name': 'Dataflow Lineage', 'dependsOn': ['18c95e6c-d0ca-4a1f-8cff-5c01b7e54d90'], 'gui': {'x': 924, 'y': 204, 'color': None, 'colorSource': None, 'sampleJson': None}, 'dataSource': {'guid': 'ccbbed79-7ecd-4ad4-a561-a19ceb4c68de', 'type': 'DataFlow', 'name': 'Dataflow Lineage'}, 'versionChainType': 'REPLACE', 'schemaSource': 'DATAFLOW', 'partitioned': False}]}.\\n        Limit your response to 300 words\\nSYSTEM : The JSON describes a Domo Governance Dataflow with ID 12, consisting of six transformation steps:\\n\\n1. Load data from a vault source with ID '80c4a085-2cb7-4917-a956-ee11e3d838bb'.\\n\\n2. Group the data by 'Name', concatenating 'Input Dataset Name', 'Output Dataset Name', 'Input Dataset ID', and 'Output Dataset ID' into comma-separated lists.\\n\\n3. Perform an inner join between the original data and the grouped data using 'Name' as the key. Rename the 'Name' column from the grouped data to 'Name_1'.\\n\\n4. Remove duplicate rows based on the 'Name' column.\\n\\n5. Replace commas with '<br>' in the 'Inputs', 'Outputs', 'Input IDs', and 'Outputs IDs' columns.\\n\\n6. Publish the result to a vault destination named 'Dataflow Lineage' with GUID 'ccbbed79-7ecd-4ad4-a561-a19ceb4c68de', replacing any existing data.\\n\\nThis dataflow appears to consolidate information about input and output datasets for each named entity, likely for governance or lineage tracking purposes.\""
      ]
     },
     "execution_count": 10,
     "metadata": {},
     "output_type": "execute_result"
    }
   ],
   "source": [
    "messages.generate_context()"
   ]
  },
  {
   "cell_type": "code",
   "execution_count": 8,
   "id": "eed7ad0e-ccba-4bc5-b656-061b0d43bbb8",
   "metadata": {
    "tags": []
   },
   "outputs": [
    {
     "data": {
      "text/plain": [
       "{'user': 'SYSTEM',\n",
       " 'message': \"The JSON describes a Domo Governance Dataflow with ID 12, consisting of six transformation steps:\\n\\n1. Load data from a vault source with ID '80c4a085-2cb7-4917-a956-ee11e3d838bb'.\\n\\n2. Group the data by 'Name', concatenating 'Input Dataset Name', 'Output Dataset Name', 'Input Dataset ID', and 'Output Dataset ID' into comma-separated lists.\\n\\n3. Perform an inner join between the original data and the grouped data using 'Name' as the key. Rename the 'Name' column from the grouped data to 'Name_1'.\\n\\n4. Remove duplicate rows based on the 'Name' column.\\n\\n5. Replace commas with '<br>' in the 'Inputs', 'Outputs', 'Input IDs', and 'Outputs IDs' columns.\\n\\n6. Publish the result to a vault destination named 'Dataflow Lineage' with GUID 'ccbbed79-7ecd-4ad4-a561-a19ceb4c68de', replacing any existing data.\\n\\nThis dataflow appears to consolidate information about input and output datasets for each named entity, likely for governance or lineage tracking purposes.\"}"
      ]
     },
     "execution_count": 8,
     "metadata": {},
     "output_type": "execute_result"
    }
   ],
   "source": [
    "messages.messages[-1].to_json()"
   ]
  }
 ],
 "metadata": {
  "kernelspec": {
   "display_name": "Python",
   "language": "python",
   "name": "python_3_9"
  },
  "language_info": {
   "codemirror_mode": {
    "name": "ipython",
    "version": 3
   },
   "file_extension": ".py",
   "mimetype": "text/x-python",
   "name": "python",
   "nbconvert_exporter": "python",
   "pygments_lexer": "ipython3",
   "version": "3.9.13"
  }
 },
 "nbformat": 4,
 "nbformat_minor": 5
}
