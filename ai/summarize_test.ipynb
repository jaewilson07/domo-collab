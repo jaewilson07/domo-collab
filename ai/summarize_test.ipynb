{
 "cells": [
  {
   "cell_type": "code",
   "execution_count": 1,
   "id": "e968bf24-5bd1-4531-91db-7a21a5045af3",
   "metadata": {
    "tags": []
   },
   "outputs": [
    {
     "name": "stdout",
     "output_type": "stream",
     "text": [
      "A newer version of domojupyter is available. Update domojupyter with the following command:\n",
      "\n",
      "\tconda install -c https://domo-conda-prod.s3.amazonaws.com/domo domojupyter=1.1.32\n"
     ]
    },
    {
     "data": {
      "text/plain": [
       "'Markets digest bank earnings after recent turmoil - \\nStill haven\\'t filed your taxes? Here\\'s what you need to know - So far this tax season, the IRS has received more than 90 million income tax returns for 2022. \\nRetail spending fell in March as consumers pull back - Spending at US retailers fell in March as consumers pulled back amid recessionary fears fueled by the banking crisis.\\nAnalysis: Fox News is about to enter the true No Spin Zone - This is it. \\nSilicon Valley Bank collapse renews calls to address disparities impacting entrepreneurs of color  - When customers at Silicon Valley Bank rushed to withdraw billions of dollars last month, venture capitalist Arlan Hamilton stepped in to help some of the founders of color who panicked about losing access to payroll funds.\\nNot only is Lake Powell\\'s water level plummeting because of drought, its total capacity is shrinking, too - Lake Powell, the second-largest human-made reservoir in the US, has lost nearly 7% of its potential storage capacity since 1963, when Glen Canyon Dam was built, a new report shows. \\nThese were the best and worst places for air quality in 2021, new report shows - Air pollution spiked to unhealthy levels around the world in 2021, according to a new report.\\nBig-box stores could help slash emissions and save millions by putting solar panels on roofs. Why aren\\'t more of them doing it? - As the US attempts to wean itself off its heavy reliance on fossil fuels and shift to cleaner energy sources, many experts are eyeing a promising solution: your neighborhood big-box stores and shopping malls.\\nLook of the Week: Blackpink headline Coachella in Korean hanboks - Bringing the second day of this year\\'s Coachella to a close, K-Pop girl group Blackpink made history Saturday night when they became the first Asian act to ever headline the festival. To a crowd of, reportedly, over 125,000 people, Jennie, Jisoo, Lisa and Rosé used the ground-breaking moment to pay homage to Korean heritage by arriving onstage in hanboks: a traditional type of dress.\\nScientists identify secret ingredient in Leonardo da Vinci paintings - \"Old Masters\" such as Leonardo da Vinci, Sandro Botticelli and Rembrandt may have used proteins, especially egg yolk, in their oil paintings, according to a new study.\\nHow Playboy cut ties with Hugh Hefner to create a post-MeToo brand - Hugh Hefner launched Playboy Magazine 70 years ago this year. The first issue included a nude photograph of Marilyn Monroe, which he had purchased and published without her knowledge or consent.\\n\\'A definitive backslide.\\' Inside fashion\\'s worrying runway trend - Now that the Fall-Winter 2023 catwalks have been disassembled, it\\'s clear one trend was more pervasive than any collective penchant for ruffles, pleated skirts or tailored coats. \\nMichael Jordan\\'s 1998 NBA Finals sneakers sell for a record $2.2 million - In 1998, Michael Jordan laced up a pair of his iconic black and red Air Jordan 13s to bring home a Bulls victory during Game 2 of his final NBA championship — and now they are the most expensive sneakers ever to sell at auction.\\r\\n\\r\\nThe game-winning sneakers sold for $2.2 million at Sotheby\\'s in New York on Tuesday, smashing the sneaker auction record of $1.47 million, set in 2021 by a pair of Nike Air Ships that Jordan wore earlier in his career.\\nThe surreal facades of America\\'s strip clubs - Some people travel the world in search of adventure, while others seek out natural wonders, cultural landmarks or culinary experiences. But French photographer François Prost was looking for something altogether different during his recent road trip across America: strip clubs.\\nHere\\'s the real reason to turn on airplane mode when you fly - We all know the routine by heart: \"Please ensure your seats are in the upright position, tray tables stowed, window shades are up, laptops are stored in the overhead bins and electronic devices are set to flight mode.\"\\n\\'I was up to my waist down a hippo\\'s throat.\\' He survived, and here\\'s his advice - Paul Templer was living his best life.\\nThey bought an abandoned \\'ghost house\\' in the Japanese countryside - He\\'d spent years backpacking around the world, and Japanese traveler Daisuke Kajiyama was finally ready to return home to pursue his long-held dream of opening up a guesthouse.\\nRelaxed entry rules make it easier than ever to visit this stunning Asian nation - Due to its remoteness and short summer season, Mongolia has long been a destination overlooked by travelers. \\nThe most beautiful sections of China\\'s Great Wall - Having lived in Beijing for almost 12 years, I\\'ve had plenty of time to travel widely in China. \\nSign up to our newsletter for a weekly roundup of travel news - '"
      ]
     },
     "execution_count": 1,
     "metadata": {},
     "output_type": "execute_result"
    }
   ],
   "source": [
    "import domojupyter as dj\n",
    "\n",
    "def get_data():\n",
    "    df = dj.read_dataframe('CNN_world', \"select title, description from table limit 20\")\n",
    "    df = df.fillna('')\n",
    "    \n",
    "    return \"\\n\".join([ f\"{obj['Title']} - {obj['Description']}\" for obj in df.to_dict(orient = 'records')])\n",
    "\n",
    "    return df\n",
    "\n",
    "sample_data= get_data()\n",
    "sample_data"
   ]
  },
  {
   "cell_type": "code",
   "execution_count": null,
   "id": "d3e0daa0-6537-4eee-9f9e-8c05db4633c2",
   "metadata": {
    "tags": []
   },
   "outputs": [
    {
     "name": "stdout",
     "output_type": "stream",
     "text": [
      "A newer version of domojupyter is available. Update domojupyter with the following command:\n",
      "\n",
      "\tconda install -c https://domo-conda-prod.s3.amazonaws.com/domo domojupyter=1.1.32\n"
     ]
    }
   ],
   "source": [
    "import domojupyter as dj\n",
    "import domolibrary_execution.utils.domojupyter as dxdj\n",
    "\n",
    "auth = await dxdj.generate_domo_auth(\n",
    "    domo_instance = dxdj.which_environment(),\n",
    "    domojupyter_fn = dj) \n",
    "\n",
    "auth"
   ]
  },
  {
   "cell_type": "code",
   "execution_count": 6,
   "id": "a53010c6-e462-4d1c-aca1-4867af0705e3",
   "metadata": {},
   "outputs": [
    {
     "data": {
      "text/plain": [
       "'Here is a 100-word summary of the text in bulleted form:\\n\\n- Major banks report earnings, with markets digesting recent turmoil\\n- IRS has received over 90 million tax returns for 2022, with late filers needing to know what to do\\n- Retail spending declined in March as consumers pulled back due to recession fears\\n- Fox News is about to undergo a major shift with the \"No Spin Zone\"\\n- Silicon Valley Bank collapse renews calls to address disparities impacting entrepreneurs of color\\n- Lake Powell\\'s water level and total capacity are shrinking due to drought\\n- Air pollution spiked globally in 2021, with some areas having worse air quality than others\\n- Big-box stores could help reduce emissions by installing solar panels, but many have not done so\\n- Blackpink made history as the first Asian act to headline Coachella\\n- Scientists discovered proteins, especially egg yolk, were used in old master paintings.'"
      ]
     },
     "execution_count": 6,
     "metadata": {},
     "output_type": "execute_result"
    }
   ],
   "source": [
    "#from routes.summarize import OutputStlyleEnum as en\n",
    "import routes.summarize as summarize_routes \n",
    "\n",
    "\n",
    "import domolibrary.client.DomoAuth  as dmda\n",
    "\n",
    "import importlib\n",
    "importlib.reload(summarize_routes)\n",
    "\n",
    "res = summarize_routes.summarize_route_sync(\n",
    "    text_input = sample_data,\n",
    "    auth = auth, \n",
    "    summary_length = 100,\n",
    "    output_style = \"BULLETED\",\n",
    "    debug_api = False,\n",
    ")\n",
    "\n",
    "res.response['output']\n"
   ]
  },
  {
   "cell_type": "code",
   "execution_count": null,
   "id": "c1969d87-d876-4981-b94e-0c464157e85e",
   "metadata": {},
   "outputs": [],
   "source": []
  },
  {
   "cell_type": "code",
   "execution_count": null,
   "id": "b1d3e08f-6df5-404c-9315-e5bf8bf5bb3e",
   "metadata": {},
   "outputs": [],
   "source": []
  }
 ],
 "metadata": {
  "kernelspec": {
   "display_name": "Python",
   "language": "python",
   "name": "python_3_12"
  },
  "language_info": {
   "codemirror_mode": {
    "name": "ipython",
    "version": 3
   },
   "file_extension": ".py",
   "mimetype": "text/x-python",
   "name": "python",
   "nbconvert_exporter": "python",
   "pygments_lexer": "ipython3",
   "version": "3.12.3"
  }
 },
 "nbformat": 4,
 "nbformat_minor": 5
}
