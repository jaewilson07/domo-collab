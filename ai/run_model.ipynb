{
 "cells": [
  {
   "cell_type": "code",
   "execution_count": 1,
   "id": "a53d3b5d-b1a9-47ca-a712-61795d19018f",
   "metadata": {
    "tags": []
   },
   "outputs": [],
   "source": [
    "# import sys\n",
    "# sys.path.append(\"./domo-collab/ai/\") # go to parent dir"
   ]
  },
  {
   "cell_type": "markdown",
   "id": "05d4dbb1-b590-4a90-81c6-5c77ba0eb0ff",
   "metadata": {},
   "source": [
    "# Generate Auth\n",
    "\n",
    "Domo's AI APIs require standard authentication.\n",
    "We'll use an Access Token to Authenticate "
   ]
  },
  {
   "cell_type": "code",
   "execution_count": 2,
   "id": "3b245cb7-9840-4ca0-89a2-2fb6301ece0f",
   "metadata": {
    "tags": []
   },
   "outputs": [
    {
     "name": "stdout",
     "output_type": "stream",
     "text": [
      "sdk_domo-community - no password stored in account\n",
      "🎉 token_auth token retrieved from domo-community ⚙️\n"
     ]
    },
    {
     "data": {
      "text/plain": [
       "DomoTokenAuth(domo_instance='domo-community', url_manual_login='https://domo-community.domo.com/auth/index?domoManualLogin=true', token_name='token_auth', user_id=1893952720, is_valid_token=True)"
      ]
     },
     "execution_count": 2,
     "metadata": {},
     "output_type": "execute_result"
    }
   ],
   "source": [
    "import domojupyter as dj\n",
    "import domolibrary_execution.utils.domojupyter as dxdj\n",
    "\n",
    "auth = await dxdj.generate_domo_auth(\n",
    "    domo_instance = dxdj.which_environment(),\n",
    "    domojupyter_fn = dj) \n",
    "\n",
    "auth"
   ]
  },
  {
   "cell_type": "code",
   "execution_count": 3,
   "id": "46980b2e-9867-49e6-ae13-78b4341e7554",
   "metadata": {
    "tags": []
   },
   "outputs": [
    {
     "name": "stdout",
     "output_type": "stream",
     "text": [
      "('SYSTEM : You are an expert event and project planner.  Always break down '\n",
      " 'questions into a chain of reasoning set of steps.\\n'\n",
      " 'USER : How can I plan a user conference for technical developers')\n"
     ]
    }
   ],
   "source": [
    "import models.model as model\n",
    "\n",
    "import importlib\n",
    "importlib.reload(model)\n",
    "\n",
    "from pprint import pprint\n",
    "\n",
    "msgs = model.Messages.from_system_prompt('./prompts/project manager.txt')\n",
    "msgs.add_message('How can I plan a user conference for technical developers')\n",
    "\n",
    "pprint(msgs.generate_context())"
   ]
  },
  {
   "cell_type": "code",
   "execution_count": 4,
   "id": "be8c5cb0-bccc-4ad4-9763-67d64bef920f",
   "metadata": {
    "tags": []
   },
   "outputs": [],
   "source": [
    "endpoint = model.EndpointHandler._from_creds_account(domo_instance = 'domo-community')\n",
    "\n",
    "res = endpoint.invoke(messages = msgs, debug_api = False)"
   ]
  },
  {
   "cell_type": "code",
   "execution_count": 5,
   "id": "b997ea9e-3969-4990-90dd-7dcc8eeb7f00",
   "metadata": {
    "tags": []
   },
   "outputs": [
    {
     "data": {
      "text/plain": [
       "'SYSTEM : You are an expert event and project planner.  Always break down questions into a chain of reasoning set of steps.\\nUSER : How can I plan a user conference for technical developers'"
      ]
     },
     "execution_count": 5,
     "metadata": {},
     "output_type": "execute_result"
    }
   ],
   "source": [
    "import json\n",
    "data = json.loads(res)\n",
    "data['prompt']"
   ]
  },
  {
   "cell_type": "code",
   "execution_count": 6,
   "id": "97a757eb-95c1-47ba-8354-424045772348",
   "metadata": {
    "tags": []
   },
   "outputs": [
    {
     "data": {
      "text/plain": [
       "\"Certainly! I'll break down the process of planning a user conference for technical developers into a chain of reasoning steps. This will help you approach the task systematically.\\n\\nStep 1: Define the conference objectives\\n- Identify the main goals of the conference (e.g., networking, showcasing new technologies, providing training)\\n- Determine the target audience within the technical developer community\\n- Outline the key topics and themes to be covered\\n\\nStep 2: Establish a timeline and budget\\n- Set a date for the conference, considering industry events and holidays\\n- Create a project timeline with key milestones\\n- Determine the budget, including venue costs, speakers, marketing, and other expenses\\n\\nStep 3: Choose a venue and format\\n- Decide between in-person, virtual, or hybrid conference format\\n- Select an appropriate venue based on expected attendance and required facilities\\n- Ensure the venue has necessary technical capabilities (e.g., high-speed internet, AV equipment)\\n\\nStep 4: Develop the conference program\\n- Create a schedule of sessions, workshops, and keynote speeches\\n- Identify and invite speakers, panelists, and workshop leaders\\n- Plan for networking opportunities and social events\\n\\nStep 5: Set up registration and ticketing\\n- Choose a registration platform or system\\n- Determine ticket prices and any early bird or group discounts\\n- Create a registration form that collects necessary attendee information\\n\\nStep 6: Arrange for logistics and support\\n- Organize catering, if applicable\\n- Plan for audio-visual needs and technical support\\n- Arrange for any necessary equipment rentals\\n- Coordinate with the venue for room setups and signage\\n\\nStep 7: Develop a marketing and promotion strategy\\n- Create a conference website and social media presence\\n- Develop promotional materials (e.g., emails, blog posts, ads)\\n- Reach out to relevant communities, user groups, and industry publications\\n- Consider partnering with sponsors or exhibitors to expand reach\\n\\nStep 8: Prepare for attendee experience\\n- Create conference materials (e.g., agenda, maps, session descriptions)\\n- Develop a mobile app or digital platform for attendee engagement\\n- Plan for on-site registration and check-in process\\n- Arrange for any necessary transportation or accommodation information\\n\\nStep 9: Execute and manage the conference\\n- Set up an on-site command center for managing issues\\n- Ensure all technology and presentations are working properly\\n- Manage the flow of attendees and sessions\\n- Be prepared to handle last-minute changes or issues\\n\\nStep 10: Post-conference follow-up\\n- Gather feedback from attendees, speakers, and sponsors\\n- Share conference highlights and key takeaways with attendees\\n- Begin planning for the next conference based on lessons learned\\n\\nBy following these steps, you'll be able to plan and execute a successful user conference for technical developers. Remember to remain flexible and adapt your plans as needed throughout the process.\""
      ]
     },
     "execution_count": 6,
     "metadata": {},
     "output_type": "execute_result"
    }
   ],
   "source": [
    "data['choices'][0]['output']"
   ]
  },
  {
   "cell_type": "code",
   "execution_count": 7,
   "id": "cd146947-e0a0-4619-a986-fdde1939ef04",
   "metadata": {
    "tags": []
   },
   "outputs": [],
   "source": [
    "# import pandas as pd \n",
    "# pd.DataFrame(msgs.messages)"
   ]
  },
  {
   "cell_type": "code",
   "execution_count": 8,
   "id": "cd3f58c9-804a-4862-b899-070ad39c3000",
   "metadata": {
    "tags": []
   },
   "outputs": [],
   "source": [
    "# from pprint import pprint\n",
    "\n",
    "# pprint(msgs.messages[-1].to_json())"
   ]
  },
  {
   "cell_type": "code",
   "execution_count": 9,
   "id": "318f0846-8324-48e6-9712-ff238b61b48a",
   "metadata": {
    "tags": []
   },
   "outputs": [],
   "source": [
    "# msgs.add_message(\"what's my  name again?\")\n",
    "# endpoint.invoke(messages = msgs)\n",
    "# msgs.messages[-1].to_json()"
   ]
  }
 ],
 "metadata": {
  "kernelspec": {
   "display_name": "Python",
   "language": "python",
   "name": "python_3_9"
  },
  "language_info": {
   "codemirror_mode": {
    "name": "ipython",
    "version": 3
   },
   "file_extension": ".py",
   "mimetype": "text/x-python",
   "name": "python",
   "nbconvert_exporter": "python",
   "pygments_lexer": "ipython3",
   "version": "3.9.13"
  }
 },
 "nbformat": 4,
 "nbformat_minor": 5
}
